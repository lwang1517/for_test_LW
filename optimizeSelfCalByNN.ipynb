{
 "cells": [
  {
   "cell_type": "code",
   "execution_count": 1,
   "metadata": {},
   "outputs": [],
   "source": [
    "import sys\n",
    "sys.path.append(r'C:\\Users\\lwang\\Documents\\GitHub\\DataAnalysis')"
   ]
  },
  {
   "cell_type": "code",
   "execution_count": 2,
   "metadata": {},
   "outputs": [],
   "source": [
    "import numpy as np\n",
    "import sys, os\n",
    "from pathlib import Path\n",
    "import pandas as pd\n",
    "import copy\n",
    "import plotly.express as px\n",
    "import pandas as pd\n",
    "import plotly.graph_objects as go\n",
    "from plotly.colors import n_colors\n",
    "import math\n",
    "import datetime as dt\n",
    "from sklearn.metrics import r2_score\n",
    "import plotly.colors\n",
    "from plotly.subplots import make_subplots\n",
    "import plotly.graph_objects as go\n",
    "import pandas as pd\n",
    "import numpy as np\n",
    "from scipy.stats import mannwhitneyu\n",
    "from scipy.interpolate import griddata\n",
    "import sklearn\n",
    "from sklearn.linear_model import LinearRegression\n",
    "from sklearn.neural_network import MLPClassifier\n",
    "from sklearn.neural_network import MLPRegressor\n",
    "from sklearn.model_selection import GridSearchCV\n",
    "import scipy\n",
    "import importlib\n",
    "import pickle\n",
    "import psutil \n",
    "import gc\n",
    "\n",
    "# ----- Internal Dependencies -------#\n",
    "nb_dir = os.path.split(os.getcwd())[0]\n",
    "sys.path.append(\"../..\")\n",
    "if nb_dir not in sys.path:\n",
    "    sys.path.append(nb_dir)\n",
    "from General import FileRead\n",
    "from General import AccuracyMetrics\n",
    "from General.GeneralFunctions import get_add_to_dict\n",
    "from General import TableManipulations\n",
    "from FeatureGeneration import GeneralFeatures\n",
    "from General import FileWrite\n",
    "\n",
    "from Plot.PdfHelper import PdfHelper\n",
    "from Plot.PlotMaker import PlotMaker\n",
    "# from Plot import Voltage_Plots\n",
    "from Plot import PlotFunctions\n",
    "# from Plot import AdHocPlots\n",
    "# from Plot import Sim_Plots\n",
    "\n",
    "# widget and notebook stuff\n",
    "from ipywidgets import interact, fixed\n",
    "import plotly.io as pio\n",
    "pio.renderers.default = \"plotly_mimetype+notebook\""
   ]
  },
  {
   "cell_type": "markdown",
   "metadata": {},
   "source": [
    "load data"
   ]
  },
  {
   "cell_type": "code",
   "execution_count": 3,
   "metadata": {},
   "outputs": [],
   "source": [
    "training_group = ['eBlinq17', 'eBlinq19a','eBlinq19b','eBlinq19c','eBlinq20','eBlinq22','eBlinq23','eBlinq25','eBlinqRingOverlay&NiMNA','iBlinqAcet','iBlinqFW231','iBlinqOverlay','Pre-Piv-2-training']\n",
    "# test_group = ['Pre-Piv-2-training']\n",
    "# training_group = ['eBlinq19c','eBlinq20','eBlinq22','eBlinq23','eBlinq25','eBlinqRingOverlay&NiMNA','iBlinqFW231','iBlinqOverlay']\n",
    "# test_group = ['Pre-Piv-2-training','eBlinqMayStudy']\n",
    "# test_group = ['CPP-008-27', 'CPP-008-25-Validation']\n",
    "test_group = ['eBlinqMayStudy']\n",
    "training_time_window = [0.083,5]\n",
    "all_training_channel = ['1','3','4']\n",
    "training_tier = ['Tier 1: 3/3 Clinical Use', 'Tier 1w-a: 2/3 CLN, 3/3 Wide','Tier 1w-c: 0/3 CLN, 3/3 Wide', 'Tier 1w-b: 1/3 CLN, 3/3 Wide','Tier 1w-d: Missing data','Tier 1']\n",
    "test_tier = ['Tier 1: 3/3 Clinical Use', 'Tier 1w-a: 2/3 CLN, 3/3 Wide','Tier 1w-c: 0/3 CLN, 3/3 Wide', 'Tier 1w-b: 1/3 CLN, 3/3 Wide','Tier 1w-d: Missing data','Tier 1']\n",
    "training_chemistry = '2.6.11'\n",
    "test_chemistry = '2.6.11'\n",
    "iso_thresh = 25\n",
    "feature_hour_short_window = '8hr'\n",
    "feature_hour_long_window = '120hr'\n",
    "feature_col = [\n",
    "    'time_from_start_featureGeneration',\n",
    "    f'ewm_average_{feature_hour_short_window}_iir_filt_model_output_s1_glucoseFeatureGeneration',\n",
    "    f'ewm_average_{feature_hour_short_window}_iir_filt_model_output_s3_glucoseFeatureGeneration',\n",
    "    f'ewm_average_{feature_hour_short_window}_iir_filt_model_output_s4_glucoseFeatureGeneration',\n",
    "    f'estimate_standard_deviation_{feature_hour_short_window}_iir_filt_model_output_s1_glucoseFeatureGeneration',\n",
    "    f'estimate_standard_deviation_{feature_hour_short_window}_iir_filt_model_output_s3_glucoseFeatureGeneration',\n",
    "    f'estimate_standard_deviation_{feature_hour_short_window}_iir_filt_model_output_s4_glucoseFeatureGeneration',    \n",
    "    f'ewm_average_{feature_hour_long_window}_iir_filt_model_output_s1_glucoseFeatureGeneration',\n",
    "    f'ewm_average_{feature_hour_long_window}_iir_filt_model_output_s3_glucoseFeatureGeneration',\n",
    "    f'ewm_average_{feature_hour_long_window}_iir_filt_model_output_s4_glucoseFeatureGeneration',\n",
    "    f'estimate_standard_deviation_{feature_hour_long_window}_iir_filt_model_output_s1_glucoseFeatureGeneration',\n",
    "    f'estimate_standard_deviation_{feature_hour_long_window}_iir_filt_model_output_s3_glucoseFeatureGeneration',\n",
    "    f'estimate_standard_deviation_{feature_hour_long_window}_iir_filt_model_output_s4_glucoseFeatureGeneration',\n",
    "]\n",
    "gluc_col = [\n",
    "    'model_output_s1_calculateGlucose','model_output_s3_calculateGlucose','model_output_s4_calculateGlucose',\n",
    "    'biolinq_s1_channelFaultDetection','biolinq_s3_channelFaultDetection','biolinq_s4_channelFaultDetection',\n",
    "]\n",
    "\n",
    "gluc_ref_col = [\n",
    "    'Study','Sensor_Id','Chemistry','Sorting Tier',\n",
    "    'retro_model_output_s1_calculateGlucose','retro_model_output_s3_calculateGlucose','retro_model_output_s4_calculateGlucose','cgm_adj','ysi','acck',\n",
    "    'retro_rmse_s1','retro_rmse_s3','retro_rmse_s4'\n",
    "]\n",
    "\n",
    "ground_truth_col = [\n",
    "    'retro_slope_s1','retro_intercept_s1',\n",
    "    'retro_slope_s3','retro_intercept_s3',\n",
    "    'retro_slope_s4','retro_intercept_s4',\n",
    "]\n",
    "all_cols = feature_col + gluc_col + gluc_ref_col + ground_truth_col\n",
    "percentile_lb = 0.01\n",
    "percentile_ub = 0.99\n",
    "slope_lb = 0.1\n",
    "slope_ub = 10\n",
    "intercept_lb = -100\n",
    "intercept_ub = 100\n",
    "rmse_quantile_thresh = 1"
   ]
  },
  {
   "cell_type": "code",
   "execution_count": 4,
   "metadata": {},
   "outputs": [],
   "source": [
    "df_orig=pd.read_csv(r'A:\\Algo\\Isabella_v02 model comparison\\agg_sample_df_ref_training_validation.csv')"
   ]
  },
  {
   "cell_type": "code",
   "execution_count": 5,
   "metadata": {},
   "outputs": [],
   "source": [
    "sensor_info_df = pd.read_excel(r'C:\\Users\\lwang\\OneDrive - Biolinq Inc\\Gen 1\\Algorithm Development\\Investigate May Study\\all study sensor info.xlsx')"
   ]
  },
  {
   "cell_type": "code",
   "execution_count": 6,
   "metadata": {},
   "outputs": [],
   "source": [
    "df_orig = df_orig.merge(right=sensor_info_df,how='left',left_on='Sensor_Id',right_on='sensor_id',suffixes=(None,'2'))"
   ]
  },
  {
   "cell_type": "code",
   "execution_count": 7,
   "metadata": {},
   "outputs": [
    {
     "data": {
      "text/plain": [
       "array(['eBlinq19c', 'eBlinq20', 'eBlinq22', 'eBlinq23', 'eBlinq25',\n",
       "       'eBlinqRingOverlay&NiMNA', 'Pre-Piv-2-training', 'iBlinqAcet',\n",
       "       'iBlinqFW231', 'iBlinqOverlay', 'Pre-Piv-2-validation',\n",
       "       'eBlinqMayStudy'], dtype=object)"
      ]
     },
     "execution_count": 7,
     "metadata": {},
     "output_type": "execute_result"
    }
   ],
   "source": [
    "df_orig['Study'].unique()"
   ]
  },
  {
   "cell_type": "code",
   "execution_count": 8,
   "metadata": {},
   "outputs": [
    {
     "data": {
      "text/plain": [
       "array(['2.6.11', '2.5.11', nan, 'KCL_IVArmNo', 'KCL Wide_IVArmNo',\n",
       "       'Control_IVArmYes', 'Pre-spray_IVArmYes', 'Pre-spray_IVArmNo',\n",
       "       'KCL_IVArmYes', 'KCL Wide_IVArmYes'], dtype=object)"
      ]
     },
     "execution_count": 8,
     "metadata": {},
     "output_type": "execute_result"
    }
   ],
   "source": [
    "df_orig['Chemistry'].unique()"
   ]
  },
  {
   "cell_type": "code",
   "execution_count": 9,
   "metadata": {},
   "outputs": [
    {
     "data": {
      "text/plain": [
       "array(['Tier 1: 3/3 Clinical Use', 'Tier 1w-a: 2/3 CLN, 3/3 Wide',\n",
       "       'Tier 1w-c: 0/3 CLN, 3/3 Wide', 'Tier 1w-b: 1/3 CLN, 3/3 Wide',\n",
       "       'Tier 1w-d: Missing data', 'Tier 2: 2/3 Pass CLN', nan,\n",
       "       'Tier 4: 3/3 Connected at Cal', 'Tier 1', 'Trace Review Fail'],\n",
       "      dtype=object)"
      ]
     },
     "execution_count": 9,
     "metadata": {},
     "output_type": "execute_result"
    }
   ],
   "source": [
    "df_orig['Sorting Tier'].unique()"
   ]
  },
  {
   "cell_type": "markdown",
   "metadata": {},
   "source": [
    "Setting"
   ]
  },
  {
   "cell_type": "code",
   "execution_count": 10,
   "metadata": {},
   "outputs": [
    {
     "name": "stdout",
     "output_type": "stream",
     "text": [
      "Training data has shape (5861170, 38)\n",
      "Training data has shape (5161968, 38)\n",
      "Ratio of training good data is 0.8807060706309491\n",
      "Test data has shape (800745, 38)\n",
      "Test data has shape (750434, 38)\n",
      "Ratio of good test data is 0.937169760660385\n"
     ]
    }
   ],
   "source": [
    "df = df_orig[all_cols].copy()\n",
    "feature_name_short_avg_ch1 = f'ewm_average_{feature_hour_short_window}_iir_filt_model_output_s1_glucoseFeatureGeneration'\n",
    "feature_name_short_avg_ch1_lb = df[feature_name_short_avg_ch1].quantile(q=percentile_lb)\n",
    "feature_name_short_avg_ch1_ub = df[feature_name_short_avg_ch1].quantile(q=percentile_ub)\n",
    "feature_name_short_std_ch1 = f'estimate_standard_deviation_{feature_hour_short_window}_iir_filt_model_output_s1_glucoseFeatureGeneration'\n",
    "feature_name_short_std_ch1_lb = df[feature_name_short_std_ch1].quantile(q=percentile_lb)\n",
    "feature_name_short_std_ch1_ub = df[feature_name_short_std_ch1].quantile(q=percentile_ub)\n",
    "feature_name_short_avg_ch3 = f'ewm_average_{feature_hour_short_window}_iir_filt_model_output_s3_glucoseFeatureGeneration'\n",
    "feature_name_short_avg_ch3_lb = df[feature_name_short_avg_ch3].quantile(q=percentile_lb)\n",
    "feature_name_short_avg_ch3_ub = df[feature_name_short_avg_ch3].quantile(q=percentile_ub)\n",
    "feature_name_short_std_ch3 = f'estimate_standard_deviation_{feature_hour_short_window}_iir_filt_model_output_s3_glucoseFeatureGeneration'\n",
    "feature_name_short_std_ch3_lb = df[feature_name_short_std_ch3].quantile(q=percentile_lb)\n",
    "feature_name_short_std_ch3_ub = df[feature_name_short_std_ch3].quantile(q=percentile_ub)\n",
    "feature_name_short_avg_ch4 = f'ewm_average_{feature_hour_short_window}_iir_filt_model_output_s4_glucoseFeatureGeneration'\n",
    "feature_name_short_avg_ch4_lb = df[feature_name_short_avg_ch4].quantile(q=percentile_lb)\n",
    "feature_name_short_avg_ch4_ub = df[feature_name_short_avg_ch4].quantile(q=percentile_ub)\n",
    "feature_name_short_std_ch4 = f'estimate_standard_deviation_{feature_hour_short_window}_iir_filt_model_output_s4_glucoseFeatureGeneration'\n",
    "feature_name_short_std_ch4_lb = df[feature_name_short_std_ch4].quantile(q=percentile_lb)\n",
    "feature_name_short_std_ch4_ub = df[feature_name_short_std_ch4].quantile(q=percentile_ub)\n",
    "\n",
    "feature_name_long_avg_ch1 = f'ewm_average_{feature_hour_long_window}_iir_filt_model_output_s1_glucoseFeatureGeneration'\n",
    "feature_name_long_avg_ch1_lb = df[feature_name_long_avg_ch1].quantile(q=percentile_lb)\n",
    "feature_name_long_avg_ch1_ub = df[feature_name_long_avg_ch1].quantile(q=percentile_ub)\n",
    "feature_name_long_std_ch1 = f'estimate_standard_deviation_{feature_hour_long_window}_iir_filt_model_output_s1_glucoseFeatureGeneration'\n",
    "feature_name_long_std_ch1_lb = df[feature_name_long_std_ch1].quantile(q=percentile_lb)\n",
    "feature_name_long_std_ch1_ub = df[feature_name_long_std_ch1].quantile(q=percentile_ub)\n",
    "feature_name_long_avg_ch3 = f'ewm_average_{feature_hour_long_window}_iir_filt_model_output_s3_glucoseFeatureGeneration'\n",
    "feature_name_long_avg_ch3_lb = df[feature_name_long_avg_ch3].quantile(q=percentile_lb)\n",
    "feature_name_long_avg_ch3_ub = df[feature_name_long_avg_ch3].quantile(q=percentile_ub)\n",
    "feature_name_long_std_ch3 = f'estimate_standard_deviation_{feature_hour_long_window}_iir_filt_model_output_s3_glucoseFeatureGeneration'\n",
    "feature_name_long_std_ch3_lb = df[feature_name_long_std_ch3].quantile(q=percentile_lb)\n",
    "feature_name_long_std_ch3_ub = df[feature_name_long_std_ch3].quantile(q=percentile_ub)\n",
    "feature_name_long_avg_ch4 = f'ewm_average_{feature_hour_long_window}_iir_filt_model_output_s4_glucoseFeatureGeneration'\n",
    "feature_name_long_avg_ch4_lb = df[feature_name_long_avg_ch4].quantile(q=percentile_lb)\n",
    "feature_name_long_avg_ch4_ub = df[feature_name_long_avg_ch4].quantile(q=percentile_ub)\n",
    "feature_name_long_std_ch4 = f'estimate_standard_deviation_{feature_hour_long_window}_iir_filt_model_output_s4_glucoseFeatureGeneration'\n",
    "feature_name_long_std_ch4_lb = df[feature_name_long_std_ch4].quantile(q=percentile_lb)\n",
    "feature_name_long_std_ch4_ub = df[feature_name_long_std_ch4].quantile(q=percentile_ub)\n",
    "\n",
    "rmse_s1_thresh = df['retro_rmse_s1'].quantile(q=rmse_quantile_thresh)\n",
    "rmse_s3_thresh = df['retro_rmse_s3'].quantile(q=rmse_quantile_thresh)\n",
    "rmse_s4_thresh = df['retro_rmse_s4'].quantile(q=rmse_quantile_thresh)\n",
    "\n",
    "training_index = df['Study'].isin(training_group) & df['time_from_start_featureGeneration'].between(training_time_window[0],training_time_window[1]) & \\\n",
    "                df['Chemistry'].eq(training_chemistry) & df['Sorting Tier'].isin(training_tier)\n",
    "df_training = df.loc[training_index,:].dropna(subset = feature_col + ground_truth_col).reset_index(drop=True)\n",
    "valid_training_index = df['Study'].isin(training_group) & df['time_from_start_featureGeneration'].between(training_time_window[0],training_time_window[1]) & \\\n",
    "                        df['Chemistry'].eq(training_chemistry) & df['Sorting Tier'].isin(training_tier) & \\\n",
    "                        df[feature_name_short_avg_ch1].between(feature_name_short_avg_ch1_lb,feature_name_short_avg_ch1_ub) & \\\n",
    "                        df[feature_name_short_std_ch1].between(feature_name_short_std_ch1_lb,feature_name_short_std_ch1_ub) & \\\n",
    "                        df[feature_name_short_avg_ch3].between(feature_name_short_avg_ch3_lb,feature_name_short_avg_ch3_ub) & \\\n",
    "                        df[feature_name_short_std_ch3].between(feature_name_short_std_ch3_lb,feature_name_short_std_ch3_ub) & \\\n",
    "                        df[feature_name_short_avg_ch4].between(feature_name_short_avg_ch4_lb,feature_name_short_avg_ch4_ub) & \\\n",
    "                        df[feature_name_short_std_ch4].between(feature_name_short_std_ch4_lb,feature_name_short_std_ch4_ub) & \\\n",
    "                        df[feature_name_long_avg_ch1].between(feature_name_long_avg_ch1_lb,feature_name_long_avg_ch1_ub) & \\\n",
    "                        df[feature_name_long_std_ch1].between(feature_name_long_std_ch1_lb,feature_name_long_std_ch1_ub) & \\\n",
    "                        df[feature_name_long_avg_ch3].between(feature_name_long_avg_ch3_lb,feature_name_long_avg_ch3_ub) & \\\n",
    "                        df[feature_name_long_std_ch3].between(feature_name_long_std_ch3_lb,feature_name_long_std_ch3_ub) & \\\n",
    "                        df[feature_name_long_avg_ch4].between(feature_name_long_avg_ch4_lb,feature_name_long_avg_ch4_ub) & \\\n",
    "                        df[feature_name_long_std_ch4].between(feature_name_long_std_ch4_lb,feature_name_long_std_ch4_ub) & \\\n",
    "                        df['retro_slope_s1'].between(slope_lb,slope_ub) & df['retro_intercept_s1'].between(intercept_lb,intercept_ub) & \\\n",
    "                        df['retro_slope_s3'].between(slope_lb,slope_ub) & df['retro_intercept_s3'].between(intercept_lb,intercept_ub) & \\\n",
    "                        df['retro_slope_s4'].between(slope_lb,slope_ub) & df['retro_intercept_s4'].between(intercept_lb,intercept_ub) & \\\n",
    "                        df['retro_rmse_s1'].le(rmse_s1_thresh) & df['retro_rmse_s3'].le(rmse_s3_thresh) & df['retro_rmse_s4'].le(rmse_s4_thresh)\n",
    "df_training_valid = df.loc[valid_training_index,:].dropna(subset = feature_col + ground_truth_col).reset_index(drop=True)\n",
    "print(f'Training data has shape {df_training.shape}')\n",
    "print(f'Training data has shape {df_training_valid.shape}')\n",
    "good_data_ratio = len(df_training_valid)/len(df_training)\n",
    "print(f'Ratio of training good data is {good_data_ratio}')\n",
    "x_train = df_training_valid[feature_col]\n",
    "y_train = df_training_valid[ground_truth_col].to_numpy()\n",
    "min_max_scaler = sklearn.preprocessing.MinMaxScaler()\n",
    "x_train_norm = min_max_scaler.fit_transform(x_train)\n",
    "\n",
    "test_index = df['Study'].isin(test_group) & df['time_from_start_featureGeneration'].between(training_time_window[0],training_time_window[1]) & \\\n",
    "            df['Chemistry'].eq(test_chemistry) & df['Sorting Tier'].isin(test_tier)\n",
    "df_test = df.loc[test_index,:].dropna(subset = feature_col + ground_truth_col).reset_index(drop=True)\n",
    "valid_test_index = df['Study'].isin(test_group) & df['time_from_start_featureGeneration'].between(training_time_window[0],training_time_window[1]) & \\\n",
    "                        df['Chemistry'].eq(test_chemistry) & df['Sorting Tier'].isin(test_tier) & \\\n",
    "                        df[feature_name_short_avg_ch1].between(feature_name_short_avg_ch1_lb,feature_name_short_avg_ch1_ub) & \\\n",
    "                        df[feature_name_short_std_ch1].between(feature_name_short_std_ch1_lb,feature_name_short_std_ch1_ub) & \\\n",
    "                        df[feature_name_short_avg_ch3].between(feature_name_short_avg_ch3_lb,feature_name_short_avg_ch3_ub) & \\\n",
    "                        df[feature_name_short_std_ch3].between(feature_name_short_std_ch3_lb,feature_name_short_std_ch3_ub) & \\\n",
    "                        df[feature_name_short_avg_ch4].between(feature_name_short_avg_ch4_lb,feature_name_short_avg_ch4_ub) & \\\n",
    "                        df[feature_name_short_std_ch4].between(feature_name_short_std_ch4_lb,feature_name_short_std_ch4_ub) & \\\n",
    "                        df[feature_name_long_avg_ch1].between(feature_name_long_avg_ch1_lb,feature_name_long_avg_ch1_ub) & \\\n",
    "                        df[feature_name_long_std_ch1].between(feature_name_long_std_ch1_lb,feature_name_long_std_ch1_ub) & \\\n",
    "                        df[feature_name_long_avg_ch3].between(feature_name_long_avg_ch3_lb,feature_name_long_avg_ch3_ub) & \\\n",
    "                        df[feature_name_long_std_ch3].between(feature_name_long_std_ch3_lb,feature_name_long_std_ch3_ub) & \\\n",
    "                        df[feature_name_long_avg_ch4].between(feature_name_long_avg_ch4_lb,feature_name_long_avg_ch4_ub) & \\\n",
    "                        df[feature_name_long_std_ch4].between(feature_name_long_std_ch4_lb,feature_name_long_std_ch4_ub) & \\\n",
    "                        df['retro_slope_s1'].between(slope_lb,slope_ub) & df['retro_intercept_s1'].between(intercept_lb,intercept_ub) & \\\n",
    "                        df['retro_slope_s3'].between(slope_lb,slope_ub) & df['retro_intercept_s3'].between(intercept_lb,intercept_ub) & \\\n",
    "                        df['retro_slope_s4'].between(slope_lb,slope_ub) & df['retro_intercept_s4'].between(intercept_lb,intercept_ub) & \\\n",
    "                        df['retro_rmse_s1'].le(rmse_s1_thresh) & df['retro_rmse_s3'].le(rmse_s3_thresh) & df['retro_rmse_s4'].le(rmse_s4_thresh)\n",
    "df_test_valid = df.loc[valid_test_index,:].dropna(subset = feature_col + ground_truth_col).reset_index(drop=True)\n",
    "print(f'Test data has shape {df_test.shape}')\n",
    "print(f'Test data has shape {df_test_valid.shape}')\n",
    "good_test_data_ratio = len(df_test_valid)/len(df_test)\n",
    "print(f'Ratio of good test data is {good_test_data_ratio}')\n",
    "x_test = df_test_valid[feature_col]\n",
    "x_test_norm = min_max_scaler.transform(x_test)\n",
    "y_test = df_test_valid[ground_truth_col].to_numpy()"
   ]
  },
  {
   "cell_type": "code",
   "execution_count": 11,
   "metadata": {},
   "outputs": [],
   "source": [
    "self_cal_model_dict = {}"
   ]
  },
  {
   "cell_type": "code",
   "execution_count": 12,
   "metadata": {},
   "outputs": [
    {
     "name": "stdout",
     "output_type": "stream",
     "text": [
      "Optimizing parameter 0\n",
      "Max of predict_slope is 1.597728465836325\n",
      "Min of predict_slope is 0.5660254744938662\n",
      "The model today has MSE=0.06622511022602241\n",
      "The self cal model has MSE=0.04445012687234812\n",
      "Max of predict_slope_test is 1.2058618573289084\n",
      "Min of predict_slope_test is 0.5981223557137284\n",
      "The model today on test has MSE=0.08989099628624599\n",
      "The self cal model on test has MSE=0.041603677603988115\n"
     ]
    }
   ],
   "source": [
    "# For channel 1 slope\n",
    "i = 0\n",
    "print(f'Optimizing parameter {i}')\n",
    "self_cal_model = MLPRegressor(hidden_layer_sizes=(10,10,10,1),activation='logistic',solver='adam',alpha=0.0005,max_iter=int(1e4),tol=1e-4,learning_rate='adaptive',random_state=20140806)\n",
    "self_cal_model.fit(x_train_norm,y_train[:,i])\n",
    "predict_slope = self_cal_model.predict(x_train_norm)\n",
    "print(f'Max of predict_slope is {predict_slope.max()}')\n",
    "print(f'Min of predict_slope is {predict_slope.min()}')\n",
    "# predict_slope[predict_slope<0.12] = 1\n",
    "# predict_slope[predict_slope>2.4] = 1\n",
    "mse_train_selfcal = np.mean((predict_slope - y_train[:,i])**2)\n",
    "mse_train_today = np.mean((1-y_train[:,i])**2)\n",
    "print(f'The model today has MSE={mse_train_today}')\n",
    "print(f'The self cal model has MSE={mse_train_selfcal}')\n",
    "\n",
    "predict_slope_test = self_cal_model.predict(x_test_norm)\n",
    "print(f'Max of predict_slope_test is {predict_slope_test.max()}')\n",
    "print(f'Min of predict_slope_test is {predict_slope_test.min()}')\n",
    "# predict_slope_test[predict_slope_test<0.12] = 1\n",
    "# predict_slope_test[predict_slope_test>2.4] = 1    \n",
    "mse_test_selfcal = np.mean((predict_slope_test - y_test[:,i])**2)\n",
    "mse_test_today = np.mean((1-y_test[:,i])**2)\n",
    "print(f'The model today on test has MSE={mse_test_today}')\n",
    "print(f'The self cal model on test has MSE={mse_test_selfcal}')\n",
    "self_cal_model_dict[f'self_cal_model_{i}'] = self_cal_model"
   ]
  },
  {
   "cell_type": "code",
   "execution_count": 13,
   "metadata": {},
   "outputs": [
    {
     "name": "stdout",
     "output_type": "stream",
     "text": [
      "Optimizing parameter 1\n",
      "Max of predict_intercept is 17.403948291701727\n",
      "Min of predict_intercept is -27.73438743519289\n",
      "The model today has MSE=605.3400784995486\n",
      "The self cal model has MSE=277.38645520229204\n",
      "Max of predict_intercept_test is 17.403948291701727\n",
      "Min of predict_intercept_test is -27.73438743519289\n",
      "The model today on test has MSE=432.1062222246409\n",
      "The self cal model on test has MSE=572.844878716862\n"
     ]
    }
   ],
   "source": [
    "# For channel 1 intercept\n",
    "i = 1\n",
    "print(f'Optimizing parameter {i}')\n",
    "self_cal_model = MLPRegressor(hidden_layer_sizes=(10,10,10,1),activation='logistic',solver='adam',alpha=0.0005,max_iter=int(1e4),tol=1e-4,learning_rate='adaptive',random_state=20140806)\n",
    "self_cal_model.fit(x_train_norm,y_train[:,i])\n",
    "predict_intercept = self_cal_model.predict(x_train_norm)\n",
    "print(f'Max of predict_intercept is {predict_intercept.max()}')\n",
    "print(f'Min of predict_intercept is {predict_intercept.min()}')    \n",
    "# predict_intercept[predict_intercept<-100] = 0\n",
    "# predict_intercept[predict_intercept>100] = 0   \n",
    "mse_train_selfcal = np.mean((predict_intercept - y_train[:,i])**2)\n",
    "mse_train_today = np.mean(y_train[:,i]**2)\n",
    "print(f'The model today has MSE={mse_train_today}')\n",
    "print(f'The self cal model has MSE={mse_train_selfcal}')\n",
    "\n",
    "predict_intercept_test = self_cal_model.predict(x_test_norm)\n",
    "print(f'Max of predict_intercept_test is {predict_intercept_test.max()}')\n",
    "print(f'Min of predict_intercept_test is {predict_intercept_test.min()}')    \n",
    "# predict_intercept_test[predict_intercept_test<-100] = 0\n",
    "# predict_intercept_test[predict_intercept_test>100] = 0     \n",
    "mse_test_selfcal = np.mean((predict_intercept_test - y_test[:,i])**2)\n",
    "mse_test_today = np.mean(y_test[:,i]**2)\n",
    "print(f'The model today on test has MSE={mse_test_today}')\n",
    "print(f'The self cal model on test has MSE={mse_test_selfcal}')\n",
    "self_cal_model_dict[f'self_cal_model_{i}'] = self_cal_model"
   ]
  },
  {
   "cell_type": "code",
   "execution_count": 14,
   "metadata": {},
   "outputs": [
    {
     "name": "stdout",
     "output_type": "stream",
     "text": [
      "Max of predict_slope is 1.597728465836325\n",
      "Min of predict_slope is 0.5660254744938662\n",
      "Max of predict_intercept is 17.403948291701727\n",
      "Min of predict_intercept is -27.73438743519289\n",
      "Training data for ch1 glucose by model today N = 3683418, MRD = -0.049419478946650025, StdRD = 0.29614601807220853, MARD = 0.22118953300334682\n",
      "Training data for ch1 glucose by selfcal N = 3683418, MRD = -0.021590728776361506, StdRD = 0.29415267797300365, MARD = 0.21807627159253057\n",
      "Training data for ch1 glucose by retro N = 3683418, MRD = -0.006525732182063572, StdRD = 0.2604195494292999, MARD = 0.16790812429666835\n",
      "Max of predict_slope is 1.2058618573289084\n",
      "Min of predict_slope is 0.5981223557137284\n",
      "Max of predict_intercept is 17.403948291701727\n",
      "Min of predict_intercept is -27.73438743519289\n",
      "Test data for ch1 glucose by model today N = 701247, MRD = -0.22223703408046316, StdRD = 0.23775909770192077, MARD = 0.2671167061201548\n",
      "Test data for ch1 glucose by selfcal N = 701247, MRD = -0.12440985158373734, StdRD = 0.2754904317606554, MARD = 0.2357184996631493\n",
      "Test data for ch1 glucose by retro N = 701247, MRD = -0.017992827178166693, StdRD = 0.22982457832961767, MARD = 0.16233534235407932\n"
     ]
    }
   ],
   "source": [
    "ch1_slope_train = self_cal_model_dict['self_cal_model_0'].predict(x_train_norm)\n",
    "print(f'Max of predict_slope is {ch1_slope_train.max()}')\n",
    "print(f'Min of predict_slope is {ch1_slope_train.min()}')\n",
    "ch1_intercept_train = self_cal_model_dict['self_cal_model_1'].predict(x_train_norm)\n",
    "print(f'Max of predict_intercept is {ch1_intercept_train.max()}')\n",
    "print(f'Min of predict_intercept is {ch1_intercept_train.min()}')\n",
    "df_training_valid['model_output_s1_selfcal'] = df_training_valid['model_output_s1_calculateGlucose'].sub(ch1_intercept_train).div(ch1_slope_train)\n",
    "n_ch1_train_today = df_training_valid['model_output_s1_calculateGlucose'].sub(df_training_valid['cgm_adj']).div(df_training_valid['cgm_adj']).count()\n",
    "mrd_ch1_train_today = df_training_valid['model_output_s1_calculateGlucose'].sub(df_training_valid['cgm_adj']).div(df_training_valid['cgm_adj']).mean()\n",
    "stdrd_ch1_train_today = df_training_valid['model_output_s1_calculateGlucose'].sub(df_training_valid['cgm_adj']).div(df_training_valid['cgm_adj']).std()\n",
    "mard_ch1_train_today = df_training_valid['model_output_s1_calculateGlucose'].sub(df_training_valid['cgm_adj']).div(df_training_valid['cgm_adj']).abs().mean()\n",
    "n_ch1_train_selfcal = df_training_valid['model_output_s1_selfcal'].sub(df_training_valid['cgm_adj']).div(df_training_valid['cgm_adj']).count()\n",
    "mrd_ch1_train_selfcal = df_training_valid['model_output_s1_selfcal'].sub(df_training_valid['cgm_adj']).div(df_training_valid['cgm_adj']).mean()\n",
    "stdrd_ch1_train_selfcal = df_training_valid['model_output_s1_selfcal'].sub(df_training_valid['cgm_adj']).div(df_training_valid['cgm_adj']).std()\n",
    "mard_ch1_train_selfcal = df_training_valid['model_output_s1_selfcal'].sub(df_training_valid['cgm_adj']).div(df_training_valid['cgm_adj']).abs().mean()\n",
    "n_ch1_train_retro = df_training_valid['retro_model_output_s1_calculateGlucose'].sub(df_training_valid['cgm_adj']).div(df_training_valid['cgm_adj']).count()\n",
    "mrd_ch1_train_retro = df_training_valid['retro_model_output_s1_calculateGlucose'].sub(df_training_valid['cgm_adj']).div(df_training_valid['cgm_adj']).mean()\n",
    "stdrd_ch1_train_retro = df_training_valid['retro_model_output_s1_calculateGlucose'].sub(df_training_valid['cgm_adj']).div(df_training_valid['cgm_adj']).std()\n",
    "mard_ch1_train_retro = df_training_valid['retro_model_output_s1_calculateGlucose'].sub(df_training_valid['cgm_adj']).div(df_training_valid['cgm_adj']).abs().mean()\n",
    "print(f'Training data for ch1 glucose by model today N = {n_ch1_train_today}, MRD = {mrd_ch1_train_today}, StdRD = {stdrd_ch1_train_today}, MARD = {mard_ch1_train_today}')\n",
    "print(f'Training data for ch1 glucose by selfcal N = {n_ch1_train_selfcal}, MRD = {mrd_ch1_train_selfcal}, StdRD = {stdrd_ch1_train_selfcal}, MARD = {mard_ch1_train_selfcal}')\n",
    "print(f'Training data for ch1 glucose by retro N = {n_ch1_train_retro}, MRD = {mrd_ch1_train_retro}, StdRD = {stdrd_ch1_train_retro}, MARD = {mard_ch1_train_retro}')\n",
    "\n",
    "ch1_slope_test = self_cal_model_dict['self_cal_model_0'].predict(x_test_norm)\n",
    "print(f'Max of predict_slope is {ch1_slope_test.max()}')\n",
    "print(f'Min of predict_slope is {ch1_slope_test.min()}')\n",
    "ch1_intercept_test = self_cal_model_dict['self_cal_model_1'].predict(x_test_norm)\n",
    "print(f'Max of predict_intercept is {ch1_intercept_test.max()}')\n",
    "print(f'Min of predict_intercept is {ch1_intercept_test.min()}')\n",
    "df_test_valid['model_output_s1_selfcal'] = df_test_valid['model_output_s1_calculateGlucose'].sub(ch1_intercept_test).div(ch1_slope_test)\n",
    "n_ch1_test_today = df_test_valid['model_output_s1_calculateGlucose'].sub(df_test_valid['cgm_adj']).div(df_test_valid['cgm_adj']).count()\n",
    "mrd_ch1_test_today = df_test_valid['model_output_s1_calculateGlucose'].sub(df_test_valid['cgm_adj']).div(df_test_valid['cgm_adj']).mean()\n",
    "stdrd_ch1_test_today = df_test_valid['model_output_s1_calculateGlucose'].sub(df_test_valid['cgm_adj']).div(df_test_valid['cgm_adj']).std()\n",
    "mard_ch1_test_today = df_test_valid['model_output_s1_calculateGlucose'].sub(df_test_valid['cgm_adj']).div(df_test_valid['cgm_adj']).abs().mean()\n",
    "n_ch1_test_selfcal = df_test_valid['model_output_s1_selfcal'].sub(df_test_valid['cgm_adj']).div(df_test_valid['cgm_adj']).count()\n",
    "mrd_ch1_test_selfcal = df_test_valid['model_output_s1_selfcal'].sub(df_test_valid['cgm_adj']).div(df_test_valid['cgm_adj']).mean()\n",
    "stdrd_ch1_test_selfcal = df_test_valid['model_output_s1_selfcal'].sub(df_test_valid['cgm_adj']).div(df_test_valid['cgm_adj']).std()\n",
    "mard_ch1_test_selfcal = df_test_valid['model_output_s1_selfcal'].sub(df_test_valid['cgm_adj']).div(df_test_valid['cgm_adj']).abs().mean()\n",
    "n_ch1_test_retro = df_test_valid['retro_model_output_s1_calculateGlucose'].sub(df_test_valid['cgm_adj']).div(df_test_valid['cgm_adj']).count()\n",
    "mrd_ch1_test_retro = df_test_valid['retro_model_output_s1_calculateGlucose'].sub(df_test_valid['cgm_adj']).div(df_test_valid['cgm_adj']).mean()\n",
    "stdrd_ch1_test_retro = df_test_valid['retro_model_output_s1_calculateGlucose'].sub(df_test_valid['cgm_adj']).div(df_test_valid['cgm_adj']).std()\n",
    "mard_ch1_test_retro = df_test_valid['retro_model_output_s1_calculateGlucose'].sub(df_test_valid['cgm_adj']).div(df_test_valid['cgm_adj']).abs().mean()\n",
    "print(f'Test data for ch1 glucose by model today N = {n_ch1_test_today}, MRD = {mrd_ch1_test_today}, StdRD = {stdrd_ch1_test_today}, MARD = {mard_ch1_test_today}')\n",
    "print(f'Test data for ch1 glucose by selfcal N = {n_ch1_test_selfcal}, MRD = {mrd_ch1_test_selfcal}, StdRD = {stdrd_ch1_test_selfcal}, MARD = {mard_ch1_test_selfcal}')\n",
    "print(f'Test data for ch1 glucose by retro N = {n_ch1_test_retro}, MRD = {mrd_ch1_test_retro}, StdRD = {stdrd_ch1_test_retro}, MARD = {mard_ch1_test_retro}')"
   ]
  },
  {
   "cell_type": "code",
   "execution_count": 15,
   "metadata": {},
   "outputs": [
    {
     "name": "stdout",
     "output_type": "stream",
     "text": [
      "Max of predict_slope is 1.6181579796064374\n",
      "Min of predict_slope is 0.5227219269529801\n",
      "Max of predict_intercept is 17.403948291701727\n",
      "Min of predict_intercept is -27.73438743519289\n"
     ]
    },
    {
     "name": "stderr",
     "output_type": "stream",
     "text": [
      "C:\\Users\\lwang\\AppData\\Local\\Temp\\6\\ipykernel_33904\\2400631413.py:12: SettingWithCopyWarning:\n",
      "\n",
      "\n",
      "A value is trying to be set on a copy of a slice from a DataFrame.\n",
      "Try using .loc[row_indexer,col_indexer] = value instead\n",
      "\n",
      "See the caveats in the documentation: https://pandas.pydata.org/pandas-docs/stable/user_guide/indexing.html#returning-a-view-versus-a-copy\n",
      "\n"
     ]
    },
    {
     "name": "stdout",
     "output_type": "stream",
     "text": [
      "Training data for ch1 glucose by model today N = 184481, MRD = -0.017902213006599957, StdRD = 0.2582203118351232, MARD = 0.1946855099413917\n",
      "Training data for ch1 glucose by selfcal N = 184481, MRD = 0.027638463530425882, StdRD = 0.2898851276506848, MARD = 0.21788242740951144\n",
      "Training data for ch1 glucose by retro N = 182978, MRD = 0.03577111376068544, StdRD = 0.23672040181604093, MARD = 0.16979910239717408\n",
      "Max of predict_slope is 1.2478630202276273\n",
      "Min of predict_slope is 0.5227287187611644\n",
      "Max of predict_intercept is 17.403948291701727\n",
      "Min of predict_intercept is -27.73438743519289\n",
      "Test data for ch1 glucose by model today N = 44042, MRD = -0.22569659157780864, StdRD = 0.21951972992760932, MARD = 0.25244884098748405\n",
      "Test data for ch1 glucose by selfcal N = 44042, MRD = -0.11559411811278365, StdRD = 0.27442071754964625, MARD = 0.23682361714348038\n",
      "Test data for ch1 glucose by retro N = 44042, MRD = 0.002304656196431923, StdRD = 0.25013300190313786, MARD = 0.17623556003735152\n"
     ]
    },
    {
     "name": "stderr",
     "output_type": "stream",
     "text": [
      "C:\\Users\\lwang\\AppData\\Local\\Temp\\6\\ipykernel_33904\\2400631413.py:38: SettingWithCopyWarning:\n",
      "\n",
      "\n",
      "A value is trying to be set on a copy of a slice from a DataFrame.\n",
      "Try using .loc[row_indexer,col_indexer] = value instead\n",
      "\n",
      "See the caveats in the documentation: https://pandas.pydata.org/pandas-docs/stable/user_guide/indexing.html#returning-a-view-versus-a-copy\n",
      "\n"
     ]
    }
   ],
   "source": [
    "df = df_orig[all_cols].copy()\n",
    "\n",
    "df_train_ysi = df.loc[training_index]\n",
    "x_train_ysi = df_train_ysi[feature_col]\n",
    "x_train_ysi_norm = min_max_scaler.transform(x_train_ysi)\n",
    "ch1_slope_train = self_cal_model_dict['self_cal_model_0'].predict(x_train_ysi_norm)\n",
    "print(f'Max of predict_slope is {ch1_slope_train.max()}')\n",
    "print(f'Min of predict_slope is {ch1_slope_train.min()}')\n",
    "ch1_intercept_train = self_cal_model_dict['self_cal_model_1'].predict(x_train_ysi_norm)\n",
    "print(f'Max of predict_intercept is {ch1_intercept_train.max()}')\n",
    "print(f'Min of predict_intercept is {ch1_intercept_train.min()}')\n",
    "df_train_ysi['model_output_s1_selfcal'] = df_train_ysi['model_output_s1_calculateGlucose'].sub(ch1_intercept_train).div(ch1_slope_train)\n",
    "n_ch1_train_today = df_train_ysi['model_output_s1_calculateGlucose'].sub(df_train_ysi['ysi']).div(df_train_ysi['ysi']).count()\n",
    "mrd_ch1_train_today = df_train_ysi['model_output_s1_calculateGlucose'].sub(df_train_ysi['ysi']).div(df_train_ysi['ysi']).mean()\n",
    "stdrd_ch1_train_today = df_train_ysi['model_output_s1_calculateGlucose'].sub(df_train_ysi['ysi']).div(df_train_ysi['ysi']).std()\n",
    "mard_ch1_train_today = df_train_ysi['model_output_s1_calculateGlucose'].sub(df_train_ysi['ysi']).div(df_train_ysi['ysi']).abs().mean()\n",
    "n_ch1_train_selfcal = df_train_ysi['model_output_s1_selfcal'].sub(df_train_ysi['ysi']).div(df_train_ysi['ysi']).count()\n",
    "mrd_ch1_train_selfcal = df_train_ysi['model_output_s1_selfcal'].sub(df_train_ysi['ysi']).div(df_train_ysi['ysi']).mean()\n",
    "stdrd_ch1_train_selfcal = df_train_ysi['model_output_s1_selfcal'].sub(df_train_ysi['ysi']).div(df_train_ysi['ysi']).std()\n",
    "mard_ch1_train_selfcal = df_train_ysi['model_output_s1_selfcal'].sub(df_train_ysi['ysi']).div(df_train_ysi['ysi']).abs().mean()\n",
    "n_ch1_train_retro = df_train_ysi['retro_model_output_s1_calculateGlucose'].sub(df_train_ysi['ysi']).div(df_train_ysi['ysi']).count()\n",
    "mrd_ch1_train_retro = df_train_ysi['retro_model_output_s1_calculateGlucose'].sub(df_train_ysi['ysi']).div(df_train_ysi['ysi']).mean()\n",
    "stdrd_ch1_train_retro = df_train_ysi['retro_model_output_s1_calculateGlucose'].sub(df_train_ysi['ysi']).div(df_train_ysi['ysi']).std()\n",
    "mard_ch1_train_retro = df_train_ysi['retro_model_output_s1_calculateGlucose'].sub(df_train_ysi['ysi']).div(df_train_ysi['ysi']).abs().mean()\n",
    "print(f'Training data for ch1 glucose by model today N = {n_ch1_train_today}, MRD = {mrd_ch1_train_today}, StdRD = {stdrd_ch1_train_today}, MARD = {mard_ch1_train_today}')\n",
    "print(f'Training data for ch1 glucose by selfcal N = {n_ch1_train_selfcal}, MRD = {mrd_ch1_train_selfcal}, StdRD = {stdrd_ch1_train_selfcal}, MARD = {mard_ch1_train_selfcal}')\n",
    "print(f'Training data for ch1 glucose by retro N = {n_ch1_train_retro}, MRD = {mrd_ch1_train_retro}, StdRD = {stdrd_ch1_train_retro}, MARD = {mard_ch1_train_retro}')\n",
    "\n",
    "df_test_ysi = df.loc[test_index]\n",
    "x_test_ysi = df_test_ysi[feature_col]\n",
    "x_test_ysi_norm = min_max_scaler.transform(x_test_ysi)\n",
    "ch1_slope_test = self_cal_model_dict['self_cal_model_0'].predict(x_test_ysi_norm)\n",
    "print(f'Max of predict_slope is {ch1_slope_test.max()}')\n",
    "print(f'Min of predict_slope is {ch1_slope_test.min()}')\n",
    "ch1_intercept_test = self_cal_model_dict['self_cal_model_1'].predict(x_test_ysi_norm)\n",
    "print(f'Max of predict_intercept is {ch1_intercept_test.max()}')\n",
    "print(f'Min of predict_intercept is {ch1_intercept_test.min()}')\n",
    "df_test_ysi['model_output_s1_selfcal'] = df_test_ysi['model_output_s1_calculateGlucose'].sub(ch1_intercept_test).div(ch1_slope_test)\n",
    "n_ch1_test_today = df_test_ysi['model_output_s1_calculateGlucose'].sub(df_test_ysi['ysi']).div(df_test_ysi['ysi']).count()\n",
    "mrd_ch1_test_today = df_test_ysi['model_output_s1_calculateGlucose'].sub(df_test_ysi['ysi']).div(df_test_ysi['ysi']).mean()\n",
    "stdrd_ch1_test_today = df_test_ysi['model_output_s1_calculateGlucose'].sub(df_test_ysi['ysi']).div(df_test_ysi['ysi']).std()\n",
    "mard_ch1_test_today = df_test_ysi['model_output_s1_calculateGlucose'].sub(df_test_ysi['ysi']).div(df_test_ysi['ysi']).abs().mean()\n",
    "n_ch1_test_selfcal = df_test_ysi['model_output_s1_selfcal'].sub(df_test_ysi['ysi']).div(df_test_ysi['ysi']).count()\n",
    "mrd_ch1_test_selfcal = df_test_ysi['model_output_s1_selfcal'].sub(df_test_ysi['ysi']).div(df_test_ysi['ysi']).mean()\n",
    "stdrd_ch1_test_selfcal = df_test_ysi['model_output_s1_selfcal'].sub(df_test_ysi['ysi']).div(df_test_ysi['ysi']).std()\n",
    "mard_ch1_test_selfcal = df_test_ysi['model_output_s1_selfcal'].sub(df_test_ysi['ysi']).div(df_test_ysi['ysi']).abs().mean()\n",
    "n_ch1_test_retro = df_test_ysi['retro_model_output_s1_calculateGlucose'].sub(df_test_ysi['ysi']).div(df_test_ysi['ysi']).count()\n",
    "mrd_ch1_test_retro = df_test_ysi['retro_model_output_s1_calculateGlucose'].sub(df_test_ysi['ysi']).div(df_test_ysi['ysi']).mean()\n",
    "stdrd_ch1_test_retro = df_test_ysi['retro_model_output_s1_calculateGlucose'].sub(df_test_ysi['ysi']).div(df_test_ysi['ysi']).std()\n",
    "mard_ch1_test_retro = df_test_ysi['retro_model_output_s1_calculateGlucose'].sub(df_test_ysi['ysi']).div(df_test_ysi['ysi']).abs().mean()\n",
    "print(f'Test data for ch1 glucose by model today N = {n_ch1_test_today}, MRD = {mrd_ch1_test_today}, StdRD = {stdrd_ch1_test_today}, MARD = {mard_ch1_test_today}')\n",
    "print(f'Test data for ch1 glucose by selfcal N = {n_ch1_test_selfcal}, MRD = {mrd_ch1_test_selfcal}, StdRD = {stdrd_ch1_test_selfcal}, MARD = {mard_ch1_test_selfcal}')\n",
    "print(f'Test data for ch1 glucose by retro N = {n_ch1_test_retro}, MRD = {mrd_ch1_test_retro}, StdRD = {stdrd_ch1_test_retro}, MARD = {mard_ch1_test_retro}')"
   ]
  },
  {
   "cell_type": "code",
   "execution_count": 16,
   "metadata": {},
   "outputs": [
    {
     "name": "stdout",
     "output_type": "stream",
     "text": [
      "Max of predict_slope is 1.6181579796064374\n",
      "Min of predict_slope is 0.5227219269529801\n",
      "Max of predict_intercept is 17.403948291701727\n",
      "Min of predict_intercept is -27.73438743519289\n"
     ]
    },
    {
     "name": "stderr",
     "output_type": "stream",
     "text": [
      "C:\\Users\\lwang\\AppData\\Local\\Temp\\6\\ipykernel_33904\\1501457173.py:13: SettingWithCopyWarning:\n",
      "\n",
      "\n",
      "A value is trying to be set on a copy of a slice from a DataFrame.\n",
      "Try using .loc[row_indexer,col_indexer] = value instead\n",
      "\n",
      "See the caveats in the documentation: https://pandas.pydata.org/pandas-docs/stable/user_guide/indexing.html#returning-a-view-versus-a-copy\n",
      "\n"
     ]
    },
    {
     "name": "stdout",
     "output_type": "stream",
     "text": [
      "Training data for ch1 glucose by model today N = 169011, MRD = 0.006511552493683683, StdRD = 0.22284512521064104, MARD = 0.1717230698602842\n",
      "Training data for ch1 glucose by selfcal N = 169011, MRD = 0.048925736072794025, StdRD = 0.26098275735144727, MARD = 0.19954769109832243\n",
      "Training data for ch1 glucose by retro N = 182978, MRD = 0.03577111376068544, StdRD = 0.23672040181604093, MARD = 0.16979910239717408\n",
      "Max of predict_slope is 1.2478630202276273\n",
      "Min of predict_slope is 0.5227287187611644\n",
      "Max of predict_intercept is 17.403948291701727\n",
      "Min of predict_intercept is -27.73438743519289\n",
      "Test data for ch1 glucose by model today N = 39614, MRD = -0.19201181631131736, StdRD = 0.18187142372651005, MARD = 0.2216389180078642\n",
      "Test data for ch1 glucose by selfcal N = 39614, MRD = -0.08115109561487617, StdRD = 0.25099648217732445, MARD = 0.21406564619932458\n",
      "Test data for ch1 glucose by retro N = 44042, MRD = 0.002304656196431923, StdRD = 0.25013300190313786, MARD = 0.17623556003735152\n"
     ]
    },
    {
     "name": "stderr",
     "output_type": "stream",
     "text": [
      "C:\\Users\\lwang\\AppData\\Local\\Temp\\6\\ipykernel_33904\\1501457173.py:39: SettingWithCopyWarning:\n",
      "\n",
      "\n",
      "A value is trying to be set on a copy of a slice from a DataFrame.\n",
      "Try using .loc[row_indexer,col_indexer] = value instead\n",
      "\n",
      "See the caveats in the documentation: https://pandas.pydata.org/pandas-docs/stable/user_guide/indexing.html#returning-a-view-versus-a-copy\n",
      "\n"
     ]
    }
   ],
   "source": [
    "df = df_orig[all_cols].copy()\n",
    "\n",
    "df_test_ysi = df.loc[training_index]\n",
    "x_train_ysi = df_test_ysi[feature_col]\n",
    "x_train_ysi_norm = min_max_scaler.transform(x_train_ysi)\n",
    "\n",
    "ch1_slope_train = self_cal_model_dict['self_cal_model_0'].predict(x_train_ysi_norm)\n",
    "print(f'Max of predict_slope is {ch1_slope_train.max()}')\n",
    "print(f'Min of predict_slope is {ch1_slope_train.min()}')\n",
    "ch1_intercept_train = self_cal_model_dict['self_cal_model_1'].predict(x_train_ysi_norm)\n",
    "print(f'Max of predict_intercept is {ch1_intercept_train.max()}')\n",
    "print(f'Min of predict_intercept is {ch1_intercept_train.min()}')\n",
    "df_test_ysi['biolinq_s1_selfcal'] = df_test_ysi['biolinq_s1_channelFaultDetection'].sub(ch1_intercept_train).div(ch1_slope_train)\n",
    "n_ch1_train_today = df_test_ysi['biolinq_s1_channelFaultDetection'].sub(df_test_ysi['ysi']).div(df_test_ysi['ysi']).count()\n",
    "mrd_ch1_train_today = df_test_ysi['biolinq_s1_channelFaultDetection'].sub(df_test_ysi['ysi']).div(df_test_ysi['ysi']).mean()\n",
    "stdrd_ch1_train_today = df_test_ysi['biolinq_s1_channelFaultDetection'].sub(df_test_ysi['ysi']).div(df_test_ysi['ysi']).std()\n",
    "mard_ch1_train_today = df_test_ysi['biolinq_s1_channelFaultDetection'].sub(df_test_ysi['ysi']).div(df_test_ysi['ysi']).abs().mean()\n",
    "n_ch1_train_selfcal = df_test_ysi['biolinq_s1_selfcal'].sub(df_test_ysi['ysi']).div(df_test_ysi['ysi']).count()\n",
    "mrd_ch1_train_selfcal = df_test_ysi['biolinq_s1_selfcal'].sub(df_test_ysi['ysi']).div(df_test_ysi['ysi']).mean()\n",
    "stdrd_ch1_train_selfcal = df_test_ysi['biolinq_s1_selfcal'].sub(df_test_ysi['ysi']).div(df_test_ysi['ysi']).std()\n",
    "mard_ch1_train_selfcal = df_test_ysi['biolinq_s1_selfcal'].sub(df_test_ysi['ysi']).div(df_test_ysi['ysi']).abs().mean()\n",
    "n_ch1_train_retro = df_test_ysi['retro_model_output_s1_calculateGlucose'].sub(df_test_ysi['ysi']).div(df_test_ysi['ysi']).count()\n",
    "mrd_ch1_train_retro = df_test_ysi['retro_model_output_s1_calculateGlucose'].sub(df_test_ysi['ysi']).div(df_test_ysi['ysi']).mean()\n",
    "stdrd_ch1_train_retro = df_test_ysi['retro_model_output_s1_calculateGlucose'].sub(df_test_ysi['ysi']).div(df_test_ysi['ysi']).std()\n",
    "mard_ch1_train_retro = df_test_ysi['retro_model_output_s1_calculateGlucose'].sub(df_test_ysi['ysi']).div(df_test_ysi['ysi']).abs().mean()\n",
    "print(f'Training data for ch1 glucose by model today N = {n_ch1_train_today}, MRD = {mrd_ch1_train_today}, StdRD = {stdrd_ch1_train_today}, MARD = {mard_ch1_train_today}')\n",
    "print(f'Training data for ch1 glucose by selfcal N = {n_ch1_train_selfcal}, MRD = {mrd_ch1_train_selfcal}, StdRD = {stdrd_ch1_train_selfcal}, MARD = {mard_ch1_train_selfcal}')\n",
    "print(f'Training data for ch1 glucose by retro N = {n_ch1_train_retro}, MRD = {mrd_ch1_train_retro}, StdRD = {stdrd_ch1_train_retro}, MARD = {mard_ch1_train_retro}')\n",
    "\n",
    "df_test_ysi = df.loc[test_index]\n",
    "x_test_ysi = df_test_ysi[feature_col]\n",
    "x_test_ysi_norm = min_max_scaler.transform(x_test_ysi)\n",
    "ch1_slope_test = self_cal_model_dict['self_cal_model_0'].predict(x_test_ysi_norm)\n",
    "print(f'Max of predict_slope is {ch1_slope_test.max()}')\n",
    "print(f'Min of predict_slope is {ch1_slope_test.min()}')\n",
    "ch1_intercept_test = self_cal_model_dict['self_cal_model_1'].predict(x_test_ysi_norm)\n",
    "print(f'Max of predict_intercept is {ch1_intercept_test.max()}')\n",
    "print(f'Min of predict_intercept is {ch1_intercept_test.min()}')\n",
    "df_test_ysi['biolinq_s1_selfcal'] = df_test_ysi['biolinq_s1_channelFaultDetection'].sub(ch1_intercept_test).div(ch1_slope_test)\n",
    "n_ch1_test_today = df_test_ysi['biolinq_s1_channelFaultDetection'].sub(df_test_ysi['ysi']).div(df_test_ysi['ysi']).count()\n",
    "mrd_ch1_test_today = df_test_ysi['biolinq_s1_channelFaultDetection'].sub(df_test_ysi['ysi']).div(df_test_ysi['ysi']).mean()\n",
    "stdrd_ch1_test_today = df_test_ysi['biolinq_s1_channelFaultDetection'].sub(df_test_ysi['ysi']).div(df_test_ysi['ysi']).std()\n",
    "mard_ch1_test_today = df_test_ysi['biolinq_s1_channelFaultDetection'].sub(df_test_ysi['ysi']).div(df_test_ysi['ysi']).abs().mean()\n",
    "n_ch1_test_selfcal = df_test_ysi['biolinq_s1_selfcal'].sub(df_test_ysi['ysi']).div(df_test_ysi['ysi']).count()\n",
    "mrd_ch1_test_selfcal = df_test_ysi['biolinq_s1_selfcal'].sub(df_test_ysi['ysi']).div(df_test_ysi['ysi']).mean()\n",
    "stdrd_ch1_test_selfcal = df_test_ysi['biolinq_s1_selfcal'].sub(df_test_ysi['ysi']).div(df_test_ysi['ysi']).std()\n",
    "mard_ch1_test_selfcal = df_test_ysi['biolinq_s1_selfcal'].sub(df_test_ysi['ysi']).div(df_test_ysi['ysi']).abs().mean()\n",
    "n_ch1_test_retro = df_test_ysi['retro_model_output_s1_calculateGlucose'].sub(df_test_ysi['ysi']).div(df_test_ysi['ysi']).count()\n",
    "mrd_ch1_test_retro = df_test_ysi['retro_model_output_s1_calculateGlucose'].sub(df_test_ysi['ysi']).div(df_test_ysi['ysi']).mean()\n",
    "stdrd_ch1_test_retro = df_test_ysi['retro_model_output_s1_calculateGlucose'].sub(df_test_ysi['ysi']).div(df_test_ysi['ysi']).std()\n",
    "mard_ch1_test_retro = df_test_ysi['retro_model_output_s1_calculateGlucose'].sub(df_test_ysi['ysi']).div(df_test_ysi['ysi']).abs().mean()\n",
    "print(f'Test data for ch1 glucose by model today N = {n_ch1_test_today}, MRD = {mrd_ch1_test_today}, StdRD = {stdrd_ch1_test_today}, MARD = {mard_ch1_test_today}')\n",
    "print(f'Test data for ch1 glucose by selfcal N = {n_ch1_test_selfcal}, MRD = {mrd_ch1_test_selfcal}, StdRD = {stdrd_ch1_test_selfcal}, MARD = {mard_ch1_test_selfcal}')\n",
    "print(f'Test data for ch1 glucose by retro N = {n_ch1_test_retro}, MRD = {mrd_ch1_test_retro}, StdRD = {stdrd_ch1_test_retro}, MARD = {mard_ch1_test_retro}')"
   ]
  },
  {
   "cell_type": "code",
   "execution_count": 17,
   "metadata": {},
   "outputs": [
    {
     "data": {
      "text/plain": [
       "[0.5227219269529801,\n",
       " 1.6181579796064374,\n",
       " -27.73438743519289,\n",
       " 17.403948291701727,\n",
       " 0.5227287187611644,\n",
       " 1.2478630202276273,\n",
       " -27.73438743519289,\n",
       " 17.403948291701727]"
      ]
     },
     "execution_count": 17,
     "metadata": {},
     "output_type": "execute_result"
    }
   ],
   "source": [
    "[ch1_slope_train.min(),\n",
    "ch1_slope_train.max(),\n",
    "ch1_intercept_train.min(),\n",
    "ch1_intercept_train.max(),\n",
    "ch1_slope_test.min(),\n",
    "ch1_slope_test.max(),\n",
    "ch1_intercept_test.min(),\n",
    "ch1_intercept_test.max()]"
   ]
  },
  {
   "cell_type": "code",
   "execution_count": 18,
   "metadata": {},
   "outputs": [
    {
     "name": "stdout",
     "output_type": "stream",
     "text": [
      "Optimizing parameter 2\n",
      "Max of predict_slope is 1.5874109013599917\n",
      "Min of predict_slope is 0.21944259672586275\n",
      "The model today has MSE=0.07475921366530094\n",
      "The self cal model has MSE=0.0467777024379984\n",
      "Max of predict_slope_test is 1.363025066458246\n",
      "Min of predict_slope_test is 0.4429913763244384\n",
      "The model today on test has MSE=0.07230713212830482\n",
      "The self cal model on test has MSE=0.04935258788599621\n"
     ]
    }
   ],
   "source": [
    "# For channel 3 slope\n",
    "i = 2\n",
    "print(f'Optimizing parameter {i}')\n",
    "self_cal_model = MLPRegressor(hidden_layer_sizes=(10,10,10,1),activation='logistic',solver='adam',alpha=5e-4,max_iter=int(1e4),tol=1e-4,learning_rate='adaptive',random_state=20140806)\n",
    "self_cal_model.fit(x_train_norm,y_train[:,i])\n",
    "predict_slope = self_cal_model.predict(x_train_norm)\n",
    "print(f'Max of predict_slope is {predict_slope.max()}')\n",
    "print(f'Min of predict_slope is {predict_slope.min()}')\n",
    "# predict_slope[predict_slope<0.12] = 1\n",
    "# predict_slope[predict_slope>2.4] = 1\n",
    "mse_train_selfcal = np.mean((predict_slope - y_train[:,i])**2)\n",
    "mse_train_today = np.mean((1-y_train[:,i])**2)\n",
    "print(f'The model today has MSE={mse_train_today}')\n",
    "print(f'The self cal model has MSE={mse_train_selfcal}')\n",
    "\n",
    "predict_slope_test = self_cal_model.predict(x_test_norm)\n",
    "print(f'Max of predict_slope_test is {predict_slope_test.max()}')\n",
    "print(f'Min of predict_slope_test is {predict_slope_test.min()}')\n",
    "# predict_slope_test[predict_slope_test<0.12] = 1\n",
    "# predict_slope_test[predict_slope_test>2.4] = 1    \n",
    "mse_test_selfcal = np.mean((predict_slope_test - y_test[:,i])**2)\n",
    "mse_test_today = np.mean((1-y_test[:,i])**2)\n",
    "print(f'The model today on test has MSE={mse_test_today}')\n",
    "print(f'The self cal model on test has MSE={mse_test_selfcal}')\n",
    "self_cal_model_dict[f'self_cal_model_{i}'] = self_cal_model"
   ]
  },
  {
   "cell_type": "code",
   "execution_count": 19,
   "metadata": {},
   "outputs": [
    {
     "name": "stdout",
     "output_type": "stream",
     "text": [
      "Optimizing parameter 3\n",
      "Max of predict_intercept is 65.25786225417434\n",
      "Min of predict_intercept is -91.51567842163823\n",
      "The model today has MSE=717.9167744181003\n",
      "The self cal model has MSE=233.77150557290358\n",
      "Max of predict_intercept_test is 60.34792271033385\n",
      "Min of predict_intercept_test is -94.24502053175237\n",
      "The model today on test has MSE=607.4122690399154\n",
      "The self cal model on test has MSE=1014.3744168991809\n"
     ]
    }
   ],
   "source": [
    "# For channel 3 intercept\n",
    "i = 3\n",
    "print(f'Optimizing parameter {i}')\n",
    "self_cal_model = MLPRegressor(hidden_layer_sizes=(10,10,10,1),activation='logistic',solver='adam',alpha=5e-4,max_iter=int(1e4),tol=1e-4,learning_rate='adaptive',random_state=20140806)\n",
    "self_cal_model.fit(x_train_norm,y_train[:,i])\n",
    "predict_intercept = self_cal_model.predict(x_train_norm)\n",
    "print(f'Max of predict_intercept is {predict_intercept.max()}')\n",
    "print(f'Min of predict_intercept is {predict_intercept.min()}')    \n",
    "# predict_intercept[predict_intercept<-100] = 0\n",
    "# predict_intercept[predict_intercept>100] = 0   \n",
    "mse_train_selfcal = np.mean((predict_intercept - y_train[:,i])**2)\n",
    "mse_train_today = np.mean(y_train[:,i]**2)\n",
    "print(f'The model today has MSE={mse_train_today}')\n",
    "print(f'The self cal model has MSE={mse_train_selfcal}')\n",
    "\n",
    "predict_intercept_test = self_cal_model.predict(x_test_norm)\n",
    "print(f'Max of predict_intercept_test is {predict_intercept_test.max()}')\n",
    "print(f'Min of predict_intercept_test is {predict_intercept_test.min()}')    \n",
    "# predict_intercept_test[predict_intercept_test<-100] = 0\n",
    "# predict_intercept_test[predict_intercept_test>100] = 0     \n",
    "mse_test_selfcal = np.mean((predict_intercept_test - y_test[:,i])**2)\n",
    "mse_test_today = np.mean(y_test[:,i]**2)\n",
    "print(f'The model today on test has MSE={mse_test_today}')\n",
    "print(f'The self cal model on test has MSE={mse_test_selfcal}')\n",
    "self_cal_model_dict[f'self_cal_model_{i}'] = self_cal_model"
   ]
  },
  {
   "cell_type": "code",
   "execution_count": 20,
   "metadata": {},
   "outputs": [
    {
     "name": "stdout",
     "output_type": "stream",
     "text": [
      "Max of predict_slope is 1.5874109013599917\n",
      "Min of predict_slope is 0.21944259672586275\n",
      "Max of predict_intercept is 65.25786225417434\n",
      "Min of predict_intercept is -91.51567842163823\n",
      "Training data for ch3 glucose by model today N = 3683418, MRD = -0.10200465017793249, StdRD = 0.2733312748011913, MARD = 0.2219338612948164\n",
      "Training data for ch3 glucose by selfcal N = 3683418, MRD = -0.02012807269582244, StdRD = 0.3001640908881063, MARD = 0.22290446125776933\n",
      "Training data for ch3 glucose by retro N = 3683418, MRD = -0.010447200385006057, StdRD = 0.263127317200503, MARD = 0.1666778565142784\n",
      "Max of predict_slope is 1.363025066458246\n",
      "Min of predict_slope is 0.4429913763244384\n",
      "Max of predict_intercept is 60.34792271033385\n",
      "Min of predict_intercept is -94.24502053175237\n",
      "Test data for ch3 glucose by model today N = 701247, MRD = -0.21116515786096024, StdRD = 0.24932608239278578, MARD = 0.2685351706037254\n",
      "Test data for ch3 glucose by selfcal N = 701247, MRD = -0.12464822658811471, StdRD = 0.2947219546883113, MARD = 0.24397001376862587\n",
      "Test data for ch3 glucose by retro N = 701247, MRD = -0.022676661113302743, StdRD = 0.20514044113371444, MARD = 0.1415663699097565\n"
     ]
    }
   ],
   "source": [
    "ch3_slope_train = self_cal_model_dict['self_cal_model_2'].predict(x_train_norm)\n",
    "print(f'Max of predict_slope is {ch3_slope_train.max()}')\n",
    "print(f'Min of predict_slope is {ch3_slope_train.min()}')\n",
    "ch3_intercept_train = self_cal_model_dict['self_cal_model_3'].predict(x_train_norm)\n",
    "print(f'Max of predict_intercept is {ch3_intercept_train.max()}')\n",
    "print(f'Min of predict_intercept is {ch3_intercept_train.min()}')\n",
    "df_training_valid['model_output_s3_selfcal'] = df_training_valid['model_output_s3_calculateGlucose'].sub(ch3_intercept_train).div(ch3_slope_train)\n",
    "n_ch3_train_today = df_training_valid['model_output_s3_calculateGlucose'].sub(df_training_valid['cgm_adj']).div(df_training_valid['cgm_adj']).count()\n",
    "mrd_ch3_train_today = df_training_valid['model_output_s3_calculateGlucose'].sub(df_training_valid['cgm_adj']).div(df_training_valid['cgm_adj']).mean()\n",
    "stdrd_ch3_train_today = df_training_valid['model_output_s3_calculateGlucose'].sub(df_training_valid['cgm_adj']).div(df_training_valid['cgm_adj']).std()\n",
    "mard_ch3_train_today = df_training_valid['model_output_s3_calculateGlucose'].sub(df_training_valid['cgm_adj']).div(df_training_valid['cgm_adj']).abs().mean()\n",
    "n_ch3_train_selfcal = df_training_valid['model_output_s3_selfcal'].sub(df_training_valid['cgm_adj']).div(df_training_valid['cgm_adj']).count()\n",
    "mrd_ch3_train_selfcal = df_training_valid['model_output_s3_selfcal'].sub(df_training_valid['cgm_adj']).div(df_training_valid['cgm_adj']).mean()\n",
    "stdrd_ch3_train_selfcal = df_training_valid['model_output_s3_selfcal'].sub(df_training_valid['cgm_adj']).div(df_training_valid['cgm_adj']).std()\n",
    "mard_ch3_train_selfcal = df_training_valid['model_output_s3_selfcal'].sub(df_training_valid['cgm_adj']).div(df_training_valid['cgm_adj']).abs().mean()\n",
    "n_ch3_train_retro = df_training_valid['retro_model_output_s3_calculateGlucose'].sub(df_training_valid['cgm_adj']).div(df_training_valid['cgm_adj']).count()\n",
    "mrd_ch3_train_retro = df_training_valid['retro_model_output_s3_calculateGlucose'].sub(df_training_valid['cgm_adj']).div(df_training_valid['cgm_adj']).mean()\n",
    "stdrd_ch3_train_retro = df_training_valid['retro_model_output_s3_calculateGlucose'].sub(df_training_valid['cgm_adj']).div(df_training_valid['cgm_adj']).std()\n",
    "mard_ch3_train_retro = df_training_valid['retro_model_output_s3_calculateGlucose'].sub(df_training_valid['cgm_adj']).div(df_training_valid['cgm_adj']).abs().mean()\n",
    "print(f'Training data for ch3 glucose by model today N = {n_ch3_train_today}, MRD = {mrd_ch3_train_today}, StdRD = {stdrd_ch3_train_today}, MARD = {mard_ch3_train_today}')\n",
    "print(f'Training data for ch3 glucose by selfcal N = {n_ch3_train_selfcal}, MRD = {mrd_ch3_train_selfcal}, StdRD = {stdrd_ch3_train_selfcal}, MARD = {mard_ch3_train_selfcal}')\n",
    "print(f'Training data for ch3 glucose by retro N = {n_ch3_train_retro}, MRD = {mrd_ch3_train_retro}, StdRD = {stdrd_ch3_train_retro}, MARD = {mard_ch3_train_retro}')\n",
    "\n",
    "ch3_slope_test = self_cal_model_dict['self_cal_model_2'].predict(x_test_norm)\n",
    "print(f'Max of predict_slope is {ch3_slope_test.max()}')\n",
    "print(f'Min of predict_slope is {ch3_slope_test.min()}')\n",
    "ch3_intercept_test = self_cal_model_dict['self_cal_model_3'].predict(x_test_norm)\n",
    "print(f'Max of predict_intercept is {ch3_intercept_test.max()}')\n",
    "print(f'Min of predict_intercept is {ch3_intercept_test.min()}')\n",
    "df_test_valid['model_output_s3_selfcal'] = df_test_valid['model_output_s3_calculateGlucose'].sub(ch3_intercept_test).div(ch3_slope_test)\n",
    "n_ch3_test_today = df_test_valid['model_output_s3_calculateGlucose'].sub(df_test_valid['cgm_adj']).div(df_test_valid['cgm_adj']).count()\n",
    "mrd_ch3_test_today = df_test_valid['model_output_s3_calculateGlucose'].sub(df_test_valid['cgm_adj']).div(df_test_valid['cgm_adj']).mean()\n",
    "stdrd_ch3_test_today = df_test_valid['model_output_s3_calculateGlucose'].sub(df_test_valid['cgm_adj']).div(df_test_valid['cgm_adj']).std()\n",
    "mard_ch3_test_today = df_test_valid['model_output_s3_calculateGlucose'].sub(df_test_valid['cgm_adj']).div(df_test_valid['cgm_adj']).abs().mean()\n",
    "n_ch3_test_selfcal = df_test_valid['model_output_s3_selfcal'].sub(df_test_valid['cgm_adj']).div(df_test_valid['cgm_adj']).count()\n",
    "mrd_ch3_test_selfcal = df_test_valid['model_output_s3_selfcal'].sub(df_test_valid['cgm_adj']).div(df_test_valid['cgm_adj']).mean()\n",
    "stdrd_ch3_test_selfcal = df_test_valid['model_output_s3_selfcal'].sub(df_test_valid['cgm_adj']).div(df_test_valid['cgm_adj']).std()\n",
    "mard_ch3_test_selfcal = df_test_valid['model_output_s3_selfcal'].sub(df_test_valid['cgm_adj']).div(df_test_valid['cgm_adj']).abs().mean()\n",
    "n_ch3_test_retro = df_test_valid['retro_model_output_s3_calculateGlucose'].sub(df_test_valid['cgm_adj']).div(df_test_valid['cgm_adj']).count()\n",
    "mrd_ch3_test_retro = df_test_valid['retro_model_output_s3_calculateGlucose'].sub(df_test_valid['cgm_adj']).div(df_test_valid['cgm_adj']).mean()\n",
    "stdrd_ch3_test_retro = df_test_valid['retro_model_output_s3_calculateGlucose'].sub(df_test_valid['cgm_adj']).div(df_test_valid['cgm_adj']).std()\n",
    "mard_ch3_test_retro = df_test_valid['retro_model_output_s3_calculateGlucose'].sub(df_test_valid['cgm_adj']).div(df_test_valid['cgm_adj']).abs().mean()\n",
    "print(f'Test data for ch3 glucose by model today N = {n_ch3_test_today}, MRD = {mrd_ch3_test_today}, StdRD = {stdrd_ch3_test_today}, MARD = {mard_ch3_test_today}')\n",
    "print(f'Test data for ch3 glucose by selfcal N = {n_ch3_test_selfcal}, MRD = {mrd_ch3_test_selfcal}, StdRD = {stdrd_ch3_test_selfcal}, MARD = {mard_ch3_test_selfcal}')\n",
    "print(f'Test data for ch3 glucose by retro N = {n_ch3_test_retro}, MRD = {mrd_ch3_test_retro}, StdRD = {stdrd_ch3_test_retro}, MARD = {mard_ch3_test_retro}')"
   ]
  },
  {
   "cell_type": "code",
   "execution_count": 21,
   "metadata": {},
   "outputs": [
    {
     "name": "stdout",
     "output_type": "stream",
     "text": [
      "Max of predict_slope is 1.6267685359457844\n",
      "Min of predict_slope is -0.3747413285293933\n",
      "Max of predict_intercept is 65.35547185791862\n",
      "Min of predict_intercept is -98.32611815856805\n"
     ]
    },
    {
     "name": "stderr",
     "output_type": "stream",
     "text": [
      "C:\\Users\\lwang\\AppData\\Local\\Temp\\6\\ipykernel_33904\\1433483117.py:12: SettingWithCopyWarning:\n",
      "\n",
      "\n",
      "A value is trying to be set on a copy of a slice from a DataFrame.\n",
      "Try using .loc[row_indexer,col_indexer] = value instead\n",
      "\n",
      "See the caveats in the documentation: https://pandas.pydata.org/pandas-docs/stable/user_guide/indexing.html#returning-a-view-versus-a-copy\n",
      "\n"
     ]
    },
    {
     "name": "stdout",
     "output_type": "stream",
     "text": [
      "Training data for ch3 glucose by model today N = 184481, MRD = -0.06061756139038752, StdRD = 0.243333444744908, MARD = 0.18891265778366836\n",
      "Training data for ch3 glucose by selfcal N = 184481, MRD = 0.033869438205770805, StdRD = 2.5430273864071564, MARD = 0.24289013619807379\n",
      "Training data for ch3 glucose by retro N = 182978, MRD = 0.06433215033455573, StdRD = 0.2569939100484107, MARD = 0.1805645447857615\n",
      "Max of predict_slope is 1.5440547167378926\n",
      "Min of predict_slope is 0.4429913763244384\n",
      "Max of predict_intercept is 60.34792271033385\n",
      "Min of predict_intercept is -94.88913484658121\n",
      "Test data for ch3 glucose by model today N = 44042, MRD = -0.19906504226935867, StdRD = 0.23780076772625733, MARD = 0.24578955182041193\n",
      "Test data for ch3 glucose by selfcal N = 44042, MRD = -0.08586128640956067, StdRD = 0.30717056045159347, MARD = 0.24334041703498896\n",
      "Test data for ch3 glucose by retro N = 44042, MRD = 0.016434520366777505, StdRD = 0.24627390283988235, MARD = 0.1662716834610682\n"
     ]
    },
    {
     "name": "stderr",
     "output_type": "stream",
     "text": [
      "C:\\Users\\lwang\\AppData\\Local\\Temp\\6\\ipykernel_33904\\1433483117.py:38: SettingWithCopyWarning:\n",
      "\n",
      "\n",
      "A value is trying to be set on a copy of a slice from a DataFrame.\n",
      "Try using .loc[row_indexer,col_indexer] = value instead\n",
      "\n",
      "See the caveats in the documentation: https://pandas.pydata.org/pandas-docs/stable/user_guide/indexing.html#returning-a-view-versus-a-copy\n",
      "\n"
     ]
    }
   ],
   "source": [
    "df = df_orig[all_cols].copy()\n",
    "\n",
    "df_train_ysi = df.loc[training_index]\n",
    "x_train_ysi = df_train_ysi[feature_col]\n",
    "x_train_ysi_norm = min_max_scaler.transform(x_train_ysi)\n",
    "ch3_slope_train = self_cal_model_dict['self_cal_model_2'].predict(x_train_ysi_norm)\n",
    "print(f'Max of predict_slope is {ch3_slope_train.max()}')\n",
    "print(f'Min of predict_slope is {ch3_slope_train.min()}')\n",
    "ch3_intercept_train = self_cal_model_dict['self_cal_model_3'].predict(x_train_ysi_norm)\n",
    "print(f'Max of predict_intercept is {ch3_intercept_train.max()}')\n",
    "print(f'Min of predict_intercept is {ch3_intercept_train.min()}')\n",
    "df_train_ysi['model_output_s3_selfcal'] = df_train_ysi['model_output_s3_calculateGlucose'].sub(ch3_intercept_train).div(ch3_slope_train)\n",
    "n_ch3_train_today = df_train_ysi['model_output_s3_calculateGlucose'].sub(df_train_ysi['ysi']).div(df_train_ysi['ysi']).count()\n",
    "mrd_ch3_train_today = df_train_ysi['model_output_s3_calculateGlucose'].sub(df_train_ysi['ysi']).div(df_train_ysi['ysi']).mean()\n",
    "stdrd_ch3_train_today = df_train_ysi['model_output_s3_calculateGlucose'].sub(df_train_ysi['ysi']).div(df_train_ysi['ysi']).std()\n",
    "mard_ch3_train_today = df_train_ysi['model_output_s3_calculateGlucose'].sub(df_train_ysi['ysi']).div(df_train_ysi['ysi']).abs().mean()\n",
    "n_ch3_train_selfcal = df_train_ysi['model_output_s3_selfcal'].sub(df_train_ysi['ysi']).div(df_train_ysi['ysi']).count()\n",
    "mrd_ch3_train_selfcal = df_train_ysi['model_output_s3_selfcal'].sub(df_train_ysi['ysi']).div(df_train_ysi['ysi']).mean()\n",
    "stdrd_ch3_train_selfcal = df_train_ysi['model_output_s3_selfcal'].sub(df_train_ysi['ysi']).div(df_train_ysi['ysi']).std()\n",
    "mard_ch3_train_selfcal = df_train_ysi['model_output_s3_selfcal'].sub(df_train_ysi['ysi']).div(df_train_ysi['ysi']).abs().mean()\n",
    "n_ch3_train_retro = df_train_ysi['retro_model_output_s3_calculateGlucose'].sub(df_train_ysi['ysi']).div(df_train_ysi['ysi']).count()\n",
    "mrd_ch3_train_retro = df_train_ysi['retro_model_output_s3_calculateGlucose'].sub(df_train_ysi['ysi']).div(df_train_ysi['ysi']).mean()\n",
    "stdrd_ch3_train_retro = df_train_ysi['retro_model_output_s3_calculateGlucose'].sub(df_train_ysi['ysi']).div(df_train_ysi['ysi']).std()\n",
    "mard_ch3_train_retro = df_train_ysi['retro_model_output_s3_calculateGlucose'].sub(df_train_ysi['ysi']).div(df_train_ysi['ysi']).abs().mean()\n",
    "print(f'Training data for ch3 glucose by model today N = {n_ch3_train_today}, MRD = {mrd_ch3_train_today}, StdRD = {stdrd_ch3_train_today}, MARD = {mard_ch3_train_today}')\n",
    "print(f'Training data for ch3 glucose by selfcal N = {n_ch3_train_selfcal}, MRD = {mrd_ch3_train_selfcal}, StdRD = {stdrd_ch3_train_selfcal}, MARD = {mard_ch3_train_selfcal}')\n",
    "print(f'Training data for ch3 glucose by retro N = {n_ch3_train_retro}, MRD = {mrd_ch3_train_retro}, StdRD = {stdrd_ch3_train_retro}, MARD = {mard_ch3_train_retro}')\n",
    "\n",
    "df_test_ysi = df.loc[test_index]\n",
    "x_test_ysi = df_test_ysi[feature_col]\n",
    "x_test_ysi_norm = min_max_scaler.transform(x_test_ysi)\n",
    "ch3_slope_test = self_cal_model_dict['self_cal_model_2'].predict(x_test_ysi_norm)\n",
    "print(f'Max of predict_slope is {ch3_slope_test.max()}')\n",
    "print(f'Min of predict_slope is {ch3_slope_test.min()}')\n",
    "ch3_intercept_test = self_cal_model_dict['self_cal_model_3'].predict(x_test_ysi_norm)\n",
    "print(f'Max of predict_intercept is {ch3_intercept_test.max()}')\n",
    "print(f'Min of predict_intercept is {ch3_intercept_test.min()}')\n",
    "df_test_ysi['model_output_s3_selfcal'] = df_test_ysi['model_output_s3_calculateGlucose'].sub(ch3_intercept_test).div(ch3_slope_test)\n",
    "n_ch3_test_today = df_test_ysi['model_output_s3_calculateGlucose'].sub(df_test_ysi['ysi']).div(df_test_ysi['ysi']).count()\n",
    "mrd_ch3_test_today = df_test_ysi['model_output_s3_calculateGlucose'].sub(df_test_ysi['ysi']).div(df_test_ysi['ysi']).mean()\n",
    "stdrd_ch3_test_today = df_test_ysi['model_output_s3_calculateGlucose'].sub(df_test_ysi['ysi']).div(df_test_ysi['ysi']).std()\n",
    "mard_ch3_test_today = df_test_ysi['model_output_s3_calculateGlucose'].sub(df_test_ysi['ysi']).div(df_test_ysi['ysi']).abs().mean()\n",
    "n_ch3_test_selfcal = df_test_ysi['model_output_s3_selfcal'].sub(df_test_ysi['ysi']).div(df_test_ysi['ysi']).count()\n",
    "mrd_ch3_test_selfcal = df_test_ysi['model_output_s3_selfcal'].sub(df_test_ysi['ysi']).div(df_test_ysi['ysi']).mean()\n",
    "stdrd_ch3_test_selfcal = df_test_ysi['model_output_s3_selfcal'].sub(df_test_ysi['ysi']).div(df_test_ysi['ysi']).std()\n",
    "mard_ch3_test_selfcal = df_test_ysi['model_output_s3_selfcal'].sub(df_test_ysi['ysi']).div(df_test_ysi['ysi']).abs().mean()\n",
    "n_ch3_test_retro = df_test_ysi['retro_model_output_s3_calculateGlucose'].sub(df_test_ysi['ysi']).div(df_test_ysi['ysi']).count()\n",
    "mrd_ch3_test_retro = df_test_ysi['retro_model_output_s3_calculateGlucose'].sub(df_test_ysi['ysi']).div(df_test_ysi['ysi']).mean()\n",
    "stdrd_ch3_test_retro = df_test_ysi['retro_model_output_s3_calculateGlucose'].sub(df_test_ysi['ysi']).div(df_test_ysi['ysi']).std()\n",
    "mard_ch3_test_retro = df_test_ysi['retro_model_output_s3_calculateGlucose'].sub(df_test_ysi['ysi']).div(df_test_ysi['ysi']).abs().mean()\n",
    "print(f'Test data for ch3 glucose by model today N = {n_ch3_test_today}, MRD = {mrd_ch3_test_today}, StdRD = {stdrd_ch3_test_today}, MARD = {mard_ch3_test_today}')\n",
    "print(f'Test data for ch3 glucose by selfcal N = {n_ch3_test_selfcal}, MRD = {mrd_ch3_test_selfcal}, StdRD = {stdrd_ch3_test_selfcal}, MARD = {mard_ch3_test_selfcal}')\n",
    "print(f'Test data for ch3 glucose by retro N = {n_ch3_test_retro}, MRD = {mrd_ch3_test_retro}, StdRD = {stdrd_ch3_test_retro}, MARD = {mard_ch3_test_retro}')"
   ]
  },
  {
   "cell_type": "code",
   "execution_count": 22,
   "metadata": {},
   "outputs": [
    {
     "name": "stdout",
     "output_type": "stream",
     "text": [
      "Max of predict_slope is 1.6267685359457844\n",
      "Min of predict_slope is -0.3747413285293933\n",
      "Max of predict_intercept is 65.35547185791862\n",
      "Min of predict_intercept is -98.32611815856805\n"
     ]
    },
    {
     "name": "stderr",
     "output_type": "stream",
     "text": [
      "C:\\Users\\lwang\\AppData\\Local\\Temp\\6\\ipykernel_33904\\3716981306.py:13: SettingWithCopyWarning:\n",
      "\n",
      "\n",
      "A value is trying to be set on a copy of a slice from a DataFrame.\n",
      "Try using .loc[row_indexer,col_indexer] = value instead\n",
      "\n",
      "See the caveats in the documentation: https://pandas.pydata.org/pandas-docs/stable/user_guide/indexing.html#returning-a-view-versus-a-copy\n",
      "\n"
     ]
    },
    {
     "name": "stdout",
     "output_type": "stream",
     "text": [
      "Training data for ch3 glucose by model today N = 170165, MRD = -0.044991986603038624, StdRD = 0.2169094762155451, MARD = 0.17175209004653236\n",
      "Training data for ch3 glucose by selfcal N = 170165, MRD = 0.049998241640354546, StdRD = 2.585891327662774, MARD = 0.22703017841896164\n",
      "Training data for ch3 glucose by retro N = 182978, MRD = 0.06433215033455573, StdRD = 0.2569939100484107, MARD = 0.1805645447857615\n",
      "Max of predict_slope is 1.5440547167378926\n",
      "Min of predict_slope is 0.4429913763244384\n",
      "Max of predict_intercept is 60.34792271033385\n",
      "Min of predict_intercept is -94.88913484658121\n",
      "Test data for ch3 glucose by model today N = 39212, MRD = -0.16502821194444553, StdRD = 0.1989722072246235, MARD = 0.21350310744063591\n",
      "Test data for ch3 glucose by selfcal N = 39212, MRD = -0.05341978494591062, StdRD = 0.28748697087205194, MARD = 0.22211546208728977\n",
      "Test data for ch3 glucose by retro N = 44042, MRD = 0.016434520366777505, StdRD = 0.24627390283988235, MARD = 0.1662716834610682\n"
     ]
    },
    {
     "name": "stderr",
     "output_type": "stream",
     "text": [
      "C:\\Users\\lwang\\AppData\\Local\\Temp\\6\\ipykernel_33904\\3716981306.py:39: SettingWithCopyWarning:\n",
      "\n",
      "\n",
      "A value is trying to be set on a copy of a slice from a DataFrame.\n",
      "Try using .loc[row_indexer,col_indexer] = value instead\n",
      "\n",
      "See the caveats in the documentation: https://pandas.pydata.org/pandas-docs/stable/user_guide/indexing.html#returning-a-view-versus-a-copy\n",
      "\n"
     ]
    }
   ],
   "source": [
    "df = df_orig[all_cols].copy()\n",
    "\n",
    "df_test_ysi = df.loc[training_index]\n",
    "x_train_ysi = df_test_ysi[feature_col]\n",
    "x_train_ysi_norm = min_max_scaler.transform(x_train_ysi)\n",
    "\n",
    "ch3_slope_train = self_cal_model_dict['self_cal_model_2'].predict(x_train_ysi_norm)\n",
    "print(f'Max of predict_slope is {ch3_slope_train.max()}')\n",
    "print(f'Min of predict_slope is {ch3_slope_train.min()}')\n",
    "ch3_intercept_train = self_cal_model_dict['self_cal_model_3'].predict(x_train_ysi_norm)\n",
    "print(f'Max of predict_intercept is {ch3_intercept_train.max()}')\n",
    "print(f'Min of predict_intercept is {ch3_intercept_train.min()}')\n",
    "df_test_ysi['biolinq_s3_selfcal'] = df_test_ysi['biolinq_s3_channelFaultDetection'].sub(ch3_intercept_train).div(ch3_slope_train)\n",
    "n_ch3_train_today = df_test_ysi['biolinq_s3_channelFaultDetection'].sub(df_test_ysi['ysi']).div(df_test_ysi['ysi']).count()\n",
    "mrd_ch3_train_today = df_test_ysi['biolinq_s3_channelFaultDetection'].sub(df_test_ysi['ysi']).div(df_test_ysi['ysi']).mean()\n",
    "stdrd_ch3_train_today = df_test_ysi['biolinq_s3_channelFaultDetection'].sub(df_test_ysi['ysi']).div(df_test_ysi['ysi']).std()\n",
    "mard_ch3_train_today = df_test_ysi['biolinq_s3_channelFaultDetection'].sub(df_test_ysi['ysi']).div(df_test_ysi['ysi']).abs().mean()\n",
    "n_ch3_train_selfcal = df_test_ysi['biolinq_s3_selfcal'].sub(df_test_ysi['ysi']).div(df_test_ysi['ysi']).count()\n",
    "mrd_ch3_train_selfcal = df_test_ysi['biolinq_s3_selfcal'].sub(df_test_ysi['ysi']).div(df_test_ysi['ysi']).mean()\n",
    "stdrd_ch3_train_selfcal = df_test_ysi['biolinq_s3_selfcal'].sub(df_test_ysi['ysi']).div(df_test_ysi['ysi']).std()\n",
    "mard_ch3_train_selfcal = df_test_ysi['biolinq_s3_selfcal'].sub(df_test_ysi['ysi']).div(df_test_ysi['ysi']).abs().mean()\n",
    "n_ch3_train_retro = df_test_ysi['retro_model_output_s3_calculateGlucose'].sub(df_test_ysi['ysi']).div(df_test_ysi['ysi']).count()\n",
    "mrd_ch3_train_retro = df_test_ysi['retro_model_output_s3_calculateGlucose'].sub(df_test_ysi['ysi']).div(df_test_ysi['ysi']).mean()\n",
    "stdrd_ch3_train_retro = df_test_ysi['retro_model_output_s3_calculateGlucose'].sub(df_test_ysi['ysi']).div(df_test_ysi['ysi']).std()\n",
    "mard_ch3_train_retro = df_test_ysi['retro_model_output_s3_calculateGlucose'].sub(df_test_ysi['ysi']).div(df_test_ysi['ysi']).abs().mean()\n",
    "print(f'Training data for ch3 glucose by model today N = {n_ch3_train_today}, MRD = {mrd_ch3_train_today}, StdRD = {stdrd_ch3_train_today}, MARD = {mard_ch3_train_today}')\n",
    "print(f'Training data for ch3 glucose by selfcal N = {n_ch3_train_selfcal}, MRD = {mrd_ch3_train_selfcal}, StdRD = {stdrd_ch3_train_selfcal}, MARD = {mard_ch3_train_selfcal}')\n",
    "print(f'Training data for ch3 glucose by retro N = {n_ch3_train_retro}, MRD = {mrd_ch3_train_retro}, StdRD = {stdrd_ch3_train_retro}, MARD = {mard_ch3_train_retro}')\n",
    "\n",
    "df_test_ysi = df.loc[test_index]\n",
    "x_test_ysi = df_test_ysi[feature_col]\n",
    "x_test_ysi_norm = min_max_scaler.transform(x_test_ysi)\n",
    "ch3_slope_test = self_cal_model_dict['self_cal_model_2'].predict(x_test_ysi_norm)\n",
    "print(f'Max of predict_slope is {ch3_slope_test.max()}')\n",
    "print(f'Min of predict_slope is {ch3_slope_test.min()}')\n",
    "ch3_intercept_test = self_cal_model_dict['self_cal_model_3'].predict(x_test_ysi_norm)\n",
    "print(f'Max of predict_intercept is {ch3_intercept_test.max()}')\n",
    "print(f'Min of predict_intercept is {ch3_intercept_test.min()}')\n",
    "df_test_ysi['biolinq_s3_selfcal'] = df_test_ysi['biolinq_s3_channelFaultDetection'].sub(ch3_intercept_test).div(ch3_slope_test)\n",
    "n_ch3_test_today = df_test_ysi['biolinq_s3_channelFaultDetection'].sub(df_test_ysi['ysi']).div(df_test_ysi['ysi']).count()\n",
    "mrd_ch3_test_today = df_test_ysi['biolinq_s3_channelFaultDetection'].sub(df_test_ysi['ysi']).div(df_test_ysi['ysi']).mean()\n",
    "stdrd_ch3_test_today = df_test_ysi['biolinq_s3_channelFaultDetection'].sub(df_test_ysi['ysi']).div(df_test_ysi['ysi']).std()\n",
    "mard_ch3_test_today = df_test_ysi['biolinq_s3_channelFaultDetection'].sub(df_test_ysi['ysi']).div(df_test_ysi['ysi']).abs().mean()\n",
    "n_ch3_test_selfcal = df_test_ysi['biolinq_s3_selfcal'].sub(df_test_ysi['ysi']).div(df_test_ysi['ysi']).count()\n",
    "mrd_ch3_test_selfcal = df_test_ysi['biolinq_s3_selfcal'].sub(df_test_ysi['ysi']).div(df_test_ysi['ysi']).mean()\n",
    "stdrd_ch3_test_selfcal = df_test_ysi['biolinq_s3_selfcal'].sub(df_test_ysi['ysi']).div(df_test_ysi['ysi']).std()\n",
    "mard_ch3_test_selfcal = df_test_ysi['biolinq_s3_selfcal'].sub(df_test_ysi['ysi']).div(df_test_ysi['ysi']).abs().mean()\n",
    "n_ch3_test_retro = df_test_ysi['retro_model_output_s3_calculateGlucose'].sub(df_test_ysi['ysi']).div(df_test_ysi['ysi']).count()\n",
    "mrd_ch3_test_retro = df_test_ysi['retro_model_output_s3_calculateGlucose'].sub(df_test_ysi['ysi']).div(df_test_ysi['ysi']).mean()\n",
    "stdrd_ch3_test_retro = df_test_ysi['retro_model_output_s3_calculateGlucose'].sub(df_test_ysi['ysi']).div(df_test_ysi['ysi']).std()\n",
    "mard_ch3_test_retro = df_test_ysi['retro_model_output_s3_calculateGlucose'].sub(df_test_ysi['ysi']).div(df_test_ysi['ysi']).abs().mean()\n",
    "print(f'Test data for ch3 glucose by model today N = {n_ch3_test_today}, MRD = {mrd_ch3_test_today}, StdRD = {stdrd_ch3_test_today}, MARD = {mard_ch3_test_today}')\n",
    "print(f'Test data for ch3 glucose by selfcal N = {n_ch3_test_selfcal}, MRD = {mrd_ch3_test_selfcal}, StdRD = {stdrd_ch3_test_selfcal}, MARD = {mard_ch3_test_selfcal}')\n",
    "print(f'Test data for ch3 glucose by retro N = {n_ch3_test_retro}, MRD = {mrd_ch3_test_retro}, StdRD = {stdrd_ch3_test_retro}, MARD = {mard_ch3_test_retro}')"
   ]
  },
  {
   "cell_type": "code",
   "execution_count": 23,
   "metadata": {},
   "outputs": [
    {
     "data": {
      "text/plain": [
       "[-0.3747413285293933,\n",
       " 1.6267685359457844,\n",
       " -98.32611815856805,\n",
       " 65.35547185791862,\n",
       " 0.4429913763244384,\n",
       " 1.5440547167378926,\n",
       " -94.88913484658121,\n",
       " 60.34792271033385]"
      ]
     },
     "execution_count": 23,
     "metadata": {},
     "output_type": "execute_result"
    }
   ],
   "source": [
    "[ch3_slope_train.min(),\n",
    "ch3_slope_train.max(),\n",
    "ch3_intercept_train.min(),\n",
    "ch3_intercept_train.max(),\n",
    "ch3_slope_test.min(),\n",
    "ch3_slope_test.max(),\n",
    "ch3_intercept_test.min(),\n",
    "ch3_intercept_test.max()]"
   ]
  },
  {
   "cell_type": "code",
   "execution_count": 24,
   "metadata": {},
   "outputs": [
    {
     "name": "stdout",
     "output_type": "stream",
     "text": [
      "Optimizing parameter 4\n",
      "Max of predict_slope is 1.8983011168759636\n",
      "Min of predict_slope is 0.5086272669597429\n",
      "The model today has MSE=0.07027385889051589\n",
      "The self cal model has MSE=0.044172600365351804\n",
      "Max of predict_slope_test is 1.344316720740134\n",
      "Min of predict_slope_test is 0.450869801356102\n",
      "The model today on test has MSE=0.07583450104308291\n",
      "The self cal model on test has MSE=0.04844089701946498\n"
     ]
    }
   ],
   "source": [
    "# For channel 4 slope\n",
    "i = 4\n",
    "print(f'Optimizing parameter {i}')\n",
    "self_cal_model = MLPRegressor(hidden_layer_sizes=(10,10,10,1),activation='logistic',solver='adam',alpha=5e-4,max_iter=int(1e4),tol=1e-4,learning_rate='adaptive',random_state=20140806)\n",
    "self_cal_model.fit(x_train_norm,y_train[:,i])\n",
    "predict_slope = self_cal_model.predict(x_train_norm)\n",
    "print(f'Max of predict_slope is {predict_slope.max()}')\n",
    "print(f'Min of predict_slope is {predict_slope.min()}')\n",
    "# predict_slope[predict_slope<0.12] = 1\n",
    "# predict_slope[predict_slope>2.4] = 1\n",
    "mse_train_selfcal = np.mean((predict_slope - y_train[:,i])**2)\n",
    "mse_train_today = np.mean((1-y_train[:,i])**2)\n",
    "print(f'The model today has MSE={mse_train_today}')\n",
    "print(f'The self cal model has MSE={mse_train_selfcal}')\n",
    "\n",
    "predict_slope_test = self_cal_model.predict(x_test_norm)\n",
    "print(f'Max of predict_slope_test is {predict_slope_test.max()}')\n",
    "print(f'Min of predict_slope_test is {predict_slope_test.min()}')\n",
    "# predict_slope_test[predict_slope_test<0.12] = 1\n",
    "# predict_slope_test[predict_slope_test>2.4] = 1    \n",
    "mse_test_selfcal = np.mean((predict_slope_test - y_test[:,i])**2)\n",
    "mse_test_today = np.mean((1-y_test[:,i])**2)\n",
    "print(f'The model today on test has MSE={mse_test_today}')\n",
    "print(f'The self cal model on test has MSE={mse_test_selfcal}')\n",
    "self_cal_model_dict[f'self_cal_model_{i}'] = self_cal_model"
   ]
  },
  {
   "cell_type": "code",
   "execution_count": 25,
   "metadata": {},
   "outputs": [
    {
     "name": "stdout",
     "output_type": "stream",
     "text": [
      "Optimizing parameter 5\n",
      "Max of predict_intercept is 16.834344364377174\n",
      "Min of predict_intercept is -33.43589769809133\n",
      "The model today has MSE=642.8480669047087\n",
      "The self cal model has MSE=312.860982501751\n",
      "Max of predict_intercept_test is 16.834344364378026\n",
      "Min of predict_intercept_test is -33.43589593317621\n",
      "The model today on test has MSE=602.6277479771732\n",
      "The self cal model on test has MSE=814.6611812279725\n"
     ]
    }
   ],
   "source": [
    "# For channel 4 intercept\n",
    "i = 5\n",
    "print(f'Optimizing parameter {i}')\n",
    "self_cal_model = MLPRegressor(hidden_layer_sizes=(10,10,10,1),activation='logistic',solver='adam',alpha=5e-4,max_iter=int(1e4),tol=1e-4,learning_rate='adaptive',random_state=20140806)\n",
    "self_cal_model.fit(x_train_norm,y_train[:,i])\n",
    "predict_intercept = self_cal_model.predict(x_train_norm)\n",
    "print(f'Max of predict_intercept is {predict_intercept.max()}')\n",
    "print(f'Min of predict_intercept is {predict_intercept.min()}')    \n",
    "# predict_intercept[predict_intercept<-100] = 0\n",
    "# predict_intercept[predict_intercept>100] = 0   \n",
    "mse_train_selfcal = np.mean((predict_intercept - y_train[:,i])**2)\n",
    "mse_train_today = np.mean(y_train[:,i]**2)\n",
    "print(f'The model today has MSE={mse_train_today}')\n",
    "print(f'The self cal model has MSE={mse_train_selfcal}')\n",
    "\n",
    "predict_intercept_test = self_cal_model.predict(x_test_norm)\n",
    "print(f'Max of predict_intercept_test is {predict_intercept_test.max()}')\n",
    "print(f'Min of predict_intercept_test is {predict_intercept_test.min()}')    \n",
    "# predict_intercept_test[predict_intercept_test<-100] = 0\n",
    "# predict_intercept_test[predict_intercept_test>100] = 0     \n",
    "mse_test_selfcal = np.mean((predict_intercept_test - y_test[:,i])**2)\n",
    "mse_test_today = np.mean(y_test[:,i]**2)\n",
    "print(f'The model today on test has MSE={mse_test_today}')\n",
    "print(f'The self cal model on test has MSE={mse_test_selfcal}')\n",
    "self_cal_model_dict[f'self_cal_model_{i}'] = self_cal_model"
   ]
  },
  {
   "cell_type": "code",
   "execution_count": 26,
   "metadata": {},
   "outputs": [
    {
     "name": "stdout",
     "output_type": "stream",
     "text": [
      "Max of predict_slope is 1.8983011168759636\n",
      "Min of predict_slope is 0.5086272669597429\n",
      "Max of predict_intercept is 16.834344364377174\n",
      "Min of predict_intercept is -33.43589769809133\n",
      "Training data for ch4 glucose by model today N = 3683418, MRD = -0.033679562986087215, StdRD = 0.29566973010287495, MARD = 0.21815429839098344\n",
      "Training data for ch4 glucose by selfcal N = 3683418, MRD = -0.027012302026538818, StdRD = 0.2827098746848216, MARD = 0.2095471343568962\n",
      "Training data for ch4 glucose by retro N = 3683418, MRD = -0.007260714811320242, StdRD = 0.23788755735666078, MARD = 0.15668256895021226\n",
      "Max of predict_slope is 1.344316720740134\n",
      "Min of predict_slope is 0.450869801356102\n",
      "Max of predict_intercept is 16.834344364378026\n",
      "Min of predict_intercept is -33.43589593317621\n",
      "Test data for ch4 glucose by model today N = 701247, MRD = -0.1829878192118541, StdRD = 0.26413065526251656, MARD = 0.25599612308042957\n",
      "Test data for ch4 glucose by selfcal N = 701247, MRD = -0.12479172231742111, StdRD = 0.2992780620494711, MARD = 0.23151444219155912\n",
      "Test data for ch4 glucose by retro N = 701247, MRD = -0.03295644888145239, StdRD = 0.2368186041018947, MARD = 0.16571001743572805\n"
     ]
    }
   ],
   "source": [
    "ch4_slope_train = self_cal_model_dict['self_cal_model_4'].predict(x_train_norm)\n",
    "print(f'Max of predict_slope is {ch4_slope_train.max()}')\n",
    "print(f'Min of predict_slope is {ch4_slope_train.min()}')\n",
    "ch4_intercept_train = self_cal_model_dict['self_cal_model_5'].predict(x_train_norm)\n",
    "print(f'Max of predict_intercept is {ch4_intercept_train.max()}')\n",
    "print(f'Min of predict_intercept is {ch4_intercept_train.min()}')\n",
    "df_training_valid['model_output_s4_selfcal'] = df_training_valid['model_output_s4_calculateGlucose'].sub(ch4_intercept_train).div(ch4_slope_train)\n",
    "n_ch4_train_today = df_training_valid['model_output_s4_calculateGlucose'].sub(df_training_valid['cgm_adj']).div(df_training_valid['cgm_adj']).count()\n",
    "mrd_ch4_train_today = df_training_valid['model_output_s4_calculateGlucose'].sub(df_training_valid['cgm_adj']).div(df_training_valid['cgm_adj']).mean()\n",
    "stdrd_ch4_train_today = df_training_valid['model_output_s4_calculateGlucose'].sub(df_training_valid['cgm_adj']).div(df_training_valid['cgm_adj']).std()\n",
    "mard_ch4_train_today = df_training_valid['model_output_s4_calculateGlucose'].sub(df_training_valid['cgm_adj']).div(df_training_valid['cgm_adj']).abs().mean()\n",
    "n_ch4_train_selfcal = df_training_valid['model_output_s4_selfcal'].sub(df_training_valid['cgm_adj']).div(df_training_valid['cgm_adj']).count()\n",
    "mrd_ch4_train_selfcal = df_training_valid['model_output_s4_selfcal'].sub(df_training_valid['cgm_adj']).div(df_training_valid['cgm_adj']).mean()\n",
    "stdrd_ch4_train_selfcal = df_training_valid['model_output_s4_selfcal'].sub(df_training_valid['cgm_adj']).div(df_training_valid['cgm_adj']).std()\n",
    "mard_ch4_train_selfcal = df_training_valid['model_output_s4_selfcal'].sub(df_training_valid['cgm_adj']).div(df_training_valid['cgm_adj']).abs().mean()\n",
    "n_ch4_train_retro = df_training_valid['retro_model_output_s4_calculateGlucose'].sub(df_training_valid['cgm_adj']).div(df_training_valid['cgm_adj']).count()\n",
    "mrd_ch4_train_retro = df_training_valid['retro_model_output_s4_calculateGlucose'].sub(df_training_valid['cgm_adj']).div(df_training_valid['cgm_adj']).mean()\n",
    "stdrd_ch4_train_retro = df_training_valid['retro_model_output_s4_calculateGlucose'].sub(df_training_valid['cgm_adj']).div(df_training_valid['cgm_adj']).std()\n",
    "mard_ch4_train_retro = df_training_valid['retro_model_output_s4_calculateGlucose'].sub(df_training_valid['cgm_adj']).div(df_training_valid['cgm_adj']).abs().mean()\n",
    "print(f'Training data for ch4 glucose by model today N = {n_ch4_train_today}, MRD = {mrd_ch4_train_today}, StdRD = {stdrd_ch4_train_today}, MARD = {mard_ch4_train_today}')\n",
    "print(f'Training data for ch4 glucose by selfcal N = {n_ch4_train_selfcal}, MRD = {mrd_ch4_train_selfcal}, StdRD = {stdrd_ch4_train_selfcal}, MARD = {mard_ch4_train_selfcal}')\n",
    "print(f'Training data for ch4 glucose by retro N = {n_ch4_train_retro}, MRD = {mrd_ch4_train_retro}, StdRD = {stdrd_ch4_train_retro}, MARD = {mard_ch4_train_retro}')\n",
    "\n",
    "ch4_slope_test = self_cal_model_dict['self_cal_model_4'].predict(x_test_norm)\n",
    "print(f'Max of predict_slope is {ch4_slope_test.max()}')\n",
    "print(f'Min of predict_slope is {ch4_slope_test.min()}')\n",
    "ch4_intercept_test = self_cal_model_dict['self_cal_model_5'].predict(x_test_norm)\n",
    "print(f'Max of predict_intercept is {ch4_intercept_test.max()}')\n",
    "print(f'Min of predict_intercept is {ch4_intercept_test.min()}')\n",
    "df_test_valid['model_output_s4_selfcal'] = df_test_valid['model_output_s4_calculateGlucose'].sub(ch4_intercept_test).div(ch4_slope_test)\n",
    "n_ch4_test_today = df_test_valid['model_output_s4_calculateGlucose'].sub(df_test_valid['cgm_adj']).div(df_test_valid['cgm_adj']).count()\n",
    "mrd_ch4_test_today = df_test_valid['model_output_s4_calculateGlucose'].sub(df_test_valid['cgm_adj']).div(df_test_valid['cgm_adj']).mean()\n",
    "stdrd_ch4_test_today = df_test_valid['model_output_s4_calculateGlucose'].sub(df_test_valid['cgm_adj']).div(df_test_valid['cgm_adj']).std()\n",
    "mard_ch4_test_today = df_test_valid['model_output_s4_calculateGlucose'].sub(df_test_valid['cgm_adj']).div(df_test_valid['cgm_adj']).abs().mean()\n",
    "n_ch4_test_selfcal = df_test_valid['model_output_s4_selfcal'].sub(df_test_valid['cgm_adj']).div(df_test_valid['cgm_adj']).count()\n",
    "mrd_ch4_test_selfcal = df_test_valid['model_output_s4_selfcal'].sub(df_test_valid['cgm_adj']).div(df_test_valid['cgm_adj']).mean()\n",
    "stdrd_ch4_test_selfcal = df_test_valid['model_output_s4_selfcal'].sub(df_test_valid['cgm_adj']).div(df_test_valid['cgm_adj']).std()\n",
    "mard_ch4_test_selfcal = df_test_valid['model_output_s4_selfcal'].sub(df_test_valid['cgm_adj']).div(df_test_valid['cgm_adj']).abs().mean()\n",
    "n_ch4_test_retro = df_test_valid['retro_model_output_s4_calculateGlucose'].sub(df_test_valid['cgm_adj']).div(df_test_valid['cgm_adj']).count()\n",
    "mrd_ch4_test_retro = df_test_valid['retro_model_output_s4_calculateGlucose'].sub(df_test_valid['cgm_adj']).div(df_test_valid['cgm_adj']).mean()\n",
    "stdrd_ch4_test_retro = df_test_valid['retro_model_output_s4_calculateGlucose'].sub(df_test_valid['cgm_adj']).div(df_test_valid['cgm_adj']).std()\n",
    "mard_ch4_test_retro = df_test_valid['retro_model_output_s4_calculateGlucose'].sub(df_test_valid['cgm_adj']).div(df_test_valid['cgm_adj']).abs().mean()\n",
    "print(f'Test data for ch4 glucose by model today N = {n_ch4_test_today}, MRD = {mrd_ch4_test_today}, StdRD = {stdrd_ch4_test_today}, MARD = {mard_ch4_test_today}')\n",
    "print(f'Test data for ch4 glucose by selfcal N = {n_ch4_test_selfcal}, MRD = {mrd_ch4_test_selfcal}, StdRD = {stdrd_ch4_test_selfcal}, MARD = {mard_ch4_test_selfcal}')\n",
    "print(f'Test data for ch4 glucose by retro N = {n_ch4_test_retro}, MRD = {mrd_ch4_test_retro}, StdRD = {stdrd_ch4_test_retro}, MARD = {mard_ch4_test_retro}')"
   ]
  },
  {
   "cell_type": "code",
   "execution_count": 27,
   "metadata": {},
   "outputs": [
    {
     "name": "stdout",
     "output_type": "stream",
     "text": [
      "Max of predict_slope is 2.7750485207071933\n",
      "Min of predict_slope is 0.2239018197824201\n",
      "Max of predict_intercept is 16.834344364378047\n",
      "Min of predict_intercept is -33.43589769809133\n"
     ]
    },
    {
     "name": "stderr",
     "output_type": "stream",
     "text": [
      "C:\\Users\\lwang\\AppData\\Local\\Temp\\6\\ipykernel_33904\\2843018395.py:12: SettingWithCopyWarning:\n",
      "\n",
      "\n",
      "A value is trying to be set on a copy of a slice from a DataFrame.\n",
      "Try using .loc[row_indexer,col_indexer] = value instead\n",
      "\n",
      "See the caveats in the documentation: https://pandas.pydata.org/pandas-docs/stable/user_guide/indexing.html#returning-a-view-versus-a-copy\n",
      "\n"
     ]
    },
    {
     "name": "stdout",
     "output_type": "stream",
     "text": [
      "Training data for ch4 glucose by model today N = 184481, MRD = -0.005735204930328106, StdRD = 0.24809057191950848, MARD = 0.182932500706589\n",
      "Training data for ch4 glucose by selfcal N = 184481, MRD = 0.020104265440134755, StdRD = 0.2804691041503615, MARD = 0.20178063211234798\n",
      "Training data for ch4 glucose by retro N = 182978, MRD = 0.052945672894828204, StdRD = 0.23238008015546718, MARD = 0.16899180407373\n",
      "Max of predict_slope is 2.652774406942605\n",
      "Min of predict_slope is 0.38946015036209153\n",
      "Max of predict_intercept is 16.834344364378026\n",
      "Min of predict_intercept is -33.43589768495777\n",
      "Test data for ch4 glucose by model today N = 44042, MRD = -0.14730667663510766, StdRD = 0.2711408315224174, MARD = 0.23330688104352823\n",
      "Test data for ch4 glucose by selfcal N = 44042, MRD = -0.10758289457068813, StdRD = 0.29955184771235704, MARD = 0.23419112035521458\n",
      "Test data for ch4 glucose by retro N = 44042, MRD = 0.025645517108647282, StdRD = 0.2670910489119329, MARD = 0.17933103194737057\n"
     ]
    },
    {
     "name": "stderr",
     "output_type": "stream",
     "text": [
      "C:\\Users\\lwang\\AppData\\Local\\Temp\\6\\ipykernel_33904\\2843018395.py:38: SettingWithCopyWarning:\n",
      "\n",
      "\n",
      "A value is trying to be set on a copy of a slice from a DataFrame.\n",
      "Try using .loc[row_indexer,col_indexer] = value instead\n",
      "\n",
      "See the caveats in the documentation: https://pandas.pydata.org/pandas-docs/stable/user_guide/indexing.html#returning-a-view-versus-a-copy\n",
      "\n"
     ]
    }
   ],
   "source": [
    "df = df_orig[all_cols].copy()\n",
    "\n",
    "df_train_ysi = df.loc[training_index]\n",
    "x_train_ysi = df_train_ysi[feature_col]\n",
    "x_train_ysi_norm = min_max_scaler.transform(x_train_ysi)\n",
    "ch4_slope_train = self_cal_model_dict['self_cal_model_4'].predict(x_train_ysi_norm)\n",
    "print(f'Max of predict_slope is {ch4_slope_train.max()}')\n",
    "print(f'Min of predict_slope is {ch4_slope_train.min()}')\n",
    "ch4_intercept_train = self_cal_model_dict['self_cal_model_5'].predict(x_train_ysi_norm)\n",
    "print(f'Max of predict_intercept is {ch4_intercept_train.max()}')\n",
    "print(f'Min of predict_intercept is {ch4_intercept_train.min()}')\n",
    "df_train_ysi['model_output_s4_selfcal'] = df_train_ysi['model_output_s4_calculateGlucose'].sub(ch4_intercept_train).div(ch4_slope_train)\n",
    "n_ch4_train_today = df_train_ysi['model_output_s4_calculateGlucose'].sub(df_train_ysi['ysi']).div(df_train_ysi['ysi']).count()\n",
    "mrd_ch4_train_today = df_train_ysi['model_output_s4_calculateGlucose'].sub(df_train_ysi['ysi']).div(df_train_ysi['ysi']).mean()\n",
    "stdrd_ch4_train_today = df_train_ysi['model_output_s4_calculateGlucose'].sub(df_train_ysi['ysi']).div(df_train_ysi['ysi']).std()\n",
    "mard_ch4_train_today = df_train_ysi['model_output_s4_calculateGlucose'].sub(df_train_ysi['ysi']).div(df_train_ysi['ysi']).abs().mean()\n",
    "n_ch4_train_selfcal = df_train_ysi['model_output_s4_selfcal'].sub(df_train_ysi['ysi']).div(df_train_ysi['ysi']).count()\n",
    "mrd_ch4_train_selfcal = df_train_ysi['model_output_s4_selfcal'].sub(df_train_ysi['ysi']).div(df_train_ysi['ysi']).mean()\n",
    "stdrd_ch4_train_selfcal = df_train_ysi['model_output_s4_selfcal'].sub(df_train_ysi['ysi']).div(df_train_ysi['ysi']).std()\n",
    "mard_ch4_train_selfcal = df_train_ysi['model_output_s4_selfcal'].sub(df_train_ysi['ysi']).div(df_train_ysi['ysi']).abs().mean()\n",
    "n_ch4_train_retro = df_train_ysi['retro_model_output_s4_calculateGlucose'].sub(df_train_ysi['ysi']).div(df_train_ysi['ysi']).count()\n",
    "mrd_ch4_train_retro = df_train_ysi['retro_model_output_s4_calculateGlucose'].sub(df_train_ysi['ysi']).div(df_train_ysi['ysi']).mean()\n",
    "stdrd_ch4_train_retro = df_train_ysi['retro_model_output_s4_calculateGlucose'].sub(df_train_ysi['ysi']).div(df_train_ysi['ysi']).std()\n",
    "mard_ch4_train_retro = df_train_ysi['retro_model_output_s4_calculateGlucose'].sub(df_train_ysi['ysi']).div(df_train_ysi['ysi']).abs().mean()\n",
    "print(f'Training data for ch4 glucose by model today N = {n_ch4_train_today}, MRD = {mrd_ch4_train_today}, StdRD = {stdrd_ch4_train_today}, MARD = {mard_ch4_train_today}')\n",
    "print(f'Training data for ch4 glucose by selfcal N = {n_ch4_train_selfcal}, MRD = {mrd_ch4_train_selfcal}, StdRD = {stdrd_ch4_train_selfcal}, MARD = {mard_ch4_train_selfcal}')\n",
    "print(f'Training data for ch4 glucose by retro N = {n_ch4_train_retro}, MRD = {mrd_ch4_train_retro}, StdRD = {stdrd_ch4_train_retro}, MARD = {mard_ch4_train_retro}')\n",
    "\n",
    "df_test_ysi = df.loc[test_index]\n",
    "x_test_ysi = df_test_ysi[feature_col]\n",
    "x_test_ysi_norm = min_max_scaler.transform(x_test_ysi)\n",
    "ch4_slope_test = self_cal_model_dict['self_cal_model_4'].predict(x_test_ysi_norm)\n",
    "print(f'Max of predict_slope is {ch4_slope_test.max()}')\n",
    "print(f'Min of predict_slope is {ch4_slope_test.min()}')\n",
    "ch4_intercept_test = self_cal_model_dict['self_cal_model_5'].predict(x_test_ysi_norm)\n",
    "print(f'Max of predict_intercept is {ch4_intercept_test.max()}')\n",
    "print(f'Min of predict_intercept is {ch4_intercept_test.min()}')\n",
    "df_test_ysi['model_output_s4_selfcal'] = df_test_ysi['model_output_s4_calculateGlucose'].sub(ch4_intercept_test).div(ch4_slope_test)\n",
    "n_ch4_test_today = df_test_ysi['model_output_s4_calculateGlucose'].sub(df_test_ysi['ysi']).div(df_test_ysi['ysi']).count()\n",
    "mrd_ch4_test_today = df_test_ysi['model_output_s4_calculateGlucose'].sub(df_test_ysi['ysi']).div(df_test_ysi['ysi']).mean()\n",
    "stdrd_ch4_test_today = df_test_ysi['model_output_s4_calculateGlucose'].sub(df_test_ysi['ysi']).div(df_test_ysi['ysi']).std()\n",
    "mard_ch4_test_today = df_test_ysi['model_output_s4_calculateGlucose'].sub(df_test_ysi['ysi']).div(df_test_ysi['ysi']).abs().mean()\n",
    "n_ch4_test_selfcal = df_test_ysi['model_output_s4_selfcal'].sub(df_test_ysi['ysi']).div(df_test_ysi['ysi']).count()\n",
    "mrd_ch4_test_selfcal = df_test_ysi['model_output_s4_selfcal'].sub(df_test_ysi['ysi']).div(df_test_ysi['ysi']).mean()\n",
    "stdrd_ch4_test_selfcal = df_test_ysi['model_output_s4_selfcal'].sub(df_test_ysi['ysi']).div(df_test_ysi['ysi']).std()\n",
    "mard_ch4_test_selfcal = df_test_ysi['model_output_s4_selfcal'].sub(df_test_ysi['ysi']).div(df_test_ysi['ysi']).abs().mean()\n",
    "n_ch4_test_retro = df_test_ysi['retro_model_output_s4_calculateGlucose'].sub(df_test_ysi['ysi']).div(df_test_ysi['ysi']).count()\n",
    "mrd_ch4_test_retro = df_test_ysi['retro_model_output_s4_calculateGlucose'].sub(df_test_ysi['ysi']).div(df_test_ysi['ysi']).mean()\n",
    "stdrd_ch4_test_retro = df_test_ysi['retro_model_output_s4_calculateGlucose'].sub(df_test_ysi['ysi']).div(df_test_ysi['ysi']).std()\n",
    "mard_ch4_test_retro = df_test_ysi['retro_model_output_s4_calculateGlucose'].sub(df_test_ysi['ysi']).div(df_test_ysi['ysi']).abs().mean()\n",
    "print(f'Test data for ch4 glucose by model today N = {n_ch4_test_today}, MRD = {mrd_ch4_test_today}, StdRD = {stdrd_ch4_test_today}, MARD = {mard_ch4_test_today}')\n",
    "print(f'Test data for ch4 glucose by selfcal N = {n_ch4_test_selfcal}, MRD = {mrd_ch4_test_selfcal}, StdRD = {stdrd_ch4_test_selfcal}, MARD = {mard_ch4_test_selfcal}')\n",
    "print(f'Test data for ch4 glucose by retro N = {n_ch4_test_retro}, MRD = {mrd_ch4_test_retro}, StdRD = {stdrd_ch4_test_retro}, MARD = {mard_ch4_test_retro}')"
   ]
  },
  {
   "cell_type": "code",
   "execution_count": 28,
   "metadata": {},
   "outputs": [
    {
     "name": "stdout",
     "output_type": "stream",
     "text": [
      "Max of predict_slope is 2.7750485207071933\n",
      "Min of predict_slope is 0.2239018197824201\n",
      "Max of predict_intercept is 16.834344364378047\n",
      "Min of predict_intercept is -33.43589769809133\n"
     ]
    },
    {
     "name": "stderr",
     "output_type": "stream",
     "text": [
      "C:\\Users\\lwang\\AppData\\Local\\Temp\\6\\ipykernel_33904\\789112783.py:13: SettingWithCopyWarning:\n",
      "\n",
      "\n",
      "A value is trying to be set on a copy of a slice from a DataFrame.\n",
      "Try using .loc[row_indexer,col_indexer] = value instead\n",
      "\n",
      "See the caveats in the documentation: https://pandas.pydata.org/pandas-docs/stable/user_guide/indexing.html#returning-a-view-versus-a-copy\n",
      "\n"
     ]
    },
    {
     "name": "stdout",
     "output_type": "stream",
     "text": [
      "Training data for ch4 glucose by model today N = 173504, MRD = 0.010087768483269985, StdRD = 0.21918615896264948, MARD = 0.16645986629456955\n",
      "Training data for ch4 glucose by selfcal N = 173504, MRD = 0.03785564703131243, StdRD = 0.2583853009965412, MARD = 0.19017721165226195\n",
      "Training data for ch4 glucose by retro N = 182978, MRD = 0.052945672894828204, StdRD = 0.23238008015546718, MARD = 0.16899180407373\n",
      "Max of predict_slope is 2.652774406942605\n",
      "Min of predict_slope is 0.38946015036209153\n",
      "Max of predict_intercept is 16.834344364378026\n",
      "Min of predict_intercept is -33.43589768495777\n",
      "Test data for ch4 glucose by model today N = 39728, MRD = -0.10719177651440225, StdRD = 0.22744060293808482, MARD = 0.2002691122812465\n",
      "Test data for ch4 glucose by selfcal N = 39728, MRD = -0.06771614928166209, StdRD = 0.25117529545992034, MARD = 0.20265504029699616\n",
      "Test data for ch4 glucose by retro N = 44042, MRD = 0.025645517108647282, StdRD = 0.2670910489119329, MARD = 0.17933103194737057\n"
     ]
    },
    {
     "name": "stderr",
     "output_type": "stream",
     "text": [
      "C:\\Users\\lwang\\AppData\\Local\\Temp\\6\\ipykernel_33904\\789112783.py:39: SettingWithCopyWarning:\n",
      "\n",
      "\n",
      "A value is trying to be set on a copy of a slice from a DataFrame.\n",
      "Try using .loc[row_indexer,col_indexer] = value instead\n",
      "\n",
      "See the caveats in the documentation: https://pandas.pydata.org/pandas-docs/stable/user_guide/indexing.html#returning-a-view-versus-a-copy\n",
      "\n"
     ]
    }
   ],
   "source": [
    "df = df_orig[all_cols].copy()\n",
    "\n",
    "df_test_ysi = df.loc[training_index]\n",
    "x_train_ysi = df_test_ysi[feature_col]\n",
    "x_train_ysi_norm = min_max_scaler.transform(x_train_ysi)\n",
    "\n",
    "ch4_slope_train = self_cal_model_dict['self_cal_model_4'].predict(x_train_ysi_norm)\n",
    "print(f'Max of predict_slope is {ch4_slope_train.max()}')\n",
    "print(f'Min of predict_slope is {ch4_slope_train.min()}')\n",
    "ch4_intercept_train = self_cal_model_dict['self_cal_model_5'].predict(x_train_ysi_norm)\n",
    "print(f'Max of predict_intercept is {ch4_intercept_train.max()}')\n",
    "print(f'Min of predict_intercept is {ch4_intercept_train.min()}')\n",
    "df_test_ysi['biolinq_s4_selfcal'] = df_test_ysi['biolinq_s4_channelFaultDetection'].sub(ch4_intercept_train).div(ch4_slope_train)\n",
    "n_ch4_train_today = df_test_ysi['biolinq_s4_channelFaultDetection'].sub(df_test_ysi['ysi']).div(df_test_ysi['ysi']).count()\n",
    "mrd_ch4_train_today = df_test_ysi['biolinq_s4_channelFaultDetection'].sub(df_test_ysi['ysi']).div(df_test_ysi['ysi']).mean()\n",
    "stdrd_ch4_train_today = df_test_ysi['biolinq_s4_channelFaultDetection'].sub(df_test_ysi['ysi']).div(df_test_ysi['ysi']).std()\n",
    "mard_ch4_train_today = df_test_ysi['biolinq_s4_channelFaultDetection'].sub(df_test_ysi['ysi']).div(df_test_ysi['ysi']).abs().mean()\n",
    "n_ch4_train_selfcal = df_test_ysi['biolinq_s4_selfcal'].sub(df_test_ysi['ysi']).div(df_test_ysi['ysi']).count()\n",
    "mrd_ch4_train_selfcal = df_test_ysi['biolinq_s4_selfcal'].sub(df_test_ysi['ysi']).div(df_test_ysi['ysi']).mean()\n",
    "stdrd_ch4_train_selfcal = df_test_ysi['biolinq_s4_selfcal'].sub(df_test_ysi['ysi']).div(df_test_ysi['ysi']).std()\n",
    "mard_ch4_train_selfcal = df_test_ysi['biolinq_s4_selfcal'].sub(df_test_ysi['ysi']).div(df_test_ysi['ysi']).abs().mean()\n",
    "n_ch4_train_retro = df_test_ysi['retro_model_output_s4_calculateGlucose'].sub(df_test_ysi['ysi']).div(df_test_ysi['ysi']).count()\n",
    "mrd_ch4_train_retro = df_test_ysi['retro_model_output_s4_calculateGlucose'].sub(df_test_ysi['ysi']).div(df_test_ysi['ysi']).mean()\n",
    "stdrd_ch4_train_retro = df_test_ysi['retro_model_output_s4_calculateGlucose'].sub(df_test_ysi['ysi']).div(df_test_ysi['ysi']).std()\n",
    "mard_ch4_train_retro = df_test_ysi['retro_model_output_s4_calculateGlucose'].sub(df_test_ysi['ysi']).div(df_test_ysi['ysi']).abs().mean()\n",
    "print(f'Training data for ch4 glucose by model today N = {n_ch4_train_today}, MRD = {mrd_ch4_train_today}, StdRD = {stdrd_ch4_train_today}, MARD = {mard_ch4_train_today}')\n",
    "print(f'Training data for ch4 glucose by selfcal N = {n_ch4_train_selfcal}, MRD = {mrd_ch4_train_selfcal}, StdRD = {stdrd_ch4_train_selfcal}, MARD = {mard_ch4_train_selfcal}')\n",
    "print(f'Training data for ch4 glucose by retro N = {n_ch4_train_retro}, MRD = {mrd_ch4_train_retro}, StdRD = {stdrd_ch4_train_retro}, MARD = {mard_ch4_train_retro}')\n",
    "\n",
    "df_test_ysi = df.loc[test_index]\n",
    "x_test_ysi = df_test_ysi[feature_col]\n",
    "x_test_ysi_norm = min_max_scaler.transform(x_test_ysi)\n",
    "ch4_slope_test = self_cal_model_dict['self_cal_model_4'].predict(x_test_ysi_norm)\n",
    "print(f'Max of predict_slope is {ch4_slope_test.max()}')\n",
    "print(f'Min of predict_slope is {ch4_slope_test.min()}')\n",
    "ch4_intercept_test = self_cal_model_dict['self_cal_model_5'].predict(x_test_ysi_norm)\n",
    "print(f'Max of predict_intercept is {ch4_intercept_test.max()}')\n",
    "print(f'Min of predict_intercept is {ch4_intercept_test.min()}')\n",
    "df_test_ysi['biolinq_s4_selfcal'] = df_test_ysi['biolinq_s4_channelFaultDetection'].sub(ch4_intercept_test).div(ch4_slope_test)\n",
    "n_ch4_test_today = df_test_ysi['biolinq_s4_channelFaultDetection'].sub(df_test_ysi['ysi']).div(df_test_ysi['ysi']).count()\n",
    "mrd_ch4_test_today = df_test_ysi['biolinq_s4_channelFaultDetection'].sub(df_test_ysi['ysi']).div(df_test_ysi['ysi']).mean()\n",
    "stdrd_ch4_test_today = df_test_ysi['biolinq_s4_channelFaultDetection'].sub(df_test_ysi['ysi']).div(df_test_ysi['ysi']).std()\n",
    "mard_ch4_test_today = df_test_ysi['biolinq_s4_channelFaultDetection'].sub(df_test_ysi['ysi']).div(df_test_ysi['ysi']).abs().mean()\n",
    "n_ch4_test_selfcal = df_test_ysi['biolinq_s4_selfcal'].sub(df_test_ysi['ysi']).div(df_test_ysi['ysi']).count()\n",
    "mrd_ch4_test_selfcal = df_test_ysi['biolinq_s4_selfcal'].sub(df_test_ysi['ysi']).div(df_test_ysi['ysi']).mean()\n",
    "stdrd_ch4_test_selfcal = df_test_ysi['biolinq_s4_selfcal'].sub(df_test_ysi['ysi']).div(df_test_ysi['ysi']).std()\n",
    "mard_ch4_test_selfcal = df_test_ysi['biolinq_s4_selfcal'].sub(df_test_ysi['ysi']).div(df_test_ysi['ysi']).abs().mean()\n",
    "n_ch4_test_retro = df_test_ysi['retro_model_output_s4_calculateGlucose'].sub(df_test_ysi['ysi']).div(df_test_ysi['ysi']).count()\n",
    "mrd_ch4_test_retro = df_test_ysi['retro_model_output_s4_calculateGlucose'].sub(df_test_ysi['ysi']).div(df_test_ysi['ysi']).mean()\n",
    "stdrd_ch4_test_retro = df_test_ysi['retro_model_output_s4_calculateGlucose'].sub(df_test_ysi['ysi']).div(df_test_ysi['ysi']).std()\n",
    "mard_ch4_test_retro = df_test_ysi['retro_model_output_s4_calculateGlucose'].sub(df_test_ysi['ysi']).div(df_test_ysi['ysi']).abs().mean()\n",
    "print(f'Test data for ch4 glucose by model today N = {n_ch4_test_today}, MRD = {mrd_ch4_test_today}, StdRD = {stdrd_ch4_test_today}, MARD = {mard_ch4_test_today}')\n",
    "print(f'Test data for ch4 glucose by selfcal N = {n_ch4_test_selfcal}, MRD = {mrd_ch4_test_selfcal}, StdRD = {stdrd_ch4_test_selfcal}, MARD = {mard_ch4_test_selfcal}')\n",
    "print(f'Test data for ch4 glucose by retro N = {n_ch4_test_retro}, MRD = {mrd_ch4_test_retro}, StdRD = {stdrd_ch4_test_retro}, MARD = {mard_ch4_test_retro}')"
   ]
  },
  {
   "cell_type": "code",
   "execution_count": 29,
   "metadata": {},
   "outputs": [
    {
     "data": {
      "text/plain": [
       "[0.2239018197824201,\n",
       " 2.7750485207071933,\n",
       " -33.43589769809133,\n",
       " 16.834344364378047,\n",
       " 0.38946015036209153,\n",
       " 2.652774406942605,\n",
       " -33.43589768495777,\n",
       " 16.834344364378026]"
      ]
     },
     "execution_count": 29,
     "metadata": {},
     "output_type": "execute_result"
    }
   ],
   "source": [
    "[ch4_slope_train.min(),\n",
    "ch4_slope_train.max(),\n",
    "ch4_intercept_train.min(),\n",
    "ch4_intercept_train.max(),\n",
    "ch4_slope_test.min(),\n",
    "ch4_slope_test.max(),\n",
    "ch4_intercept_test.min(),\n",
    "ch4_intercept_test.max()]"
   ]
  },
  {
   "cell_type": "code",
   "execution_count": null,
   "metadata": {},
   "outputs": [],
   "source": [
    "df_test_valid[['model_output_s1_selfcal','model_output_s3_selfcal','model_output_s4_selfcal']].std(1).quantile(q=0.95)"
   ]
  },
  {
   "cell_type": "code",
   "execution_count": null,
   "metadata": {},
   "outputs": [],
   "source": [
    "df_test_valid[['model_output_s1_calculateGlucose','model_output_s3_calculateGlucose','model_output_s4_calculateGlucose']].std(1).quantile(q=0.95)"
   ]
  },
  {
   "cell_type": "code",
   "execution_count": null,
   "metadata": {},
   "outputs": [],
   "source": [
    "df_test_valid[['retro_model_output_s1_calculateGlucose','retro_model_output_s3_calculateGlucose','retro_model_output_s4_calculateGlucose']].std(1).quantile(q=0.95)"
   ]
  },
  {
   "cell_type": "code",
   "execution_count": null,
   "metadata": {},
   "outputs": [],
   "source": [
    "min_max_scaler.data_min_"
   ]
  },
  {
   "cell_type": "code",
   "execution_count": null,
   "metadata": {},
   "outputs": [],
   "source": [
    "min_max_scaler.feature_names_in_ = np.array(['time_from_start',\n",
    "                    'ewm_average_8hr_iir_filt_model_output_temp_s1',\n",
    "                    'ewm_average_8hr_iir_filt_model_output_temp_s3',\n",
    "                    'ewm_average_8hr_iir_filt_model_output_temp_s4',\n",
    "                    'estimate_standard_deviation_8hr_iir_filt_model_output_temp_s1',\n",
    "                    'estimate_standard_deviation_8hr_iir_filt_model_output_temp_s3',\n",
    "                    'estimate_standard_deviation_8hr_iir_filt_model_output_temp_s4'\n",
    "                    ],dtype='object')\n",
    "with open (r'C:\\Users\\lwang\\Documents\\GitHub\\DataAnalysis\\AlgorithmAssembler\\Modules\\calculateGlucose\\selfcal_nn_models\\min_max_scaler.p','wb') as fp:\n",
    "    pickle.dump(min_max_scaler,fp) "
   ]
  },
  {
   "cell_type": "code",
   "execution_count": null,
   "metadata": {},
   "outputs": [],
   "source": [
    "with open (r'C:\\Users\\lwang\\Documents\\GitHub\\DataAnalysis\\AlgorithmAssembler\\Modules\\calculateGlucose\\selfcal_nn_models\\ch1_slope.p','wb') as fp:\n",
    "    pickle.dump(self_cal_model_dict['self_cal_model_0'],fp)  \n",
    "with open (r'C:\\Users\\lwang\\Documents\\GitHub\\DataAnalysis\\AlgorithmAssembler\\Modules\\calculateGlucose\\selfcal_nn_models\\ch1_intercept.p','wb') as fp:\n",
    "    pickle.dump(self_cal_model_dict['self_cal_model_1'],fp)  \n",
    "with open (r'C:\\Users\\lwang\\Documents\\GitHub\\DataAnalysis\\AlgorithmAssembler\\Modules\\calculateGlucose\\selfcal_nn_models\\ch3_slope.p','wb') as fp:\n",
    "    pickle.dump(self_cal_model_dict['self_cal_model_2'],fp)  \n",
    "with open (r'C:\\Users\\lwang\\Documents\\GitHub\\DataAnalysis\\AlgorithmAssembler\\Modules\\calculateGlucose\\selfcal_nn_models\\ch3_intercept.p','wb') as fp:\n",
    "    pickle.dump(self_cal_model_dict['self_cal_model_3'],fp)  \n",
    "with open (r'C:\\Users\\lwang\\Documents\\GitHub\\DataAnalysis\\AlgorithmAssembler\\Modules\\calculateGlucose\\selfcal_nn_models\\ch4_slope.p','wb') as fp:\n",
    "    pickle.dump(self_cal_model_dict['self_cal_model_4'],fp)  \n",
    "with open (r'C:\\Users\\lwang\\Documents\\GitHub\\DataAnalysis\\AlgorithmAssembler\\Modules\\calculateGlucose\\selfcal_nn_models\\ch4_intercept.p','wb') as fp:\n",
    "    pickle.dump(self_cal_model_dict['self_cal_model_5'],fp)                  "
   ]
  },
  {
   "cell_type": "code",
   "execution_count": null,
   "metadata": {},
   "outputs": [],
   "source": [
    "self_cal_model_temp = MLPRegressor(solver='sgd',alpha=1e-1,max_iter=int(1e4),tol=1e-6,learning_rate='adaptive',random_state=20240528,verbose=True)\n",
    "param_list = {\"hidden_layer_sizes\": [(10,),(10,10),(10,5,2),(2,5,10),(4,3,4),(3,2,3),(5,5),(5,)]}\n",
    "gridCV = GridSearchCV(estimator=self_cal_model_temp, param_grid=param_list,cv=10,verbose=True)\n",
    "gridCV.fit(x_train_norm,y_train[:,i])"
   ]
  },
  {
   "cell_type": "code",
   "execution_count": null,
   "metadata": {},
   "outputs": [],
   "source": [
    "# with open (r'/Users/liangwang/GitHub/DataAnalysis/AlgorithmAssembler/Modules/calculateGlucose/selfcal_nn_models/min_max_scaler.p','rb') as fp:\n",
    "#     min_max_scaler = pickle.load(fp)\n",
    "# min_max_scaler.feature_names_in_ = np.array(['time_from_start_featureGeneration',\n",
    "#        'ewm_average_8hr_iir_filt_model_output_s1_glucoseFeatureGeneration',\n",
    "#        'ewm_average_8hr_iir_filt_model_output_s3_glucoseFeatureGeneration',\n",
    "#        'ewm_average_8hr_iir_filt_model_output_s4_glucoseFeatureGeneration',\n",
    "#        'estimate_standard_deviation_8hr_iir_filt_model_output_s1_glucoseFeatureGeneration',\n",
    "#        'estimate_standard_deviation_8hr_iir_filt_model_output_s3_glucoseFeatureGeneration',\n",
    "#        'estimate_standard_deviation_8hr_iir_filt_model_output_s4_glucoseFeatureGeneration'],\n",
    "#       dtype='object')"
   ]
  },
  {
   "cell_type": "code",
   "execution_count": null,
   "metadata": {},
   "outputs": [],
   "source": [
    "# self_cal_model_dict = {}\n",
    "# with open (r'/Users/liangwang/GitHub/DataAnalysis/AlgorithmAssembler/Modules/calculateGlucose/selfcal_nn_models/ch1_slope.p','rb') as fp:\n",
    "#     self_cal_model_dict['self_cal_model_0'] = pickle.load(fp)\n",
    "# with open (r'/Users/liangwang/GitHub/DataAnalysis/AlgorithmAssembler/Modules/calculateGlucose/selfcal_nn_models/ch1_intercept.p','rb') as fp:\n",
    "#     self_cal_model_dict['self_cal_model_1'] = pickle.load(fp)\n",
    "# with open (r'/Users/liangwang/GitHub/DataAnalysis/AlgorithmAssembler/Modules/calculateGlucose/selfcal_nn_models/ch3_slope.p','rb') as fp:\n",
    "#     self_cal_model_dict['self_cal_model_2'] = pickle.load(fp)\n",
    "# with open (r'/Users/liangwang/GitHub/DataAnalysis/AlgorithmAssembler/Modules/calculateGlucose/selfcal_nn_models/ch3_intercept.p','rb') as fp:\n",
    "#     self_cal_model_dict['self_cal_model_3'] = pickle.load(fp)\n",
    "# with open (r'/Users/liangwang/GitHub/DataAnalysis/AlgorithmAssembler/Modules/calculateGlucose/selfcal_nn_models/ch4_slope.p','rb') as fp:\n",
    "#     self_cal_model_dict['self_cal_model_4'] = pickle.load(fp)\n",
    "# with open (r'/Users/liangwang/GitHub/DataAnalysis/AlgorithmAssembler/Modules/calculateGlucose/selfcal_nn_models/ch4_intercept.p','rb') as fp:\n",
    "#     self_cal_model_dict['self_cal_model_5'] = pickle.load(fp)                "
   ]
  },
  {
   "cell_type": "code",
   "execution_count": null,
   "metadata": {},
   "outputs": [],
   "source": [
    "# for i in range(6): # [0,1]:\n",
    "#     print(f'Loading parameter {i}')\n",
    "#     self_cal_model = self_cal_model_dict[f'self_cal_model_{i}']\n",
    "#     predict_slope_intercept = self_cal_model.predict(x_train_norm)\n",
    "#     mse_train_selfcal = np.mean((predict_slope_intercept - y_train[:,i])**2)\n",
    "#     mse_train_today = np.mean(y_train[:,i]**2)\n",
    "#     print(f'The model today has MSE={mse_train_today}')\n",
    "#     print(f'The self cal model has MSE={mse_train_selfcal}')\n",
    "\n",
    "#     predict_slope_intercept_test = self_cal_model.predict(x_test_norm)\n",
    "#     mse_test_selfcal = np.mean((predict_slope_intercept_test - y_test[:,i])**2)\n",
    "#     mse_test_today = np.mean(y_test[:,i]**2)\n",
    "#     print(f'The model today on test has MSE={mse_test_today}')\n",
    "#     print(f'The self cal model on test has MSE={mse_test_selfcal}')\n",
    "#     self_cal_model_dict[f'self_cal_model_{i}'] = self_cal_model"
   ]
  },
  {
   "cell_type": "code",
   "execution_count": null,
   "metadata": {},
   "outputs": [],
   "source": [
    "pd.DataFrame(gridCV.cv_results_)"
   ]
  },
  {
   "cell_type": "code",
   "execution_count": null,
   "metadata": {},
   "outputs": [],
   "source": [
    "gridCV.best_estimator_"
   ]
  },
  {
   "cell_type": "code",
   "execution_count": null,
   "metadata": {},
   "outputs": [],
   "source": [
    "i=1\n",
    "self_cal_model = MLPRegressor(hidden_layer_sizes=(1,),solver='sgd',alpha=0.1,max_iter=int(1e4),tol=1e-6,learning_rate='adaptive',random_state=20240528)\n",
    "self_cal_model.fit(x_train_norm,y_train[:,i])\n",
    "predict_slope_intercept = self_cal_model.predict(x_train_norm)\n",
    "mse_train_selfcal = np.mean((predict_slope_intercept - y_train[:,0])**2)\n",
    "mse_train_today = np.mean(y_train[:,i]**2)\n",
    "print(f'The model today has MSE={mse_train_today}')\n",
    "print(f'The self cal model has MSE={mse_train_selfcal}')\n",
    "\n",
    "predict_slope_intercept_test = self_cal_model.predict(x_test_norm)\n",
    "mse_test_selfcal = np.mean((predict_slope_intercept_test - y_test[:,i])**2)\n",
    "mse_test_today = np.mean(y_test[:,i]**2)\n",
    "print(f'The model today on test has MSE={mse_test_today}')\n",
    "print(f'The self cal model on test has MSE={mse_test_selfcal}')\n",
    "self_cal_model_dict[f'self_cal_model_{i}'] = self_cal_model"
   ]
  },
  {
   "cell_type": "code",
   "execution_count": null,
   "metadata": {},
   "outputs": [],
   "source": [
    "y_train[:,i].mean()"
   ]
  },
  {
   "cell_type": "code",
   "execution_count": null,
   "metadata": {},
   "outputs": [],
   "source": [
    "df_training_valid[feature_col].plot(y='ewm_average_8hr_iir_filt_model_output_s3_glucoseFeatureGeneration',kind='hist',bins=1000)"
   ]
  },
  {
   "cell_type": "code",
   "execution_count": null,
   "metadata": {},
   "outputs": [],
   "source": [
    "min_max_scaler.data_max_"
   ]
  },
  {
   "cell_type": "code",
   "execution_count": null,
   "metadata": {},
   "outputs": [],
   "source": [
    "self_cal_model = MLPRegressor(hidden_layer_sizes=(10,10,10),solver='sgd',alpha=1e-4,max_iter=int(1e4),tol=1e-6,learning_rate='adaptive',random_state=20240528)\n",
    "self_cal_model.fit(x_train_norm,y_train[:,0])\n",
    "predict_slope_intercept = self_cal_model.predict(x_train_norm)"
   ]
  },
  {
   "cell_type": "code",
   "execution_count": null,
   "metadata": {},
   "outputs": [],
   "source": [
    "valid_test_index = df[df['Study'].isin(test_group) & df['time_from_start_featureGeneration'].between(training_time_window[0],training_time_window[1]) & \n",
    "                        df[f'iso_s{ch_str}'].le(iso_thresh) & df[f'iso_s3'].le(iso_thresh) & df[f'iso_s4'].le(iso_thresh)].index\n",
    "df_test_valid = df.loc[valid_test_index,col_for_optim_no_ysi_acck].dropna().reset_index(drop=True)\n",
    "print(f'Test data has shape {df_test_valid.shape}')\n",
    "x_test = df_test_valid[feature_col]\n",
    "x_test_norm = min_max_scaler.fit_transform(x_test)\n",
    "y_test = df_test_valid[ground_truth_col].to_numpy()\n",
    "\n",
    "predict_slope_intercept_test = self_cal_model.predict(x_test_norm)"
   ]
  }
 ],
 "metadata": {
  "kernelspec": {
   "display_name": ".datarunner",
   "language": "python",
   "name": "python3"
  },
  "language_info": {
   "codemirror_mode": {
    "name": "ipython",
    "version": 3
   },
   "file_extension": ".py",
   "mimetype": "text/x-python",
   "name": "python",
   "nbconvert_exporter": "python",
   "pygments_lexer": "ipython3",
   "version": "3.9.2"
  }
 },
 "nbformat": 4,
 "nbformat_minor": 2
}
