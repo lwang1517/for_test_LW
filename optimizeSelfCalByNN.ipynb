{
 "cells": [
  {
   "cell_type": "code",
   "execution_count": 1,
   "metadata": {},
   "outputs": [],
   "source": [
    "import sys\n",
    "sys.path.append('/Users/liangwang/GitHub/DataAnalysis')"
   ]
  },
  {
   "cell_type": "code",
   "execution_count": 2,
   "metadata": {},
   "outputs": [],
   "source": [
    "import numpy as np\n",
    "import sys, os\n",
    "from pathlib import Path\n",
    "import pandas as pd\n",
    "import copy\n",
    "import plotly.express as px\n",
    "import pandas as pd\n",
    "import plotly.graph_objects as go\n",
    "from plotly.colors import n_colors\n",
    "import math\n",
    "import datetime as dt\n",
    "from sklearn.metrics import r2_score\n",
    "import plotly.colors\n",
    "from plotly.subplots import make_subplots\n",
    "import plotly.graph_objects as go\n",
    "import pandas as pd\n",
    "import numpy as np\n",
    "from scipy.stats import mannwhitneyu\n",
    "from scipy.interpolate import griddata\n",
    "import sklearn\n",
    "from sklearn.linear_model import LinearRegression\n",
    "from sklearn.neural_network import MLPClassifier\n",
    "from sklearn.neural_network import MLPRegressor\n",
    "from sklearn.model_selection import GridSearchCV\n",
    "import scipy\n",
    "import importlib\n",
    "import pickle\n",
    "import psutil \n",
    "import gc\n",
    "\n",
    "# ----- Internal Dependencies -------#\n",
    "nb_dir = os.path.split(os.getcwd())[0]\n",
    "sys.path.append(\"../..\")\n",
    "if nb_dir not in sys.path:\n",
    "    sys.path.append(nb_dir)\n",
    "from General import FileRead\n",
    "from General import AccuracyMetrics\n",
    "from General.GeneralFunctions import get_add_to_dict\n",
    "from General import TableManipulations\n",
    "from FeatureGeneration import GeneralFeatures\n",
    "from General import FileWrite\n",
    "\n",
    "from Plot.PdfHelper import PdfHelper\n",
    "from Plot.PlotMaker import PlotMaker\n",
    "# from Plot import Voltage_Plots\n",
    "from Plot import PlotFunctions\n",
    "# from Plot import AdHocPlots\n",
    "# from Plot import Sim_Plots\n",
    "\n",
    "# widget and notebook stuff\n",
    "from ipywidgets import interact, fixed\n",
    "import plotly.io as pio\n",
    "pio.renderers.default = \"plotly_mimetype+notebook\""
   ]
  },
  {
   "cell_type": "markdown",
   "metadata": {},
   "source": [
    "load data"
   ]
  },
  {
   "cell_type": "code",
   "execution_count": 3,
   "metadata": {},
   "outputs": [],
   "source": [
    "training_group = ['eBlinq17', 'eBlinq19a','eBlinq19b','eBlinq19c','eBlinq20','eBlinq22','eBlinq23','eBlinq25','eBlinqRingOverlay&NiMNA','iBlinqAcet','iBlinqFW231','iBlinqOverlay','Pre-Piv-2-training']\n",
    "# test_group = ['Pre-Piv-2-training']\n",
    "# training_group = ['eBlinq19c','eBlinq20','eBlinq22','eBlinq23','eBlinq25','eBlinqRingOverlay&NiMNA','iBlinqFW231','iBlinqOverlay']\n",
    "# test_group = ['Pre-Piv-2-training','eBlinqMayStudy']\n",
    "# test_group = ['CPP-008-27', 'CPP-008-25-Validation']\n",
    "test_group = ['CPP-008-27']\n",
    "training_time_window = [0.083,5]\n",
    "all_training_channel = ['1','3','4']\n",
    "# training_chemistry = '2.6.11'\n",
    "# test_chemistry = '2.6.11'\n",
    "iso_thresh = 25\n",
    "feature_hour_window = '8hr'\n",
    "feature_col = [\n",
    "    'time_from_start_featureGeneration',\n",
    "    f'ewm_average_{feature_hour_window}_iir_filt_model_output_s1_glucoseFeatureGeneration',\n",
    "    f'ewm_average_{feature_hour_window}_iir_filt_model_output_s3_glucoseFeatureGeneration',\n",
    "    f'ewm_average_{feature_hour_window}_iir_filt_model_output_s4_glucoseFeatureGeneration',\n",
    "    f'estimate_standard_deviation_{feature_hour_window}_iir_filt_model_output_s1_glucoseFeatureGeneration',\n",
    "    f'estimate_standard_deviation_{feature_hour_window}_iir_filt_model_output_s3_glucoseFeatureGeneration',\n",
    "    f'estimate_standard_deviation_{feature_hour_window}_iir_filt_model_output_s4_glucoseFeatureGeneration',\n",
    "]\n",
    "gluc_col = [\n",
    "    'model_output_s1_calculateGlucose','model_output_s3_calculateGlucose','model_output_s4_calculateGlucose',\n",
    "    'biolinq_s1_channelFaultDetection','biolinq_s3_channelFaultDetection','biolinq_s4_channelFaultDetection',\n",
    "]\n",
    "\n",
    "gluc_ref_col = [\n",
    "    'Study','Sensor_Id',\n",
    "    'retro_model_output_s1_calculateGlucose','retro_model_output_s3_calculateGlucose','retro_model_output_s4_calculateGlucose','cgm_adj','ysi','acck',\n",
    "    'retro_rmse_s1','retro_rmse_s3','retro_rmse_s4'\n",
    "]\n",
    "\n",
    "ground_truth_col = [\n",
    "    'retro_slope_s1','retro_intercept_s1',\n",
    "    'retro_slope_s3','retro_intercept_s3',\n",
    "    'retro_slope_s4','retro_intercept_s4',\n",
    "]\n",
    "all_cols = feature_col + gluc_col + gluc_ref_col + ground_truth_col\n",
    "percentile_lb = 0.01\n",
    "percentile_ub = 0.99\n",
    "slope_lb = 0.1\n",
    "slope_ub = 10\n",
    "intercept_lb = -100\n",
    "intercept_ub = 100\n",
    "rmse_quantile_thresh = 1"
   ]
  },
  {
   "cell_type": "code",
   "execution_count": 4,
   "metadata": {},
   "outputs": [
    {
     "data": {
      "text/plain": [
       "72.2682237625122"
      ]
     },
     "execution_count": 4,
     "metadata": {},
     "output_type": "execute_result"
    }
   ],
   "source": [
    "psutil.virtual_memory().available * 100 / psutil.virtual_memory().total"
   ]
  },
  {
   "cell_type": "code",
   "execution_count": 5,
   "metadata": {},
   "outputs": [],
   "source": [
    "df_orig_recent=pd.read_csv('/Users/liangwang/Library/CloudStorage/OneDrive-Biolinq/Gen 1/Algorithm Development/Gen 1 Model Optimization/20240521/agg_mfg_ref_sample_df_from17.csv',usecols=all_cols)\n",
    "df_orig_may=pd.read_csv('/Users/liangwang/Library/CloudStorage/OneDrive-Biolinq/Gen 1/Algorithm Development/Gen 1 Model Optimization/agg_sample_df_ref_May_Study.csv',usecols=all_cols)"
   ]
  },
  {
   "cell_type": "code",
   "execution_count": 6,
   "metadata": {},
   "outputs": [
    {
     "data": {
      "text/plain": [
       "54.85396385192871"
      ]
     },
     "execution_count": 6,
     "metadata": {},
     "output_type": "execute_result"
    }
   ],
   "source": [
    "psutil.virtual_memory().available * 100 / psutil.virtual_memory().total"
   ]
  },
  {
   "cell_type": "code",
   "execution_count": 7,
   "metadata": {},
   "outputs": [],
   "source": [
    "df_orig = pd.concat([df_orig_recent, df_orig_may], join=\"inner\")"
   ]
  },
  {
   "cell_type": "code",
   "execution_count": 8,
   "metadata": {},
   "outputs": [
    {
     "name": "stdout",
     "output_type": "stream",
     "text": [
      "<class 'pandas.core.frame.DataFrame'>\n",
      "RangeIndex: 14308248 entries, 0 to 14308247\n",
      "Data columns (total 30 columns):\n",
      " #   Column                                                                             Dtype  \n",
      "---  ------                                                                             -----  \n",
      " 0   Sensor_Id                                                                          object \n",
      " 1   Study                                                                              object \n",
      " 2   acck                                                                               float64\n",
      " 3   biolinq_s1_channelFaultDetection                                                   float64\n",
      " 4   biolinq_s3_channelFaultDetection                                                   float64\n",
      " 5   biolinq_s4_channelFaultDetection                                                   float64\n",
      " 6   cgm_adj                                                                            float64\n",
      " 7   estimate_standard_deviation_8hr_iir_filt_model_output_s1_glucoseFeatureGeneration  float64\n",
      " 8   estimate_standard_deviation_8hr_iir_filt_model_output_s3_glucoseFeatureGeneration  float64\n",
      " 9   estimate_standard_deviation_8hr_iir_filt_model_output_s4_glucoseFeatureGeneration  float64\n",
      " 10  ewm_average_8hr_iir_filt_model_output_s1_glucoseFeatureGeneration                  float64\n",
      " 11  ewm_average_8hr_iir_filt_model_output_s3_glucoseFeatureGeneration                  float64\n",
      " 12  ewm_average_8hr_iir_filt_model_output_s4_glucoseFeatureGeneration                  float64\n",
      " 13  model_output_s1_calculateGlucose                                                   float64\n",
      " 14  model_output_s3_calculateGlucose                                                   float64\n",
      " 15  model_output_s4_calculateGlucose                                                   float64\n",
      " 16  retro_intercept_s1                                                                 float64\n",
      " 17  retro_intercept_s3                                                                 float64\n",
      " 18  retro_intercept_s4                                                                 float64\n",
      " 19  retro_model_output_s1_calculateGlucose                                             float64\n",
      " 20  retro_model_output_s3_calculateGlucose                                             float64\n",
      " 21  retro_model_output_s4_calculateGlucose                                             float64\n",
      " 22  retro_rmse_s1                                                                      float64\n",
      " 23  retro_rmse_s3                                                                      float64\n",
      " 24  retro_rmse_s4                                                                      float64\n",
      " 25  retro_slope_s1                                                                     float64\n",
      " 26  retro_slope_s3                                                                     float64\n",
      " 27  retro_slope_s4                                                                     float64\n",
      " 28  time_from_start_featureGeneration                                                  float64\n",
      " 29  ysi                                                                                float64\n",
      "dtypes: float64(28), object(2)\n",
      "memory usage: 3.2+ GB\n"
     ]
    }
   ],
   "source": [
    "df_orig_recent.info()"
   ]
  },
  {
   "cell_type": "code",
   "execution_count": 9,
   "metadata": {},
   "outputs": [
    {
     "name": "stdout",
     "output_type": "stream",
     "text": [
      "<class 'pandas.core.frame.DataFrame'>\n",
      "RangeIndex: 1727833 entries, 0 to 1727832\n",
      "Data columns (total 30 columns):\n",
      " #   Column                                                                             Dtype  \n",
      "---  ------                                                                             -----  \n",
      " 0   Sensor_Id                                                                          object \n",
      " 1   Study                                                                              object \n",
      " 2   acck                                                                               float64\n",
      " 3   biolinq_s1_channelFaultDetection                                                   float64\n",
      " 4   biolinq_s3_channelFaultDetection                                                   float64\n",
      " 5   biolinq_s4_channelFaultDetection                                                   float64\n",
      " 6   cgm_adj                                                                            float64\n",
      " 7   estimate_standard_deviation_8hr_iir_filt_model_output_s1_glucoseFeatureGeneration  float64\n",
      " 8   estimate_standard_deviation_8hr_iir_filt_model_output_s3_glucoseFeatureGeneration  float64\n",
      " 9   estimate_standard_deviation_8hr_iir_filt_model_output_s4_glucoseFeatureGeneration  float64\n",
      " 10  ewm_average_8hr_iir_filt_model_output_s1_glucoseFeatureGeneration                  float64\n",
      " 11  ewm_average_8hr_iir_filt_model_output_s3_glucoseFeatureGeneration                  float64\n",
      " 12  ewm_average_8hr_iir_filt_model_output_s4_glucoseFeatureGeneration                  float64\n",
      " 13  model_output_s1_calculateGlucose                                                   float64\n",
      " 14  model_output_s3_calculateGlucose                                                   float64\n",
      " 15  model_output_s4_calculateGlucose                                                   float64\n",
      " 16  retro_intercept_s1                                                                 float64\n",
      " 17  retro_intercept_s3                                                                 float64\n",
      " 18  retro_intercept_s4                                                                 float64\n",
      " 19  retro_model_output_s1_calculateGlucose                                             float64\n",
      " 20  retro_model_output_s3_calculateGlucose                                             float64\n",
      " 21  retro_model_output_s4_calculateGlucose                                             float64\n",
      " 22  retro_rmse_s1                                                                      float64\n",
      " 23  retro_rmse_s3                                                                      float64\n",
      " 24  retro_rmse_s4                                                                      float64\n",
      " 25  retro_slope_s1                                                                     float64\n",
      " 26  retro_slope_s3                                                                     float64\n",
      " 27  retro_slope_s4                                                                     float64\n",
      " 28  time_from_start_featureGeneration                                                  float64\n",
      " 29  ysi                                                                                float64\n",
      "dtypes: float64(28), object(2)\n",
      "memory usage: 395.5+ MB\n"
     ]
    }
   ],
   "source": [
    "df_orig_may.info()"
   ]
  },
  {
   "cell_type": "code",
   "execution_count": 10,
   "metadata": {},
   "outputs": [
    {
     "name": "stdout",
     "output_type": "stream",
     "text": [
      "<class 'pandas.core.frame.DataFrame'>\n",
      "Int64Index: 16036081 entries, 0 to 1727832\n",
      "Data columns (total 30 columns):\n",
      " #   Column                                                                             Dtype  \n",
      "---  ------                                                                             -----  \n",
      " 0   Sensor_Id                                                                          object \n",
      " 1   Study                                                                              object \n",
      " 2   acck                                                                               float64\n",
      " 3   biolinq_s1_channelFaultDetection                                                   float64\n",
      " 4   biolinq_s3_channelFaultDetection                                                   float64\n",
      " 5   biolinq_s4_channelFaultDetection                                                   float64\n",
      " 6   cgm_adj                                                                            float64\n",
      " 7   estimate_standard_deviation_8hr_iir_filt_model_output_s1_glucoseFeatureGeneration  float64\n",
      " 8   estimate_standard_deviation_8hr_iir_filt_model_output_s3_glucoseFeatureGeneration  float64\n",
      " 9   estimate_standard_deviation_8hr_iir_filt_model_output_s4_glucoseFeatureGeneration  float64\n",
      " 10  ewm_average_8hr_iir_filt_model_output_s1_glucoseFeatureGeneration                  float64\n",
      " 11  ewm_average_8hr_iir_filt_model_output_s3_glucoseFeatureGeneration                  float64\n",
      " 12  ewm_average_8hr_iir_filt_model_output_s4_glucoseFeatureGeneration                  float64\n",
      " 13  model_output_s1_calculateGlucose                                                   float64\n",
      " 14  model_output_s3_calculateGlucose                                                   float64\n",
      " 15  model_output_s4_calculateGlucose                                                   float64\n",
      " 16  retro_intercept_s1                                                                 float64\n",
      " 17  retro_intercept_s3                                                                 float64\n",
      " 18  retro_intercept_s4                                                                 float64\n",
      " 19  retro_model_output_s1_calculateGlucose                                             float64\n",
      " 20  retro_model_output_s3_calculateGlucose                                             float64\n",
      " 21  retro_model_output_s4_calculateGlucose                                             float64\n",
      " 22  retro_rmse_s1                                                                      float64\n",
      " 23  retro_rmse_s3                                                                      float64\n",
      " 24  retro_rmse_s4                                                                      float64\n",
      " 25  retro_slope_s1                                                                     float64\n",
      " 26  retro_slope_s3                                                                     float64\n",
      " 27  retro_slope_s4                                                                     float64\n",
      " 28  time_from_start_featureGeneration                                                  float64\n",
      " 29  ysi                                                                                float64\n",
      "dtypes: float64(28), object(2)\n",
      "memory usage: 3.7+ GB\n"
     ]
    }
   ],
   "source": [
    "df_orig.info()"
   ]
  },
  {
   "cell_type": "code",
   "execution_count": 11,
   "metadata": {},
   "outputs": [
    {
     "data": {
      "text/plain": [
       "49.0464448928833"
      ]
     },
     "execution_count": 11,
     "metadata": {},
     "output_type": "execute_result"
    }
   ],
   "source": [
    "psutil.virtual_memory().available * 100 / psutil.virtual_memory().total"
   ]
  },
  {
   "cell_type": "code",
   "execution_count": 12,
   "metadata": {},
   "outputs": [],
   "source": [
    "del df_orig_recent\n",
    "del df_orig_may"
   ]
  },
  {
   "cell_type": "code",
   "execution_count": 13,
   "metadata": {},
   "outputs": [
    {
     "data": {
      "text/plain": [
       "53.87907028198242"
      ]
     },
     "execution_count": 13,
     "metadata": {},
     "output_type": "execute_result"
    }
   ],
   "source": [
    "psutil.virtual_memory().available * 100 / psutil.virtual_memory().total"
   ]
  },
  {
   "cell_type": "code",
   "execution_count": 14,
   "metadata": {},
   "outputs": [
    {
     "data": {
      "text/plain": [
       "89"
      ]
     },
     "execution_count": 14,
     "metadata": {},
     "output_type": "execute_result"
    }
   ],
   "source": [
    "gc.collect()"
   ]
  },
  {
   "cell_type": "code",
   "execution_count": 15,
   "metadata": {},
   "outputs": [
    {
     "data": {
      "text/plain": [
       "53.87997627258301"
      ]
     },
     "execution_count": 15,
     "metadata": {},
     "output_type": "execute_result"
    }
   ],
   "source": [
    "psutil.virtual_memory().available * 100 / psutil.virtual_memory().total"
   ]
  },
  {
   "cell_type": "code",
   "execution_count": 16,
   "metadata": {},
   "outputs": [
    {
     "data": {
      "text/plain": [
       "array(['eBlinq17', 'eBlinq19a', 'eBlinq19b', 'eBlinq19c', 'eBlinq20',\n",
       "       'eBlinqRingOverlay&NiMNA', 'eBlinq22', 'eBlinq23',\n",
       "       'Pre-Piv-2-training', 'eBlinq25', 'iBlinqAcet', 'iBlinqFW231',\n",
       "       'iBlinqOverlay', 'CPP-008-27', 'CPP-008-25-Validation'],\n",
       "      dtype=object)"
      ]
     },
     "execution_count": 16,
     "metadata": {},
     "output_type": "execute_result"
    }
   ],
   "source": [
    "df_orig['Study'].unique()"
   ]
  },
  {
   "cell_type": "markdown",
   "metadata": {},
   "source": [
    "Setting"
   ]
  },
  {
   "cell_type": "code",
   "execution_count": 17,
   "metadata": {},
   "outputs": [
    {
     "name": "stdout",
     "output_type": "stream",
     "text": [
      "Training data has shape (10517625, 30)\n",
      "Training data has shape (9010156, 30)\n",
      "Ratio of training good data is 0.856672109910745\n",
      "Test data has shape (800745, 30)\n",
      "Test data has shape (700990, 30)\n",
      "Ratio of good test data is 0.8754222630175649\n"
     ]
    }
   ],
   "source": [
    "df = df_orig[all_cols].copy()\n",
    "feature_name_avg_ch1 = f'ewm_average_{feature_hour_window}_iir_filt_model_output_s1_glucoseFeatureGeneration'\n",
    "feature_name_avg_ch1_lb = df[feature_name_avg_ch1].quantile(q=percentile_lb)\n",
    "feature_name_avg_ch1_ub = df[feature_name_avg_ch1].quantile(q=percentile_ub)\n",
    "feature_name_std_ch1 = f'estimate_standard_deviation_{feature_hour_window}_iir_filt_model_output_s1_glucoseFeatureGeneration'\n",
    "feature_name_std_ch1_lb = df[feature_name_std_ch1].quantile(q=percentile_lb)\n",
    "feature_name_std_ch1_ub = df[feature_name_std_ch1].quantile(q=percentile_ub)\n",
    "feature_name_avg_ch3 = f'ewm_average_{feature_hour_window}_iir_filt_model_output_s3_glucoseFeatureGeneration'\n",
    "feature_name_avg_ch3_lb = df[feature_name_avg_ch3].quantile(q=percentile_lb)\n",
    "feature_name_avg_ch3_ub = df[feature_name_avg_ch3].quantile(q=percentile_ub)\n",
    "feature_name_std_ch3 = f'estimate_standard_deviation_{feature_hour_window}_iir_filt_model_output_s3_glucoseFeatureGeneration'\n",
    "feature_name_std_ch3_lb = df[feature_name_std_ch3].quantile(q=percentile_lb)\n",
    "feature_name_std_ch3_ub = df[feature_name_std_ch3].quantile(q=percentile_ub)\n",
    "feature_name_avg_ch4 = f'ewm_average_{feature_hour_window}_iir_filt_model_output_s4_glucoseFeatureGeneration'\n",
    "feature_name_avg_ch4_lb = df[feature_name_avg_ch4].quantile(q=percentile_lb)\n",
    "feature_name_avg_ch4_ub = df[feature_name_avg_ch4].quantile(q=percentile_ub)\n",
    "feature_name_std_ch4 = f'estimate_standard_deviation_{feature_hour_window}_iir_filt_model_output_s4_glucoseFeatureGeneration'\n",
    "feature_name_std_ch4_lb = df[feature_name_std_ch4].quantile(q=percentile_lb)\n",
    "feature_name_std_ch4_ub = df[feature_name_std_ch4].quantile(q=percentile_ub)\n",
    "\n",
    "rmse_s1_thresh = df['retro_rmse_s1'].quantile(q=rmse_quantile_thresh)\n",
    "rmse_s3_thresh = df['retro_rmse_s3'].quantile(q=rmse_quantile_thresh)\n",
    "rmse_s4_thresh = df['retro_rmse_s4'].quantile(q=rmse_quantile_thresh)\n",
    "\n",
    "training_index = df['Study'].isin(training_group) & df['time_from_start_featureGeneration'].between(training_time_window[0],training_time_window[1])\n",
    "df_training = df.loc[training_index,:].dropna(subset = feature_col + ground_truth_col).reset_index(drop=True)\n",
    "valid_training_index = df['Study'].isin(training_group) & df['time_from_start_featureGeneration'].between(training_time_window[0],training_time_window[1]) & \\\n",
    "                        df[feature_name_avg_ch1].between(feature_name_avg_ch1_lb,feature_name_avg_ch1_ub) & \\\n",
    "                        df[feature_name_std_ch1].between(feature_name_std_ch1_lb,feature_name_std_ch1_ub) & \\\n",
    "                        df[feature_name_avg_ch3].between(feature_name_avg_ch3_lb,feature_name_avg_ch3_ub) & \\\n",
    "                        df[feature_name_std_ch3].between(feature_name_std_ch3_lb,feature_name_std_ch3_ub) & \\\n",
    "                        df[feature_name_avg_ch4].between(feature_name_avg_ch4_lb,feature_name_avg_ch4_ub) & \\\n",
    "                        df[feature_name_std_ch4].between(feature_name_std_ch4_lb,feature_name_std_ch4_ub) & \\\n",
    "                        df['retro_slope_s1'].between(slope_lb,slope_ub) & df['retro_intercept_s1'].between(intercept_lb,intercept_ub) & \\\n",
    "                        df['retro_slope_s3'].between(slope_lb,slope_ub) & df['retro_intercept_s3'].between(intercept_lb,intercept_ub) & \\\n",
    "                        df['retro_slope_s4'].between(slope_lb,slope_ub) & df['retro_intercept_s4'].between(intercept_lb,intercept_ub) & \\\n",
    "                        df['retro_rmse_s1'].le(rmse_s1_thresh) & df['retro_rmse_s3'].le(rmse_s3_thresh) & df['retro_rmse_s4'].le(rmse_s4_thresh)\n",
    "df_training_valid = df.loc[valid_training_index,:].dropna(subset = feature_col + ground_truth_col).reset_index(drop=True)\n",
    "print(f'Training data has shape {df_training.shape}')\n",
    "print(f'Training data has shape {df_training_valid.shape}')\n",
    "good_data_ratio = len(df_training_valid)/len(df_training)\n",
    "print(f'Ratio of training good data is {good_data_ratio}')\n",
    "x_train = df_training_valid[feature_col]\n",
    "y_train = df_training_valid[ground_truth_col].to_numpy()\n",
    "min_max_scaler = sklearn.preprocessing.MinMaxScaler()\n",
    "x_train_norm = min_max_scaler.fit_transform(x_train)\n",
    "\n",
    "test_index = df['Study'].isin(test_group) & df['time_from_start_featureGeneration'].between(training_time_window[0],training_time_window[1])\n",
    "df_test = df.loc[test_index,:].dropna(subset = feature_col + ground_truth_col).reset_index(drop=True)\n",
    "valid_test_index = df['Study'].isin(test_group) & df['time_from_start_featureGeneration'].between(training_time_window[0],training_time_window[1]) & \\\n",
    "                        df[feature_name_avg_ch1].between(feature_name_avg_ch1_lb,feature_name_avg_ch1_ub) & \\\n",
    "                        df[feature_name_std_ch1].between(feature_name_std_ch1_lb,feature_name_std_ch1_ub) & \\\n",
    "                        df[feature_name_avg_ch3].between(feature_name_avg_ch3_lb,feature_name_avg_ch3_ub) & \\\n",
    "                        df[feature_name_std_ch3].between(feature_name_std_ch3_lb,feature_name_std_ch3_ub) & \\\n",
    "                        df[feature_name_avg_ch4].between(feature_name_avg_ch4_lb,feature_name_avg_ch4_ub) & \\\n",
    "                        df[feature_name_std_ch4].between(feature_name_std_ch4_lb,feature_name_std_ch4_ub) & \\\n",
    "                        df['retro_slope_s1'].between(slope_lb,slope_ub) & df['retro_intercept_s1'].between(intercept_lb,intercept_ub) & \\\n",
    "                        df['retro_slope_s3'].between(slope_lb,slope_ub) & df['retro_intercept_s3'].between(intercept_lb,intercept_ub) & \\\n",
    "                        df['retro_slope_s4'].between(slope_lb,slope_ub) & df['retro_intercept_s4'].between(intercept_lb,intercept_ub) & \\\n",
    "                        df['retro_rmse_s1'].le(rmse_s1_thresh) & df['retro_rmse_s3'].le(rmse_s3_thresh) & df['retro_rmse_s4'].le(rmse_s4_thresh)\n",
    "df_test_valid = df.loc[valid_test_index,:].dropna(subset = feature_col + ground_truth_col).reset_index(drop=True)\n",
    "print(f'Test data has shape {df_test.shape}')\n",
    "print(f'Test data has shape {df_test_valid.shape}')\n",
    "good_test_data_ratio = len(df_test_valid)/len(df_test)\n",
    "print(f'Ratio of good test data is {good_test_data_ratio}')\n",
    "x_test = df_test_valid[feature_col]\n",
    "x_test_norm = min_max_scaler.transform(x_test)\n",
    "y_test = df_test_valid[ground_truth_col].to_numpy()"
   ]
  },
  {
   "cell_type": "code",
   "execution_count": 18,
   "metadata": {},
   "outputs": [],
   "source": [
    "self_cal_model_dict = {}"
   ]
  },
  {
   "cell_type": "code",
   "execution_count": 19,
   "metadata": {},
   "outputs": [
    {
     "name": "stdout",
     "output_type": "stream",
     "text": [
      "Optimizing parameter 0\n",
      "Max of predict_slope is 1.5097663252724818\n",
      "Min of predict_slope is 0.5411007482493388\n",
      "The model today has MSE=0.10326341837504217\n",
      "The self cal model has MSE=0.07337429382960446\n",
      "Max of predict_slope_test is 1.5109781948176775\n",
      "Min of predict_slope_test is 0.5432897856363051\n",
      "The model today on test has MSE=0.08981732119579276\n",
      "The self cal model on test has MSE=0.1109455344909849\n"
     ]
    }
   ],
   "source": [
    "# For channel 1 slope\n",
    "i = 0\n",
    "print(f'Optimizing parameter {i}')\n",
    "self_cal_model = MLPRegressor(hidden_layer_sizes=(10,10,10,1),activation='logistic',solver='adam',alpha=0.0001,max_iter=int(1e4),tol=1e-4,learning_rate='adaptive',random_state=20140806)\n",
    "self_cal_model.fit(x_train_norm,y_train[:,i])\n",
    "predict_slope = self_cal_model.predict(x_train_norm)\n",
    "print(f'Max of predict_slope is {predict_slope.max()}')\n",
    "print(f'Min of predict_slope is {predict_slope.min()}')\n",
    "# predict_slope[predict_slope<0.12] = 1\n",
    "# predict_slope[predict_slope>2.4] = 1\n",
    "mse_train_selfcal = np.mean((predict_slope - y_train[:,i])**2)\n",
    "mse_train_today = np.mean((1-y_train[:,i])**2)\n",
    "print(f'The model today has MSE={mse_train_today}')\n",
    "print(f'The self cal model has MSE={mse_train_selfcal}')\n",
    "\n",
    "predict_slope_test = self_cal_model.predict(x_test_norm)\n",
    "print(f'Max of predict_slope_test is {predict_slope_test.max()}')\n",
    "print(f'Min of predict_slope_test is {predict_slope_test.min()}')\n",
    "# predict_slope_test[predict_slope_test<0.12] = 1\n",
    "# predict_slope_test[predict_slope_test>2.4] = 1    \n",
    "mse_test_selfcal = np.mean((predict_slope_test - y_test[:,i])**2)\n",
    "mse_test_today = np.mean((1-y_test[:,i])**2)\n",
    "print(f'The model today on test has MSE={mse_test_today}')\n",
    "print(f'The self cal model on test has MSE={mse_test_selfcal}')\n",
    "self_cal_model_dict[f'self_cal_model_{i}'] = self_cal_model"
   ]
  },
  {
   "cell_type": "code",
   "execution_count": 20,
   "metadata": {},
   "outputs": [
    {
     "name": "stdout",
     "output_type": "stream",
     "text": [
      "Optimizing parameter 1\n",
      "Max of predict_intercept is 27.35787374904198\n",
      "Min of predict_intercept is -106.83652246385364\n",
      "The model today has MSE=897.27845397517\n",
      "The self cal model has MSE=695.6429929880377\n",
      "Max of predict_intercept_test is 27.35857496084264\n",
      "Min of predict_intercept_test is -106.83756761899988\n",
      "The model today on test has MSE=448.7359626373067\n",
      "The self cal model on test has MSE=981.0808875909207\n"
     ]
    }
   ],
   "source": [
    "# For channel 1 intercept\n",
    "i = 1\n",
    "print(f'Optimizing parameter {i}')\n",
    "self_cal_model = MLPRegressor(hidden_layer_sizes=(10,10,10,1),activation='logistic',solver='adam',alpha=1e-4,max_iter=int(1e4),tol=1e-4,learning_rate='adaptive',random_state=20140806)\n",
    "self_cal_model.fit(x_train_norm,y_train[:,i])\n",
    "predict_intercept = self_cal_model.predict(x_train_norm)\n",
    "print(f'Max of predict_intercept is {predict_intercept.max()}')\n",
    "print(f'Min of predict_intercept is {predict_intercept.min()}')    \n",
    "# predict_intercept[predict_intercept<-100] = 0\n",
    "# predict_intercept[predict_intercept>100] = 0   \n",
    "mse_train_selfcal = np.mean((predict_intercept - y_train[:,i])**2)\n",
    "mse_train_today = np.mean(y_train[:,i]**2)\n",
    "print(f'The model today has MSE={mse_train_today}')\n",
    "print(f'The self cal model has MSE={mse_train_selfcal}')\n",
    "\n",
    "predict_intercept_test = self_cal_model.predict(x_test_norm)\n",
    "print(f'Max of predict_intercept_test is {predict_intercept_test.max()}')\n",
    "print(f'Min of predict_intercept_test is {predict_intercept_test.min()}')    \n",
    "# predict_intercept_test[predict_intercept_test<-100] = 0\n",
    "# predict_intercept_test[predict_intercept_test>100] = 0     \n",
    "mse_test_selfcal = np.mean((predict_intercept_test - y_test[:,i])**2)\n",
    "mse_test_today = np.mean(y_test[:,i]**2)\n",
    "print(f'The model today on test has MSE={mse_test_today}')\n",
    "print(f'The self cal model on test has MSE={mse_test_selfcal}')\n",
    "self_cal_model_dict[f'self_cal_model_{i}'] = self_cal_model"
   ]
  },
  {
   "cell_type": "code",
   "execution_count": 21,
   "metadata": {},
   "outputs": [
    {
     "name": "stdout",
     "output_type": "stream",
     "text": [
      "Max of predict_slope is 1.5097663252724818\n",
      "Min of predict_slope is 0.5411007482493388\n",
      "Max of predict_intercept is 27.35787374904198\n",
      "Min of predict_intercept is -106.83652246385364\n",
      "Training data for ch1 glucose by model today N = 6225452, MRD = -0.05327920529170002, StdRD = 0.3409502380123258, MARD = 0.24485890017191944\n",
      "Training data for ch1 glucose by selfcal N = 6225452, MRD = 0.015263685588758673, StdRD = 0.32553903424206404, MARD = 0.22127135729497097\n",
      "Training data for ch1 glucose by retro N = 6225452, MRD = -0.00018597001299262042, StdRD = 0.3397448621300012, MARD = 0.1907338361626772\n",
      "Max of predict_slope is 1.5109781948176775\n",
      "Min of predict_slope is 0.5432897856363051\n",
      "Max of predict_intercept is 27.35857496084264\n",
      "Min of predict_intercept is -106.83756761899988\n",
      "Test data for ch1 glucose by model today N = 659457, MRD = -0.217432380512837, StdRD = 0.23791465623552785, MARD = 0.263162867835626\n",
      "Test data for ch1 glucose by selfcal N = 659457, MRD = -0.139917384496509, StdRD = 0.3046272959767053, MARD = 0.25595276597597716\n",
      "Test data for ch1 glucose by retro N = 659457, MRD = -0.017553251018272542, StdRD = 0.22659753617642145, MARD = 0.16069503231356777\n"
     ]
    }
   ],
   "source": [
    "ch1_slope_train = self_cal_model_dict['self_cal_model_0'].predict(x_train_norm)\n",
    "print(f'Max of predict_slope is {ch1_slope_train.max()}')\n",
    "print(f'Min of predict_slope is {ch1_slope_train.min()}')\n",
    "ch1_intercept_train = self_cal_model_dict['self_cal_model_1'].predict(x_train_norm)\n",
    "print(f'Max of predict_intercept is {ch1_intercept_train.max()}')\n",
    "print(f'Min of predict_intercept is {ch1_intercept_train.min()}')\n",
    "df_training_valid['model_output_s1_selfcal'] = df_training_valid['model_output_s1_calculateGlucose'].sub(ch1_intercept_train).div(ch1_slope_train)\n",
    "n_ch1_train_today = df_training_valid['model_output_s1_calculateGlucose'].sub(df_training_valid['cgm_adj']).div(df_training_valid['cgm_adj']).count()\n",
    "mrd_ch1_train_today = df_training_valid['model_output_s1_calculateGlucose'].sub(df_training_valid['cgm_adj']).div(df_training_valid['cgm_adj']).mean()\n",
    "stdrd_ch1_train_today = df_training_valid['model_output_s1_calculateGlucose'].sub(df_training_valid['cgm_adj']).div(df_training_valid['cgm_adj']).std()\n",
    "mard_ch1_train_today = df_training_valid['model_output_s1_calculateGlucose'].sub(df_training_valid['cgm_adj']).div(df_training_valid['cgm_adj']).abs().mean()\n",
    "n_ch1_train_selfcal = df_training_valid['model_output_s1_selfcal'].sub(df_training_valid['cgm_adj']).div(df_training_valid['cgm_adj']).count()\n",
    "mrd_ch1_train_selfcal = df_training_valid['model_output_s1_selfcal'].sub(df_training_valid['cgm_adj']).div(df_training_valid['cgm_adj']).mean()\n",
    "stdrd_ch1_train_selfcal = df_training_valid['model_output_s1_selfcal'].sub(df_training_valid['cgm_adj']).div(df_training_valid['cgm_adj']).std()\n",
    "mard_ch1_train_selfcal = df_training_valid['model_output_s1_selfcal'].sub(df_training_valid['cgm_adj']).div(df_training_valid['cgm_adj']).abs().mean()\n",
    "n_ch1_train_retro = df_training_valid['retro_model_output_s1_calculateGlucose'].sub(df_training_valid['cgm_adj']).div(df_training_valid['cgm_adj']).count()\n",
    "mrd_ch1_train_retro = df_training_valid['retro_model_output_s1_calculateGlucose'].sub(df_training_valid['cgm_adj']).div(df_training_valid['cgm_adj']).mean()\n",
    "stdrd_ch1_train_retro = df_training_valid['retro_model_output_s1_calculateGlucose'].sub(df_training_valid['cgm_adj']).div(df_training_valid['cgm_adj']).std()\n",
    "mard_ch1_train_retro = df_training_valid['retro_model_output_s1_calculateGlucose'].sub(df_training_valid['cgm_adj']).div(df_training_valid['cgm_adj']).abs().mean()\n",
    "print(f'Training data for ch1 glucose by model today N = {n_ch1_train_today}, MRD = {mrd_ch1_train_today}, StdRD = {stdrd_ch1_train_today}, MARD = {mard_ch1_train_today}')\n",
    "print(f'Training data for ch1 glucose by selfcal N = {n_ch1_train_selfcal}, MRD = {mrd_ch1_train_selfcal}, StdRD = {stdrd_ch1_train_selfcal}, MARD = {mard_ch1_train_selfcal}')\n",
    "print(f'Training data for ch1 glucose by retro N = {n_ch1_train_retro}, MRD = {mrd_ch1_train_retro}, StdRD = {stdrd_ch1_train_retro}, MARD = {mard_ch1_train_retro}')\n",
    "\n",
    "ch1_slope_test = self_cal_model_dict['self_cal_model_0'].predict(x_test_norm)\n",
    "print(f'Max of predict_slope is {ch1_slope_test.max()}')\n",
    "print(f'Min of predict_slope is {ch1_slope_test.min()}')\n",
    "ch1_intercept_test = self_cal_model_dict['self_cal_model_1'].predict(x_test_norm)\n",
    "print(f'Max of predict_intercept is {ch1_intercept_test.max()}')\n",
    "print(f'Min of predict_intercept is {ch1_intercept_test.min()}')\n",
    "df_test_valid['model_output_s1_selfcal'] = df_test_valid['model_output_s1_calculateGlucose'].sub(ch1_intercept_test).div(ch1_slope_test)\n",
    "n_ch1_test_today = df_test_valid['model_output_s1_calculateGlucose'].sub(df_test_valid['cgm_adj']).div(df_test_valid['cgm_adj']).count()\n",
    "mrd_ch1_test_today = df_test_valid['model_output_s1_calculateGlucose'].sub(df_test_valid['cgm_adj']).div(df_test_valid['cgm_adj']).mean()\n",
    "stdrd_ch1_test_today = df_test_valid['model_output_s1_calculateGlucose'].sub(df_test_valid['cgm_adj']).div(df_test_valid['cgm_adj']).std()\n",
    "mard_ch1_test_today = df_test_valid['model_output_s1_calculateGlucose'].sub(df_test_valid['cgm_adj']).div(df_test_valid['cgm_adj']).abs().mean()\n",
    "n_ch1_test_selfcal = df_test_valid['model_output_s1_selfcal'].sub(df_test_valid['cgm_adj']).div(df_test_valid['cgm_adj']).count()\n",
    "mrd_ch1_test_selfcal = df_test_valid['model_output_s1_selfcal'].sub(df_test_valid['cgm_adj']).div(df_test_valid['cgm_adj']).mean()\n",
    "stdrd_ch1_test_selfcal = df_test_valid['model_output_s1_selfcal'].sub(df_test_valid['cgm_adj']).div(df_test_valid['cgm_adj']).std()\n",
    "mard_ch1_test_selfcal = df_test_valid['model_output_s1_selfcal'].sub(df_test_valid['cgm_adj']).div(df_test_valid['cgm_adj']).abs().mean()\n",
    "n_ch1_test_retro = df_test_valid['retro_model_output_s1_calculateGlucose'].sub(df_test_valid['cgm_adj']).div(df_test_valid['cgm_adj']).count()\n",
    "mrd_ch1_test_retro = df_test_valid['retro_model_output_s1_calculateGlucose'].sub(df_test_valid['cgm_adj']).div(df_test_valid['cgm_adj']).mean()\n",
    "stdrd_ch1_test_retro = df_test_valid['retro_model_output_s1_calculateGlucose'].sub(df_test_valid['cgm_adj']).div(df_test_valid['cgm_adj']).std()\n",
    "mard_ch1_test_retro = df_test_valid['retro_model_output_s1_calculateGlucose'].sub(df_test_valid['cgm_adj']).div(df_test_valid['cgm_adj']).abs().mean()\n",
    "print(f'Test data for ch1 glucose by model today N = {n_ch1_test_today}, MRD = {mrd_ch1_test_today}, StdRD = {stdrd_ch1_test_today}, MARD = {mard_ch1_test_today}')\n",
    "print(f'Test data for ch1 glucose by selfcal N = {n_ch1_test_selfcal}, MRD = {mrd_ch1_test_selfcal}, StdRD = {stdrd_ch1_test_selfcal}, MARD = {mard_ch1_test_selfcal}')\n",
    "print(f'Test data for ch1 glucose by retro N = {n_ch1_test_retro}, MRD = {mrd_ch1_test_retro}, StdRD = {stdrd_ch1_test_retro}, MARD = {mard_ch1_test_retro}')"
   ]
  },
  {
   "cell_type": "code",
   "execution_count": 22,
   "metadata": {},
   "outputs": [
    {
     "name": "stdout",
     "output_type": "stream",
     "text": [
      "Max of predict_slope is 1.5178701998508712\n",
      "Min of predict_slope is 0.5410513277164305\n",
      "Max of predict_intercept is 27.35787374904198\n",
      "Min of predict_intercept is -106.83652246385364\n"
     ]
    },
    {
     "name": "stderr",
     "output_type": "stream",
     "text": [
      "/var/folders/nr/d5llxsx51b3fljj36q8cwm1c0000gp/T/ipykernel_8323/2400631413.py:12: SettingWithCopyWarning:\n",
      "\n",
      "\n",
      "A value is trying to be set on a copy of a slice from a DataFrame.\n",
      "Try using .loc[row_indexer,col_indexer] = value instead\n",
      "\n",
      "See the caveats in the documentation: https://pandas.pydata.org/pandas-docs/stable/user_guide/indexing.html#returning-a-view-versus-a-copy\n",
      "\n"
     ]
    },
    {
     "name": "stdout",
     "output_type": "stream",
     "text": [
      "Training data for ch1 glucose by model today N = 328214, MRD = -0.03899769274765646, StdRD = 0.308170418856884, MARD = 0.2259532496283006\n",
      "Training data for ch1 glucose by selfcal N = 328214, MRD = 0.012058417904563946, StdRD = 0.2945880888770862, MARD = 0.2142369005473645\n",
      "Training data for ch1 glucose by retro N = 323773, MRD = 0.03223530188190728, StdRD = 0.4318273886857706, MARD = 0.19402882282784342\n",
      "Max of predict_slope is 1.5137007272140575\n",
      "Min of predict_slope is 0.541057089222587\n",
      "Max of predict_intercept is 27.35857496084264\n",
      "Min of predict_intercept is -106.83756761899988\n",
      "Test data for ch1 glucose by model today N = 44042, MRD = -0.22569659157780864, StdRD = 0.21951972992760932, MARD = 0.25244884098748405\n",
      "Test data for ch1 glucose by selfcal N = 44042, MRD = -0.016016892132042257, StdRD = 0.5892412473025731, MARD = 0.4004275318112295\n",
      "Test data for ch1 glucose by retro N = 44042, MRD = 0.002304639647720784, StdRD = 0.25013297878584756, MARD = 0.17623555066067595\n"
     ]
    },
    {
     "name": "stderr",
     "output_type": "stream",
     "text": [
      "/var/folders/nr/d5llxsx51b3fljj36q8cwm1c0000gp/T/ipykernel_8323/2400631413.py:38: SettingWithCopyWarning:\n",
      "\n",
      "\n",
      "A value is trying to be set on a copy of a slice from a DataFrame.\n",
      "Try using .loc[row_indexer,col_indexer] = value instead\n",
      "\n",
      "See the caveats in the documentation: https://pandas.pydata.org/pandas-docs/stable/user_guide/indexing.html#returning-a-view-versus-a-copy\n",
      "\n"
     ]
    }
   ],
   "source": [
    "df = df_orig[all_cols].copy()\n",
    "\n",
    "df_train_ysi = df.loc[training_index]\n",
    "x_train_ysi = df_train_ysi[feature_col]\n",
    "x_train_ysi_norm = min_max_scaler.transform(x_train_ysi)\n",
    "ch1_slope_train = self_cal_model_dict['self_cal_model_0'].predict(x_train_ysi_norm)\n",
    "print(f'Max of predict_slope is {ch1_slope_train.max()}')\n",
    "print(f'Min of predict_slope is {ch1_slope_train.min()}')\n",
    "ch1_intercept_train = self_cal_model_dict['self_cal_model_1'].predict(x_train_ysi_norm)\n",
    "print(f'Max of predict_intercept is {ch1_intercept_train.max()}')\n",
    "print(f'Min of predict_intercept is {ch1_intercept_train.min()}')\n",
    "df_train_ysi['model_output_s1_selfcal'] = df_train_ysi['model_output_s1_calculateGlucose'].sub(ch1_intercept_train).div(ch1_slope_train)\n",
    "n_ch1_train_today = df_train_ysi['model_output_s1_calculateGlucose'].sub(df_train_ysi['ysi']).div(df_train_ysi['ysi']).count()\n",
    "mrd_ch1_train_today = df_train_ysi['model_output_s1_calculateGlucose'].sub(df_train_ysi['ysi']).div(df_train_ysi['ysi']).mean()\n",
    "stdrd_ch1_train_today = df_train_ysi['model_output_s1_calculateGlucose'].sub(df_train_ysi['ysi']).div(df_train_ysi['ysi']).std()\n",
    "mard_ch1_train_today = df_train_ysi['model_output_s1_calculateGlucose'].sub(df_train_ysi['ysi']).div(df_train_ysi['ysi']).abs().mean()\n",
    "n_ch1_train_selfcal = df_train_ysi['model_output_s1_selfcal'].sub(df_train_ysi['ysi']).div(df_train_ysi['ysi']).count()\n",
    "mrd_ch1_train_selfcal = df_train_ysi['model_output_s1_selfcal'].sub(df_train_ysi['ysi']).div(df_train_ysi['ysi']).mean()\n",
    "stdrd_ch1_train_selfcal = df_train_ysi['model_output_s1_selfcal'].sub(df_train_ysi['ysi']).div(df_train_ysi['ysi']).std()\n",
    "mard_ch1_train_selfcal = df_train_ysi['model_output_s1_selfcal'].sub(df_train_ysi['ysi']).div(df_train_ysi['ysi']).abs().mean()\n",
    "n_ch1_train_retro = df_train_ysi['retro_model_output_s1_calculateGlucose'].sub(df_train_ysi['ysi']).div(df_train_ysi['ysi']).count()\n",
    "mrd_ch1_train_retro = df_train_ysi['retro_model_output_s1_calculateGlucose'].sub(df_train_ysi['ysi']).div(df_train_ysi['ysi']).mean()\n",
    "stdrd_ch1_train_retro = df_train_ysi['retro_model_output_s1_calculateGlucose'].sub(df_train_ysi['ysi']).div(df_train_ysi['ysi']).std()\n",
    "mard_ch1_train_retro = df_train_ysi['retro_model_output_s1_calculateGlucose'].sub(df_train_ysi['ysi']).div(df_train_ysi['ysi']).abs().mean()\n",
    "print(f'Training data for ch1 glucose by model today N = {n_ch1_train_today}, MRD = {mrd_ch1_train_today}, StdRD = {stdrd_ch1_train_today}, MARD = {mard_ch1_train_today}')\n",
    "print(f'Training data for ch1 glucose by selfcal N = {n_ch1_train_selfcal}, MRD = {mrd_ch1_train_selfcal}, StdRD = {stdrd_ch1_train_selfcal}, MARD = {mard_ch1_train_selfcal}')\n",
    "print(f'Training data for ch1 glucose by retro N = {n_ch1_train_retro}, MRD = {mrd_ch1_train_retro}, StdRD = {stdrd_ch1_train_retro}, MARD = {mard_ch1_train_retro}')\n",
    "\n",
    "df_test_ysi = df.loc[test_index]\n",
    "x_test_ysi = df_test_ysi[feature_col]\n",
    "x_test_ysi_norm = min_max_scaler.transform(x_test_ysi)\n",
    "ch1_slope_test = self_cal_model_dict['self_cal_model_0'].predict(x_test_ysi_norm)\n",
    "print(f'Max of predict_slope is {ch1_slope_test.max()}')\n",
    "print(f'Min of predict_slope is {ch1_slope_test.min()}')\n",
    "ch1_intercept_test = self_cal_model_dict['self_cal_model_1'].predict(x_test_ysi_norm)\n",
    "print(f'Max of predict_intercept is {ch1_intercept_test.max()}')\n",
    "print(f'Min of predict_intercept is {ch1_intercept_test.min()}')\n",
    "df_test_ysi['model_output_s1_selfcal'] = df_test_ysi['model_output_s1_calculateGlucose'].sub(ch1_intercept_test).div(ch1_slope_test)\n",
    "n_ch1_test_today = df_test_ysi['model_output_s1_calculateGlucose'].sub(df_test_ysi['ysi']).div(df_test_ysi['ysi']).count()\n",
    "mrd_ch1_test_today = df_test_ysi['model_output_s1_calculateGlucose'].sub(df_test_ysi['ysi']).div(df_test_ysi['ysi']).mean()\n",
    "stdrd_ch1_test_today = df_test_ysi['model_output_s1_calculateGlucose'].sub(df_test_ysi['ysi']).div(df_test_ysi['ysi']).std()\n",
    "mard_ch1_test_today = df_test_ysi['model_output_s1_calculateGlucose'].sub(df_test_ysi['ysi']).div(df_test_ysi['ysi']).abs().mean()\n",
    "n_ch1_test_selfcal = df_test_ysi['model_output_s1_selfcal'].sub(df_test_ysi['ysi']).div(df_test_ysi['ysi']).count()\n",
    "mrd_ch1_test_selfcal = df_test_ysi['model_output_s1_selfcal'].sub(df_test_ysi['ysi']).div(df_test_ysi['ysi']).mean()\n",
    "stdrd_ch1_test_selfcal = df_test_ysi['model_output_s1_selfcal'].sub(df_test_ysi['ysi']).div(df_test_ysi['ysi']).std()\n",
    "mard_ch1_test_selfcal = df_test_ysi['model_output_s1_selfcal'].sub(df_test_ysi['ysi']).div(df_test_ysi['ysi']).abs().mean()\n",
    "n_ch1_test_retro = df_test_ysi['retro_model_output_s1_calculateGlucose'].sub(df_test_ysi['ysi']).div(df_test_ysi['ysi']).count()\n",
    "mrd_ch1_test_retro = df_test_ysi['retro_model_output_s1_calculateGlucose'].sub(df_test_ysi['ysi']).div(df_test_ysi['ysi']).mean()\n",
    "stdrd_ch1_test_retro = df_test_ysi['retro_model_output_s1_calculateGlucose'].sub(df_test_ysi['ysi']).div(df_test_ysi['ysi']).std()\n",
    "mard_ch1_test_retro = df_test_ysi['retro_model_output_s1_calculateGlucose'].sub(df_test_ysi['ysi']).div(df_test_ysi['ysi']).abs().mean()\n",
    "print(f'Test data for ch1 glucose by model today N = {n_ch1_test_today}, MRD = {mrd_ch1_test_today}, StdRD = {stdrd_ch1_test_today}, MARD = {mard_ch1_test_today}')\n",
    "print(f'Test data for ch1 glucose by selfcal N = {n_ch1_test_selfcal}, MRD = {mrd_ch1_test_selfcal}, StdRD = {stdrd_ch1_test_selfcal}, MARD = {mard_ch1_test_selfcal}')\n",
    "print(f'Test data for ch1 glucose by retro N = {n_ch1_test_retro}, MRD = {mrd_ch1_test_retro}, StdRD = {stdrd_ch1_test_retro}, MARD = {mard_ch1_test_retro}')"
   ]
  },
  {
   "cell_type": "code",
   "execution_count": 23,
   "metadata": {},
   "outputs": [
    {
     "name": "stdout",
     "output_type": "stream",
     "text": [
      "Max of predict_slope is 1.5178701998508712\n",
      "Min of predict_slope is 0.5410513277164305\n",
      "Max of predict_intercept is 27.35787374904198\n",
      "Min of predict_intercept is -106.83652246385364\n"
     ]
    },
    {
     "name": "stderr",
     "output_type": "stream",
     "text": [
      "/var/folders/nr/d5llxsx51b3fljj36q8cwm1c0000gp/T/ipykernel_8323/1501457173.py:13: SettingWithCopyWarning:\n",
      "\n",
      "\n",
      "A value is trying to be set on a copy of a slice from a DataFrame.\n",
      "Try using .loc[row_indexer,col_indexer] = value instead\n",
      "\n",
      "See the caveats in the documentation: https://pandas.pydata.org/pandas-docs/stable/user_guide/indexing.html#returning-a-view-versus-a-copy\n",
      "\n"
     ]
    },
    {
     "name": "stdout",
     "output_type": "stream",
     "text": [
      "Training data for ch1 glucose by model today N = 286796, MRD = 0.013744876961750734, StdRD = 0.23517822865477775, MARD = 0.17880000000212173\n",
      "Training data for ch1 glucose by selfcal N = 286796, MRD = 0.05940115725619481, StdRD = 0.23489810026009378, MARD = 0.17981880605534284\n",
      "Training data for ch1 glucose by retro N = 323773, MRD = 0.03223530188190728, StdRD = 0.4318273886857706, MARD = 0.19402882282784342\n",
      "Max of predict_slope is 1.5137007272140575\n",
      "Min of predict_slope is 0.541057089222587\n",
      "Max of predict_intercept is 27.35857496084264\n",
      "Min of predict_intercept is -106.83756761899988\n",
      "Test data for ch1 glucose by model today N = 39614, MRD = -0.19201181631131736, StdRD = 0.18187142372651005, MARD = 0.2216389180078642\n",
      "Test data for ch1 glucose by selfcal N = 39614, MRD = 0.014463087220663653, StdRD = 0.568821867700014, MARD = 0.3765788293763973\n",
      "Test data for ch1 glucose by retro N = 44042, MRD = 0.002304639647720784, StdRD = 0.25013297878584756, MARD = 0.17623555066067595\n"
     ]
    },
    {
     "name": "stderr",
     "output_type": "stream",
     "text": [
      "/var/folders/nr/d5llxsx51b3fljj36q8cwm1c0000gp/T/ipykernel_8323/1501457173.py:39: SettingWithCopyWarning:\n",
      "\n",
      "\n",
      "A value is trying to be set on a copy of a slice from a DataFrame.\n",
      "Try using .loc[row_indexer,col_indexer] = value instead\n",
      "\n",
      "See the caveats in the documentation: https://pandas.pydata.org/pandas-docs/stable/user_guide/indexing.html#returning-a-view-versus-a-copy\n",
      "\n"
     ]
    }
   ],
   "source": [
    "df = df_orig[all_cols].copy()\n",
    "\n",
    "df_test_ysi = df.loc[training_index]\n",
    "x_train_ysi = df_test_ysi[feature_col]\n",
    "x_train_ysi_norm = min_max_scaler.transform(x_train_ysi)\n",
    "\n",
    "ch1_slope_train = self_cal_model_dict['self_cal_model_0'].predict(x_train_ysi_norm)\n",
    "print(f'Max of predict_slope is {ch1_slope_train.max()}')\n",
    "print(f'Min of predict_slope is {ch1_slope_train.min()}')\n",
    "ch1_intercept_train = self_cal_model_dict['self_cal_model_1'].predict(x_train_ysi_norm)\n",
    "print(f'Max of predict_intercept is {ch1_intercept_train.max()}')\n",
    "print(f'Min of predict_intercept is {ch1_intercept_train.min()}')\n",
    "df_test_ysi['biolinq_s1_selfcal'] = df_test_ysi['biolinq_s1_channelFaultDetection'].sub(ch1_intercept_train).div(ch1_slope_train)\n",
    "n_ch1_train_today = df_test_ysi['biolinq_s1_channelFaultDetection'].sub(df_test_ysi['ysi']).div(df_test_ysi['ysi']).count()\n",
    "mrd_ch1_train_today = df_test_ysi['biolinq_s1_channelFaultDetection'].sub(df_test_ysi['ysi']).div(df_test_ysi['ysi']).mean()\n",
    "stdrd_ch1_train_today = df_test_ysi['biolinq_s1_channelFaultDetection'].sub(df_test_ysi['ysi']).div(df_test_ysi['ysi']).std()\n",
    "mard_ch1_train_today = df_test_ysi['biolinq_s1_channelFaultDetection'].sub(df_test_ysi['ysi']).div(df_test_ysi['ysi']).abs().mean()\n",
    "n_ch1_train_selfcal = df_test_ysi['biolinq_s1_selfcal'].sub(df_test_ysi['ysi']).div(df_test_ysi['ysi']).count()\n",
    "mrd_ch1_train_selfcal = df_test_ysi['biolinq_s1_selfcal'].sub(df_test_ysi['ysi']).div(df_test_ysi['ysi']).mean()\n",
    "stdrd_ch1_train_selfcal = df_test_ysi['biolinq_s1_selfcal'].sub(df_test_ysi['ysi']).div(df_test_ysi['ysi']).std()\n",
    "mard_ch1_train_selfcal = df_test_ysi['biolinq_s1_selfcal'].sub(df_test_ysi['ysi']).div(df_test_ysi['ysi']).abs().mean()\n",
    "n_ch1_train_retro = df_test_ysi['retro_model_output_s1_calculateGlucose'].sub(df_test_ysi['ysi']).div(df_test_ysi['ysi']).count()\n",
    "mrd_ch1_train_retro = df_test_ysi['retro_model_output_s1_calculateGlucose'].sub(df_test_ysi['ysi']).div(df_test_ysi['ysi']).mean()\n",
    "stdrd_ch1_train_retro = df_test_ysi['retro_model_output_s1_calculateGlucose'].sub(df_test_ysi['ysi']).div(df_test_ysi['ysi']).std()\n",
    "mard_ch1_train_retro = df_test_ysi['retro_model_output_s1_calculateGlucose'].sub(df_test_ysi['ysi']).div(df_test_ysi['ysi']).abs().mean()\n",
    "print(f'Training data for ch1 glucose by model today N = {n_ch1_train_today}, MRD = {mrd_ch1_train_today}, StdRD = {stdrd_ch1_train_today}, MARD = {mard_ch1_train_today}')\n",
    "print(f'Training data for ch1 glucose by selfcal N = {n_ch1_train_selfcal}, MRD = {mrd_ch1_train_selfcal}, StdRD = {stdrd_ch1_train_selfcal}, MARD = {mard_ch1_train_selfcal}')\n",
    "print(f'Training data for ch1 glucose by retro N = {n_ch1_train_retro}, MRD = {mrd_ch1_train_retro}, StdRD = {stdrd_ch1_train_retro}, MARD = {mard_ch1_train_retro}')\n",
    "\n",
    "df_test_ysi = df.loc[test_index]\n",
    "x_test_ysi = df_test_ysi[feature_col]\n",
    "x_test_ysi_norm = min_max_scaler.transform(x_test_ysi)\n",
    "ch1_slope_test = self_cal_model_dict['self_cal_model_0'].predict(x_test_ysi_norm)\n",
    "print(f'Max of predict_slope is {ch1_slope_test.max()}')\n",
    "print(f'Min of predict_slope is {ch1_slope_test.min()}')\n",
    "ch1_intercept_test = self_cal_model_dict['self_cal_model_1'].predict(x_test_ysi_norm)\n",
    "print(f'Max of predict_intercept is {ch1_intercept_test.max()}')\n",
    "print(f'Min of predict_intercept is {ch1_intercept_test.min()}')\n",
    "df_test_ysi['biolinq_s1_selfcal'] = df_test_ysi['biolinq_s1_channelFaultDetection'].sub(ch1_intercept_test).div(ch1_slope_test)\n",
    "n_ch1_test_today = df_test_ysi['biolinq_s1_channelFaultDetection'].sub(df_test_ysi['ysi']).div(df_test_ysi['ysi']).count()\n",
    "mrd_ch1_test_today = df_test_ysi['biolinq_s1_channelFaultDetection'].sub(df_test_ysi['ysi']).div(df_test_ysi['ysi']).mean()\n",
    "stdrd_ch1_test_today = df_test_ysi['biolinq_s1_channelFaultDetection'].sub(df_test_ysi['ysi']).div(df_test_ysi['ysi']).std()\n",
    "mard_ch1_test_today = df_test_ysi['biolinq_s1_channelFaultDetection'].sub(df_test_ysi['ysi']).div(df_test_ysi['ysi']).abs().mean()\n",
    "n_ch1_test_selfcal = df_test_ysi['biolinq_s1_selfcal'].sub(df_test_ysi['ysi']).div(df_test_ysi['ysi']).count()\n",
    "mrd_ch1_test_selfcal = df_test_ysi['biolinq_s1_selfcal'].sub(df_test_ysi['ysi']).div(df_test_ysi['ysi']).mean()\n",
    "stdrd_ch1_test_selfcal = df_test_ysi['biolinq_s1_selfcal'].sub(df_test_ysi['ysi']).div(df_test_ysi['ysi']).std()\n",
    "mard_ch1_test_selfcal = df_test_ysi['biolinq_s1_selfcal'].sub(df_test_ysi['ysi']).div(df_test_ysi['ysi']).abs().mean()\n",
    "n_ch1_test_retro = df_test_ysi['retro_model_output_s1_calculateGlucose'].sub(df_test_ysi['ysi']).div(df_test_ysi['ysi']).count()\n",
    "mrd_ch1_test_retro = df_test_ysi['retro_model_output_s1_calculateGlucose'].sub(df_test_ysi['ysi']).div(df_test_ysi['ysi']).mean()\n",
    "stdrd_ch1_test_retro = df_test_ysi['retro_model_output_s1_calculateGlucose'].sub(df_test_ysi['ysi']).div(df_test_ysi['ysi']).std()\n",
    "mard_ch1_test_retro = df_test_ysi['retro_model_output_s1_calculateGlucose'].sub(df_test_ysi['ysi']).div(df_test_ysi['ysi']).abs().mean()\n",
    "print(f'Test data for ch1 glucose by model today N = {n_ch1_test_today}, MRD = {mrd_ch1_test_today}, StdRD = {stdrd_ch1_test_today}, MARD = {mard_ch1_test_today}')\n",
    "print(f'Test data for ch1 glucose by selfcal N = {n_ch1_test_selfcal}, MRD = {mrd_ch1_test_selfcal}, StdRD = {stdrd_ch1_test_selfcal}, MARD = {mard_ch1_test_selfcal}')\n",
    "print(f'Test data for ch1 glucose by retro N = {n_ch1_test_retro}, MRD = {mrd_ch1_test_retro}, StdRD = {stdrd_ch1_test_retro}, MARD = {mard_ch1_test_retro}')"
   ]
  },
  {
   "cell_type": "code",
   "execution_count": 24,
   "metadata": {},
   "outputs": [
    {
     "data": {
      "text/plain": [
       "[0.5410513277164305,\n",
       " 1.5178701998508712,\n",
       " -106.83652246385364,\n",
       " 27.35787374904198,\n",
       " 0.541057089222587,\n",
       " 1.5137007272140575,\n",
       " -106.83756761899988,\n",
       " 27.35857496084264]"
      ]
     },
     "execution_count": 24,
     "metadata": {},
     "output_type": "execute_result"
    }
   ],
   "source": [
    "[ch1_slope_train.min(),\n",
    "ch1_slope_train.max(),\n",
    "ch1_intercept_train.min(),\n",
    "ch1_intercept_train.max(),\n",
    "ch1_slope_test.min(),\n",
    "ch1_slope_test.max(),\n",
    "ch1_intercept_test.min(),\n",
    "ch1_intercept_test.max()]"
   ]
  },
  {
   "cell_type": "code",
   "execution_count": 37,
   "metadata": {},
   "outputs": [
    {
     "name": "stdout",
     "output_type": "stream",
     "text": [
      "Optimizing parameter 2\n",
      "Max of predict_slope is 1.3868113209078223\n",
      "Min of predict_slope is 0.4810956949676958\n",
      "The model today has MSE=0.09219948658034981\n",
      "The self cal model has MSE=0.06862182328656398\n",
      "Max of predict_slope_test is 1.3693525554671102\n",
      "Min of predict_slope_test is 0.478753659047818\n",
      "The model today on test has MSE=0.07145412868691003\n",
      "The self cal model on test has MSE=0.07411799675960375\n"
     ]
    }
   ],
   "source": [
    "# For channel 3 slope\n",
    "i = 2\n",
    "print(f'Optimizing parameter {i}')\n",
    "self_cal_model = MLPRegressor(hidden_layer_sizes=(10,10,10,1),activation='logistic',solver='adam',alpha=1e-4,max_iter=int(1e4),tol=1e-4,learning_rate='adaptive',random_state=20140806)\n",
    "self_cal_model.fit(x_train_norm,y_train[:,i])\n",
    "predict_slope = self_cal_model.predict(x_train_norm)\n",
    "print(f'Max of predict_slope is {predict_slope.max()}')\n",
    "print(f'Min of predict_slope is {predict_slope.min()}')\n",
    "# predict_slope[predict_slope<0.12] = 1\n",
    "# predict_slope[predict_slope>2.4] = 1\n",
    "mse_train_selfcal = np.mean((predict_slope - y_train[:,i])**2)\n",
    "mse_train_today = np.mean((1-y_train[:,i])**2)\n",
    "print(f'The model today has MSE={mse_train_today}')\n",
    "print(f'The self cal model has MSE={mse_train_selfcal}')\n",
    "\n",
    "predict_slope_test = self_cal_model.predict(x_test_norm)\n",
    "print(f'Max of predict_slope_test is {predict_slope_test.max()}')\n",
    "print(f'Min of predict_slope_test is {predict_slope_test.min()}')\n",
    "# predict_slope_test[predict_slope_test<0.12] = 1\n",
    "# predict_slope_test[predict_slope_test>2.4] = 1    \n",
    "mse_test_selfcal = np.mean((predict_slope_test - y_test[:,i])**2)\n",
    "mse_test_today = np.mean((1-y_test[:,i])**2)\n",
    "print(f'The model today on test has MSE={mse_test_today}')\n",
    "print(f'The self cal model on test has MSE={mse_test_selfcal}')\n",
    "self_cal_model_dict[f'self_cal_model_{i}'] = self_cal_model"
   ]
  },
  {
   "cell_type": "code",
   "execution_count": 38,
   "metadata": {},
   "outputs": [
    {
     "name": "stdout",
     "output_type": "stream",
     "text": [
      "Optimizing parameter 3\n",
      "Max of predict_intercept is 93.38715984045159\n",
      "Min of predict_intercept is -95.47482315594551\n",
      "The model today has MSE=941.7469927194347\n",
      "The self cal model has MSE=659.5401963199821\n",
      "Max of predict_intercept_test is 81.10202032795473\n",
      "Min of predict_intercept_test is -95.47482315594551\n",
      "The model today on test has MSE=602.4130508484769\n",
      "The self cal model on test has MSE=853.6724571988706\n"
     ]
    }
   ],
   "source": [
    "# For channel 3 intercept\n",
    "i = 3\n",
    "print(f'Optimizing parameter {i}')\n",
    "self_cal_model = MLPRegressor(hidden_layer_sizes=(10,10,10,1),activation='logistic',solver='adam',alpha=1e-4,max_iter=int(1e4),tol=1e-4,learning_rate='adaptive',random_state=20140806)\n",
    "self_cal_model.fit(x_train_norm,y_train[:,i])\n",
    "predict_intercept = self_cal_model.predict(x_train_norm)\n",
    "print(f'Max of predict_intercept is {predict_intercept.max()}')\n",
    "print(f'Min of predict_intercept is {predict_intercept.min()}')    \n",
    "# predict_intercept[predict_intercept<-100] = 0\n",
    "# predict_intercept[predict_intercept>100] = 0   \n",
    "mse_train_selfcal = np.mean((predict_intercept - y_train[:,i])**2)\n",
    "mse_train_today = np.mean(y_train[:,i]**2)\n",
    "print(f'The model today has MSE={mse_train_today}')\n",
    "print(f'The self cal model has MSE={mse_train_selfcal}')\n",
    "\n",
    "predict_intercept_test = self_cal_model.predict(x_test_norm)\n",
    "print(f'Max of predict_intercept_test is {predict_intercept_test.max()}')\n",
    "print(f'Min of predict_intercept_test is {predict_intercept_test.min()}')    \n",
    "# predict_intercept_test[predict_intercept_test<-100] = 0\n",
    "# predict_intercept_test[predict_intercept_test>100] = 0     \n",
    "mse_test_selfcal = np.mean((predict_intercept_test - y_test[:,i])**2)\n",
    "mse_test_today = np.mean(y_test[:,i]**2)\n",
    "print(f'The model today on test has MSE={mse_test_today}')\n",
    "print(f'The self cal model on test has MSE={mse_test_selfcal}')\n",
    "self_cal_model_dict[f'self_cal_model_{i}'] = self_cal_model"
   ]
  },
  {
   "cell_type": "code",
   "execution_count": 39,
   "metadata": {},
   "outputs": [
    {
     "name": "stdout",
     "output_type": "stream",
     "text": [
      "Max of predict_slope is 1.3868113209078223\n",
      "Min of predict_slope is 0.4810956949676958\n",
      "Max of predict_intercept is 93.38715984045159\n",
      "Min of predict_intercept is -95.47482315594551\n",
      "Training data for ch3 glucose by model today N = 6225452, MRD = -0.10880496163635991, StdRD = 0.409228767068777, MARD = 0.24512183237647348\n",
      "Training data for ch3 glucose by selfcal N = 6225452, MRD = -0.008241303522683593, StdRD = 0.46287787282523996, MARD = 0.21621806844862423\n",
      "Training data for ch3 glucose by retro N = 6225452, MRD = -0.0012286261266750648, StdRD = 0.44368992395898393, MARD = 0.18188229257663047\n",
      "Max of predict_slope is 1.3693525554671102\n",
      "Min of predict_slope is 0.478753659047818\n",
      "Max of predict_intercept is 81.10202032795473\n",
      "Min of predict_intercept is -95.47482315594551\n",
      "Test data for ch3 glucose by model today N = 659457, MRD = -0.20476619751489103, StdRD = 0.2486731148925224, MARD = 0.2633722332208764\n",
      "Test data for ch3 glucose by selfcal N = 659457, MRD = -0.010198558239254842, StdRD = 0.35785282024784565, MARD = 0.2433115764864766\n",
      "Test data for ch3 glucose by retro N = 659457, MRD = -0.018206650570266873, StdRD = 0.20483044672875794, MARD = 0.13953368064143437\n"
     ]
    }
   ],
   "source": [
    "ch3_slope_train = self_cal_model_dict['self_cal_model_2'].predict(x_train_norm)\n",
    "print(f'Max of predict_slope is {ch3_slope_train.max()}')\n",
    "print(f'Min of predict_slope is {ch3_slope_train.min()}')\n",
    "ch3_intercept_train = self_cal_model_dict['self_cal_model_3'].predict(x_train_norm)\n",
    "print(f'Max of predict_intercept is {ch3_intercept_train.max()}')\n",
    "print(f'Min of predict_intercept is {ch3_intercept_train.min()}')\n",
    "df_training_valid['model_output_s3_selfcal'] = df_training_valid['model_output_s3_calculateGlucose'].sub(ch3_intercept_train).div(ch3_slope_train)\n",
    "n_ch3_train_today = df_training_valid['model_output_s3_calculateGlucose'].sub(df_training_valid['cgm_adj']).div(df_training_valid['cgm_adj']).count()\n",
    "mrd_ch3_train_today = df_training_valid['model_output_s3_calculateGlucose'].sub(df_training_valid['cgm_adj']).div(df_training_valid['cgm_adj']).mean()\n",
    "stdrd_ch3_train_today = df_training_valid['model_output_s3_calculateGlucose'].sub(df_training_valid['cgm_adj']).div(df_training_valid['cgm_adj']).std()\n",
    "mard_ch3_train_today = df_training_valid['model_output_s3_calculateGlucose'].sub(df_training_valid['cgm_adj']).div(df_training_valid['cgm_adj']).abs().mean()\n",
    "n_ch3_train_selfcal = df_training_valid['model_output_s3_selfcal'].sub(df_training_valid['cgm_adj']).div(df_training_valid['cgm_adj']).count()\n",
    "mrd_ch3_train_selfcal = df_training_valid['model_output_s3_selfcal'].sub(df_training_valid['cgm_adj']).div(df_training_valid['cgm_adj']).mean()\n",
    "stdrd_ch3_train_selfcal = df_training_valid['model_output_s3_selfcal'].sub(df_training_valid['cgm_adj']).div(df_training_valid['cgm_adj']).std()\n",
    "mard_ch3_train_selfcal = df_training_valid['model_output_s3_selfcal'].sub(df_training_valid['cgm_adj']).div(df_training_valid['cgm_adj']).abs().mean()\n",
    "n_ch3_train_retro = df_training_valid['retro_model_output_s3_calculateGlucose'].sub(df_training_valid['cgm_adj']).div(df_training_valid['cgm_adj']).count()\n",
    "mrd_ch3_train_retro = df_training_valid['retro_model_output_s3_calculateGlucose'].sub(df_training_valid['cgm_adj']).div(df_training_valid['cgm_adj']).mean()\n",
    "stdrd_ch3_train_retro = df_training_valid['retro_model_output_s3_calculateGlucose'].sub(df_training_valid['cgm_adj']).div(df_training_valid['cgm_adj']).std()\n",
    "mard_ch3_train_retro = df_training_valid['retro_model_output_s3_calculateGlucose'].sub(df_training_valid['cgm_adj']).div(df_training_valid['cgm_adj']).abs().mean()\n",
    "print(f'Training data for ch3 glucose by model today N = {n_ch3_train_today}, MRD = {mrd_ch3_train_today}, StdRD = {stdrd_ch3_train_today}, MARD = {mard_ch3_train_today}')\n",
    "print(f'Training data for ch3 glucose by selfcal N = {n_ch3_train_selfcal}, MRD = {mrd_ch3_train_selfcal}, StdRD = {stdrd_ch3_train_selfcal}, MARD = {mard_ch3_train_selfcal}')\n",
    "print(f'Training data for ch3 glucose by retro N = {n_ch3_train_retro}, MRD = {mrd_ch3_train_retro}, StdRD = {stdrd_ch3_train_retro}, MARD = {mard_ch3_train_retro}')\n",
    "\n",
    "ch3_slope_test = self_cal_model_dict['self_cal_model_2'].predict(x_test_norm)\n",
    "print(f'Max of predict_slope is {ch3_slope_test.max()}')\n",
    "print(f'Min of predict_slope is {ch3_slope_test.min()}')\n",
    "ch3_intercept_test = self_cal_model_dict['self_cal_model_3'].predict(x_test_norm)\n",
    "print(f'Max of predict_intercept is {ch3_intercept_test.max()}')\n",
    "print(f'Min of predict_intercept is {ch3_intercept_test.min()}')\n",
    "df_test_valid['model_output_s3_selfcal'] = df_test_valid['model_output_s3_calculateGlucose'].sub(ch3_intercept_test).div(ch3_slope_test)\n",
    "n_ch3_test_today = df_test_valid['model_output_s3_calculateGlucose'].sub(df_test_valid['cgm_adj']).div(df_test_valid['cgm_adj']).count()\n",
    "mrd_ch3_test_today = df_test_valid['model_output_s3_calculateGlucose'].sub(df_test_valid['cgm_adj']).div(df_test_valid['cgm_adj']).mean()\n",
    "stdrd_ch3_test_today = df_test_valid['model_output_s3_calculateGlucose'].sub(df_test_valid['cgm_adj']).div(df_test_valid['cgm_adj']).std()\n",
    "mard_ch3_test_today = df_test_valid['model_output_s3_calculateGlucose'].sub(df_test_valid['cgm_adj']).div(df_test_valid['cgm_adj']).abs().mean()\n",
    "n_ch3_test_selfcal = df_test_valid['model_output_s3_selfcal'].sub(df_test_valid['cgm_adj']).div(df_test_valid['cgm_adj']).count()\n",
    "mrd_ch3_test_selfcal = df_test_valid['model_output_s3_selfcal'].sub(df_test_valid['cgm_adj']).div(df_test_valid['cgm_adj']).mean()\n",
    "stdrd_ch3_test_selfcal = df_test_valid['model_output_s3_selfcal'].sub(df_test_valid['cgm_adj']).div(df_test_valid['cgm_adj']).std()\n",
    "mard_ch3_test_selfcal = df_test_valid['model_output_s3_selfcal'].sub(df_test_valid['cgm_adj']).div(df_test_valid['cgm_adj']).abs().mean()\n",
    "n_ch3_test_retro = df_test_valid['retro_model_output_s3_calculateGlucose'].sub(df_test_valid['cgm_adj']).div(df_test_valid['cgm_adj']).count()\n",
    "mrd_ch3_test_retro = df_test_valid['retro_model_output_s3_calculateGlucose'].sub(df_test_valid['cgm_adj']).div(df_test_valid['cgm_adj']).mean()\n",
    "stdrd_ch3_test_retro = df_test_valid['retro_model_output_s3_calculateGlucose'].sub(df_test_valid['cgm_adj']).div(df_test_valid['cgm_adj']).std()\n",
    "mard_ch3_test_retro = df_test_valid['retro_model_output_s3_calculateGlucose'].sub(df_test_valid['cgm_adj']).div(df_test_valid['cgm_adj']).abs().mean()\n",
    "print(f'Test data for ch3 glucose by model today N = {n_ch3_test_today}, MRD = {mrd_ch3_test_today}, StdRD = {stdrd_ch3_test_today}, MARD = {mard_ch3_test_today}')\n",
    "print(f'Test data for ch3 glucose by selfcal N = {n_ch3_test_selfcal}, MRD = {mrd_ch3_test_selfcal}, StdRD = {stdrd_ch3_test_selfcal}, MARD = {mard_ch3_test_selfcal}')\n",
    "print(f'Test data for ch3 glucose by retro N = {n_ch3_test_retro}, MRD = {mrd_ch3_test_retro}, StdRD = {stdrd_ch3_test_retro}, MARD = {mard_ch3_test_retro}')"
   ]
  },
  {
   "cell_type": "code",
   "execution_count": 40,
   "metadata": {},
   "outputs": [
    {
     "name": "stdout",
     "output_type": "stream",
     "text": [
      "Max of predict_slope is 1.4241396556365038\n",
      "Min of predict_slope is 0.4787555149918739\n",
      "Max of predict_intercept is 94.25484559333054\n",
      "Min of predict_intercept is -95.47482315594551\n"
     ]
    },
    {
     "name": "stderr",
     "output_type": "stream",
     "text": [
      "/var/folders/nr/d5llxsx51b3fljj36q8cwm1c0000gp/T/ipykernel_8323/1433483117.py:12: SettingWithCopyWarning:\n",
      "\n",
      "\n",
      "A value is trying to be set on a copy of a slice from a DataFrame.\n",
      "Try using .loc[row_indexer,col_indexer] = value instead\n",
      "\n",
      "See the caveats in the documentation: https://pandas.pydata.org/pandas-docs/stable/user_guide/indexing.html#returning-a-view-versus-a-copy\n",
      "\n"
     ]
    },
    {
     "name": "stdout",
     "output_type": "stream",
     "text": [
      "Training data for ch3 glucose by model today N = 328214, MRD = -0.08634752983348658, StdRD = 0.2898881111672664, MARD = 0.22427636514724378\n",
      "Training data for ch3 glucose by selfcal N = 328214, MRD = -0.012464455119047492, StdRD = 0.28740442710512826, MARD = 0.21016223944667495\n",
      "Training data for ch3 glucose by retro N = 323773, MRD = 0.05592438308176151, StdRD = 0.3074331958547224, MARD = 0.18449894316800203\n",
      "Max of predict_slope is 1.3693525554671102\n",
      "Min of predict_slope is 0.478753659047818\n",
      "Max of predict_intercept is 81.10202032795473\n",
      "Min of predict_intercept is -95.47482315594551\n",
      "Test data for ch3 glucose by model today N = 44042, MRD = -0.19906504226935867, StdRD = 0.23780076772625733, MARD = 0.24578955182041193\n",
      "Test data for ch3 glucose by selfcal N = 44042, MRD = 0.07657641278861624, StdRD = 0.4029151038148268, MARD = 0.27208211493983114\n",
      "Test data for ch3 glucose by retro N = 44042, MRD = 0.016434481921882578, StdRD = 0.24627389531784993, MARD = 0.16627167897166684\n"
     ]
    },
    {
     "name": "stderr",
     "output_type": "stream",
     "text": [
      "/var/folders/nr/d5llxsx51b3fljj36q8cwm1c0000gp/T/ipykernel_8323/1433483117.py:38: SettingWithCopyWarning:\n",
      "\n",
      "\n",
      "A value is trying to be set on a copy of a slice from a DataFrame.\n",
      "Try using .loc[row_indexer,col_indexer] = value instead\n",
      "\n",
      "See the caveats in the documentation: https://pandas.pydata.org/pandas-docs/stable/user_guide/indexing.html#returning-a-view-versus-a-copy\n",
      "\n"
     ]
    }
   ],
   "source": [
    "df = df_orig[all_cols].copy()\n",
    "\n",
    "df_train_ysi = df.loc[training_index]\n",
    "x_train_ysi = df_train_ysi[feature_col]\n",
    "x_train_ysi_norm = min_max_scaler.transform(x_train_ysi)\n",
    "ch3_slope_train = self_cal_model_dict['self_cal_model_2'].predict(x_train_ysi_norm)\n",
    "print(f'Max of predict_slope is {ch3_slope_train.max()}')\n",
    "print(f'Min of predict_slope is {ch3_slope_train.min()}')\n",
    "ch3_intercept_train = self_cal_model_dict['self_cal_model_3'].predict(x_train_ysi_norm)\n",
    "print(f'Max of predict_intercept is {ch3_intercept_train.max()}')\n",
    "print(f'Min of predict_intercept is {ch3_intercept_train.min()}')\n",
    "df_train_ysi['model_output_s3_selfcal'] = df_train_ysi['model_output_s3_calculateGlucose'].sub(ch3_intercept_train).div(ch3_slope_train)\n",
    "n_ch3_train_today = df_train_ysi['model_output_s3_calculateGlucose'].sub(df_train_ysi['ysi']).div(df_train_ysi['ysi']).count()\n",
    "mrd_ch3_train_today = df_train_ysi['model_output_s3_calculateGlucose'].sub(df_train_ysi['ysi']).div(df_train_ysi['ysi']).mean()\n",
    "stdrd_ch3_train_today = df_train_ysi['model_output_s3_calculateGlucose'].sub(df_train_ysi['ysi']).div(df_train_ysi['ysi']).std()\n",
    "mard_ch3_train_today = df_train_ysi['model_output_s3_calculateGlucose'].sub(df_train_ysi['ysi']).div(df_train_ysi['ysi']).abs().mean()\n",
    "n_ch3_train_selfcal = df_train_ysi['model_output_s3_selfcal'].sub(df_train_ysi['ysi']).div(df_train_ysi['ysi']).count()\n",
    "mrd_ch3_train_selfcal = df_train_ysi['model_output_s3_selfcal'].sub(df_train_ysi['ysi']).div(df_train_ysi['ysi']).mean()\n",
    "stdrd_ch3_train_selfcal = df_train_ysi['model_output_s3_selfcal'].sub(df_train_ysi['ysi']).div(df_train_ysi['ysi']).std()\n",
    "mard_ch3_train_selfcal = df_train_ysi['model_output_s3_selfcal'].sub(df_train_ysi['ysi']).div(df_train_ysi['ysi']).abs().mean()\n",
    "n_ch3_train_retro = df_train_ysi['retro_model_output_s3_calculateGlucose'].sub(df_train_ysi['ysi']).div(df_train_ysi['ysi']).count()\n",
    "mrd_ch3_train_retro = df_train_ysi['retro_model_output_s3_calculateGlucose'].sub(df_train_ysi['ysi']).div(df_train_ysi['ysi']).mean()\n",
    "stdrd_ch3_train_retro = df_train_ysi['retro_model_output_s3_calculateGlucose'].sub(df_train_ysi['ysi']).div(df_train_ysi['ysi']).std()\n",
    "mard_ch3_train_retro = df_train_ysi['retro_model_output_s3_calculateGlucose'].sub(df_train_ysi['ysi']).div(df_train_ysi['ysi']).abs().mean()\n",
    "print(f'Training data for ch3 glucose by model today N = {n_ch3_train_today}, MRD = {mrd_ch3_train_today}, StdRD = {stdrd_ch3_train_today}, MARD = {mard_ch3_train_today}')\n",
    "print(f'Training data for ch3 glucose by selfcal N = {n_ch3_train_selfcal}, MRD = {mrd_ch3_train_selfcal}, StdRD = {stdrd_ch3_train_selfcal}, MARD = {mard_ch3_train_selfcal}')\n",
    "print(f'Training data for ch3 glucose by retro N = {n_ch3_train_retro}, MRD = {mrd_ch3_train_retro}, StdRD = {stdrd_ch3_train_retro}, MARD = {mard_ch3_train_retro}')\n",
    "\n",
    "df_test_ysi = df.loc[test_index]\n",
    "x_test_ysi = df_test_ysi[feature_col]\n",
    "x_test_ysi_norm = min_max_scaler.transform(x_test_ysi)\n",
    "ch3_slope_test = self_cal_model_dict['self_cal_model_2'].predict(x_test_ysi_norm)\n",
    "print(f'Max of predict_slope is {ch3_slope_test.max()}')\n",
    "print(f'Min of predict_slope is {ch3_slope_test.min()}')\n",
    "ch3_intercept_test = self_cal_model_dict['self_cal_model_3'].predict(x_test_ysi_norm)\n",
    "print(f'Max of predict_intercept is {ch3_intercept_test.max()}')\n",
    "print(f'Min of predict_intercept is {ch3_intercept_test.min()}')\n",
    "df_test_ysi['model_output_s3_selfcal'] = df_test_ysi['model_output_s3_calculateGlucose'].sub(ch3_intercept_test).div(ch3_slope_test)\n",
    "n_ch3_test_today = df_test_ysi['model_output_s3_calculateGlucose'].sub(df_test_ysi['ysi']).div(df_test_ysi['ysi']).count()\n",
    "mrd_ch3_test_today = df_test_ysi['model_output_s3_calculateGlucose'].sub(df_test_ysi['ysi']).div(df_test_ysi['ysi']).mean()\n",
    "stdrd_ch3_test_today = df_test_ysi['model_output_s3_calculateGlucose'].sub(df_test_ysi['ysi']).div(df_test_ysi['ysi']).std()\n",
    "mard_ch3_test_today = df_test_ysi['model_output_s3_calculateGlucose'].sub(df_test_ysi['ysi']).div(df_test_ysi['ysi']).abs().mean()\n",
    "n_ch3_test_selfcal = df_test_ysi['model_output_s3_selfcal'].sub(df_test_ysi['ysi']).div(df_test_ysi['ysi']).count()\n",
    "mrd_ch3_test_selfcal = df_test_ysi['model_output_s3_selfcal'].sub(df_test_ysi['ysi']).div(df_test_ysi['ysi']).mean()\n",
    "stdrd_ch3_test_selfcal = df_test_ysi['model_output_s3_selfcal'].sub(df_test_ysi['ysi']).div(df_test_ysi['ysi']).std()\n",
    "mard_ch3_test_selfcal = df_test_ysi['model_output_s3_selfcal'].sub(df_test_ysi['ysi']).div(df_test_ysi['ysi']).abs().mean()\n",
    "n_ch3_test_retro = df_test_ysi['retro_model_output_s3_calculateGlucose'].sub(df_test_ysi['ysi']).div(df_test_ysi['ysi']).count()\n",
    "mrd_ch3_test_retro = df_test_ysi['retro_model_output_s3_calculateGlucose'].sub(df_test_ysi['ysi']).div(df_test_ysi['ysi']).mean()\n",
    "stdrd_ch3_test_retro = df_test_ysi['retro_model_output_s3_calculateGlucose'].sub(df_test_ysi['ysi']).div(df_test_ysi['ysi']).std()\n",
    "mard_ch3_test_retro = df_test_ysi['retro_model_output_s3_calculateGlucose'].sub(df_test_ysi['ysi']).div(df_test_ysi['ysi']).abs().mean()\n",
    "print(f'Test data for ch3 glucose by model today N = {n_ch3_test_today}, MRD = {mrd_ch3_test_today}, StdRD = {stdrd_ch3_test_today}, MARD = {mard_ch3_test_today}')\n",
    "print(f'Test data for ch3 glucose by selfcal N = {n_ch3_test_selfcal}, MRD = {mrd_ch3_test_selfcal}, StdRD = {stdrd_ch3_test_selfcal}, MARD = {mard_ch3_test_selfcal}')\n",
    "print(f'Test data for ch3 glucose by retro N = {n_ch3_test_retro}, MRD = {mrd_ch3_test_retro}, StdRD = {stdrd_ch3_test_retro}, MARD = {mard_ch3_test_retro}')"
   ]
  },
  {
   "cell_type": "code",
   "execution_count": 41,
   "metadata": {},
   "outputs": [
    {
     "name": "stdout",
     "output_type": "stream",
     "text": [
      "Max of predict_slope is 1.4241396556365038\n",
      "Min of predict_slope is 0.4787555149918739\n",
      "Max of predict_intercept is 94.25484559333054\n",
      "Min of predict_intercept is -95.47482315594551\n"
     ]
    },
    {
     "name": "stderr",
     "output_type": "stream",
     "text": [
      "/var/folders/nr/d5llxsx51b3fljj36q8cwm1c0000gp/T/ipykernel_8323/3716981306.py:13: SettingWithCopyWarning:\n",
      "\n",
      "\n",
      "A value is trying to be set on a copy of a slice from a DataFrame.\n",
      "Try using .loc[row_indexer,col_indexer] = value instead\n",
      "\n",
      "See the caveats in the documentation: https://pandas.pydata.org/pandas-docs/stable/user_guide/indexing.html#returning-a-view-versus-a-copy\n",
      "\n"
     ]
    },
    {
     "name": "stdout",
     "output_type": "stream",
     "text": [
      "Training data for ch3 glucose by model today N = 299893, MRD = -0.034300866234357866, StdRD = 0.2351584363253289, MARD = 0.18499737199752148\n",
      "Training data for ch3 glucose by selfcal N = 299893, MRD = 0.02961000200701586, StdRD = 0.24521345141145434, MARD = 0.18446864385982004\n",
      "Training data for ch3 glucose by retro N = 323773, MRD = 0.05592438308176151, StdRD = 0.3074331958547224, MARD = 0.18449894316800203\n",
      "Max of predict_slope is 1.3693525554671102\n",
      "Min of predict_slope is 0.478753659047818\n",
      "Max of predict_intercept is 81.10202032795473\n",
      "Min of predict_intercept is -95.47482315594551\n",
      "Test data for ch3 glucose by model today N = 39213, MRD = -0.1650333051989289, StdRD = 0.19897222631154865, MARD = 0.21350696450060477\n",
      "Test data for ch3 glucose by selfcal N = 39213, MRD = 0.11673652682934277, StdRD = 0.39569336910203706, MARD = 0.26689787795937714\n",
      "Test data for ch3 glucose by retro N = 44042, MRD = 0.016434481921882578, StdRD = 0.24627389531784993, MARD = 0.16627167897166684\n"
     ]
    },
    {
     "name": "stderr",
     "output_type": "stream",
     "text": [
      "/var/folders/nr/d5llxsx51b3fljj36q8cwm1c0000gp/T/ipykernel_8323/3716981306.py:39: SettingWithCopyWarning:\n",
      "\n",
      "\n",
      "A value is trying to be set on a copy of a slice from a DataFrame.\n",
      "Try using .loc[row_indexer,col_indexer] = value instead\n",
      "\n",
      "See the caveats in the documentation: https://pandas.pydata.org/pandas-docs/stable/user_guide/indexing.html#returning-a-view-versus-a-copy\n",
      "\n"
     ]
    }
   ],
   "source": [
    "df = df_orig[all_cols].copy()\n",
    "\n",
    "df_test_ysi = df.loc[training_index]\n",
    "x_train_ysi = df_test_ysi[feature_col]\n",
    "x_train_ysi_norm = min_max_scaler.transform(x_train_ysi)\n",
    "\n",
    "ch3_slope_train = self_cal_model_dict['self_cal_model_2'].predict(x_train_ysi_norm)\n",
    "print(f'Max of predict_slope is {ch3_slope_train.max()}')\n",
    "print(f'Min of predict_slope is {ch3_slope_train.min()}')\n",
    "ch3_intercept_train = self_cal_model_dict['self_cal_model_3'].predict(x_train_ysi_norm)\n",
    "print(f'Max of predict_intercept is {ch3_intercept_train.max()}')\n",
    "print(f'Min of predict_intercept is {ch3_intercept_train.min()}')\n",
    "df_test_ysi['biolinq_s3_selfcal'] = df_test_ysi['biolinq_s3_channelFaultDetection'].sub(ch3_intercept_train).div(ch3_slope_train)\n",
    "n_ch3_train_today = df_test_ysi['biolinq_s3_channelFaultDetection'].sub(df_test_ysi['ysi']).div(df_test_ysi['ysi']).count()\n",
    "mrd_ch3_train_today = df_test_ysi['biolinq_s3_channelFaultDetection'].sub(df_test_ysi['ysi']).div(df_test_ysi['ysi']).mean()\n",
    "stdrd_ch3_train_today = df_test_ysi['biolinq_s3_channelFaultDetection'].sub(df_test_ysi['ysi']).div(df_test_ysi['ysi']).std()\n",
    "mard_ch3_train_today = df_test_ysi['biolinq_s3_channelFaultDetection'].sub(df_test_ysi['ysi']).div(df_test_ysi['ysi']).abs().mean()\n",
    "n_ch3_train_selfcal = df_test_ysi['biolinq_s3_selfcal'].sub(df_test_ysi['ysi']).div(df_test_ysi['ysi']).count()\n",
    "mrd_ch3_train_selfcal = df_test_ysi['biolinq_s3_selfcal'].sub(df_test_ysi['ysi']).div(df_test_ysi['ysi']).mean()\n",
    "stdrd_ch3_train_selfcal = df_test_ysi['biolinq_s3_selfcal'].sub(df_test_ysi['ysi']).div(df_test_ysi['ysi']).std()\n",
    "mard_ch3_train_selfcal = df_test_ysi['biolinq_s3_selfcal'].sub(df_test_ysi['ysi']).div(df_test_ysi['ysi']).abs().mean()\n",
    "n_ch3_train_retro = df_test_ysi['retro_model_output_s3_calculateGlucose'].sub(df_test_ysi['ysi']).div(df_test_ysi['ysi']).count()\n",
    "mrd_ch3_train_retro = df_test_ysi['retro_model_output_s3_calculateGlucose'].sub(df_test_ysi['ysi']).div(df_test_ysi['ysi']).mean()\n",
    "stdrd_ch3_train_retro = df_test_ysi['retro_model_output_s3_calculateGlucose'].sub(df_test_ysi['ysi']).div(df_test_ysi['ysi']).std()\n",
    "mard_ch3_train_retro = df_test_ysi['retro_model_output_s3_calculateGlucose'].sub(df_test_ysi['ysi']).div(df_test_ysi['ysi']).abs().mean()\n",
    "print(f'Training data for ch3 glucose by model today N = {n_ch3_train_today}, MRD = {mrd_ch3_train_today}, StdRD = {stdrd_ch3_train_today}, MARD = {mard_ch3_train_today}')\n",
    "print(f'Training data for ch3 glucose by selfcal N = {n_ch3_train_selfcal}, MRD = {mrd_ch3_train_selfcal}, StdRD = {stdrd_ch3_train_selfcal}, MARD = {mard_ch3_train_selfcal}')\n",
    "print(f'Training data for ch3 glucose by retro N = {n_ch3_train_retro}, MRD = {mrd_ch3_train_retro}, StdRD = {stdrd_ch3_train_retro}, MARD = {mard_ch3_train_retro}')\n",
    "\n",
    "df_test_ysi = df.loc[test_index]\n",
    "x_test_ysi = df_test_ysi[feature_col]\n",
    "x_test_ysi_norm = min_max_scaler.transform(x_test_ysi)\n",
    "ch3_slope_test = self_cal_model_dict['self_cal_model_2'].predict(x_test_ysi_norm)\n",
    "print(f'Max of predict_slope is {ch3_slope_test.max()}')\n",
    "print(f'Min of predict_slope is {ch3_slope_test.min()}')\n",
    "ch3_intercept_test = self_cal_model_dict['self_cal_model_3'].predict(x_test_ysi_norm)\n",
    "print(f'Max of predict_intercept is {ch3_intercept_test.max()}')\n",
    "print(f'Min of predict_intercept is {ch3_intercept_test.min()}')\n",
    "df_test_ysi['biolinq_s3_selfcal'] = df_test_ysi['biolinq_s3_channelFaultDetection'].sub(ch3_intercept_test).div(ch3_slope_test)\n",
    "n_ch3_test_today = df_test_ysi['biolinq_s3_channelFaultDetection'].sub(df_test_ysi['ysi']).div(df_test_ysi['ysi']).count()\n",
    "mrd_ch3_test_today = df_test_ysi['biolinq_s3_channelFaultDetection'].sub(df_test_ysi['ysi']).div(df_test_ysi['ysi']).mean()\n",
    "stdrd_ch3_test_today = df_test_ysi['biolinq_s3_channelFaultDetection'].sub(df_test_ysi['ysi']).div(df_test_ysi['ysi']).std()\n",
    "mard_ch3_test_today = df_test_ysi['biolinq_s3_channelFaultDetection'].sub(df_test_ysi['ysi']).div(df_test_ysi['ysi']).abs().mean()\n",
    "n_ch3_test_selfcal = df_test_ysi['biolinq_s3_selfcal'].sub(df_test_ysi['ysi']).div(df_test_ysi['ysi']).count()\n",
    "mrd_ch3_test_selfcal = df_test_ysi['biolinq_s3_selfcal'].sub(df_test_ysi['ysi']).div(df_test_ysi['ysi']).mean()\n",
    "stdrd_ch3_test_selfcal = df_test_ysi['biolinq_s3_selfcal'].sub(df_test_ysi['ysi']).div(df_test_ysi['ysi']).std()\n",
    "mard_ch3_test_selfcal = df_test_ysi['biolinq_s3_selfcal'].sub(df_test_ysi['ysi']).div(df_test_ysi['ysi']).abs().mean()\n",
    "n_ch3_test_retro = df_test_ysi['retro_model_output_s3_calculateGlucose'].sub(df_test_ysi['ysi']).div(df_test_ysi['ysi']).count()\n",
    "mrd_ch3_test_retro = df_test_ysi['retro_model_output_s3_calculateGlucose'].sub(df_test_ysi['ysi']).div(df_test_ysi['ysi']).mean()\n",
    "stdrd_ch3_test_retro = df_test_ysi['retro_model_output_s3_calculateGlucose'].sub(df_test_ysi['ysi']).div(df_test_ysi['ysi']).std()\n",
    "mard_ch3_test_retro = df_test_ysi['retro_model_output_s3_calculateGlucose'].sub(df_test_ysi['ysi']).div(df_test_ysi['ysi']).abs().mean()\n",
    "print(f'Test data for ch3 glucose by model today N = {n_ch3_test_today}, MRD = {mrd_ch3_test_today}, StdRD = {stdrd_ch3_test_today}, MARD = {mard_ch3_test_today}')\n",
    "print(f'Test data for ch3 glucose by selfcal N = {n_ch3_test_selfcal}, MRD = {mrd_ch3_test_selfcal}, StdRD = {stdrd_ch3_test_selfcal}, MARD = {mard_ch3_test_selfcal}')\n",
    "print(f'Test data for ch3 glucose by retro N = {n_ch3_test_retro}, MRD = {mrd_ch3_test_retro}, StdRD = {stdrd_ch3_test_retro}, MARD = {mard_ch3_test_retro}')"
   ]
  },
  {
   "cell_type": "code",
   "execution_count": 42,
   "metadata": {},
   "outputs": [
    {
     "data": {
      "text/plain": [
       "[0.4787555149918739,\n",
       " 1.4241396556365038,\n",
       " -95.47482315594551,\n",
       " 94.25484559333054,\n",
       " 0.478753659047818,\n",
       " 1.3693525554671102,\n",
       " -95.47482315594551,\n",
       " 81.10202032795473]"
      ]
     },
     "execution_count": 42,
     "metadata": {},
     "output_type": "execute_result"
    }
   ],
   "source": [
    "[ch3_slope_train.min(),\n",
    "ch3_slope_train.max(),\n",
    "ch3_intercept_train.min(),\n",
    "ch3_intercept_train.max(),\n",
    "ch3_slope_test.min(),\n",
    "ch3_slope_test.max(),\n",
    "ch3_intercept_test.min(),\n",
    "ch3_intercept_test.max()]"
   ]
  },
  {
   "cell_type": "code",
   "execution_count": 43,
   "metadata": {},
   "outputs": [
    {
     "name": "stdout",
     "output_type": "stream",
     "text": [
      "Optimizing parameter 4\n",
      "Max of predict_slope is 1.3206912555003794\n",
      "Min of predict_slope is 0.4185998756933438\n",
      "The model today has MSE=0.1001996416443088\n",
      "The self cal model has MSE=0.06784292226244772\n",
      "Max of predict_slope_test is 1.3110785608485562\n",
      "Min of predict_slope_test is 0.4196156468012129\n",
      "The model today on test has MSE=0.07504539794682545\n",
      "The self cal model on test has MSE=0.07180278207820973\n"
     ]
    }
   ],
   "source": [
    "# For channel 4 slope\n",
    "i = 4\n",
    "print(f'Optimizing parameter {i}')\n",
    "self_cal_model = MLPRegressor(hidden_layer_sizes=(10,10,10,1),activation='logistic',solver='adam',alpha=1e-4,max_iter=int(1e4),tol=1e-4,learning_rate='adaptive',random_state=20140806)\n",
    "self_cal_model.fit(x_train_norm,y_train[:,i])\n",
    "predict_slope = self_cal_model.predict(x_train_norm)\n",
    "print(f'Max of predict_slope is {predict_slope.max()}')\n",
    "print(f'Min of predict_slope is {predict_slope.min()}')\n",
    "# predict_slope[predict_slope<0.12] = 1\n",
    "# predict_slope[predict_slope>2.4] = 1\n",
    "mse_train_selfcal = np.mean((predict_slope - y_train[:,i])**2)\n",
    "mse_train_today = np.mean((1-y_train[:,i])**2)\n",
    "print(f'The model today has MSE={mse_train_today}')\n",
    "print(f'The self cal model has MSE={mse_train_selfcal}')\n",
    "\n",
    "predict_slope_test = self_cal_model.predict(x_test_norm)\n",
    "print(f'Max of predict_slope_test is {predict_slope_test.max()}')\n",
    "print(f'Min of predict_slope_test is {predict_slope_test.min()}')\n",
    "# predict_slope_test[predict_slope_test<0.12] = 1\n",
    "# predict_slope_test[predict_slope_test>2.4] = 1    \n",
    "mse_test_selfcal = np.mean((predict_slope_test - y_test[:,i])**2)\n",
    "mse_test_today = np.mean((1-y_test[:,i])**2)\n",
    "print(f'The model today on test has MSE={mse_test_today}')\n",
    "print(f'The self cal model on test has MSE={mse_test_selfcal}')\n",
    "self_cal_model_dict[f'self_cal_model_{i}'] = self_cal_model"
   ]
  },
  {
   "cell_type": "code",
   "execution_count": 44,
   "metadata": {},
   "outputs": [
    {
     "name": "stdout",
     "output_type": "stream",
     "text": [
      "Optimizing parameter 5\n",
      "Max of predict_intercept is 15.671346380524206\n",
      "Min of predict_intercept is -105.57807970379227\n",
      "The model today has MSE=821.1604027378901\n",
      "The self cal model has MSE=615.8181971900332\n",
      "Max of predict_intercept_test is 15.671345546971608\n",
      "Min of predict_intercept_test is -105.46185347753381\n",
      "The model today on test has MSE=610.4872071965033\n",
      "The self cal model on test has MSE=662.2675975760822\n"
     ]
    }
   ],
   "source": [
    "# For channel 4 intercept\n",
    "i = 5\n",
    "print(f'Optimizing parameter {i}')\n",
    "self_cal_model = MLPRegressor(hidden_layer_sizes=(10,10,10,1),activation='logistic',solver='adam',alpha=1e-4,max_iter=int(1e4),tol=1e-4,learning_rate='adaptive',random_state=20140806)\n",
    "self_cal_model.fit(x_train_norm,y_train[:,i])\n",
    "predict_intercept = self_cal_model.predict(x_train_norm)\n",
    "print(f'Max of predict_intercept is {predict_intercept.max()}')\n",
    "print(f'Min of predict_intercept is {predict_intercept.min()}')    \n",
    "# predict_intercept[predict_intercept<-100] = 0\n",
    "# predict_intercept[predict_intercept>100] = 0   \n",
    "mse_train_selfcal = np.mean((predict_intercept - y_train[:,i])**2)\n",
    "mse_train_today = np.mean(y_train[:,i]**2)\n",
    "print(f'The model today has MSE={mse_train_today}')\n",
    "print(f'The self cal model has MSE={mse_train_selfcal}')\n",
    "\n",
    "predict_intercept_test = self_cal_model.predict(x_test_norm)\n",
    "print(f'Max of predict_intercept_test is {predict_intercept_test.max()}')\n",
    "print(f'Min of predict_intercept_test is {predict_intercept_test.min()}')    \n",
    "# predict_intercept_test[predict_intercept_test<-100] = 0\n",
    "# predict_intercept_test[predict_intercept_test>100] = 0     \n",
    "mse_test_selfcal = np.mean((predict_intercept_test - y_test[:,i])**2)\n",
    "mse_test_today = np.mean(y_test[:,i]**2)\n",
    "print(f'The model today on test has MSE={mse_test_today}')\n",
    "print(f'The self cal model on test has MSE={mse_test_selfcal}')\n",
    "self_cal_model_dict[f'self_cal_model_{i}'] = self_cal_model"
   ]
  },
  {
   "cell_type": "code",
   "execution_count": 45,
   "metadata": {},
   "outputs": [
    {
     "name": "stdout",
     "output_type": "stream",
     "text": [
      "Max of predict_slope is 1.3206912555003794\n",
      "Min of predict_slope is 0.4185998756933438\n",
      "Max of predict_intercept is 15.671346380524206\n",
      "Min of predict_intercept is -105.57807970379227\n",
      "Training data for ch4 glucose by model today N = 6225452, MRD = -0.04944649597725861, StdRD = 0.542968624268914, MARD = 0.24282285782414065\n",
      "Training data for ch4 glucose by selfcal N = 6225452, MRD = -0.030022982048584997, StdRD = 0.6882994824812046, MARD = 0.21682477300829586\n",
      "Training data for ch4 glucose by retro N = 6225452, MRD = 0.005126882339610347, StdRD = 0.5479741842961442, MARD = 0.18758759950567067\n",
      "Max of predict_slope is 1.3110785608485562\n",
      "Min of predict_slope is 0.4196156468012129\n",
      "Max of predict_intercept is 15.671345546971608\n",
      "Min of predict_intercept is -105.46185347753381\n",
      "Test data for ch4 glucose by model today N = 659457, MRD = -0.1784356522690694, StdRD = 0.2636117484456087, MARD = 0.25253750679896997\n",
      "Test data for ch4 glucose by selfcal N = 659457, MRD = -0.025539777738035938, StdRD = 0.36953787164460283, MARD = 0.269472684320917\n",
      "Test data for ch4 glucose by retro N = 659457, MRD = -0.03209950285429853, StdRD = 0.23718286997204763, MARD = 0.1651048885539429\n"
     ]
    }
   ],
   "source": [
    "ch4_slope_train = self_cal_model_dict['self_cal_model_4'].predict(x_train_norm)\n",
    "print(f'Max of predict_slope is {ch4_slope_train.max()}')\n",
    "print(f'Min of predict_slope is {ch4_slope_train.min()}')\n",
    "ch4_intercept_train = self_cal_model_dict['self_cal_model_5'].predict(x_train_norm)\n",
    "print(f'Max of predict_intercept is {ch4_intercept_train.max()}')\n",
    "print(f'Min of predict_intercept is {ch4_intercept_train.min()}')\n",
    "df_training_valid['model_output_s4_selfcal'] = df_training_valid['model_output_s4_calculateGlucose'].sub(ch4_intercept_train).div(ch4_slope_train)\n",
    "n_ch4_train_today = df_training_valid['model_output_s4_calculateGlucose'].sub(df_training_valid['cgm_adj']).div(df_training_valid['cgm_adj']).count()\n",
    "mrd_ch4_train_today = df_training_valid['model_output_s4_calculateGlucose'].sub(df_training_valid['cgm_adj']).div(df_training_valid['cgm_adj']).mean()\n",
    "stdrd_ch4_train_today = df_training_valid['model_output_s4_calculateGlucose'].sub(df_training_valid['cgm_adj']).div(df_training_valid['cgm_adj']).std()\n",
    "mard_ch4_train_today = df_training_valid['model_output_s4_calculateGlucose'].sub(df_training_valid['cgm_adj']).div(df_training_valid['cgm_adj']).abs().mean()\n",
    "n_ch4_train_selfcal = df_training_valid['model_output_s4_selfcal'].sub(df_training_valid['cgm_adj']).div(df_training_valid['cgm_adj']).count()\n",
    "mrd_ch4_train_selfcal = df_training_valid['model_output_s4_selfcal'].sub(df_training_valid['cgm_adj']).div(df_training_valid['cgm_adj']).mean()\n",
    "stdrd_ch4_train_selfcal = df_training_valid['model_output_s4_selfcal'].sub(df_training_valid['cgm_adj']).div(df_training_valid['cgm_adj']).std()\n",
    "mard_ch4_train_selfcal = df_training_valid['model_output_s4_selfcal'].sub(df_training_valid['cgm_adj']).div(df_training_valid['cgm_adj']).abs().mean()\n",
    "n_ch4_train_retro = df_training_valid['retro_model_output_s4_calculateGlucose'].sub(df_training_valid['cgm_adj']).div(df_training_valid['cgm_adj']).count()\n",
    "mrd_ch4_train_retro = df_training_valid['retro_model_output_s4_calculateGlucose'].sub(df_training_valid['cgm_adj']).div(df_training_valid['cgm_adj']).mean()\n",
    "stdrd_ch4_train_retro = df_training_valid['retro_model_output_s4_calculateGlucose'].sub(df_training_valid['cgm_adj']).div(df_training_valid['cgm_adj']).std()\n",
    "mard_ch4_train_retro = df_training_valid['retro_model_output_s4_calculateGlucose'].sub(df_training_valid['cgm_adj']).div(df_training_valid['cgm_adj']).abs().mean()\n",
    "print(f'Training data for ch4 glucose by model today N = {n_ch4_train_today}, MRD = {mrd_ch4_train_today}, StdRD = {stdrd_ch4_train_today}, MARD = {mard_ch4_train_today}')\n",
    "print(f'Training data for ch4 glucose by selfcal N = {n_ch4_train_selfcal}, MRD = {mrd_ch4_train_selfcal}, StdRD = {stdrd_ch4_train_selfcal}, MARD = {mard_ch4_train_selfcal}')\n",
    "print(f'Training data for ch4 glucose by retro N = {n_ch4_train_retro}, MRD = {mrd_ch4_train_retro}, StdRD = {stdrd_ch4_train_retro}, MARD = {mard_ch4_train_retro}')\n",
    "\n",
    "ch4_slope_test = self_cal_model_dict['self_cal_model_4'].predict(x_test_norm)\n",
    "print(f'Max of predict_slope is {ch4_slope_test.max()}')\n",
    "print(f'Min of predict_slope is {ch4_slope_test.min()}')\n",
    "ch4_intercept_test = self_cal_model_dict['self_cal_model_5'].predict(x_test_norm)\n",
    "print(f'Max of predict_intercept is {ch4_intercept_test.max()}')\n",
    "print(f'Min of predict_intercept is {ch4_intercept_test.min()}')\n",
    "df_test_valid['model_output_s4_selfcal'] = df_test_valid['model_output_s4_calculateGlucose'].sub(ch4_intercept_test).div(ch4_slope_test)\n",
    "n_ch4_test_today = df_test_valid['model_output_s4_calculateGlucose'].sub(df_test_valid['cgm_adj']).div(df_test_valid['cgm_adj']).count()\n",
    "mrd_ch4_test_today = df_test_valid['model_output_s4_calculateGlucose'].sub(df_test_valid['cgm_adj']).div(df_test_valid['cgm_adj']).mean()\n",
    "stdrd_ch4_test_today = df_test_valid['model_output_s4_calculateGlucose'].sub(df_test_valid['cgm_adj']).div(df_test_valid['cgm_adj']).std()\n",
    "mard_ch4_test_today = df_test_valid['model_output_s4_calculateGlucose'].sub(df_test_valid['cgm_adj']).div(df_test_valid['cgm_adj']).abs().mean()\n",
    "n_ch4_test_selfcal = df_test_valid['model_output_s4_selfcal'].sub(df_test_valid['cgm_adj']).div(df_test_valid['cgm_adj']).count()\n",
    "mrd_ch4_test_selfcal = df_test_valid['model_output_s4_selfcal'].sub(df_test_valid['cgm_adj']).div(df_test_valid['cgm_adj']).mean()\n",
    "stdrd_ch4_test_selfcal = df_test_valid['model_output_s4_selfcal'].sub(df_test_valid['cgm_adj']).div(df_test_valid['cgm_adj']).std()\n",
    "mard_ch4_test_selfcal = df_test_valid['model_output_s4_selfcal'].sub(df_test_valid['cgm_adj']).div(df_test_valid['cgm_adj']).abs().mean()\n",
    "n_ch4_test_retro = df_test_valid['retro_model_output_s4_calculateGlucose'].sub(df_test_valid['cgm_adj']).div(df_test_valid['cgm_adj']).count()\n",
    "mrd_ch4_test_retro = df_test_valid['retro_model_output_s4_calculateGlucose'].sub(df_test_valid['cgm_adj']).div(df_test_valid['cgm_adj']).mean()\n",
    "stdrd_ch4_test_retro = df_test_valid['retro_model_output_s4_calculateGlucose'].sub(df_test_valid['cgm_adj']).div(df_test_valid['cgm_adj']).std()\n",
    "mard_ch4_test_retro = df_test_valid['retro_model_output_s4_calculateGlucose'].sub(df_test_valid['cgm_adj']).div(df_test_valid['cgm_adj']).abs().mean()\n",
    "print(f'Test data for ch4 glucose by model today N = {n_ch4_test_today}, MRD = {mrd_ch4_test_today}, StdRD = {stdrd_ch4_test_today}, MARD = {mard_ch4_test_today}')\n",
    "print(f'Test data for ch4 glucose by selfcal N = {n_ch4_test_selfcal}, MRD = {mrd_ch4_test_selfcal}, StdRD = {stdrd_ch4_test_selfcal}, MARD = {mard_ch4_test_selfcal}')\n",
    "print(f'Test data for ch4 glucose by retro N = {n_ch4_test_retro}, MRD = {mrd_ch4_test_retro}, StdRD = {stdrd_ch4_test_retro}, MARD = {mard_ch4_test_retro}')"
   ]
  },
  {
   "cell_type": "code",
   "execution_count": 46,
   "metadata": {},
   "outputs": [
    {
     "name": "stdout",
     "output_type": "stream",
     "text": [
      "Max of predict_slope is 1.3206917749119929\n",
      "Min of predict_slope is 0.4185454904682045\n",
      "Max of predict_intercept is 15.671346380524206\n",
      "Min of predict_intercept is -105.58616422467415\n"
     ]
    },
    {
     "name": "stderr",
     "output_type": "stream",
     "text": [
      "/var/folders/nr/d5llxsx51b3fljj36q8cwm1c0000gp/T/ipykernel_8323/2843018395.py:12: SettingWithCopyWarning:\n",
      "\n",
      "\n",
      "A value is trying to be set on a copy of a slice from a DataFrame.\n",
      "Try using .loc[row_indexer,col_indexer] = value instead\n",
      "\n",
      "See the caveats in the documentation: https://pandas.pydata.org/pandas-docs/stable/user_guide/indexing.html#returning-a-view-versus-a-copy\n",
      "\n"
     ]
    },
    {
     "name": "stdout",
     "output_type": "stream",
     "text": [
      "Training data for ch4 glucose by model today N = 328214, MRD = -0.023749111080523022, StdRD = 0.5918295056903586, MARD = 0.23344543267390838\n",
      "Training data for ch4 glucose by selfcal N = 328214, MRD = -0.016837524086888774, StdRD = 0.489054473851545, MARD = 0.20776323144956507\n",
      "Training data for ch4 glucose by retro N = 323773, MRD = 0.08253275813600343, StdRD = 1.209175012659502, MARD = 0.22077312802508398\n",
      "Max of predict_slope is 1.3110785608485562\n",
      "Min of predict_slope is 0.41817119644225653\n",
      "Max of predict_intercept is 15.671346229732828\n",
      "Min of predict_intercept is -105.46185347753381\n",
      "Test data for ch4 glucose by model today N = 44042, MRD = -0.14730667663510766, StdRD = 0.2711408315224174, MARD = 0.23330688104352823\n",
      "Test data for ch4 glucose by selfcal N = 44042, MRD = 0.09593279834457778, StdRD = 0.468924884211197, MARD = 0.3201045765420208\n",
      "Test data for ch4 glucose by retro N = 44042, MRD = 0.025645503639347048, StdRD = 0.2670910317455539, MARD = 0.1793310210308623\n"
     ]
    },
    {
     "name": "stderr",
     "output_type": "stream",
     "text": [
      "/var/folders/nr/d5llxsx51b3fljj36q8cwm1c0000gp/T/ipykernel_8323/2843018395.py:38: SettingWithCopyWarning:\n",
      "\n",
      "\n",
      "A value is trying to be set on a copy of a slice from a DataFrame.\n",
      "Try using .loc[row_indexer,col_indexer] = value instead\n",
      "\n",
      "See the caveats in the documentation: https://pandas.pydata.org/pandas-docs/stable/user_guide/indexing.html#returning-a-view-versus-a-copy\n",
      "\n"
     ]
    }
   ],
   "source": [
    "df = df_orig[all_cols].copy()\n",
    "\n",
    "df_train_ysi = df.loc[training_index]\n",
    "x_train_ysi = df_train_ysi[feature_col]\n",
    "x_train_ysi_norm = min_max_scaler.transform(x_train_ysi)\n",
    "ch4_slope_train = self_cal_model_dict['self_cal_model_4'].predict(x_train_ysi_norm)\n",
    "print(f'Max of predict_slope is {ch4_slope_train.max()}')\n",
    "print(f'Min of predict_slope is {ch4_slope_train.min()}')\n",
    "ch4_intercept_train = self_cal_model_dict['self_cal_model_5'].predict(x_train_ysi_norm)\n",
    "print(f'Max of predict_intercept is {ch4_intercept_train.max()}')\n",
    "print(f'Min of predict_intercept is {ch4_intercept_train.min()}')\n",
    "df_train_ysi['model_output_s4_selfcal'] = df_train_ysi['model_output_s4_calculateGlucose'].sub(ch4_intercept_train).div(ch4_slope_train)\n",
    "n_ch4_train_today = df_train_ysi['model_output_s4_calculateGlucose'].sub(df_train_ysi['ysi']).div(df_train_ysi['ysi']).count()\n",
    "mrd_ch4_train_today = df_train_ysi['model_output_s4_calculateGlucose'].sub(df_train_ysi['ysi']).div(df_train_ysi['ysi']).mean()\n",
    "stdrd_ch4_train_today = df_train_ysi['model_output_s4_calculateGlucose'].sub(df_train_ysi['ysi']).div(df_train_ysi['ysi']).std()\n",
    "mard_ch4_train_today = df_train_ysi['model_output_s4_calculateGlucose'].sub(df_train_ysi['ysi']).div(df_train_ysi['ysi']).abs().mean()\n",
    "n_ch4_train_selfcal = df_train_ysi['model_output_s4_selfcal'].sub(df_train_ysi['ysi']).div(df_train_ysi['ysi']).count()\n",
    "mrd_ch4_train_selfcal = df_train_ysi['model_output_s4_selfcal'].sub(df_train_ysi['ysi']).div(df_train_ysi['ysi']).mean()\n",
    "stdrd_ch4_train_selfcal = df_train_ysi['model_output_s4_selfcal'].sub(df_train_ysi['ysi']).div(df_train_ysi['ysi']).std()\n",
    "mard_ch4_train_selfcal = df_train_ysi['model_output_s4_selfcal'].sub(df_train_ysi['ysi']).div(df_train_ysi['ysi']).abs().mean()\n",
    "n_ch4_train_retro = df_train_ysi['retro_model_output_s4_calculateGlucose'].sub(df_train_ysi['ysi']).div(df_train_ysi['ysi']).count()\n",
    "mrd_ch4_train_retro = df_train_ysi['retro_model_output_s4_calculateGlucose'].sub(df_train_ysi['ysi']).div(df_train_ysi['ysi']).mean()\n",
    "stdrd_ch4_train_retro = df_train_ysi['retro_model_output_s4_calculateGlucose'].sub(df_train_ysi['ysi']).div(df_train_ysi['ysi']).std()\n",
    "mard_ch4_train_retro = df_train_ysi['retro_model_output_s4_calculateGlucose'].sub(df_train_ysi['ysi']).div(df_train_ysi['ysi']).abs().mean()\n",
    "print(f'Training data for ch4 glucose by model today N = {n_ch4_train_today}, MRD = {mrd_ch4_train_today}, StdRD = {stdrd_ch4_train_today}, MARD = {mard_ch4_train_today}')\n",
    "print(f'Training data for ch4 glucose by selfcal N = {n_ch4_train_selfcal}, MRD = {mrd_ch4_train_selfcal}, StdRD = {stdrd_ch4_train_selfcal}, MARD = {mard_ch4_train_selfcal}')\n",
    "print(f'Training data for ch4 glucose by retro N = {n_ch4_train_retro}, MRD = {mrd_ch4_train_retro}, StdRD = {stdrd_ch4_train_retro}, MARD = {mard_ch4_train_retro}')\n",
    "\n",
    "df_test_ysi = df.loc[test_index]\n",
    "x_test_ysi = df_test_ysi[feature_col]\n",
    "x_test_ysi_norm = min_max_scaler.transform(x_test_ysi)\n",
    "ch4_slope_test = self_cal_model_dict['self_cal_model_4'].predict(x_test_ysi_norm)\n",
    "print(f'Max of predict_slope is {ch4_slope_test.max()}')\n",
    "print(f'Min of predict_slope is {ch4_slope_test.min()}')\n",
    "ch4_intercept_test = self_cal_model_dict['self_cal_model_5'].predict(x_test_ysi_norm)\n",
    "print(f'Max of predict_intercept is {ch4_intercept_test.max()}')\n",
    "print(f'Min of predict_intercept is {ch4_intercept_test.min()}')\n",
    "df_test_ysi['model_output_s4_selfcal'] = df_test_ysi['model_output_s4_calculateGlucose'].sub(ch4_intercept_test).div(ch4_slope_test)\n",
    "n_ch4_test_today = df_test_ysi['model_output_s4_calculateGlucose'].sub(df_test_ysi['ysi']).div(df_test_ysi['ysi']).count()\n",
    "mrd_ch4_test_today = df_test_ysi['model_output_s4_calculateGlucose'].sub(df_test_ysi['ysi']).div(df_test_ysi['ysi']).mean()\n",
    "stdrd_ch4_test_today = df_test_ysi['model_output_s4_calculateGlucose'].sub(df_test_ysi['ysi']).div(df_test_ysi['ysi']).std()\n",
    "mard_ch4_test_today = df_test_ysi['model_output_s4_calculateGlucose'].sub(df_test_ysi['ysi']).div(df_test_ysi['ysi']).abs().mean()\n",
    "n_ch4_test_selfcal = df_test_ysi['model_output_s4_selfcal'].sub(df_test_ysi['ysi']).div(df_test_ysi['ysi']).count()\n",
    "mrd_ch4_test_selfcal = df_test_ysi['model_output_s4_selfcal'].sub(df_test_ysi['ysi']).div(df_test_ysi['ysi']).mean()\n",
    "stdrd_ch4_test_selfcal = df_test_ysi['model_output_s4_selfcal'].sub(df_test_ysi['ysi']).div(df_test_ysi['ysi']).std()\n",
    "mard_ch4_test_selfcal = df_test_ysi['model_output_s4_selfcal'].sub(df_test_ysi['ysi']).div(df_test_ysi['ysi']).abs().mean()\n",
    "n_ch4_test_retro = df_test_ysi['retro_model_output_s4_calculateGlucose'].sub(df_test_ysi['ysi']).div(df_test_ysi['ysi']).count()\n",
    "mrd_ch4_test_retro = df_test_ysi['retro_model_output_s4_calculateGlucose'].sub(df_test_ysi['ysi']).div(df_test_ysi['ysi']).mean()\n",
    "stdrd_ch4_test_retro = df_test_ysi['retro_model_output_s4_calculateGlucose'].sub(df_test_ysi['ysi']).div(df_test_ysi['ysi']).std()\n",
    "mard_ch4_test_retro = df_test_ysi['retro_model_output_s4_calculateGlucose'].sub(df_test_ysi['ysi']).div(df_test_ysi['ysi']).abs().mean()\n",
    "print(f'Test data for ch4 glucose by model today N = {n_ch4_test_today}, MRD = {mrd_ch4_test_today}, StdRD = {stdrd_ch4_test_today}, MARD = {mard_ch4_test_today}')\n",
    "print(f'Test data for ch4 glucose by selfcal N = {n_ch4_test_selfcal}, MRD = {mrd_ch4_test_selfcal}, StdRD = {stdrd_ch4_test_selfcal}, MARD = {mard_ch4_test_selfcal}')\n",
    "print(f'Test data for ch4 glucose by retro N = {n_ch4_test_retro}, MRD = {mrd_ch4_test_retro}, StdRD = {stdrd_ch4_test_retro}, MARD = {mard_ch4_test_retro}')"
   ]
  },
  {
   "cell_type": "code",
   "execution_count": 47,
   "metadata": {},
   "outputs": [
    {
     "name": "stdout",
     "output_type": "stream",
     "text": [
      "Max of predict_slope is 1.3206917749119929\n",
      "Min of predict_slope is 0.4185454904682045\n",
      "Max of predict_intercept is 15.671346380524206\n",
      "Min of predict_intercept is -105.58616422467415\n"
     ]
    },
    {
     "name": "stderr",
     "output_type": "stream",
     "text": [
      "/var/folders/nr/d5llxsx51b3fljj36q8cwm1c0000gp/T/ipykernel_8323/789112783.py:13: SettingWithCopyWarning:\n",
      "\n",
      "\n",
      "A value is trying to be set on a copy of a slice from a DataFrame.\n",
      "Try using .loc[row_indexer,col_indexer] = value instead\n",
      "\n",
      "See the caveats in the documentation: https://pandas.pydata.org/pandas-docs/stable/user_guide/indexing.html#returning-a-view-versus-a-copy\n",
      "\n"
     ]
    },
    {
     "name": "stdout",
     "output_type": "stream",
     "text": [
      "Training data for ch4 glucose by model today N = 284557, MRD = -0.011362512678645383, StdRD = 0.22036229275297012, MARD = 0.16928993938617712\n",
      "Training data for ch4 glucose by selfcal N = 284557, MRD = -0.004578904151191749, StdRD = 0.21690712848647664, MARD = 0.16432444878189154\n",
      "Training data for ch4 glucose by retro N = 323773, MRD = 0.08253275813600343, StdRD = 1.209175012659502, MARD = 0.22077312802508398\n",
      "Max of predict_slope is 1.3110785608485562\n",
      "Min of predict_slope is 0.41817119644225653\n",
      "Max of predict_intercept is 15.671346229732828\n",
      "Min of predict_intercept is -105.46185347753381\n",
      "Test data for ch4 glucose by model today N = 39728, MRD = -0.10719177651440225, StdRD = 0.22744060293808482, MARD = 0.2002691122812465\n",
      "Test data for ch4 glucose by selfcal N = 39728, MRD = 0.1427433840043713, StdRD = 0.4517820312681696, MARD = 0.3065223867345288\n",
      "Test data for ch4 glucose by retro N = 44042, MRD = 0.025645503639347048, StdRD = 0.2670910317455539, MARD = 0.1793310210308623\n"
     ]
    },
    {
     "name": "stderr",
     "output_type": "stream",
     "text": [
      "/var/folders/nr/d5llxsx51b3fljj36q8cwm1c0000gp/T/ipykernel_8323/789112783.py:39: SettingWithCopyWarning:\n",
      "\n",
      "\n",
      "A value is trying to be set on a copy of a slice from a DataFrame.\n",
      "Try using .loc[row_indexer,col_indexer] = value instead\n",
      "\n",
      "See the caveats in the documentation: https://pandas.pydata.org/pandas-docs/stable/user_guide/indexing.html#returning-a-view-versus-a-copy\n",
      "\n"
     ]
    }
   ],
   "source": [
    "df = df_orig[all_cols].copy()\n",
    "\n",
    "df_test_ysi = df.loc[training_index]\n",
    "x_train_ysi = df_test_ysi[feature_col]\n",
    "x_train_ysi_norm = min_max_scaler.transform(x_train_ysi)\n",
    "\n",
    "ch4_slope_train = self_cal_model_dict['self_cal_model_4'].predict(x_train_ysi_norm)\n",
    "print(f'Max of predict_slope is {ch4_slope_train.max()}')\n",
    "print(f'Min of predict_slope is {ch4_slope_train.min()}')\n",
    "ch4_intercept_train = self_cal_model_dict['self_cal_model_5'].predict(x_train_ysi_norm)\n",
    "print(f'Max of predict_intercept is {ch4_intercept_train.max()}')\n",
    "print(f'Min of predict_intercept is {ch4_intercept_train.min()}')\n",
    "df_test_ysi['biolinq_s4_selfcal'] = df_test_ysi['biolinq_s4_channelFaultDetection'].sub(ch4_intercept_train).div(ch4_slope_train)\n",
    "n_ch4_train_today = df_test_ysi['biolinq_s4_channelFaultDetection'].sub(df_test_ysi['ysi']).div(df_test_ysi['ysi']).count()\n",
    "mrd_ch4_train_today = df_test_ysi['biolinq_s4_channelFaultDetection'].sub(df_test_ysi['ysi']).div(df_test_ysi['ysi']).mean()\n",
    "stdrd_ch4_train_today = df_test_ysi['biolinq_s4_channelFaultDetection'].sub(df_test_ysi['ysi']).div(df_test_ysi['ysi']).std()\n",
    "mard_ch4_train_today = df_test_ysi['biolinq_s4_channelFaultDetection'].sub(df_test_ysi['ysi']).div(df_test_ysi['ysi']).abs().mean()\n",
    "n_ch4_train_selfcal = df_test_ysi['biolinq_s4_selfcal'].sub(df_test_ysi['ysi']).div(df_test_ysi['ysi']).count()\n",
    "mrd_ch4_train_selfcal = df_test_ysi['biolinq_s4_selfcal'].sub(df_test_ysi['ysi']).div(df_test_ysi['ysi']).mean()\n",
    "stdrd_ch4_train_selfcal = df_test_ysi['biolinq_s4_selfcal'].sub(df_test_ysi['ysi']).div(df_test_ysi['ysi']).std()\n",
    "mard_ch4_train_selfcal = df_test_ysi['biolinq_s4_selfcal'].sub(df_test_ysi['ysi']).div(df_test_ysi['ysi']).abs().mean()\n",
    "n_ch4_train_retro = df_test_ysi['retro_model_output_s4_calculateGlucose'].sub(df_test_ysi['ysi']).div(df_test_ysi['ysi']).count()\n",
    "mrd_ch4_train_retro = df_test_ysi['retro_model_output_s4_calculateGlucose'].sub(df_test_ysi['ysi']).div(df_test_ysi['ysi']).mean()\n",
    "stdrd_ch4_train_retro = df_test_ysi['retro_model_output_s4_calculateGlucose'].sub(df_test_ysi['ysi']).div(df_test_ysi['ysi']).std()\n",
    "mard_ch4_train_retro = df_test_ysi['retro_model_output_s4_calculateGlucose'].sub(df_test_ysi['ysi']).div(df_test_ysi['ysi']).abs().mean()\n",
    "print(f'Training data for ch4 glucose by model today N = {n_ch4_train_today}, MRD = {mrd_ch4_train_today}, StdRD = {stdrd_ch4_train_today}, MARD = {mard_ch4_train_today}')\n",
    "print(f'Training data for ch4 glucose by selfcal N = {n_ch4_train_selfcal}, MRD = {mrd_ch4_train_selfcal}, StdRD = {stdrd_ch4_train_selfcal}, MARD = {mard_ch4_train_selfcal}')\n",
    "print(f'Training data for ch4 glucose by retro N = {n_ch4_train_retro}, MRD = {mrd_ch4_train_retro}, StdRD = {stdrd_ch4_train_retro}, MARD = {mard_ch4_train_retro}')\n",
    "\n",
    "df_test_ysi = df.loc[test_index]\n",
    "x_test_ysi = df_test_ysi[feature_col]\n",
    "x_test_ysi_norm = min_max_scaler.transform(x_test_ysi)\n",
    "ch4_slope_test = self_cal_model_dict['self_cal_model_4'].predict(x_test_ysi_norm)\n",
    "print(f'Max of predict_slope is {ch4_slope_test.max()}')\n",
    "print(f'Min of predict_slope is {ch4_slope_test.min()}')\n",
    "ch4_intercept_test = self_cal_model_dict['self_cal_model_5'].predict(x_test_ysi_norm)\n",
    "print(f'Max of predict_intercept is {ch4_intercept_test.max()}')\n",
    "print(f'Min of predict_intercept is {ch4_intercept_test.min()}')\n",
    "df_test_ysi['biolinq_s4_selfcal'] = df_test_ysi['biolinq_s4_channelFaultDetection'].sub(ch4_intercept_test).div(ch4_slope_test)\n",
    "n_ch4_test_today = df_test_ysi['biolinq_s4_channelFaultDetection'].sub(df_test_ysi['ysi']).div(df_test_ysi['ysi']).count()\n",
    "mrd_ch4_test_today = df_test_ysi['biolinq_s4_channelFaultDetection'].sub(df_test_ysi['ysi']).div(df_test_ysi['ysi']).mean()\n",
    "stdrd_ch4_test_today = df_test_ysi['biolinq_s4_channelFaultDetection'].sub(df_test_ysi['ysi']).div(df_test_ysi['ysi']).std()\n",
    "mard_ch4_test_today = df_test_ysi['biolinq_s4_channelFaultDetection'].sub(df_test_ysi['ysi']).div(df_test_ysi['ysi']).abs().mean()\n",
    "n_ch4_test_selfcal = df_test_ysi['biolinq_s4_selfcal'].sub(df_test_ysi['ysi']).div(df_test_ysi['ysi']).count()\n",
    "mrd_ch4_test_selfcal = df_test_ysi['biolinq_s4_selfcal'].sub(df_test_ysi['ysi']).div(df_test_ysi['ysi']).mean()\n",
    "stdrd_ch4_test_selfcal = df_test_ysi['biolinq_s4_selfcal'].sub(df_test_ysi['ysi']).div(df_test_ysi['ysi']).std()\n",
    "mard_ch4_test_selfcal = df_test_ysi['biolinq_s4_selfcal'].sub(df_test_ysi['ysi']).div(df_test_ysi['ysi']).abs().mean()\n",
    "n_ch4_test_retro = df_test_ysi['retro_model_output_s4_calculateGlucose'].sub(df_test_ysi['ysi']).div(df_test_ysi['ysi']).count()\n",
    "mrd_ch4_test_retro = df_test_ysi['retro_model_output_s4_calculateGlucose'].sub(df_test_ysi['ysi']).div(df_test_ysi['ysi']).mean()\n",
    "stdrd_ch4_test_retro = df_test_ysi['retro_model_output_s4_calculateGlucose'].sub(df_test_ysi['ysi']).div(df_test_ysi['ysi']).std()\n",
    "mard_ch4_test_retro = df_test_ysi['retro_model_output_s4_calculateGlucose'].sub(df_test_ysi['ysi']).div(df_test_ysi['ysi']).abs().mean()\n",
    "print(f'Test data for ch4 glucose by model today N = {n_ch4_test_today}, MRD = {mrd_ch4_test_today}, StdRD = {stdrd_ch4_test_today}, MARD = {mard_ch4_test_today}')\n",
    "print(f'Test data for ch4 glucose by selfcal N = {n_ch4_test_selfcal}, MRD = {mrd_ch4_test_selfcal}, StdRD = {stdrd_ch4_test_selfcal}, MARD = {mard_ch4_test_selfcal}')\n",
    "print(f'Test data for ch4 glucose by retro N = {n_ch4_test_retro}, MRD = {mrd_ch4_test_retro}, StdRD = {stdrd_ch4_test_retro}, MARD = {mard_ch4_test_retro}')"
   ]
  },
  {
   "cell_type": "code",
   "execution_count": 48,
   "metadata": {},
   "outputs": [
    {
     "data": {
      "text/plain": [
       "[0.4185454904682045,\n",
       " 1.3206917749119929,\n",
       " -105.58616422467415,\n",
       " 15.671346380524206,\n",
       " 0.41817119644225653,\n",
       " 1.3110785608485562,\n",
       " -105.46185347753381,\n",
       " 15.671346229732828]"
      ]
     },
     "execution_count": 48,
     "metadata": {},
     "output_type": "execute_result"
    }
   ],
   "source": [
    "[ch4_slope_train.min(),\n",
    "ch4_slope_train.max(),\n",
    "ch4_intercept_train.min(),\n",
    "ch4_intercept_train.max(),\n",
    "ch4_slope_test.min(),\n",
    "ch4_slope_test.max(),\n",
    "ch4_intercept_test.min(),\n",
    "ch4_intercept_test.max()]"
   ]
  },
  {
   "cell_type": "code",
   "execution_count": 49,
   "metadata": {},
   "outputs": [
    {
     "data": {
      "text/plain": [
       "102.61180513150357"
      ]
     },
     "execution_count": 49,
     "metadata": {},
     "output_type": "execute_result"
    }
   ],
   "source": [
    "df_test_valid[['model_output_s1_selfcal','model_output_s3_selfcal','model_output_s4_selfcal']].std(1).quantile(q=0.95)"
   ]
  },
  {
   "cell_type": "code",
   "execution_count": 50,
   "metadata": {},
   "outputs": [
    {
     "data": {
      "text/plain": [
       "51.95694160258942"
      ]
     },
     "execution_count": 50,
     "metadata": {},
     "output_type": "execute_result"
    }
   ],
   "source": [
    "df_test_valid[['model_output_s1_calculateGlucose','model_output_s3_calculateGlucose','model_output_s4_calculateGlucose']].std(1).quantile(q=0.95)"
   ]
  },
  {
   "cell_type": "code",
   "execution_count": 51,
   "metadata": {},
   "outputs": [
    {
     "data": {
      "text/plain": [
       "44.245584844522554"
      ]
     },
     "execution_count": 51,
     "metadata": {},
     "output_type": "execute_result"
    }
   ],
   "source": [
    "df_test_valid[['retro_model_output_s1_calculateGlucose','retro_model_output_s3_calculateGlucose','retro_model_output_s4_calculateGlucose']].std(1).quantile(q=0.95)"
   ]
  },
  {
   "cell_type": "code",
   "execution_count": 52,
   "metadata": {},
   "outputs": [
    {
     "data": {
      "text/plain": [
       "array([ 0.0830003, 11.9864   ,  9.79233  , 14.488    ,  2.09675  ,\n",
       "        1.75432  ,  1.73353  ])"
      ]
     },
     "execution_count": 52,
     "metadata": {},
     "output_type": "execute_result"
    }
   ],
   "source": [
    "min_max_scaler.data_min_"
   ]
  },
  {
   "cell_type": "code",
   "execution_count": 53,
   "metadata": {},
   "outputs": [],
   "source": [
    "min_max_scaler.feature_names_in_ = np.array(['time_from_start',\n",
    "                    'ewm_average_8hr_iir_filt_model_output_temp_s1',\n",
    "                    'ewm_average_8hr_iir_filt_model_output_temp_s3',\n",
    "                    'ewm_average_8hr_iir_filt_model_output_temp_s4',\n",
    "                    'estimate_standard_deviation_8hr_iir_filt_model_output_temp_s1',\n",
    "                    'estimate_standard_deviation_8hr_iir_filt_model_output_temp_s3',\n",
    "                    'estimate_standard_deviation_8hr_iir_filt_model_output_temp_s4'\n",
    "                    ],dtype='object')\n",
    "with open (r'/Users/liangwang/GitHub/DataAnalysis/AlgorithmAssembler/Modules/calculateGlucose/selfcal_nn_models/min_max_scaler.p','wb') as fp:\n",
    "    pickle.dump(min_max_scaler,fp) "
   ]
  },
  {
   "cell_type": "code",
   "execution_count": 54,
   "metadata": {},
   "outputs": [],
   "source": [
    "with open (r'/Users/liangwang/GitHub/DataAnalysis/AlgorithmAssembler/Modules/calculateGlucose/selfcal_nn_models/ch1_slope.p','wb') as fp:\n",
    "    pickle.dump(self_cal_model_dict['self_cal_model_0'],fp)  \n",
    "with open (r'/Users/liangwang/GitHub/DataAnalysis/AlgorithmAssembler/Modules/calculateGlucose/selfcal_nn_models/ch1_intercept.p','wb') as fp:\n",
    "    pickle.dump(self_cal_model_dict['self_cal_model_1'],fp)  \n",
    "with open (r'/Users/liangwang/GitHub/DataAnalysis/AlgorithmAssembler/Modules/calculateGlucose/selfcal_nn_models/ch3_slope.p','wb') as fp:\n",
    "    pickle.dump(self_cal_model_dict['self_cal_model_2'],fp)  \n",
    "with open (r'/Users/liangwang/GitHub/DataAnalysis/AlgorithmAssembler/Modules/calculateGlucose/selfcal_nn_models/ch3_intercept.p','wb') as fp:\n",
    "    pickle.dump(self_cal_model_dict['self_cal_model_3'],fp)  \n",
    "with open (r'/Users/liangwang/GitHub/DataAnalysis/AlgorithmAssembler/Modules/calculateGlucose/selfcal_nn_models/ch4_slope.p','wb') as fp:\n",
    "    pickle.dump(self_cal_model_dict['self_cal_model_4'],fp)  \n",
    "with open (r'/Users/liangwang/GitHub/DataAnalysis/AlgorithmAssembler/Modules/calculateGlucose/selfcal_nn_models/ch4_intercept.p','wb') as fp:\n",
    "    pickle.dump(self_cal_model_dict['self_cal_model_5'],fp)                  "
   ]
  },
  {
   "cell_type": "code",
   "execution_count": null,
   "metadata": {},
   "outputs": [],
   "source": [
    "self_cal_model_temp = MLPRegressor(solver='sgd',alpha=1e-1,max_iter=int(1e4),tol=1e-6,learning_rate='adaptive',random_state=20240528,verbose=True)\n",
    "param_list = {\"hidden_layer_sizes\": [(10,),(10,10),(10,5,2),(2,5,10),(4,3,4),(3,2,3),(5,5),(5,)]}\n",
    "gridCV = GridSearchCV(estimator=self_cal_model_temp, param_grid=param_list,cv=10,verbose=True)\n",
    "gridCV.fit(x_train_norm,y_train[:,i])"
   ]
  },
  {
   "cell_type": "code",
   "execution_count": null,
   "metadata": {},
   "outputs": [],
   "source": [
    "# with open (r'/Users/liangwang/GitHub/DataAnalysis/AlgorithmAssembler/Modules/calculateGlucose/selfcal_nn_models/min_max_scaler.p','rb') as fp:\n",
    "#     min_max_scaler = pickle.load(fp)\n",
    "# min_max_scaler.feature_names_in_ = np.array(['time_from_start_featureGeneration',\n",
    "#        'ewm_average_8hr_iir_filt_model_output_s1_glucoseFeatureGeneration',\n",
    "#        'ewm_average_8hr_iir_filt_model_output_s3_glucoseFeatureGeneration',\n",
    "#        'ewm_average_8hr_iir_filt_model_output_s4_glucoseFeatureGeneration',\n",
    "#        'estimate_standard_deviation_8hr_iir_filt_model_output_s1_glucoseFeatureGeneration',\n",
    "#        'estimate_standard_deviation_8hr_iir_filt_model_output_s3_glucoseFeatureGeneration',\n",
    "#        'estimate_standard_deviation_8hr_iir_filt_model_output_s4_glucoseFeatureGeneration'],\n",
    "#       dtype='object')"
   ]
  },
  {
   "cell_type": "code",
   "execution_count": null,
   "metadata": {},
   "outputs": [],
   "source": [
    "# self_cal_model_dict = {}\n",
    "# with open (r'/Users/liangwang/GitHub/DataAnalysis/AlgorithmAssembler/Modules/calculateGlucose/selfcal_nn_models/ch1_slope.p','rb') as fp:\n",
    "#     self_cal_model_dict['self_cal_model_0'] = pickle.load(fp)\n",
    "# with open (r'/Users/liangwang/GitHub/DataAnalysis/AlgorithmAssembler/Modules/calculateGlucose/selfcal_nn_models/ch1_intercept.p','rb') as fp:\n",
    "#     self_cal_model_dict['self_cal_model_1'] = pickle.load(fp)\n",
    "# with open (r'/Users/liangwang/GitHub/DataAnalysis/AlgorithmAssembler/Modules/calculateGlucose/selfcal_nn_models/ch3_slope.p','rb') as fp:\n",
    "#     self_cal_model_dict['self_cal_model_2'] = pickle.load(fp)\n",
    "# with open (r'/Users/liangwang/GitHub/DataAnalysis/AlgorithmAssembler/Modules/calculateGlucose/selfcal_nn_models/ch3_intercept.p','rb') as fp:\n",
    "#     self_cal_model_dict['self_cal_model_3'] = pickle.load(fp)\n",
    "# with open (r'/Users/liangwang/GitHub/DataAnalysis/AlgorithmAssembler/Modules/calculateGlucose/selfcal_nn_models/ch4_slope.p','rb') as fp:\n",
    "#     self_cal_model_dict['self_cal_model_4'] = pickle.load(fp)\n",
    "# with open (r'/Users/liangwang/GitHub/DataAnalysis/AlgorithmAssembler/Modules/calculateGlucose/selfcal_nn_models/ch4_intercept.p','rb') as fp:\n",
    "#     self_cal_model_dict['self_cal_model_5'] = pickle.load(fp)                "
   ]
  },
  {
   "cell_type": "code",
   "execution_count": null,
   "metadata": {},
   "outputs": [],
   "source": [
    "# for i in range(6): # [0,1]:\n",
    "#     print(f'Loading parameter {i}')\n",
    "#     self_cal_model = self_cal_model_dict[f'self_cal_model_{i}']\n",
    "#     predict_slope_intercept = self_cal_model.predict(x_train_norm)\n",
    "#     mse_train_selfcal = np.mean((predict_slope_intercept - y_train[:,i])**2)\n",
    "#     mse_train_today = np.mean(y_train[:,i]**2)\n",
    "#     print(f'The model today has MSE={mse_train_today}')\n",
    "#     print(f'The self cal model has MSE={mse_train_selfcal}')\n",
    "\n",
    "#     predict_slope_intercept_test = self_cal_model.predict(x_test_norm)\n",
    "#     mse_test_selfcal = np.mean((predict_slope_intercept_test - y_test[:,i])**2)\n",
    "#     mse_test_today = np.mean(y_test[:,i]**2)\n",
    "#     print(f'The model today on test has MSE={mse_test_today}')\n",
    "#     print(f'The self cal model on test has MSE={mse_test_selfcal}')\n",
    "#     self_cal_model_dict[f'self_cal_model_{i}'] = self_cal_model"
   ]
  },
  {
   "cell_type": "code",
   "execution_count": null,
   "metadata": {},
   "outputs": [],
   "source": [
    "pd.DataFrame(gridCV.cv_results_)"
   ]
  },
  {
   "cell_type": "code",
   "execution_count": null,
   "metadata": {},
   "outputs": [],
   "source": [
    "gridCV.best_estimator_"
   ]
  },
  {
   "cell_type": "code",
   "execution_count": null,
   "metadata": {},
   "outputs": [],
   "source": [
    "i=1\n",
    "self_cal_model = MLPRegressor(hidden_layer_sizes=(1,),solver='sgd',alpha=0.1,max_iter=int(1e4),tol=1e-6,learning_rate='adaptive',random_state=20240528)\n",
    "self_cal_model.fit(x_train_norm,y_train[:,i])\n",
    "predict_slope_intercept = self_cal_model.predict(x_train_norm)\n",
    "mse_train_selfcal = np.mean((predict_slope_intercept - y_train[:,0])**2)\n",
    "mse_train_today = np.mean(y_train[:,i]**2)\n",
    "print(f'The model today has MSE={mse_train_today}')\n",
    "print(f'The self cal model has MSE={mse_train_selfcal}')\n",
    "\n",
    "predict_slope_intercept_test = self_cal_model.predict(x_test_norm)\n",
    "mse_test_selfcal = np.mean((predict_slope_intercept_test - y_test[:,i])**2)\n",
    "mse_test_today = np.mean(y_test[:,i]**2)\n",
    "print(f'The model today on test has MSE={mse_test_today}')\n",
    "print(f'The self cal model on test has MSE={mse_test_selfcal}')\n",
    "self_cal_model_dict[f'self_cal_model_{i}'] = self_cal_model"
   ]
  },
  {
   "cell_type": "code",
   "execution_count": null,
   "metadata": {},
   "outputs": [],
   "source": [
    "y_train[:,i].mean()"
   ]
  },
  {
   "cell_type": "code",
   "execution_count": null,
   "metadata": {},
   "outputs": [],
   "source": [
    "df_training_valid[feature_col].plot(y='ewm_average_8hr_iir_filt_model_output_s3_glucoseFeatureGeneration',kind='hist',bins=1000)"
   ]
  },
  {
   "cell_type": "code",
   "execution_count": null,
   "metadata": {},
   "outputs": [],
   "source": [
    "min_max_scaler.data_max_"
   ]
  },
  {
   "cell_type": "code",
   "execution_count": null,
   "metadata": {},
   "outputs": [],
   "source": [
    "self_cal_model = MLPRegressor(hidden_layer_sizes=(10,10,10),solver='sgd',alpha=1e-4,max_iter=int(1e4),tol=1e-6,learning_rate='adaptive',random_state=20240528)\n",
    "self_cal_model.fit(x_train_norm,y_train[:,0])\n",
    "predict_slope_intercept = self_cal_model.predict(x_train_norm)"
   ]
  },
  {
   "cell_type": "code",
   "execution_count": null,
   "metadata": {},
   "outputs": [],
   "source": [
    "valid_test_index = df[df['Study'].isin(test_group) & df['time_from_start_featureGeneration'].between(training_time_window[0],training_time_window[1]) & \n",
    "                        df[f'iso_s{ch_str}'].le(iso_thresh) & df[f'iso_s3'].le(iso_thresh) & df[f'iso_s4'].le(iso_thresh)].index\n",
    "df_test_valid = df.loc[valid_test_index,col_for_optim_no_ysi_acck].dropna().reset_index(drop=True)\n",
    "print(f'Test data has shape {df_test_valid.shape}')\n",
    "x_test = df_test_valid[feature_col]\n",
    "x_test_norm = min_max_scaler.fit_transform(x_test)\n",
    "y_test = df_test_valid[ground_truth_col].to_numpy()\n",
    "\n",
    "predict_slope_intercept_test = self_cal_model.predict(x_test_norm)"
   ]
  }
 ],
 "metadata": {
  "kernelspec": {
   "display_name": ".datarunner",
   "language": "python",
   "name": "python3"
  },
  "language_info": {
   "codemirror_mode": {
    "name": "ipython",
    "version": 3
   },
   "file_extension": ".py",
   "mimetype": "text/x-python",
   "name": "python",
   "nbconvert_exporter": "python",
   "pygments_lexer": "ipython3",
   "version": "3.9.2"
  }
 },
 "nbformat": 4,
 "nbformat_minor": 2
}
