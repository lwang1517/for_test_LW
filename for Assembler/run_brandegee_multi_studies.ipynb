{
 "cells": [
  {
   "cell_type": "code",
   "execution_count": null,
   "metadata": {},
   "outputs": [],
   "source": [
    "import sys, os\n",
    "import importlib"
   ]
  },
  {
   "cell_type": "code",
   "execution_count": null,
   "metadata": {},
   "outputs": [],
   "source": [
    "import sys\n",
    "sys.path.append(r'C:\\Users\\lwang\\Documents\\GitHub\\DataAnalysis')"
   ]
  },
  {
   "cell_type": "code",
   "execution_count": null,
   "metadata": {},
   "outputs": [],
   "source": [
    "import Brandegees"
   ]
  },
  {
   "cell_type": "code",
   "execution_count": null,
   "metadata": {},
   "outputs": [],
   "source": [
    "importlib.reload(Brandegees)\n",
    "all_config_files_path = r'C:\\Users\\lwang\\Documents\\Simulation\\brandegee configs LW data_cleaned'\n",
    "configs_to_run = [\n",
    "    os.path.join(all_config_files_path,'wrapper_assembler_config_eBlinqMayStudyCtrl.yml'),\n",
    "    os.path.join(all_config_files_path,'wrapper_assembler_config_eBlinqJuneStudyCtrl.yml'),    \n",
    "    os.path.join(all_config_files_path,'wrapper_assembler_config_Pre-Piv-2-validation.yml'),\n",
    "    os.path.join(all_config_files_path,'wrapper_assembler_config_eBlinq19c.yml'),\n",
    "    os.path.join(all_config_files_path,'wrapper_assembler_config_eBlinq20.yml'),\n",
    "    os.path.join(all_config_files_path,'wrapper_assembler_config_eBlinq22.yml'),\n",
    "    os.path.join(all_config_files_path,'wrapper_assembler_config_eBlinq23.yml'),\n",
    "    os.path.join(all_config_files_path,'wrapper_assembler_config_eBlinq25.yml'),\n",
    "    os.path.join(all_config_files_path,'wrapper_assembler_config_Pre-Piv-2-training.yml'),\n",
    "    os.path.join(all_config_files_path,'wrapper_assembler_config_eBlinqRingOverlay&NiMNA.yml'),\n",
    "    os.path.join(all_config_files_path,'wrapper_assembler_config_iBlinqAcet.yml'),\n",
    "    os.path.join(all_config_files_path,'wrapper_assembler_config_eBlinqMayStudyTest.yml'),\n",
    "    os.path.join(all_config_files_path,'wrapper_assembler_config_eBlinqJuneStudyTest.yml'),    \n",
    "    os.path.join(all_config_files_path,'wrapper_assembler_config_iBlinqFW231.yml'),\n",
    "    os.path.join(all_config_files_path,'wrapper_assembler_config_iBlinqOverlay.yml'),\n",
    "    os.path.join(all_config_files_path,'wrapper_assembler_config_eBlinq14.yml'),\n",
    "    os.path.join(all_config_files_path,'wrapper_assembler_config_eBlinq15.yml'),\n",
    "    os.path.join(all_config_files_path,'wrapper_assembler_config_eBlinq16.yml'),\n",
    "    os.path.join(all_config_files_path,'wrapper_assembler_config_eBlinq17.yml'),\n",
    "    os.path.join(all_config_files_path,'wrapper_assembler_config_eBlinq18.yml'),\n",
    "    os.path.join(all_config_files_path,'wrapper_assembler_config_eBlinq19a.yml'),\n",
    "    os.path.join(all_config_files_path,'wrapper_assembler_config_eBlinq19b.yml'),\n",
    "    os.path.join(all_config_files_path,'wrapper_assembler_config_iBlinq16.yml'),\n",
    "    os.path.join(all_config_files_path,'wrapper_assembler_config_iBlinqAdhesive.yml'),\n",
    "]\n",
    "for config in configs_to_run:\n",
    "    shrub = Brandegees.Brandegees()\n",
    "    shrub.load_config_and_run(config)"
   ]
  }
 ],
 "metadata": {
  "interpreter": {
   "hash": "05c984711564d2b93f60593281a776fb01d96e7bbb4da5efc788fade59baae6b"
  },
  "kernelspec": {
   "display_name": "Python 3.9.2 ('main01')",
   "language": "python",
   "name": "python3"
  },
  "language_info": {
   "codemirror_mode": {
    "name": "ipython",
    "version": 3
   },
   "file_extension": ".py",
   "mimetype": "text/x-python",
   "name": "python",
   "nbconvert_exporter": "python",
   "pygments_lexer": "ipython3",
   "version": "3.9.2"
  }
 },
 "nbformat": 4,
 "nbformat_minor": 4
}
