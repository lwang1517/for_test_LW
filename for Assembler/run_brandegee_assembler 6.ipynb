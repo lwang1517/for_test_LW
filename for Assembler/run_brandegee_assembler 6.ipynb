{
 "cells": [
  {
   "cell_type": "code",
   "execution_count": null,
   "metadata": {},
   "outputs": [],
   "source": [
    "import sys, os\n",
    "import importlib\n",
    "nb_dir = os.path.split(os.getcwd())[0]\n",
    "if nb_dir not in sys.path:\n",
    "    sys.path.append(nb_dir)\n",
    "import Brandegees"
   ]
  },
  {
   "cell_type": "code",
   "execution_count": null,
   "metadata": {},
   "outputs": [],
   "source": [
    "importlib.reload(Brandegees)\n",
    "shrub = Brandegees.Brandegees()\n",
    "wrapper_assembler_config = r\"C:\\Users\\lwang.VM-WINDOWS-PACK\\OneDrive - Biolinq Inc\\Documents - Clinical Data Analysis\\Data\\Aggregate\\new architecture eBlinq14 onwards\\brandegee configs\\wrapper_assembler_config_iBlinqFW231.yml\"\n",
    "shrub.load_config_and_run(wrapper_assembler_config)"
   ]
  }
 ],
 "metadata": {
  "kernelspec": {
   "display_name": "AlgoVenv1",
   "language": "python",
   "name": "python3"
  },
  "language_info": {
   "codemirror_mode": {
    "name": "ipython",
    "version": 3
   },
   "file_extension": ".py",
   "mimetype": "text/x-python",
   "name": "python",
   "nbconvert_exporter": "python",
   "pygments_lexer": "ipython3",
   "version": "3.9.2"
  }
 },
 "nbformat": 4,
 "nbformat_minor": 2
}
