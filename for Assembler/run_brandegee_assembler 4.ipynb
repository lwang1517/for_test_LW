{
 "cells": [
  {
   "cell_type": "code",
   "execution_count": null,
   "metadata": {},
   "outputs": [],
   "source": [
    "import sys, os\n",
    "import importlib\n",
    "nb_dir = os.path.split(os.getcwd())[0]\n",
    "if nb_dir not in sys.path:\n",
    "    sys.path.append(nb_dir)\n",
    "import Brandegees"
   ]
  },
  {
   "cell_type": "code",
   "execution_count": null,
   "metadata": {},
   "outputs": [],
   "source": [
    "importlib.reload(Brandegees)\n",
    "shrub = Brandegees.Brandegees()\n",
    "wrapper_assembler_config = r\"C:\\Users\\lwang.VM-WINDOWS-PACK\\OneDrive - Biolinq Inc\\Documents - Clinical Data Analysis\\Data\\Aggregate\\new architecture eBlinq14 onwards\\brandegee configs\\wrapper_assembler_config_eBlinq22.yml\"\n",
    "shrub.load_config_and_run(wrapper_assembler_config)"
   ]
  },
  {
   "cell_type": "code",
   "execution_count": null,
   "metadata": {},
   "outputs": [],
   "source": [
    "importlib.reload(Brandegees)\n",
    "shrub = Brandegees.Brandegees()\n",
    "wrapper_assembler_config = r\"C:\\Users\\lwang.VM-WINDOWS-PACK\\OneDrive - Biolinq Inc\\Documents - Clinical Data Analysis\\Data\\Aggregate\\new architecture eBlinq14 onwards\\brandegee configs\\wrapper_assembler_config_eBlinqRingOverlay&NiMNA.yml\"\n",
    "shrub.load_config_and_run(wrapper_assembler_config)"
   ]
  },
  {
   "cell_type": "code",
   "execution_count": null,
   "metadata": {},
   "outputs": [],
   "source": [
    "importlib.reload(Brandegees)\n",
    "shrub = Brandegees.Brandegees()\n",
    "wrapper_assembler_config = r\"C:\\Users\\lwang.VM-WINDOWS-PACK\\OneDrive - Biolinq Inc\\Documents - Clinical Data Analysis\\Data\\Aggregate\\new architecture eBlinq14 onwards\\brandegee configs\\wrapper_assembler_config_iBlinq16.yml\"\n",
    "shrub.load_config_and_run(wrapper_assembler_config)"
   ]
  }
 ],
 "metadata": {
  "interpreter": {
   "hash": "05c984711564d2b93f60593281a776fb01d96e7bbb4da5efc788fade59baae6b"
  },
  "kernelspec": {
   "display_name": "Python 3.9.2 ('main01')",
   "language": "python",
   "name": "python3"
  },
  "language_info": {
   "codemirror_mode": {
    "name": "ipython",
    "version": 3
   },
   "file_extension": ".py",
   "mimetype": "text/x-python",
   "name": "python",
   "nbconvert_exporter": "python",
   "pygments_lexer": "ipython3",
   "version": "3.9.2"
  }
 },
 "nbformat": 4,
 "nbformat_minor": 4
}
