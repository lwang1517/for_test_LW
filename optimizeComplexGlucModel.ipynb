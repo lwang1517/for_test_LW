{
 "cells": [
  {
   "cell_type": "code",
   "execution_count": 5,
   "metadata": {},
   "outputs": [],
   "source": [
    "import sys\n",
    "sys.path.append(r'C:\\Users\\lwang\\Documents\\GitHub\\DataAnalysis')"
   ]
  },
  {
   "cell_type": "code",
   "execution_count": 6,
   "metadata": {},
   "outputs": [],
   "source": [
    "import numpy as np\n",
    "import sys, os\n",
    "from pathlib import Path\n",
    "import pandas as pd\n",
    "import copy\n",
    "import plotly.express as px\n",
    "import pandas as pd\n",
    "import plotly.graph_objects as go\n",
    "from plotly.colors import n_colors\n",
    "import math\n",
    "import datetime as dt\n",
    "from sklearn.metrics import r2_score\n",
    "import plotly.colors\n",
    "from plotly.subplots import make_subplots\n",
    "import plotly.graph_objects as go\n",
    "import pandas as pd\n",
    "import numpy as np\n",
    "from scipy.stats import mannwhitneyu\n",
    "from scipy.interpolate import griddata\n",
    "import sklearn\n",
    "from sklearn.linear_model import LinearRegression\n",
    "from sklearn.neural_network import MLPClassifier\n",
    "from sklearn.neural_network import MLPRegressor\n",
    "from sklearn.model_selection import GridSearchCV\n",
    "import scipy\n",
    "import importlib\n",
    "import pickle\n",
    "import psutil \n",
    "import gc\n",
    "\n",
    "# ----- Internal Dependencies -------#\n",
    "nb_dir = os.path.split(os.getcwd())[0]\n",
    "sys.path.append(\"../..\")\n",
    "if nb_dir not in sys.path:\n",
    "    sys.path.append(nb_dir)\n",
    "from General import FileRead\n",
    "from General import AccuracyMetrics\n",
    "from General.GeneralFunctions import get_add_to_dict\n",
    "from General import TableManipulations\n",
    "from FeatureGeneration import GeneralFeatures\n",
    "from General import FileWrite\n",
    "\n",
    "from Plot.PdfHelper import PdfHelper\n",
    "from Plot.PlotMaker import PlotMaker\n",
    "# from Plot import Voltage_Plots\n",
    "from Plot import PlotFunctions\n",
    "# from Plot import AdHocPlots\n",
    "# from Plot import Sim_Plots\n",
    "\n",
    "# widget and notebook stuff\n",
    "from ipywidgets import interact, fixed\n",
    "import plotly.io as pio\n",
    "pio.renderers.default = \"plotly_mimetype+notebook\""
   ]
  },
  {
   "cell_type": "markdown",
   "metadata": {},
   "source": [
    "load data"
   ]
  },
  {
   "cell_type": "code",
   "execution_count": 47,
   "metadata": {},
   "outputs": [],
   "source": [
    "# training_group = ['eBlinqMayStudyCtrl', 'eBlinqMayStudyTest', 'eBlinqJuneStudyCtrl',\n",
    "#        'eBlinqJuneStudyTest', 'Pre-Piv-2-training',\n",
    "#        'Pre-Piv-2-validation', 'eBlinq19c', 'eBlinq20', 'eBlinq22',\n",
    "#        'eBlinq23', 'eBlinq25', 'eBlinqRingOverlay&NiMNA', 'iBlinqAcet',\n",
    "#        'eBlinq14', 'eBlinq15', 'eBlinq16', 'eBlinq17', 'eBlinq18',\n",
    "#        'eBlinq19a', 'eBlinq19b', 'iBlinq16', 'iBlinqAdhesive',\n",
    "#        'iBlinqFW231', 'iBlinqOverlay']\n",
    "training_group = ['eBlinq19c', 'eBlinq20', 'eBlinq22','eBlinq23','eBlinq25','iBlinqAcet','Pre-Piv-2-training','eBlinqMayStudyCtrl','Pre-Piv-2-validation','eBlinqJuneStudyCtrl']\n",
    "training_time_window = [0.083,5]\n",
    "training_tier = ['Tier 1: 3/3 Clinical Use', 'Tier 1w-a: 2/3 CLN, 3/3 Wide', 'Tier 1w-b: 1/3 CLN, 3/3 Wide', 'Tier 1w-c: 0/3 CLN, 3/3 Wide']\n",
    "training_config = ['Control', 'Unspecified']\n",
    "training_chemistry = '2.6.11'\n",
    "training_ivarm = ['No', 'Unspecified']\n",
    "\n",
    "test_group = ['eBlinq19c', 'eBlinq20', 'eBlinq22','Pre-Piv-2-training','eBlinqMayStudyCtrl','Pre-Piv-2-validation','eBlinqJuneStudyCtrl']\n",
    "test_tier = ['Tier 1: 3/3 Clinical Use', 'Tier 1w-a: 2/3 CLN, 3/3 Wide', 'Tier 1w-b: 1/3 CLN, 3/3 Wide', 'Tier 1w-c: 0/3 CLN, 3/3 Wide']\n",
    "test_config = ['Control', 'Unspecified']\n",
    "test_chemistry = '2.6.11'\n",
    "test_ivarm = ['No', 'Unspecified']\n",
    "\n",
    "all_training_channel = ['1','3','4']\n",
    "iso_thresh = 30\n",
    "feature_hour_short_window = '8hr'\n",
    "feature_hour_long_window = '120hr'\n",
    "feature_col_dict = {\n",
    "    'feature_col_ch1': [\n",
    "        'time_from_start_featureGeneration',\n",
    "        'Temperature_alignment',\n",
    "        'CE_alignment',\n",
    "        'cur1',\n",
    "        'deg1_103_featureGeneration',\n",
    "        'mag1_103_featureGeneration',\n",
    "        'deg1_1007_featureGeneration',\n",
    "        'mag1_1007_featureGeneration',\n",
    "        'deg1_10000_featureGeneration',\n",
    "        'mag1_10000_featureGeneration',\n",
    "        'ewm_average_8hr_deg1_10000_featureGeneration',\n",
    "        'ewm_average_8hr_deg1_1007_featureGeneration',\n",
    "        'ewm_average_8hr_deg1_103_featureGeneration',\n",
    "        'ewm_average_8hr_mag1_10000_featureGeneration',\n",
    "        'ewm_average_8hr_mag1_1007_featureGeneration',\n",
    "        'ewm_average_8hr_mag1_103_featureGeneration',   \n",
    "        f'ewm_average_{feature_hour_short_window}_iir_filt_model_output_s1_glucoseFeatureGeneration',\n",
    "        f'estimate_standard_deviation_{feature_hour_short_window}_iir_filt_model_output_s1_glucoseFeatureGeneration',    \n",
    "        f'ewm_average_{feature_hour_long_window}_iir_filt_model_output_s1_glucoseFeatureGeneration',\n",
    "        f'estimate_standard_deviation_{feature_hour_long_window}_iir_filt_model_output_s1_glucoseFeatureGeneration',\n",
    "    ],\n",
    "    'feature_col_ch3': [\n",
    "        'time_from_start_featureGeneration',\n",
    "        'Temperature_alignment',\n",
    "        'CE_alignment',\n",
    "        'cur3',\n",
    "        'deg3_103_featureGeneration',\n",
    "        'mag3_103_featureGeneration',\n",
    "        'deg3_1007_featureGeneration',\n",
    "        'mag3_1007_featureGeneration',\n",
    "        'deg3_10000_featureGeneration',\n",
    "        'mag3_10000_featureGeneration',\n",
    "        'ewm_average_8hr_deg3_10000_featureGeneration',\n",
    "        'ewm_average_8hr_deg3_1007_featureGeneration',\n",
    "        'ewm_average_8hr_deg3_103_featureGeneration',\n",
    "        'ewm_average_8hr_mag3_10000_featureGeneration',\n",
    "        'ewm_average_8hr_mag3_1007_featureGeneration',\n",
    "        'ewm_average_8hr_mag3_103_featureGeneration',   \n",
    "        f'ewm_average_{feature_hour_short_window}_iir_filt_model_output_s3_glucoseFeatureGeneration',\n",
    "        f'estimate_standard_deviation_{feature_hour_short_window}_iir_filt_model_output_s3_glucoseFeatureGeneration',    \n",
    "        f'ewm_average_{feature_hour_long_window}_iir_filt_model_output_s3_glucoseFeatureGeneration',\n",
    "        f'estimate_standard_deviation_{feature_hour_long_window}_iir_filt_model_output_s3_glucoseFeatureGeneration',\n",
    "    ],\n",
    "    'feature_col_ch4': [\n",
    "        'time_from_start_featureGeneration',\n",
    "        'Temperature_alignment',\n",
    "        'CE_alignment',\n",
    "        'cur4',\n",
    "        'deg4_103_featureGeneration',\n",
    "        'mag4_103_featureGeneration',\n",
    "        'deg4_1007_featureGeneration',\n",
    "        'mag4_1007_featureGeneration',\n",
    "        'deg4_10000_featureGeneration',\n",
    "        'mag4_10000_featureGeneration',\n",
    "        'ewm_average_8hr_deg4_10000_featureGeneration',\n",
    "        'ewm_average_8hr_deg4_1007_featureGeneration',\n",
    "        'ewm_average_8hr_deg4_103_featureGeneration',\n",
    "        'ewm_average_8hr_mag4_10000_featureGeneration',\n",
    "        'ewm_average_8hr_mag4_1007_featureGeneration',\n",
    "        'ewm_average_8hr_mag4_103_featureGeneration',   \n",
    "        f'ewm_average_{feature_hour_short_window}_iir_filt_model_output_s4_glucoseFeatureGeneration',\n",
    "        f'estimate_standard_deviation_{feature_hour_short_window}_iir_filt_model_output_s4_glucoseFeatureGeneration',    \n",
    "        f'ewm_average_{feature_hour_long_window}_iir_filt_model_output_s4_glucoseFeatureGeneration',\n",
    "        f'estimate_standard_deviation_{feature_hour_long_window}_iir_filt_model_output_s4_glucoseFeatureGeneration',\n",
    "    ],        \n",
    "}\n",
    "gluc_col = [\n",
    "    'model_output_s1_calculateGlucose','model_output_s3_calculateGlucose','model_output_s4_calculateGlucose',\n",
    "]\n",
    "gluc_fault_col = ['model_output_is_valid_s1_channelFaultDetection','model_output_is_valid_s3_channelFaultDetection','model_output_is_valid_s4_channelFaultDetection']\n",
    "info_ref = ['Study','Sensor_Id','Chemistry mfg','Sorting Tier mfg','IV Arm','Config']\n",
    "retrofit_col = ['retro_model_output_s1_calculateGlucose','retro_model_output_s3_calculateGlucose','retro_model_output_s4_calculateGlucose']\n",
    "ref_for_optim = 'cgm_adj'\n",
    "ref_for_optim_list = [ref_for_optim] # 'ysi', 'acck'\n",
    "ref_for_eval = ['cgm_adj','ysi', 'acck']\n",
    "all_cols = set(feature_col_dict['feature_col_ch1'] + feature_col_dict['feature_col_ch3'] + feature_col_dict['feature_col_ch4'] + gluc_col + info_ref + retrofit_col + ref_for_optim_list + ref_for_eval + gluc_fault_col)"
   ]
  },
  {
   "cell_type": "code",
   "execution_count": 8,
   "metadata": {},
   "outputs": [
    {
     "name": "stderr",
     "output_type": "stream",
     "text": [
      "c:\\Users\\lwang\\Documents\\GitHub\\AlgoVenv1\\lib\\site-packages\\IPython\\core\\interactiveshell.py:3269: DtypeWarning:\n",
      "\n",
      "Columns (12) have mixed types.Specify dtype option on import or set low_memory=False.\n",
      "\n"
     ]
    }
   ],
   "source": [
    "df_orig=pd.read_csv(r'S:\\for Liang\\data for optimization\\agg_sample_df_ref_gModel_cgmadj_all2.csv')"
   ]
  },
  {
   "cell_type": "code",
   "execution_count": 9,
   "metadata": {},
   "outputs": [],
   "source": [
    "sensor_info_df = pd.read_excel(r'C:\\Users\\lwang\\OneDrive - Biolinq Inc\\Gen 1\\Algorithm Development\\neural network glucose model\\all sensor info updated.xlsx')"
   ]
  },
  {
   "cell_type": "code",
   "execution_count": 10,
   "metadata": {},
   "outputs": [
    {
     "data": {
      "text/plain": [
       "Index(['Study', 'sensor_id', 'sensor_id_corrected', 'Subject ID', 'IV Arm',\n",
       "       'Self Apply', 'Location', 'Config', 'Sorting Tier mfg', 'Chemistry mfg',\n",
       "       'Lot', 'Build', 'Wafer Lot #', 'Wafer Type', 'Wafer Batch - #',\n",
       "       'Wafer Location', 'Cardinal', 'Quadrant', 'Edge Level', 'Outermost'],\n",
       "      dtype='object')"
      ]
     },
     "execution_count": 10,
     "metadata": {},
     "output_type": "execute_result"
    }
   ],
   "source": [
    "sensor_info_df.columns"
   ]
  },
  {
   "cell_type": "code",
   "execution_count": 11,
   "metadata": {},
   "outputs": [],
   "source": [
    "df_orig = df_orig.merge(right=sensor_info_df,how='left',left_on='Sensor_Id',right_on='sensor_id',suffixes=(None,'2'))"
   ]
  },
  {
   "cell_type": "code",
   "execution_count": 12,
   "metadata": {},
   "outputs": [
    {
     "data": {
      "text/plain": [
       "array(['Control', nan, 'Unspecified'], dtype=object)"
      ]
     },
     "execution_count": 12,
     "metadata": {},
     "output_type": "execute_result"
    }
   ],
   "source": [
    "df_orig['Config'].unique()"
   ]
  },
  {
   "cell_type": "code",
   "execution_count": 13,
   "metadata": {},
   "outputs": [
    {
     "data": {
      "text/plain": [
       "array(['No', 'Yes', nan, 'Unspecified'], dtype=object)"
      ]
     },
     "execution_count": 13,
     "metadata": {},
     "output_type": "execute_result"
    }
   ],
   "source": [
    "df_orig['IV Arm'].unique()"
   ]
  },
  {
   "cell_type": "code",
   "execution_count": 14,
   "metadata": {},
   "outputs": [
    {
     "data": {
      "text/plain": [
       "array(['eBlinqMayStudyCtrl', 'eBlinqMayStudyTest', 'eBlinqJuneStudyCtrl',\n",
       "       'eBlinqJuneStudyTest', 'Pre-Piv-2-training',\n",
       "       'Pre-Piv-2-validation', 'eBlinq19c', 'eBlinq20', 'eBlinq22',\n",
       "       'eBlinq23', 'eBlinq25', 'eBlinqRingOverlay&NiMNA', 'iBlinqAcet',\n",
       "       'eBlinq14', 'eBlinq15', 'eBlinq16', 'eBlinq17', 'eBlinq18',\n",
       "       'eBlinq19a', 'eBlinq19b', 'iBlinq16', 'iBlinqAdhesive',\n",
       "       'iBlinqFW231', 'iBlinqOverlay'], dtype=object)"
      ]
     },
     "execution_count": 14,
     "metadata": {},
     "output_type": "execute_result"
    }
   ],
   "source": [
    "df_orig['Study'].unique()"
   ]
  },
  {
   "cell_type": "code",
   "execution_count": 15,
   "metadata": {},
   "outputs": [
    {
     "data": {
      "text/plain": [
       "array(['2.6.11', nan, '2.5.11'], dtype=object)"
      ]
     },
     "execution_count": 15,
     "metadata": {},
     "output_type": "execute_result"
    }
   ],
   "source": [
    "df_orig['Chemistry mfg'].unique()"
   ]
  },
  {
   "cell_type": "code",
   "execution_count": 27,
   "metadata": {},
   "outputs": [
    {
     "data": {
      "text/plain": [
       "15057221"
      ]
     },
     "execution_count": 27,
     "metadata": {},
     "output_type": "execute_result"
    }
   ],
   "source": [
    "df_orig['Chemistry mfg'].isna().sum()"
   ]
  },
  {
   "cell_type": "code",
   "execution_count": 16,
   "metadata": {},
   "outputs": [
    {
     "data": {
      "text/plain": [
       "array(['Tier 1: 3/3 Clinical Use', nan, 'Tier 1w-a: 2/3 CLN, 3/3 Wide',\n",
       "       'Tier 5: Non-Functional', 'Tier 2: 2/3 Pass CLN',\n",
       "       'Tier 1w-b: 1/3 CLN, 3/3 Wide', 'Tier 1w-c: 0/3 CLN, 3/3 Wide'],\n",
       "      dtype=object)"
      ]
     },
     "execution_count": 16,
     "metadata": {},
     "output_type": "execute_result"
    }
   ],
   "source": [
    "df_orig['Sorting Tier mfg'].unique()"
   ]
  },
  {
   "cell_type": "code",
   "execution_count": 20,
   "metadata": {},
   "outputs": [
    {
     "data": {
      "text/plain": [
       "array(['No', 'Yes', nan, 'Unspecified'], dtype=object)"
      ]
     },
     "execution_count": 20,
     "metadata": {},
     "output_type": "execute_result"
    }
   ],
   "source": [
    "df_orig['IV Arm'].unique()"
   ]
  },
  {
   "cell_type": "code",
   "execution_count": 17,
   "metadata": {},
   "outputs": [],
   "source": [
    "df = df_orig[all_cols].copy()"
   ]
  },
  {
   "cell_type": "code",
   "execution_count": 42,
   "metadata": {},
   "outputs": [],
   "source": [
    "all_gModel = {}"
   ]
  },
  {
   "cell_type": "code",
   "execution_count": 48,
   "metadata": {},
   "outputs": [
    {
     "name": "stdout",
     "output_type": "stream",
     "text": [
      "Concatenate channel 1\n",
      "Training data has length 8076919\n",
      "Training data has length 7042947\n",
      "Ratio of good data is 0.871984354430198\n",
      "Concatenate channel 3\n",
      "Training data has length 8076919\n",
      "Training data has length 7109035\n",
      "Ratio of good data is 0.8801666823698492\n",
      "Concatenate channel 4\n",
      "Training data has length 8076919\n",
      "Training data has length 7120045\n",
      "Ratio of good data is 0.881529825915055\n"
     ]
    }
   ],
   "source": [
    "x_train_all_ch = pd.DataFrame()\n",
    "y_train_all_ch = np.empty((0,))\n",
    "hypo_idx = df[ref_for_optim].le(100)\n",
    "for ch_str in all_training_channel:\n",
    "    print(f'Concatenate channel {ch_str}')\n",
    "    df[f'ad_s{ch_str}'] = df[f'retro_model_output_s{ch_str}_calculateGlucose'].sub(df[ref_for_optim]).abs()\n",
    "    df[f'ard_s{ch_str}'] = df[f'ad_s{ch_str}'].div(df[ref_for_optim]).mul(100)\n",
    "    df[f'iso_s{ch_str}'] = df[f'ard_s{ch_str}']\n",
    "    df.loc[hypo_idx,f'iso_s{ch_str}'] = df.loc[hypo_idx,f'ad_s{ch_str}']\n",
    "    feature_col = feature_col_dict[f'feature_col_ch{ch_str}']\n",
    "    col_for_train = feature_col + [f'model_output_s{ch_str}_calculateGlucose'] + ref_for_optim_list\n",
    "    training_index = df['Study'].isin(training_group) & df['time_from_start_featureGeneration'].between(training_time_window[0],training_time_window[1]) & \\\n",
    "                            df['Chemistry mfg'].eq(training_chemistry) & df['Sorting Tier mfg'].isin(training_tier) &\\\n",
    "                            df['IV Arm'].isin(training_ivarm) & df['Config'].isin(training_config)\n",
    "    len_training = training_index.sum()\n",
    "    # valid_training_index = training_index & df[f'iso_s{ch_str}'].le(iso_thresh)\n",
    "    valid_training_index = training_index & df[f'model_output_is_valid_s{ch_str}_channelFaultDetection']\n",
    "    len_valid_training = valid_training_index.sum()\n",
    "    df_training_valid = df.loc[valid_training_index,col_for_train].dropna().reset_index(drop=True)\n",
    "    print(f'Training data has length {len_training}')\n",
    "    print(f'Training data has length {len_valid_training}')\n",
    "    good_data_ratio = len_valid_training/len_training\n",
    "    print(f'Ratio of good data is {good_data_ratio}')\n",
    "    x_train = df_training_valid[feature_col].copy()\n",
    "    x_train.rename(columns={\n",
    "        f'cur{ch_str}':'cur',\n",
    "        f'deg{ch_str}_103_featureGeneration':'deg_103_featureGeneration',\n",
    "        f'mag{ch_str}_103_featureGeneration':'mag_103_featureGeneration',\n",
    "        f'deg{ch_str}_1007_featureGeneration':'deg_1007_featureGeneration',\n",
    "        f'mag{ch_str}_1007_featureGeneration':'mag_1007_featureGeneration',\n",
    "        f'deg{ch_str}_10000_featureGeneration':'deg_10000_featureGeneration',\n",
    "        f'mag{ch_str}_10000_featureGeneration':'mag_10000_featureGeneration',\n",
    "        f'ewm_average_8hr_deg{ch_str}_10000_featureGeneration':'ewm_average_8hr_deg_10000_featureGeneration',\n",
    "        f'ewm_average_8hr_deg{ch_str}_1007_featureGeneration':'ewm_average_8hr_deg_1007_featureGeneration',\n",
    "        f'ewm_average_8hr_deg{ch_str}_103_featureGeneration':'ewm_average_8hr_deg_103_featureGeneration',\n",
    "        f'ewm_average_8hr_mag{ch_str}_10000_featureGeneration':'ewm_average_8hr_mag_10000_featureGeneration',\n",
    "        f'ewm_average_8hr_mag{ch_str}_1007_featureGeneration':'ewm_average_8hr_mag_1007_featureGeneration',\n",
    "        f'ewm_average_8hr_mag{ch_str}_103_featureGeneration':'ewm_average_8hr_mag_103_featureGeneration',\n",
    "        f'ewm_average_{feature_hour_short_window}_iir_filt_model_output_s{ch_str}_glucoseFeatureGeneration':f'ewm_average_{feature_hour_short_window}_iir_filt_model_output_glucoseFeatureGeneration',\n",
    "        f'estimate_standard_deviation_{feature_hour_short_window}_iir_filt_model_output_s{ch_str}_glucoseFeatureGeneration':f'estimate_standard_deviation_{feature_hour_short_window}_iir_filt_model_output_glucoseFeatureGeneration',\n",
    "        f'ewm_average_{feature_hour_long_window}_iir_filt_model_output_s{ch_str}_glucoseFeatureGeneration':f'ewm_average_{feature_hour_long_window}_iir_filt_model_output_glucoseFeatureGeneration',\n",
    "        f'estimate_standard_deviation_{feature_hour_long_window}_iir_filt_model_output_s{ch_str}_glucoseFeatureGeneration':f'estimate_standard_deviation_{feature_hour_long_window}_iir_filt_model_output_glucoseFeatureGeneration',\n",
    "    },inplace=True)\n",
    "    x_train['Channel'] = ch_str\n",
    "    x_train_all_ch = pd.concat([x_train_all_ch,x_train],ignore_index=True)\n",
    "    y_train = df_training_valid[f'model_output_s{ch_str}_calculateGlucose'].sub(df_training_valid[ref_for_optim]).to_numpy()\n",
    "    y_train_all_ch = np.concatenate((y_train_all_ch,y_train))"
   ]
  },
  {
   "cell_type": "code",
   "execution_count": 49,
   "metadata": {},
   "outputs": [],
   "source": [
    "min_max_scaler = sklearn.preprocessing.MinMaxScaler()\n",
    "x_train_all_ch_norm = min_max_scaler.fit_transform(x_train_all_ch)\n",
    "err_model = MLPRegressor(hidden_layer_sizes=(10,7,5,1),activation='logistic',solver='adam',alpha=0.0005,max_iter=int(1e4),tol=1e-4,learning_rate='adaptive',random_state=20140806)\n",
    "err_model.fit(x_train_all_ch_norm,y_train_all_ch)\n",
    "all_gModel[f'min_max_scaler'] = min_max_scaler\n",
    "all_gModel[f'err_model'] = err_model"
   ]
  },
  {
   "cell_type": "code",
   "execution_count": null,
   "metadata": {},
   "outputs": [
    {
     "name": "stdout",
     "output_type": "stream",
     "text": [
      "Evaluating channel 1\n",
      "Training data for channel 1 glucose by model today, vs cgm_adj, N = 3371541, MRD = -0.01750548479317695, StdRD = 0.27337696286670365, MARD = 0.20150867412011042\n",
      "Training data for channel 1 glucose by nn_model, vs cgm_adj, N = 3371541, MRD = 0.05298044365892625, StdRD = 0.23363571565428878, MARD = 0.1666428672439537\n",
      "Training data for channel 1 glucose by retro, vs cgm_adj, N = 3371541, MRD = 0.02226348418674514, StdRD = 1.4062002545334604, MARD = 0.1883521213061804\n",
      "Training data for channel 1 glucose by model today, vs ysi, N = 133436, MRD = -0.03213118375436274, StdRD = 0.23040955173830419, MARD = 0.1806567355975219\n",
      "Training data for channel 1 glucose by nn_model, vs ysi, N = 133436, MRD = 0.07148766436056035, StdRD = 0.2183647050141432, MARD = 0.17547030750385423\n",
      "Training data for channel 1 glucose by retro, vs ysi, N = 133436, MRD = 0.06364287759818127, StdRD = 0.18837668975708385, MARD = 0.14823901236725257\n",
      "Training data for channel 1 glucose by model today, vs acck, N = 184126, MRD = -0.04671362812898667, StdRD = 0.2555931636235757, MARD = 0.1937714807624559\n",
      "Training data for channel 1 glucose by nn_model, vs acck, N = 184126, MRD = 0.043869497102535814, StdRD = 0.22839450862926086, MARD = 0.16329141853851592\n",
      "Training data for channel 1 glucose by retro, vs acck, N = 184126, MRD = 0.02004394637710132, StdRD = 1.1588629946880853, MARD = 0.18286612625634346\n",
      "Test data has shape (208696, 81)\n",
      "Test data eBlinq19c for channel 1 glucose by model today, vs cgm_adj, N = 208696, MRD = -0.001824693311343302, StdRD = 0.2296276461020947, MARD = 0.17868336273176916\n",
      "Test data eBlinq19c for channel 1 glucose by nn_model, vs cgm_adj, N = 208696, MRD = 0.05973682152234236, StdRD = 0.22132135990755886, MARD = 0.17183930547288648\n",
      "Test data eBlinq19c for channel 1 glucose by retro, vs cgm_adj, N = 208696, MRD = 0.021869169688963713, StdRD = 0.19068676107367102, MARD = 0.1385141058240352\n",
      "Test data eBlinq19c for channel 1 glucose by model today, vs ysi, N = 8457, MRD = 0.10242300678399323, StdRD = 0.24657539502581308, MARD = 0.1911358233195982\n",
      "Test data eBlinq19c for channel 1 glucose by nn_model, vs ysi, N = 8457, MRD = 0.14321400650347998, StdRD = 0.22199078340272282, MARD = 0.19358652661183343\n",
      "Test data eBlinq19c for channel 1 glucose by retro, vs ysi, N = 8457, MRD = 0.12220341112453943, StdRD = 0.2248622779424987, MARD = 0.1763298120764482\n",
      "Test data eBlinq19c for channel 1 glucose by model today, vs acck, N = 11195, MRD = 0.013323716743517936, StdRD = 0.20704958871112428, MARD = 0.16523353867370807\n",
      "Test data eBlinq19c for channel 1 glucose by nn_model, vs acck, N = 11195, MRD = 0.07652258612636925, StdRD = 0.19880228981358894, MARD = 0.16070230314853648\n",
      "Test data eBlinq19c for channel 1 glucose by retro, vs acck, N = 11195, MRD = 0.02922653101439975, StdRD = 0.19079585014423092, MARD = 0.1408288990554374\n",
      "Test data has shape (267320, 81)\n",
      "Test data eBlinq20 for channel 1 glucose by model today, vs cgm_adj, N = 267320, MRD = 0.01723664293599948, StdRD = 0.24693765469090728, MARD = 0.1912866342109138\n",
      "Test data eBlinq20 for channel 1 glucose by nn_model, vs cgm_adj, N = 267320, MRD = 0.07074349280514983, StdRD = 0.23911691824028736, MARD = 0.18494569932707086\n",
      "Test data eBlinq20 for channel 1 glucose by retro, vs cgm_adj, N = 267320, MRD = 0.050027861962065524, StdRD = 0.19666554348501503, MARD = 0.1468059660207012\n",
      "Test data eBlinq20 for channel 1 glucose by model today, vs ysi, N = 11292, MRD = 0.018682283426379544, StdRD = 0.1989697360963807, MARD = 0.15896972380293445\n",
      "Test data eBlinq20 for channel 1 glucose by nn_model, vs ysi, N = 11292, MRD = 0.04845240558137929, StdRD = 0.2008201413663863, MARD = 0.15761773049559571\n",
      "Test data eBlinq20 for channel 1 glucose by retro, vs ysi, N = 11292, MRD = 0.09171032893448063, StdRD = 0.17736562771568884, MARD = 0.14983067790707033\n",
      "Test data eBlinq20 for channel 1 glucose by model today, vs acck, N = 15762, MRD = 0.00459900209248535, StdRD = 0.22236352622009298, MARD = 0.1777156690166402\n",
      "Test data eBlinq20 for channel 1 glucose by nn_model, vs acck, N = 15762, MRD = 0.059047235517795386, StdRD = 0.2051118189265936, MARD = 0.16676816308128803\n",
      "Test data eBlinq20 for channel 1 glucose by retro, vs acck, N = 15762, MRD = 0.058657771744783406, StdRD = 0.19479408711547358, MARD = 0.15173298581340994\n",
      "Test data has shape (539438, 81)\n",
      "Test data eBlinq22 for channel 1 glucose by model today, vs cgm_adj, N = 539438, MRD = -0.011239055351353444, StdRD = 0.23254721253549726, MARD = 0.18060485356537004\n",
      "Test data eBlinq22 for channel 1 glucose by nn_model, vs cgm_adj, N = 539438, MRD = 0.0320073039449079, StdRD = 0.2163070825117428, MARD = 0.1618842783873307\n",
      "Test data eBlinq22 for channel 1 glucose by retro, vs cgm_adj, N = 539438, MRD = 0.009390041372716647, StdRD = 0.15861803497806556, MARD = 0.117025843215544\n",
      "Test data eBlinq22 for channel 1 glucose by model today, vs ysi, N = 22078, MRD = 0.011178386665063473, StdRD = 0.24638536262727756, MARD = 0.18994410674684178\n",
      "Test data eBlinq22 for channel 1 glucose by nn_model, vs ysi, N = 22078, MRD = 0.0458726678479358, StdRD = 0.2106922780655268, MARD = 0.16225348375818321\n",
      "Test data eBlinq22 for channel 1 glucose by retro, vs ysi, N = 22078, MRD = 0.037053374611032946, StdRD = 0.18360958645568795, MARD = 0.1405971470666857\n",
      "Test data eBlinq22 for channel 1 glucose by model today, vs acck, N = 27712, MRD = -0.029451218479344995, StdRD = 0.23016118191211077, MARD = 0.18533102980447383\n",
      "Test data eBlinq22 for channel 1 glucose by nn_model, vs acck, N = 27712, MRD = 0.019583955692720582, StdRD = 0.20698876508310743, MARD = 0.15452935272780616\n",
      "Test data eBlinq22 for channel 1 glucose by retro, vs acck, N = 27712, MRD = -0.0077689315481562285, StdRD = 0.16578647622169745, MARD = 0.12174307646886598\n",
      "Test data has shape (341369, 81)\n",
      "Test data Pre-Piv-2-validation for channel 1 glucose by model today, vs cgm_adj, N = 341369, MRD = -0.015858483542060625, StdRD = 0.2427938491335688, MARD = 0.1942865278365452\n",
      "Test data Pre-Piv-2-validation for channel 1 glucose by nn_model, vs cgm_adj, N = 341369, MRD = 0.011945574341881312, StdRD = 0.2380402680584835, MARD = 0.1708943925227266\n",
      "Test data Pre-Piv-2-validation for channel 1 glucose by retro, vs cgm_adj, N = 341369, MRD = 0.015711599398699944, StdRD = 0.17005065946791892, MARD = 0.1252494734537362\n",
      "Test data Pre-Piv-2-validation for channel 1 glucose by model today, vs ysi, N = 38263, MRD = -0.00406153995795445, StdRD = 0.2064872175032814, MARD = 0.1644790727959175\n",
      "Test data Pre-Piv-2-validation for channel 1 glucose by nn_model, vs ysi, N = 38263, MRD = 0.003044253471913955, StdRD = 0.1981004340006345, MARD = 0.14702625852411333\n",
      "Test data Pre-Piv-2-validation for channel 1 glucose by retro, vs ysi, N = 38263, MRD = 0.03972092680768625, StdRD = 0.1742011532192946, MARD = 0.12971542310675163\n",
      "Test data Pre-Piv-2-validation for channel 1 glucose by model today, vs acck, N = 29924, MRD = -0.03586157709405024, StdRD = 0.23305235519357903, MARD = 0.17587622708213854\n",
      "Test data Pre-Piv-2-validation for channel 1 glucose by nn_model, vs acck, N = 29924, MRD = -0.009934716412226808, StdRD = 0.24264378538913542, MARD = 0.1613117091616792\n",
      "Test data Pre-Piv-2-validation for channel 1 glucose by retro, vs acck, N = 29924, MRD = 0.006569154499229675, StdRD = 0.18586048017376525, MARD = 0.12249753201386569\n",
      "Test data has shape (444883, 81)\n",
      "Test data eBlinqJuneStudyCtrl for channel 1 glucose by model today, vs cgm_adj, N = 444883, MRD = -0.12500179629771763, StdRD = 0.24157273260630105, MARD = 0.22473149086586522\n",
      "Test data eBlinqJuneStudyCtrl for channel 1 glucose by nn_model, vs cgm_adj, N = 444883, MRD = 0.0038219742709332807, StdRD = 0.2768824362855137, MARD = 0.2046103746631924\n",
      "Test data eBlinqJuneStudyCtrl for channel 1 glucose by retro, vs cgm_adj, N = 444883, MRD = -0.01078132808264806, StdRD = 0.20170085295465845, MARD = 0.14817197740234261\n",
      "Test data eBlinqJuneStudyCtrl for channel 1 glucose by model today, vs ysi, N = 24475, MRD = -0.10467859180069393, StdRD = 0.2288405826804265, MARD = 0.2087481819161077\n",
      "Test data eBlinqJuneStudyCtrl for channel 1 glucose by nn_model, vs ysi, N = 24475, MRD = 0.007978306608098664, StdRD = 0.20704591074743842, MARD = 0.1590935636357321\n",
      "Test data eBlinqJuneStudyCtrl for channel 1 glucose by retro, vs ysi, N = 24475, MRD = 0.007513601488860019, StdRD = 0.19240488929840158, MARD = 0.13586673767080762\n",
      "Test data eBlinqJuneStudyCtrl for channel 1 glucose by model today, vs acck, N = 25166, MRD = -0.1401021039358316, StdRD = 0.21991877949770094, MARD = 0.21589625237848245\n",
      "Test data eBlinqJuneStudyCtrl for channel 1 glucose by nn_model, vs acck, N = 25166, MRD = -0.004504713217770312, StdRD = 0.25048354103568327, MARD = 0.18262308041150668\n",
      "Test data eBlinqJuneStudyCtrl for channel 1 glucose by retro, vs acck, N = 25166, MRD = -0.03754536965343748, StdRD = 0.19089186574286146, MARD = 0.1377047594437328\n",
      "Evaluating channel 3\n",
      "Training data for channel 3 glucose by model today, vs cgm_adj, N = 3419141, MRD = -0.0207042063376734, StdRD = 0.25416541256404795, MARD = 0.19355207240333389\n",
      "Training data for channel 3 glucose by nn_model, vs cgm_adj, N = 3419141, MRD = 0.05249887367292425, StdRD = 0.2336608871857695, MARD = 0.17225328517595578\n",
      "Training data for channel 3 glucose by retro, vs cgm_adj, N = 3419141, MRD = 0.019351153915969272, StdRD = 0.20582362313635125, MARD = 0.13842583370314207\n",
      "Training data for channel 3 glucose by model today, vs ysi, N = 136927, MRD = -0.009920688502963931, StdRD = 0.23545454257274714, MARD = 0.18341318383514973\n",
      "Training data for channel 3 glucose by nn_model, vs ysi, N = 136927, MRD = 0.08339600962359975, StdRD = 0.2311608714651336, MARD = 0.18334486465150698\n",
      "Training data for channel 3 glucose by retro, vs ysi, N = 136927, MRD = 0.06829206759437313, StdRD = 0.2027094801185132, MARD = 0.15535349971499016\n",
      "Training data for channel 3 glucose by model today, vs acck, N = 186705, MRD = -0.04197107599175579, StdRD = 0.24487478235786794, MARD = 0.1867364038934493\n",
      "Training data for channel 3 glucose by nn_model, vs acck, N = 186705, MRD = 0.047635396147518695, StdRD = 0.2316849591231398, MARD = 0.1666072254483062\n",
      "Training data for channel 3 glucose by retro, vs acck, N = 186705, MRD = 0.0029116017623946424, StdRD = 0.20239291507107743, MARD = 0.1363004004542487\n",
      "Test data has shape (208604, 81)\n",
      "Test data eBlinq19c for channel 3 glucose by model today, vs cgm_adj, N = 208604, MRD = -0.05822415579749076, StdRD = 0.23771476732782706, MARD = 0.19310358034009736\n",
      "Test data eBlinq19c for channel 3 glucose by nn_model, vs cgm_adj, N = 208604, MRD = 0.009834918633145295, StdRD = 0.22605647919214503, MARD = 0.16743458428829655\n",
      "Test data eBlinq19c for channel 3 glucose by retro, vs cgm_adj, N = 208604, MRD = 0.0070561269899251725, StdRD = 0.2037020260895237, MARD = 0.14386884365368566\n",
      "Test data eBlinq19c for channel 3 glucose by model today, vs ysi, N = 9442, MRD = 0.11483684848336294, StdRD = 0.25733319746493183, MARD = 0.2082164159311834\n",
      "Test data eBlinq19c for channel 3 glucose by nn_model, vs ysi, N = 9442, MRD = 0.16535112974405308, StdRD = 0.23028251770830344, MARD = 0.20048456202417564\n",
      "Test data eBlinq19c for channel 3 glucose by retro, vs ysi, N = 9442, MRD = 0.16864174787230593, StdRD = 0.28524343361411125, MARD = 0.1898457548847259\n",
      "Test data eBlinq19c for channel 3 glucose by model today, vs acck, N = 11732, MRD = -0.012860315584706716, StdRD = 0.22130894825853747, MARD = 0.17787794473089885\n",
      "Test data eBlinq19c for channel 3 glucose by nn_model, vs acck, N = 11732, MRD = 0.05543910908719486, StdRD = 0.19594034794539417, MARD = 0.15218157332100368\n",
      "Test data eBlinq19c for channel 3 glucose by retro, vs acck, N = 11732, MRD = 0.03567998298880503, StdRD = 0.24297314007584322, MARD = 0.14735223328240052\n",
      "Test data has shape (269016, 81)\n",
      "Test data eBlinq20 for channel 3 glucose by model today, vs cgm_adj, N = 269016, MRD = 0.04226191685626669, StdRD = 0.27561373904980857, MARD = 0.2088463832807844\n",
      "Test data eBlinq20 for channel 3 glucose by nn_model, vs cgm_adj, N = 269016, MRD = 0.09799826157178468, StdRD = 0.2612050122635696, MARD = 0.20672481185582245\n",
      "Test data eBlinq20 for channel 3 glucose by retro, vs cgm_adj, N = 269016, MRD = 0.054485444906991636, StdRD = 0.19931871295860648, MARD = 0.14596691774819856\n",
      "Test data eBlinq20 for channel 3 glucose by model today, vs ysi, N = 11589, MRD = 0.0850046837077851, StdRD = 0.25158698952449315, MARD = 0.21915314781217357\n",
      "Test data eBlinq20 for channel 3 glucose by nn_model, vs ysi, N = 11589, MRD = 0.1254301417066144, StdRD = 0.24537743308617588, MARD = 0.21023091167399147\n",
      "Test data eBlinq20 for channel 3 glucose by retro, vs ysi, N = 11589, MRD = 0.10919984602111316, StdRD = 0.19482816597961305, MARD = 0.16747454323428443\n",
      "Test data eBlinq20 for channel 3 glucose by model today, vs acck, N = 15959, MRD = 0.04800913734223072, StdRD = 0.2700888002337533, MARD = 0.2160773345874482\n",
      "Test data eBlinq20 for channel 3 glucose by nn_model, vs acck, N = 15959, MRD = 0.11008472357889504, StdRD = 0.25271193227083055, MARD = 0.20961592985204078\n",
      "Test data eBlinq20 for channel 3 glucose by retro, vs acck, N = 15959, MRD = 0.07267147017059632, StdRD = 0.20664802594869047, MARD = 0.16292202947206622\n",
      "Test data has shape (550235, 81)\n",
      "Test data eBlinq22 for channel 3 glucose by model today, vs cgm_adj, N = 550235, MRD = -0.0026577859857376623, StdRD = 0.26005908310116094, MARD = 0.20310391919712553\n",
      "Test data eBlinq22 for channel 3 glucose by nn_model, vs cgm_adj, N = 550235, MRD = 0.04121942514893214, StdRD = 0.24814004633188685, MARD = 0.19305868844886653\n",
      "Test data eBlinq22 for channel 3 glucose by retro, vs cgm_adj, N = 550235, MRD = 0.0029581629202211773, StdRD = 0.16504030681964227, MARD = 0.1175875856167093\n",
      "Test data eBlinq22 for channel 3 glucose by model today, vs ysi, N = 22512, MRD = 0.028414439954257326, StdRD = 0.2203972746291989, MARD = 0.1726403797174495\n",
      "Test data eBlinq22 for channel 3 glucose by nn_model, vs ysi, N = 22512, MRD = 0.05394860007025637, StdRD = 0.22304285606578345, MARD = 0.18185398314477802\n",
      "Test data eBlinq22 for channel 3 glucose by retro, vs ysi, N = 22512, MRD = 0.0576748563762875, StdRD = 0.2276092837811541, MARD = 0.15779130809444014\n",
      "Test data eBlinq22 for channel 3 glucose by model today, vs acck, N = 28264, MRD = -0.018281293150039013, StdRD = 0.2404422017651154, MARD = 0.18820966708916442\n",
      "Test data eBlinq22 for channel 3 glucose by nn_model, vs acck, N = 28264, MRD = 0.031048005892493107, StdRD = 0.2347532855729639, MARD = 0.184124956396858\n",
      "Test data eBlinq22 for channel 3 glucose by retro, vs acck, N = 28264, MRD = -0.0025999829485717605, StdRD = 0.18654155330568817, MARD = 0.1283378854149096\n",
      "Test data has shape (345857, 81)\n",
      "Test data Pre-Piv-2-validation for channel 3 glucose by model today, vs cgm_adj, N = 345857, MRD = 0.001738955258667799, StdRD = 0.23537135960108957, MARD = 0.1839162836093027\n",
      "Test data Pre-Piv-2-validation for channel 3 glucose by nn_model, vs cgm_adj, N = 345857, MRD = 0.06200535681054886, StdRD = 0.26556305278953746, MARD = 0.18690988474738596\n",
      "Test data Pre-Piv-2-validation for channel 3 glucose by retro, vs cgm_adj, N = 345857, MRD = 0.017517802517736554, StdRD = 0.1718105386148056, MARD = 0.12450034410647774\n",
      "Test data Pre-Piv-2-validation for channel 3 glucose by model today, vs ysi, N = 38784, MRD = 0.01202475086525741, StdRD = 0.2276386389809636, MARD = 0.17453221541480451\n",
      "Test data Pre-Piv-2-validation for channel 3 glucose by nn_model, vs ysi, N = 38784, MRD = 0.05987798422909712, StdRD = 0.2337935139059292, MARD = 0.17323795867541036\n",
      "Test data Pre-Piv-2-validation for channel 3 glucose by retro, vs ysi, N = 38784, MRD = 0.026774767868527793, StdRD = 0.16409300910804003, MARD = 0.11744764878393758\n",
      "Test data Pre-Piv-2-validation for channel 3 glucose by model today, vs acck, N = 30147, MRD = -0.0126858278277261, StdRD = 0.2481638282479952, MARD = 0.1788700809553916\n",
      "Test data Pre-Piv-2-validation for channel 3 glucose by nn_model, vs acck, N = 30147, MRD = 0.04954177216480932, StdRD = 0.2669588495904822, MARD = 0.17802467517206366\n",
      "Test data Pre-Piv-2-validation for channel 3 glucose by retro, vs acck, N = 30147, MRD = 0.0036873667580488633, StdRD = 0.186504196775079, MARD = 0.11980811514174167\n",
      "Test data has shape (434484, 81)\n",
      "Test data eBlinqJuneStudyCtrl for channel 3 glucose by model today, vs cgm_adj, N = 434484, MRD = -0.14652988031332653, StdRD = 0.2228839186341655, MARD = 0.21614339803113017\n",
      "Test data eBlinqJuneStudyCtrl for channel 3 glucose by nn_model, vs cgm_adj, N = 434484, MRD = -0.038660427587435806, StdRD = 0.2422695402324564, MARD = 0.18850343799668295\n",
      "Test data eBlinqJuneStudyCtrl for channel 3 glucose by retro, vs cgm_adj, N = 434484, MRD = 0.004187633500700197, StdRD = 0.20076029871996923, MARD = 0.1436613576649134\n",
      "Test data eBlinqJuneStudyCtrl for channel 3 glucose by model today, vs ysi, N = 22927, MRD = -0.11589118469346425, StdRD = 0.2424595877792492, MARD = 0.21590890146587616\n",
      "Test data eBlinqJuneStudyCtrl for channel 3 glucose by nn_model, vs ysi, N = 22927, MRD = -0.021520175127707243, StdRD = 0.2202365345269218, MARD = 0.16918837387375224\n",
      "Test data eBlinqJuneStudyCtrl for channel 3 glucose by retro, vs ysi, N = 22927, MRD = 0.03672542600699497, StdRD = 0.18064546830770703, MARD = 0.13293229264035242\n",
      "Test data eBlinqJuneStudyCtrl for channel 3 glucose by model today, vs acck, N = 24261, MRD = -0.15916734362676985, StdRD = 0.21231163160905978, MARD = 0.2170398723310395\n",
      "Test data eBlinqJuneStudyCtrl for channel 3 glucose by nn_model, vs acck, N = 24261, MRD = -0.04846096558325088, StdRD = 0.22043564453318862, MARD = 0.1764967257496567\n",
      "Test data eBlinqJuneStudyCtrl for channel 3 glucose by retro, vs acck, N = 24261, MRD = -0.016036930152300618, StdRD = 0.18641448227217935, MARD = 0.13266001119393556\n",
      "Evaluating channel 4\n",
      "Training data for channel 4 glucose by model today, vs cgm_adj, N = 3427929, MRD = -0.01958205716988153, StdRD = 0.2657421901689128, MARD = 0.19871321225971134\n",
      "Training data for channel 4 glucose by nn_model, vs cgm_adj, N = 3427929, MRD = 0.05526312313618302, StdRD = 0.2335162428251841, MARD = 0.17120242536341038\n",
      "Training data for channel 4 glucose by retro, vs cgm_adj, N = 3427929, MRD = 0.013985878542650982, StdRD = 0.20138576608413866, MARD = 0.13820807674101077\n",
      "Training data for channel 4 glucose by model today, vs ysi, N = 137019, MRD = -0.01876766992808931, StdRD = 0.2465098137959284, MARD = 0.17618680924583696\n",
      "Training data for channel 4 glucose by nn_model, vs ysi, N = 137019, MRD = 0.0767537529743979, StdRD = 0.2159454468972783, MARD = 0.17062102890312544\n",
      "Training data for channel 4 glucose by retro, vs ysi, N = 137019, MRD = 0.06795094343178358, StdRD = 0.22345189376876531, MARD = 0.1538646394618415\n",
      "Training data for channel 4 glucose by model today, vs acck, N = 187169, MRD = -0.044010060418973034, StdRD = 0.26099900828135886, MARD = 0.1879353524326429\n",
      "Training data for channel 4 glucose by nn_model, vs acck, N = 187169, MRD = 0.048250697602092905, StdRD = 0.2370988853916129, MARD = 0.16321954198335503\n",
      "Training data for channel 4 glucose by retro, vs acck, N = 187169, MRD = -0.001190540245879449, StdRD = 0.22249508339594573, MARD = 0.13988990380401586\n",
      "Test data has shape (209354, 81)\n",
      "Test data eBlinq19c for channel 4 glucose by model today, vs cgm_adj, N = 209354, MRD = -0.061311848145394025, StdRD = 0.23406475925495102, MARD = 0.1863070225157751\n",
      "Test data eBlinq19c for channel 4 glucose by nn_model, vs cgm_adj, N = 209354, MRD = 0.02106422841940157, StdRD = 0.2102723496646202, MARD = 0.15955480413218473\n",
      "Test data eBlinq19c for channel 4 glucose by retro, vs cgm_adj, N = 209354, MRD = 0.017061718316330552, StdRD = 0.1868421088709092, MARD = 0.1420433346412591\n",
      "Test data eBlinq19c for channel 4 glucose by model today, vs ysi, N = 9373, MRD = 0.08358140499260067, StdRD = 0.26383972222821794, MARD = 0.20345446511627302\n",
      "Test data eBlinq19c for channel 4 glucose by nn_model, vs ysi, N = 9373, MRD = 0.14211358521592268, StdRD = 0.22160186380138996, MARD = 0.1919862211321034\n",
      "Test data eBlinq19c for channel 4 glucose by retro, vs ysi, N = 9373, MRD = 0.14289555486197514, StdRD = 0.17967543354976084, MARD = 0.17156137506909844\n",
      "Test data eBlinq19c for channel 4 glucose by model today, vs acck, N = 11637, MRD = -0.030762659077933602, StdRD = 0.22260134179175392, MARD = 0.17363189719069957\n",
      "Test data eBlinq19c for channel 4 glucose by nn_model, vs acck, N = 11637, MRD = 0.04127269000096929, StdRD = 0.17928530145573995, MARD = 0.14223255736690116\n",
      "Test data eBlinq19c for channel 4 glucose by retro, vs acck, N = 11637, MRD = 0.029898571736925676, StdRD = 0.16628287465157385, MARD = 0.1300283253425483\n",
      "Test data has shape (262992, 81)\n",
      "Test data eBlinq20 for channel 4 glucose by model today, vs cgm_adj, N = 262992, MRD = 0.029735703137323394, StdRD = 0.27005411128202933, MARD = 0.2094597957277063\n",
      "Test data eBlinq20 for channel 4 glucose by nn_model, vs cgm_adj, N = 262992, MRD = 0.06954627914209498, StdRD = 0.2281762707165508, MARD = 0.17871420210601008\n",
      "Test data eBlinq20 for channel 4 glucose by retro, vs cgm_adj, N = 262992, MRD = 0.059396474384517985, StdRD = 0.2002976205833381, MARD = 0.15318450095302974\n",
      "Test data eBlinq20 for channel 4 glucose by model today, vs ysi, N = 11785, MRD = 0.02030310335106724, StdRD = 0.251104009172116, MARD = 0.19229725742334433\n",
      "Test data eBlinq20 for channel 4 glucose by nn_model, vs ysi, N = 11785, MRD = 0.0489458190997611, StdRD = 0.1975806012068897, MARD = 0.15754065942017673\n",
      "Test data eBlinq20 for channel 4 glucose by retro, vs ysi, N = 11785, MRD = 0.08660469734279604, StdRD = 0.187636195316852, MARD = 0.15339761094228196\n",
      "Test data eBlinq20 for channel 4 glucose by model today, vs acck, N = 15727, MRD = 0.0155190550900537, StdRD = 0.2619662881982047, MARD = 0.20295906302177635\n",
      "Test data eBlinq20 for channel 4 glucose by nn_model, vs acck, N = 15727, MRD = 0.06471898319280799, StdRD = 0.2066269180373415, MARD = 0.16920452579483408\n",
      "Test data eBlinq20 for channel 4 glucose by retro, vs acck, N = 15727, MRD = 0.06498202415477808, StdRD = 0.19526573734317376, MARD = 0.15573961068207823\n",
      "Test data has shape (544776, 81)\n",
      "Test data eBlinq22 for channel 4 glucose by model today, vs cgm_adj, N = 544776, MRD = -0.029908475827373875, StdRD = 0.2484677829956813, MARD = 0.19692733931451895\n",
      "Test data eBlinq22 for channel 4 glucose by nn_model, vs cgm_adj, N = 544776, MRD = 0.020340459553540767, StdRD = 0.2721645725707107, MARD = 0.18554444907466514\n",
      "Test data eBlinq22 for channel 4 glucose by retro, vs cgm_adj, N = 544776, MRD = 0.0005133643367770694, StdRD = 0.16241787048506762, MARD = 0.11970466421056754\n",
      "Test data eBlinq22 for channel 4 glucose by model today, vs ysi, N = 22316, MRD = -0.017474728652127472, StdRD = 0.2416701814523523, MARD = 0.18627627036093172\n",
      "Test data eBlinq22 for channel 4 glucose by nn_model, vs ysi, N = 22316, MRD = 0.012450372043949302, StdRD = 0.23684387304119411, MARD = 0.1706369599000486\n",
      "Test data eBlinq22 for channel 4 glucose by retro, vs ysi, N = 22316, MRD = 0.02580407317063346, StdRD = 0.2083897542781419, MARD = 0.1575283160225274\n",
      "Test data eBlinq22 for channel 4 glucose by model today, vs acck, N = 28124, MRD = -0.0487788845165641, StdRD = 0.23619343547511942, MARD = 0.19217354889662625\n",
      "Test data eBlinq22 for channel 4 glucose by nn_model, vs acck, N = 28124, MRD = 0.002829618693579781, StdRD = 0.24385085665072959, MARD = 0.17696826626953904\n",
      "Test data eBlinq22 for channel 4 glucose by retro, vs acck, N = 28124, MRD = -0.015543357261478577, StdRD = 0.17649163042597216, MARD = 0.13064683564776677\n",
      "Test data has shape (344017, 81)\n",
      "Test data Pre-Piv-2-validation for channel 4 glucose by model today, vs cgm_adj, N = 344017, MRD = 0.01870981705777172, StdRD = 0.31073162179007163, MARD = 0.21002809093621055\n",
      "Test data Pre-Piv-2-validation for channel 4 glucose by nn_model, vs cgm_adj, N = 344017, MRD = 0.05856415370920475, StdRD = 0.3078907588729702, MARD = 0.19476288774763476\n",
      "Test data Pre-Piv-2-validation for channel 4 glucose by retro, vs cgm_adj, N = 344017, MRD = 0.00726387711706997, StdRD = 0.17913664815126468, MARD = 0.12940768782931708\n",
      "Test data Pre-Piv-2-validation for channel 4 glucose by model today, vs ysi, N = 39362, MRD = 0.016377332775701157, StdRD = 0.23318771075291803, MARD = 0.17458953238207908\n",
      "Test data Pre-Piv-2-validation for channel 4 glucose by nn_model, vs ysi, N = 39362, MRD = 0.05991617082106421, StdRD = 0.25934881430946616, MARD = 0.1814680065255583\n",
      "Test data Pre-Piv-2-validation for channel 4 glucose by retro, vs ysi, N = 39362, MRD = 0.014375027564794654, StdRD = 0.1826432736020513, MARD = 0.12970451411908454\n",
      "Test data Pre-Piv-2-validation for channel 4 glucose by model today, vs acck, N = 30385, MRD = -0.006454484917431055, StdRD = 0.288261321520128, MARD = 0.19101902880980035\n",
      "Test data Pre-Piv-2-validation for channel 4 glucose by nn_model, vs acck, N = 30385, MRD = 0.043642641705202434, StdRD = 0.3071482146928325, MARD = 0.18798456955390094\n",
      "Test data Pre-Piv-2-validation for channel 4 glucose by retro, vs acck, N = 30385, MRD = -0.010342815447799936, StdRD = 0.19620473614213876, MARD = 0.13008125574953772\n",
      "Test data has shape (432691, 81)\n",
      "Test data eBlinqJuneStudyCtrl for channel 4 glucose by model today, vs cgm_adj, N = 432691, MRD = -0.17282731711207858, StdRD = 0.21260330024687338, MARD = 0.22424183987463056\n",
      "Test data eBlinqJuneStudyCtrl for channel 4 glucose by nn_model, vs cgm_adj, N = 432691, MRD = -0.029665475862263493, StdRD = 0.2621278560851448, MARD = 0.19504073548827736\n",
      "Test data eBlinqJuneStudyCtrl for channel 4 glucose by retro, vs cgm_adj, N = 432691, MRD = -0.002133854952869411, StdRD = 0.21159487431904558, MARD = 0.14998954743461287\n",
      "Test data eBlinqJuneStudyCtrl for channel 4 glucose by model today, vs ysi, N = 24563, MRD = -0.16448932243004724, StdRD = 0.2053577618416118, MARD = 0.21963020807508177\n",
      "Test data eBlinqJuneStudyCtrl for channel 4 glucose by nn_model, vs ysi, N = 24563, MRD = -0.005378162948635427, StdRD = 0.24785453181256095, MARD = 0.16688742978254167\n",
      "Test data eBlinqJuneStudyCtrl for channel 4 glucose by retro, vs ysi, N = 24563, MRD = 0.014896561685152137, StdRD = 0.24601341375054436, MARD = 0.16125777467620064\n",
      "Test data eBlinqJuneStudyCtrl for channel 4 glucose by model today, vs acck, N = 24456, MRD = -0.19397974656397493, StdRD = 0.19602703451094378, MARD = 0.22981481597925466\n",
      "Test data eBlinqJuneStudyCtrl for channel 4 glucose by nn_model, vs acck, N = 24456, MRD = -0.039143937337655164, StdRD = 0.24642199229021144, MARD = 0.1789426436631454\n",
      "Test data eBlinqJuneStudyCtrl for channel 4 glucose by retro, vs acck, N = 24456, MRD = -0.02721614692986407, StdRD = 0.22015380172625074, MARD = 0.14877311633976062\n"
     ]
    }
   ],
   "source": [
    "for ch_str in all_training_channel:\n",
    "    print(f'Evaluating channel {ch_str}')\n",
    "    feature_col = feature_col_dict[f'feature_col_ch{ch_str}']\n",
    "    col_for_train = feature_col + [f'model_output_s{ch_str}_calculateGlucose'] + ref_for_optim_list\n",
    "    training_index = df['Study'].isin(training_group) & df['time_from_start_featureGeneration'].between(training_time_window[0],training_time_window[1]) & \\\n",
    "                            df['Chemistry mfg'].eq(training_chemistry) & df['Sorting Tier mfg'].isin(training_tier) &\\\n",
    "                            df['IV Arm'].isin(training_ivarm) & df['Config'].isin(training_config)\n",
    "    # valid_training_index = training_index & df[f'iso_s{ch_str}'].le(iso_thresh)\n",
    "    valid_training_index = training_index & df[f'model_output_is_valid_s{ch_str}_channelFaultDetection']\n",
    "    df_training_valid = df.loc[valid_training_index,:].dropna(subset=col_for_train).reset_index(drop=True)\n",
    "    x_train = df_training_valid[feature_col].copy()\n",
    "    x_train['Channel'] = ch_str\n",
    "    x_train.rename(columns={\n",
    "        f'cur{ch_str}':'cur',\n",
    "        f'deg{ch_str}_103_featureGeneration':'deg_103_featureGeneration',\n",
    "        f'mag{ch_str}_103_featureGeneration':'mag_103_featureGeneration',\n",
    "        f'deg{ch_str}_1007_featureGeneration':'deg_1007_featureGeneration',\n",
    "        f'mag{ch_str}_1007_featureGeneration':'mag_1007_featureGeneration',\n",
    "        f'deg{ch_str}_10000_featureGeneration':'deg_10000_featureGeneration',\n",
    "        f'mag{ch_str}_10000_featureGeneration':'mag_10000_featureGeneration',\n",
    "        f'ewm_average_8hr_deg{ch_str}_10000_featureGeneration':'ewm_average_8hr_deg_10000_featureGeneration',\n",
    "        f'ewm_average_8hr_deg{ch_str}_1007_featureGeneration':'ewm_average_8hr_deg_1007_featureGeneration',\n",
    "        f'ewm_average_8hr_deg{ch_str}_103_featureGeneration':'ewm_average_8hr_deg_103_featureGeneration',\n",
    "        f'ewm_average_8hr_mag{ch_str}_10000_featureGeneration':'ewm_average_8hr_mag_10000_featureGeneration',\n",
    "        f'ewm_average_8hr_mag{ch_str}_1007_featureGeneration':'ewm_average_8hr_mag_1007_featureGeneration',\n",
    "        f'ewm_average_8hr_mag{ch_str}_103_featureGeneration':'ewm_average_8hr_mag_103_featureGeneration',\n",
    "        f'ewm_average_{feature_hour_short_window}_iir_filt_model_output_s{ch_str}_glucoseFeatureGeneration':f'ewm_average_{feature_hour_short_window}_iir_filt_model_output_glucoseFeatureGeneration',\n",
    "        f'estimate_standard_deviation_{feature_hour_short_window}_iir_filt_model_output_s{ch_str}_glucoseFeatureGeneration':f'estimate_standard_deviation_{feature_hour_short_window}_iir_filt_model_output_glucoseFeatureGeneration',\n",
    "        f'ewm_average_{feature_hour_long_window}_iir_filt_model_output_s{ch_str}_glucoseFeatureGeneration':f'ewm_average_{feature_hour_long_window}_iir_filt_model_output_glucoseFeatureGeneration',\n",
    "        f'estimate_standard_deviation_{feature_hour_long_window}_iir_filt_model_output_s{ch_str}_glucoseFeatureGeneration':f'estimate_standard_deviation_{feature_hour_long_window}_iir_filt_model_output_glucoseFeatureGeneration',\n",
    "    },inplace=True)    \n",
    "    y_train = df_training_valid[f'model_output_s{ch_str}_calculateGlucose'].sub(df_training_valid[ref_for_optim]).to_numpy()\n",
    "    x_train_norm =  all_gModel[f'min_max_scaler'].transform(x_train)    \n",
    "    predicted_err_train = all_gModel[f'err_model'].predict(x_train_norm)\n",
    "    df_training_valid[f'model_output_s{ch_str}_correction'] = df_training_valid[f'model_output_s{ch_str}_calculateGlucose'].sub(predicted_err_train)\n",
    "    for ref_name in ref_for_eval:\n",
    "        n_train_today = df_training_valid[f'model_output_s{ch_str}_calculateGlucose'].sub(df_training_valid[ref_name]).div(df_training_valid[ref_name]).count()\n",
    "        mrd_train_today = df_training_valid[f'model_output_s{ch_str}_calculateGlucose'].sub(df_training_valid[ref_name]).div(df_training_valid[ref_name]).mean()\n",
    "        stdrd_train_today = df_training_valid[f'model_output_s{ch_str}_calculateGlucose'].sub(df_training_valid[ref_name]).div(df_training_valid[ref_name]).std()\n",
    "        mard_train_today = df_training_valid[f'model_output_s{ch_str}_calculateGlucose'].sub(df_training_valid[ref_name]).div(df_training_valid[ref_name]).abs().mean()\n",
    "        n_train_correction = df_training_valid[f'model_output_s{ch_str}_correction'].sub(df_training_valid[ref_name]).div(df_training_valid[ref_name]).count()\n",
    "        mrd_train_correction = df_training_valid[f'model_output_s{ch_str}_correction'].sub(df_training_valid[ref_name]).div(df_training_valid[ref_name]).mean()\n",
    "        stdrd_train_correction = df_training_valid[f'model_output_s{ch_str}_correction'].sub(df_training_valid[ref_name]).div(df_training_valid[ref_name]).std()\n",
    "        mard_train_correction = df_training_valid[f'model_output_s{ch_str}_correction'].sub(df_training_valid[ref_name]).div(df_training_valid[ref_name]).abs().mean()\n",
    "        n_train_retro = df_training_valid[f'retro_model_output_s{ch_str}_calculateGlucose'].sub(df_training_valid[ref_name]).div(df_training_valid[ref_name]).count()\n",
    "        mrd_train_retro = df_training_valid[f'retro_model_output_s{ch_str}_calculateGlucose'].sub(df_training_valid[ref_name]).div(df_training_valid[ref_name]).mean()\n",
    "        stdrd_train_retro = df_training_valid[f'retro_model_output_s{ch_str}_calculateGlucose'].sub(df_training_valid[ref_name]).div(df_training_valid[ref_name]).std()\n",
    "        mard_train_retro = df_training_valid[f'retro_model_output_s{ch_str}_calculateGlucose'].sub(df_training_valid[ref_name]).div(df_training_valid[ref_name]).abs().mean()\n",
    "        print(f'Training data for channel {ch_str} glucose by model today, vs {ref_name}, N = {n_train_today}, MRD = {mrd_train_today}, StdRD = {stdrd_train_today}, MARD = {mard_train_today}')\n",
    "        print(f'Training data for channel {ch_str} glucose by nn_model, vs {ref_name}, N = {n_train_correction}, MRD = {mrd_train_correction}, StdRD = {stdrd_train_correction}, MARD = {mard_train_correction}')\n",
    "        print(f'Training data for channel {ch_str} glucose by retro, vs {ref_name}, N = {n_train_retro}, MRD = {mrd_train_retro}, StdRD = {stdrd_train_retro}, MARD = {mard_train_retro}')\n",
    "\n",
    "    for test_data in test_group:\n",
    "        test_index = df['Study'].eq(test_data) & df['time_from_start_featureGeneration'].between(training_time_window[0],training_time_window[1]) & \\\n",
    "                                df['Chemistry mfg'].eq(test_chemistry) & df['Sorting Tier mfg'].isin(test_tier) &\\\n",
    "                                df['IV Arm'].isin(test_ivarm) & df['Config'].isin(test_config)    \n",
    "        # valid_test_index = test_index & df[f'iso_s{ch_str}'].le(iso_thresh)\n",
    "        valid_test_index = test_index & df[f'model_output_is_valid_s{ch_str}_channelFaultDetection']\n",
    "        df_test_valid = df.loc[valid_test_index,:].dropna(subset=col_for_train).reset_index(drop=True)\n",
    "        print(f'Test data has shape {df_test_valid.shape}')\n",
    "        x_test = df_test_valid[feature_col].copy()\n",
    "        x_test['Channel'] = ch_str\n",
    "        x_test.rename(columns={\n",
    "            f'cur{ch_str}':'cur',\n",
    "            f'deg{ch_str}_103_featureGeneration':'deg_103_featureGeneration',\n",
    "            f'mag{ch_str}_103_featureGeneration':'mag_103_featureGeneration',\n",
    "            f'deg{ch_str}_1007_featureGeneration':'deg_1007_featureGeneration',\n",
    "            f'mag{ch_str}_1007_featureGeneration':'mag_1007_featureGeneration',\n",
    "            f'deg{ch_str}_10000_featureGeneration':'deg_10000_featureGeneration',\n",
    "            f'mag{ch_str}_10000_featureGeneration':'mag_10000_featureGeneration',\n",
    "            f'ewm_average_8hr_deg{ch_str}_10000_featureGeneration':'ewm_average_8hr_deg_10000_featureGeneration',\n",
    "            f'ewm_average_8hr_deg{ch_str}_1007_featureGeneration':'ewm_average_8hr_deg_1007_featureGeneration',\n",
    "            f'ewm_average_8hr_deg{ch_str}_103_featureGeneration':'ewm_average_8hr_deg_103_featureGeneration',\n",
    "            f'ewm_average_8hr_mag{ch_str}_10000_featureGeneration':'ewm_average_8hr_mag_10000_featureGeneration',\n",
    "            f'ewm_average_8hr_mag{ch_str}_1007_featureGeneration':'ewm_average_8hr_mag_1007_featureGeneration',\n",
    "            f'ewm_average_8hr_mag{ch_str}_103_featureGeneration':'ewm_average_8hr_mag_103_featureGeneration',\n",
    "            f'ewm_average_{feature_hour_short_window}_iir_filt_model_output_s{ch_str}_glucoseFeatureGeneration':f'ewm_average_{feature_hour_short_window}_iir_filt_model_output_glucoseFeatureGeneration',\n",
    "            f'estimate_standard_deviation_{feature_hour_short_window}_iir_filt_model_output_s{ch_str}_glucoseFeatureGeneration':f'estimate_standard_deviation_{feature_hour_short_window}_iir_filt_model_output_glucoseFeatureGeneration',\n",
    "            f'ewm_average_{feature_hour_long_window}_iir_filt_model_output_s{ch_str}_glucoseFeatureGeneration':f'ewm_average_{feature_hour_long_window}_iir_filt_model_output_glucoseFeatureGeneration',\n",
    "            f'estimate_standard_deviation_{feature_hour_long_window}_iir_filt_model_output_s{ch_str}_glucoseFeatureGeneration':f'estimate_standard_deviation_{feature_hour_long_window}_iir_filt_model_output_glucoseFeatureGeneration',\n",
    "        },inplace=True)        \n",
    "        x_test_norm = all_gModel[f'min_max_scaler'].transform(x_test)\n",
    "        predicted_err_test = all_gModel[f'err_model'].predict(x_test_norm)\n",
    "        df_test_valid[f'model_output_s{ch_str}_correction'] = df_test_valid[f'model_output_s{ch_str}_calculateGlucose'].sub(predicted_err_test)\n",
    "        for ref_name in ref_for_eval:\n",
    "            n_test_today = df_test_valid[f'model_output_s{ch_str}_calculateGlucose'].sub(df_test_valid[ref_name]).div(df_test_valid[ref_name]).count()\n",
    "            mrd_test_today = df_test_valid[f'model_output_s{ch_str}_calculateGlucose'].sub(df_test_valid[ref_name]).div(df_test_valid[ref_name]).mean()\n",
    "            stdrd_test_today = df_test_valid[f'model_output_s{ch_str}_calculateGlucose'].sub(df_test_valid[ref_name]).div(df_test_valid[ref_name]).std()\n",
    "            mard_test_today = df_test_valid[f'model_output_s{ch_str}_calculateGlucose'].sub(df_test_valid[ref_name]).div(df_test_valid[ref_name]).abs().mean()\n",
    "            n_test_correction = df_test_valid[f'model_output_s{ch_str}_correction'].sub(df_test_valid[ref_name]).div(df_test_valid[ref_name]).count()\n",
    "            mrd_test_correction = df_test_valid[f'model_output_s{ch_str}_correction'].sub(df_test_valid[ref_name]).div(df_test_valid[ref_name]).mean()\n",
    "            stdrd_test_correction = df_test_valid[f'model_output_s{ch_str}_correction'].sub(df_test_valid[ref_name]).div(df_test_valid[ref_name]).std()\n",
    "            mard_test_correction = df_test_valid[f'model_output_s{ch_str}_correction'].sub(df_test_valid[ref_name]).div(df_test_valid[ref_name]).abs().mean()\n",
    "            n_test_retro = df_test_valid[f'retro_model_output_s{ch_str}_calculateGlucose'].sub(df_test_valid[ref_name]).div(df_test_valid[ref_name]).count()\n",
    "            mrd_test_retro = df_test_valid[f'retro_model_output_s{ch_str}_calculateGlucose'].sub(df_test_valid[ref_name]).div(df_test_valid[ref_name]).mean()\n",
    "            stdrd_test_retro = df_test_valid[f'retro_model_output_s{ch_str}_calculateGlucose'].sub(df_test_valid[ref_name]).div(df_test_valid[ref_name]).std()\n",
    "            mard_test_retro = df_test_valid[f'retro_model_output_s{ch_str}_calculateGlucose'].sub(df_test_valid[ref_name]).div(df_test_valid[ref_name]).abs().mean()\n",
    "            print(f'Test data {test_data} for channel {ch_str} glucose by model today, vs {ref_name}, N = {n_test_today}, MRD = {mrd_test_today}, StdRD = {stdrd_test_today}, MARD = {mard_test_today}')\n",
    "            print(f'Test data {test_data} for channel {ch_str} glucose by nn_model, vs {ref_name}, N = {n_test_correction}, MRD = {mrd_test_correction}, StdRD = {stdrd_test_correction}, MARD = {mard_test_correction}')\n",
    "            print(f'Test data {test_data} for channel {ch_str} glucose by retro, vs {ref_name}, N = {n_test_retro}, MRD = {mrd_test_retro}, StdRD = {stdrd_test_retro}, MARD = {mard_test_retro}')"
   ]
  },
  {
   "cell_type": "code",
   "execution_count": null,
   "metadata": {},
   "outputs": [],
   "source": [
    "# min_max_scaler.feature_names_in_ = np.array(['time_from_start',\n",
    "#                     'ewm_average_8hr_iir_filt_model_output_temp_s1',\n",
    "#                     'ewm_average_8hr_iir_filt_model_output_temp_s3',\n",
    "#                     'ewm_average_8hr_iir_filt_model_output_temp_s4',\n",
    "#                     'estimate_standard_deviation_8hr_iir_filt_model_output_temp_s1',\n",
    "#                     'estimate_standard_deviation_8hr_iir_filt_model_output_temp_s3',\n",
    "#                     'estimate_standard_deviation_8hr_iir_filt_model_output_temp_s4'\n",
    "#                     ],dtype='object')\n",
    "with open (r'C:\\Users\\lwang\\OneDrive - Biolinq Inc\\Gen 1\\Algorithm Development\\neural network glucose model\\all_gModel_all_ch_3rdAttemptAllData.p','wb') as fp:\n",
    "    pickle.dump(all_gModel,fp) "
   ]
  }
 ],
 "metadata": {
  "kernelspec": {
   "display_name": ".datarunner",
   "language": "python",
   "name": "python3"
  },
  "language_info": {
   "codemirror_mode": {
    "name": "ipython",
    "version": 3
   },
   "file_extension": ".py",
   "mimetype": "text/x-python",
   "name": "python",
   "nbconvert_exporter": "python",
   "pygments_lexer": "ipython3",
   "version": "3.9.2"
  }
 },
 "nbformat": 4,
 "nbformat_minor": 2
}
