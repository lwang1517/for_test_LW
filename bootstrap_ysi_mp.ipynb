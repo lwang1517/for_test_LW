{
 "cells": [
  {
   "cell_type": "code",
   "execution_count": null,
   "metadata": {},
   "outputs": [],
   "source": [
    "import pandas as pd\n",
    "import numpy as np\n",
    "import random\n",
    "import os\n",
    "import statsmodels.api as sm"
   ]
  },
  {
   "cell_type": "code",
   "execution_count": null,
   "metadata": {},
   "outputs": [],
   "source": [
    "# ysi_mp_csv_path = '/Users/liangwang/Library/CloudStorage/OneDrive-Biolinq/Documents - Clinical Data Analysis/Data/CP-008 Session 25 - Pre-Pivotal2/Archive/missing references/all_data/prospective_8S17_v14h_2022_5day_AllRef/performance/ysi including 19c 20 22.csv'\n",
    "ysi_mp_csv_path = '/Users/liangwang/Library/CloudStorage/OneDrive-Biolinq/Documents - Clinical Data Analysis/Data/CP-008 Session 25 - Pre-Pivotal2/Archive/missing references/experimental/prospective_8S20_v15_fault_dt_2022_5day_dayOneEnabled_thresh0.5_v2_AllRef/performance/ysi including 19c 20 22.csv'\n",
    "ysi_data = pd.read_csv(ysi_mp_csv_path)"
   ]
  },
  {
   "cell_type": "code",
   "execution_count": null,
   "metadata": {},
   "outputs": [],
   "source": [
    "chem_list = ['2.5.11-PPD+KCL', 'Dynamic-Thick', 'Dynamic-Thin', 'Static-Thin']\n",
    "tier_list = ['Tier 1: 3/3 Clinical Use']\n",
    "# group_list = ['Pre-Piv-2','eBlinq19c', 'eBlinq20', 'eBlinq22']\n",
    "group_list = ['Pre-Piv-2']\n",
    "# group_list = ['eBlinq19c', 'eBlinq20', 'eBlinq22']\n",
    "save_loc_bootstrap_df = '/Users/liangwang/Library/CloudStorage/OneDrive-Biolinq/Documents - Clinical Data Analysis/Data/CP-008 Session 25 - Pre-Pivotal2/Archive/\\\n",
    "missing references/experimental/prospective_8S20_v15_fault_dt_2022_5day_dayOneEnabled_thresh0.5_v2_AllRef/bootstrapped data'"
   ]
  },
  {
   "cell_type": "code",
   "execution_count": null,
   "metadata": {},
   "outputs": [],
   "source": [
    "valid_index = ysi_data[(ysi_data['Chemistry'].isin(chem_list)) & (ysi_data['Sorting Tier'].isin(tier_list)) & (ysi_data['Grouping'].isin(group_list))].index"
   ]
  },
  {
   "cell_type": "code",
   "execution_count": null,
   "metadata": {},
   "outputs": [],
   "source": [
    "ysi_data_valid = ysi_data.loc[valid_index].copy()"
   ]
  },
  {
   "cell_type": "code",
   "execution_count": null,
   "metadata": {},
   "outputs": [],
   "source": [
    "\"\"\"\n",
    "Use bootstrap method by sensor to estimate confidence interval lower bound.\n",
    "For each iteration, it resample sensor and put all matched pairs from that sensor into\n",
    "the bootstap pool. Thus it remains intra-sensor correlation without making any assumptions\n",
    "\"\"\"\n",
    "seed_of_seed = 1\n",
    "seed_range = 100000\n",
    "num_bootstrap = 999\n",
    "\n",
    "sid_df = pd.DataFrame({'sensor_id': pd.unique(ysi_data_valid['sensor_id'])})\n",
    "\n",
    "all_seeds = list(range(1,seed_range))\n",
    "random.seed(seed_of_seed)\n",
    "random.shuffle(all_seeds)\n",
    "seeds_for_bootstrap = all_seeds[0:num_bootstrap]\n",
    "mard_by_bootstrap = np.full(num_bootstrap,np.nan)\n",
    "for seedIdx,iSeed in enumerate(seeds_for_bootstrap):      \n",
    "    bootstrap_df = sid_df.sample(frac=1, replace=True, random_state=iSeed)\n",
    "    bootstrap_df = bootstrap_df.merge(ysi_data_valid,how='left')\n",
    "    mard_by_bootstrap[seedIdx] = bootstrap_df['ard'].mean()\n",
    "    bootstrap_df.to_csv(os.path.join(save_loc_bootstrap_df,f'bootstrap_df_{seedIdx}.csv'), header=True)\n",
    "print(np.percentile(mard_by_bootstrap,2.5))\n",
    "print(np.percentile(mard_by_bootstrap,97.5))"
   ]
  },
  {
   "cell_type": "code",
   "execution_count": null,
   "metadata": {},
   "outputs": [],
   "source": [
    "\"\"\"\n",
    "Use GEE (Generalized Estimating Equations) method to estimate confidence interval lower bound of \n",
    "agreement rate. Employ statsmodel GEE module, which only accepts a matrix with two columns as input,\n",
    "but in our case, we only need intercept, thus played a trick and created a dummy column filled value 0\n",
    "\"\"\"\n",
    "if 'dummy' not in ysi_data_valid.columns:\n",
    "    ysi_data_valid.insert(0,'dummy',0)\n",
    "ysi_data_valid['ard2'] = ysi_data_valid['ard'].div(100)\n",
    "fam = sm.families.Gaussian()\n",
    "ind = sm.cov_struct.Exchangeable()\n",
    "mod = sm.GEE.from_formula(\"ard2 ~ dummy\", groups=\"sensor_id\", data=ysi_data_valid, cov_struct=ind, family=fam)\n",
    "fitResult = mod.fit()\n",
    "ci_matrix = fitResult.conf_int(alpha = 0.05, cov_type = 'robust')\n",
    "ci_matrix.loc['Intercept',[0,1]]"
   ]
  }
 ],
 "metadata": {
  "kernelspec": {
   "display_name": "AlgoVenv1",
   "language": "python",
   "name": "python3"
  },
  "language_info": {
   "codemirror_mode": {
    "name": "ipython",
    "version": 3
   },
   "file_extension": ".py",
   "mimetype": "text/x-python",
   "name": "python",
   "nbconvert_exporter": "python",
   "pygments_lexer": "ipython3",
   "version": "3.9.2"
  }
 },
 "nbformat": 4,
 "nbformat_minor": 2
}
