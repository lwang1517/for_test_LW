{
 "cells": [
  {
   "cell_type": "code",
   "execution_count": null,
   "metadata": {},
   "outputs": [],
   "source": [
    "import sys\n",
    "sys.path.append(r'C:\\Users\\lwang\\Documents\\GitHub\\DataAnalysis')"
   ]
  },
  {
   "cell_type": "code",
   "execution_count": null,
   "metadata": {},
   "outputs": [],
   "source": [
    "import numpy as np\n",
    "import sys, os\n",
    "from pathlib import Path\n",
    "import pandas as pd\n",
    "import copy\n",
    "import plotly.express as px\n",
    "import pandas as pd\n",
    "import plotly.graph_objects as go\n",
    "from plotly.colors import n_colors\n",
    "import math\n",
    "import datetime as dt\n",
    "from sklearn.metrics import r2_score\n",
    "import plotly.colors\n",
    "from plotly.subplots import make_subplots\n",
    "import plotly.graph_objects as go\n",
    "import pandas as pd\n",
    "import numpy as np\n",
    "from scipy.stats import mannwhitneyu\n",
    "from scipy.interpolate import griddata\n",
    "from sklearn.linear_model import LinearRegression\n",
    "import scipy\n",
    "import importlib\n",
    "import pickle\n",
    "\n",
    "# ----- Internal Dependencies -------#\n",
    "nb_dir = os.path.split(os.getcwd())[0]\n",
    "sys.path.append(\"../..\")\n",
    "if nb_dir not in sys.path:\n",
    "    sys.path.append(nb_dir)\n",
    "from General import FileRead\n",
    "from General import AccuracyMetrics\n",
    "from General.GeneralFunctions import get_add_to_dict\n",
    "from General import TableManipulations\n",
    "from FeatureGeneration import GeneralFeatures\n",
    "from General import FileWrite\n",
    "\n",
    "from Plot.PdfHelper import PdfHelper\n",
    "from Plot.PlotMaker import PlotMaker\n",
    "# from Plot import Voltage_Plots\n",
    "from Plot import PlotFunctions\n",
    "# from Plot import AdHocPlots\n",
    "# from Plot import Sim_Plots\n",
    "\n",
    "# widget and notebook stuff\n",
    "from ipywidgets import interact, fixed\n",
    "import plotly.io as pio\n",
    "pio.renderers.default = \"plotly_mimetype+notebook\""
   ]
  },
  {
   "cell_type": "code",
   "execution_count": null,
   "metadata": {},
   "outputs": [],
   "source": [
    "import importlib.util\n",
    "\n",
    "# Set up environment (e.g. sys.path)\n",
    "assembler_folder = r'C:\\Users\\lwang\\Documents\\GitHub\\DataAnalysis\\AlgorithmAssembler'\n",
    "top_folder = r'C:\\Users\\lwang\\Documents\\GitHub\\DataAnalysis'\n",
    "\n",
    "# Set up the module function to be tested. This is equivalent to from X.Y.Z import module_func, but avoid potential ImportError\n",
    "background_func_file_path = os.path.join(assembler_folder,'Modules','glucoseModel','channel_gluc_current','time_varying_background.py')\n",
    "background_func_name = os.path.relpath(background_func_file_path,top_folder).replace('.py','').replace(os.sep,'.')\n",
    "background_func_spec = importlib.util.spec_from_file_location(background_func_name,background_func_file_path)\n",
    "background_func_info = importlib.util.module_from_spec(background_func_spec)\n",
    "background_func_spec.loader.exec_module(background_func_info)\n",
    "background_func = getattr(background_func_info,'background_gamma_cdf_based')\n",
    "\n",
    "sensitivity_func_file_path = os.path.join(assembler_folder,'Modules','glucoseModel','channel_dermis_gluc','time_varying_sensitivity.py')\n",
    "sensitivity_func_name = os.path.relpath(sensitivity_func_file_path,top_folder).replace('.py','').replace(os.sep,'.')\n",
    "sensitivity_func_spec = importlib.util.spec_from_file_location(sensitivity_func_name,sensitivity_func_file_path)\n",
    "sensitivity_func_info = importlib.util.module_from_spec(sensitivity_func_spec)\n",
    "sensitivity_func_spec.loader.exec_module(sensitivity_func_info)\n",
    "sensitivity_func = getattr(sensitivity_func_info,'sensitivity_gamma_cdf_based')"
   ]
  },
  {
   "cell_type": "markdown",
   "metadata": {},
   "source": [
    "load data"
   ]
  },
  {
   "cell_type": "code",
   "execution_count": null,
   "metadata": {},
   "outputs": [],
   "source": [
    "df_orig=pd.read_csv(r'A:\\Algo\\Isabella_v02 model comparison\\agg_sample_df_ref_training_validation.csv')"
   ]
  },
  {
   "cell_type": "code",
   "execution_count": null,
   "metadata": {},
   "outputs": [],
   "source": [
    "df_orig['ysi_acck'] = df_orig['ysi']\n",
    "nan_idx = df_orig['ysi'].isna()\n",
    "df_orig.loc[nan_idx,'ysi_acck'] = df_orig.loc[nan_idx,'acck']"
   ]
  },
  {
   "cell_type": "code",
   "execution_count": null,
   "metadata": {},
   "outputs": [],
   "source": [
    "sensor_info_df = pd.read_excel(r'C:\\Users\\lwang\\OneDrive - Biolinq Inc\\Gen 1\\Algorithm Development\\Investigate May Study\\all study sensor info.xlsx')"
   ]
  },
  {
   "cell_type": "code",
   "execution_count": null,
   "metadata": {},
   "outputs": [],
   "source": [
    "df_orig = df_orig.merge(right=sensor_info_df,how='left',left_on='Sensor_Id',right_on='sensor_id',suffixes=(None,'2'))"
   ]
  },
  {
   "cell_type": "code",
   "execution_count": null,
   "metadata": {},
   "outputs": [],
   "source": [
    "df_orig['Sorting Tier'].unique()"
   ]
  },
  {
   "cell_type": "code",
   "execution_count": null,
   "metadata": {},
   "outputs": [],
   "source": [
    "sensor_info_df['Study'].unique()"
   ]
  },
  {
   "cell_type": "code",
   "execution_count": null,
   "metadata": {},
   "outputs": [],
   "source": [
    "df_orig['Chemistry'].unique()"
   ]
  },
  {
   "cell_type": "markdown",
   "metadata": {},
   "source": [
    "Setting"
   ]
  },
  {
   "cell_type": "code",
   "execution_count": 41,
   "metadata": {},
   "outputs": [],
   "source": [
    "# training_group = ['eBlinq19c','eBlinq20','eBlinq22','eBlinq23','eBlinq25','eBlinqRingOverlay&NiMNA','iBlinqAcet','iBlinqFW231','iBlinqOverlay','Pre-Piv-2-training','eBlinqMayStudy','Pre-Piv-2-validation']\n",
    "# training_group = ['eBlinq19c','eBlinq20','eBlinq22','eBlinq23','eBlinq25','eBlinqRingOverlay&NiMNA','iBlinqAcet','iBlinqFW231','iBlinqOverlay']\n",
    "training_group = ['eBlinqMayStudy']\n",
    "test_group = ['eBlinq19c','eBlinq20','eBlinq22','eBlinq23','eBlinq25','eBlinqRingOverlay&NiMNA','iBlinqAcet','iBlinqFW231','iBlinqOverlay','Pre-Piv-2-training','eBlinqMayStudy','Pre-Piv-2-validation']\n",
    "# test_group = ['eBlinqMayStudy','Pre-Piv-2-validation']\n",
    "all_training_channel = ['1']\n",
    "training_time_window = [0.083,5]\n",
    "training_chemistry = '2.6.11'\n",
    "test_chemistry = '2.6.11'\n",
    "training_tier = ['Tier 1: 3/3 Clinical Use', 'Tier 1w-a: 2/3 CLN, 3/3 Wide','Tier 1w-c: 0/3 CLN, 3/3 Wide', 'Tier 1w-b: 1/3 CLN, 3/3 Wide','Tier 1w-d: Missing data','Tier 1']\n",
    "test_tier = ['Tier 1: 3/3 Clinical Use', 'Tier 1w-a: 2/3 CLN, 3/3 Wide','Tier 1w-c: 0/3 CLN, 3/3 Wide', 'Tier 1w-b: 1/3 CLN, 3/3 Wide','Tier 1w-d: Missing data','Tier 1']\n",
    "iso_thresh = 20\n",
    "params_bound = [\n",
    "    [0,1e5],\n",
    "    [1e-6,1],[1e-6,1],\n",
    "    [0,1e3],[0,1e3],\n",
    "    [1e-1,1e2],[1e-1,10],\n",
    "]\n",
    "col_for_optim = [\n",
    "    'cur1','cur3','cur4','Chemistry','Sorting Tier',\n",
    "    'time_from_start_featureGeneration','mag1_1007_featureGeneration','mag3_1007_featureGeneration','mag4_1007_featureGeneration',\n",
    "    'Study','retro_model_output_s1_calculateGlucose','retro_model_output_s3_calculateGlucose','retro_model_output_s4_calculateGlucose'\n",
    "]\n",
    "ref_for_optim = 'ysi'\n",
    "col_for_optim.append(ref_for_optim)"
   ]
  },
  {
   "cell_type": "code",
   "execution_count": 40,
   "metadata": {},
   "outputs": [],
   "source": [
    "def glucose_model(cur,features,params):\n",
    "    background_params = params['background']\n",
    "    sensitivity_params = params['sensitivity']\n",
    "    glucose_current,_ = background_func(cur,features,background_params)\n",
    "    dermis_gluc,sensitivity_info = sensitivity_func(glucose_current,features,sensitivity_params)\n",
    "    sensitivity = sensitivity_info['sensitivity']\n",
    "    return dermis_gluc, sensitivity\n",
    "\n",
    "def params_list_to_dict(params_list,channel_str):\n",
    "    params = {}\n",
    "    background_params = {\n",
    "        'feature_schema': {'mag_1007':f'mag{channel_str}_1007'},\n",
    "        'sim_slope_background': {'value': params_list[0]},\n",
    "        'sim_intercept_background_start': {'value': params_list[1]},\n",
    "        'sim_intercept_background_end': {'value': params_list[2]},\n",
    "        'sim_intercept_background_a': {'value': 1},\n",
    "        'sim_intercept_background_loc': {'value': 0},\n",
    "        'sim_intercept_background_beta': {'value': 99.15500137310596},\n",
    "    }\n",
    "    params['background'] = background_params\n",
    "    sensitivity_params = {\n",
    "        'feature_schema': {'mag_1007':f'mag{channel_str}_1007'},\n",
    "        'sim_intercept_sensitivity_start': {'value': params_list[3]*1e-10},\n",
    "        'sim_intercept_sensitivity_end': {'value': params_list[4]*1e-10},\n",
    "        'sim_intercept_sensitivity_a': {'value': 1},\n",
    "        'sim_intercept_sensitivity_loc': {'value': 0},\n",
    "        'sim_intercept_sensitivity_beta': {'value': 1.1632178403532043},\n",
    "        'sim_slope_sensitivity_start': {'value': params_list[5]*1e-3},\n",
    "        'sim_slope_sensitivity_end': {'value': params_list[6]*1e-3},\n",
    "        'sim_slope_sensitivity_a': {'value': 1},\n",
    "        'sim_slope_sensitivity_loc': {'value': 0},\n",
    "        'sim_slope_sensitivity_beta': {'value': 82.51104301501427},\n",
    "    }\n",
    "    params['sensitivity'] = sensitivity_params\n",
    "    return params\n",
    "\n",
    "def mard(params_list,g,cur,features,channel_str):\n",
    "    params = params_list_to_dict(params_list,channel_str)\n",
    "    g_hat, _ = glucose_model(cur,features,params)    \n",
    "    mard = g_hat.sub(g).abs().div(g).mean()\n",
    "    return mard\n",
    "\n",
    "def costFunc(params_list,g,cur,features,channel_str):\n",
    "    params = params_list_to_dict(params_list,channel_str)\n",
    "    g_hat, sensitivity = glucose_model(cur,features,params)\n",
    "    error = g_hat.sub(g).div(g).mul(sensitivity).mul(1e3).abs().mean()\n",
    "    return error\n",
    "\n",
    "def callback_da(x,f,context=0):\n",
    "    params_dict = params_list_to_dict(x,1)\n",
    "    print(f'Cost function value is {f}, and parameters are {params_dict}')"
   ]
  },
  {
   "cell_type": "code",
   "execution_count": 42,
   "metadata": {},
   "outputs": [
    {
     "name": "stdout",
     "output_type": "stream",
     "text": [
      "Optmizing channel 1\n",
      "Training data has shape (44042, 17)\n",
      "Training data has shape (31538, 17)\n",
      "Ratio of good data is 0.7160891875936606\n",
      "Test data has shape (244045, 17)\n",
      "Cost function value is 8.872696056408417, and parameters are {'background': {'feature_schema': {'mag_1007': 'mag1_1007'}, 'sim_slope_background': {'value': 36758.35445450246}, 'sim_intercept_background_start': {'value': 0.10598142496937366}, 'sim_intercept_background_end': {'value': 0.7239095164059982}, 'sim_intercept_background_a': {'value': 1}, 'sim_intercept_background_loc': {'value': 0}, 'sim_intercept_background_beta': {'value': 99.15500137310596}}, 'sensitivity': {'feature_schema': {'mag_1007': 'mag1_1007'}, 'sim_intercept_sensitivity_start': {'value': 7.893084292560816e-08}, 'sim_intercept_sensitivity_end': {'value': 6.405663192272187e-11}, 'sim_intercept_sensitivity_a': {'value': 1}, 'sim_intercept_sensitivity_loc': {'value': 0}, 'sim_intercept_sensitivity_beta': {'value': 1.1632178403532043}, 'sim_slope_sensitivity_start': {'value': 0.06997255593662655}, 'sim_slope_sensitivity_end': {'value': 0.002527905545423018}, 'sim_slope_sensitivity_a': {'value': 1}, 'sim_slope_sensitivity_loc': {'value': 0}, 'sim_slope_sensitivity_beta': {'value': 82.51104301501427}}}\n",
      "Cost function value is 1.0849541469104913, and parameters are {'background': {'feature_schema': {'mag_1007': 'mag1_1007'}, 'sim_slope_background': {'value': 78662.05238549411}, 'sim_intercept_background_start': {'value': 0.46746966486926883}, 'sim_intercept_background_end': {'value': 0.0636515027494595}, 'sim_intercept_background_a': {'value': 1}, 'sim_intercept_background_loc': {'value': 0}, 'sim_intercept_background_beta': {'value': 99.15500137310596}}, 'sensitivity': {'feature_schema': {'mag_1007': 'mag1_1007'}, 'sim_intercept_sensitivity_start': {'value': 6.930063602477313e-08}, 'sim_intercept_sensitivity_end': {'value': 9.043384973108769e-08}, 'sim_intercept_sensitivity_a': {'value': 1}, 'sim_intercept_sensitivity_loc': {'value': 0}, 'sim_intercept_sensitivity_beta': {'value': 1.1632178403532043}, 'sim_slope_sensitivity_start': {'value': 0.02217048693830504}, 'sim_slope_sensitivity_end': {'value': 0.0014328067778138132}, 'sim_slope_sensitivity_a': {'value': 1}, 'sim_slope_sensitivity_loc': {'value': 0}, 'sim_slope_sensitivity_beta': {'value': 82.51104301501427}}}\n",
      "Cost function value is 0.527605829598262, and parameters are {'background': {'feature_schema': {'mag_1007': 'mag1_1007'}, 'sim_slope_background': {'value': 78662.05239056717}, 'sim_intercept_background_start': {'value': 0.4674663014657554}, 'sim_intercept_background_end': {'value': 1e-06}, 'sim_intercept_background_a': {'value': 1}, 'sim_intercept_background_loc': {'value': 0}, 'sim_intercept_background_beta': {'value': 99.15500137310596}}, 'sensitivity': {'feature_schema': {'mag_1007': 'mag1_1007'}, 'sim_intercept_sensitivity_start': {'value': 6.93006499739676e-08}, 'sim_intercept_sensitivity_end': {'value': 9.043386023606233e-08}, 'sim_intercept_sensitivity_a': {'value': 1}, 'sim_intercept_sensitivity_loc': {'value': 0}, 'sim_intercept_sensitivity_beta': {'value': 1.1632178403532043}, 'sim_slope_sensitivity_start': {'value': 0.022170504941819217}, 'sim_slope_sensitivity_end': {'value': 0.002127661568750339}, 'sim_slope_sensitivity_a': {'value': 1}, 'sim_slope_sensitivity_loc': {'value': 0}, 'sim_slope_sensitivity_beta': {'value': 82.51104301501427}}}\n",
      "Cost function value is 0.4600246268928482, and parameters are {'background': {'feature_schema': {'mag_1007': 'mag1_1007'}, 'sim_slope_background': {'value': 34375.54060607683}, 'sim_intercept_background_start': {'value': 0.7089901772838847}, 'sim_intercept_background_end': {'value': 0.0287613883662092}, 'sim_intercept_background_a': {'value': 1}, 'sim_intercept_background_loc': {'value': 0}, 'sim_intercept_background_beta': {'value': 99.15500137310596}}, 'sensitivity': {'feature_schema': {'mag_1007': 'mag1_1007'}, 'sim_intercept_sensitivity_start': {'value': 4.241173903772178e-08}, 'sim_intercept_sensitivity_end': {'value': 5.6966888883663344e-08}, 'sim_intercept_sensitivity_a': {'value': 1}, 'sim_intercept_sensitivity_loc': {'value': 0}, 'sim_intercept_sensitivity_beta': {'value': 1.1632178403532043}, 'sim_slope_sensitivity_start': {'value': 0.016675237018600405}, 'sim_slope_sensitivity_end': {'value': 0.0011613783245067624}, 'sim_slope_sensitivity_a': {'value': 1}, 'sim_slope_sensitivity_loc': {'value': 0}, 'sim_slope_sensitivity_beta': {'value': 82.51104301501427}}}\n",
      "Cost function value is 0.460022824494627, and parameters are {'background': {'feature_schema': {'mag_1007': 'mag1_1007'}, 'sim_slope_background': {'value': 34375.54060607683}, 'sim_intercept_background_start': {'value': 0.5986780366819382}, 'sim_intercept_background_end': {'value': 0.0287613883662092}, 'sim_intercept_background_a': {'value': 1}, 'sim_intercept_background_loc': {'value': 0}, 'sim_intercept_background_beta': {'value': 99.15500137310596}}, 'sensitivity': {'feature_schema': {'mag_1007': 'mag1_1007'}, 'sim_intercept_sensitivity_start': {'value': 4.241173903772178e-08}, 'sim_intercept_sensitivity_end': {'value': 5.6966888883663344e-08}, 'sim_intercept_sensitivity_a': {'value': 1}, 'sim_intercept_sensitivity_loc': {'value': 0}, 'sim_intercept_sensitivity_beta': {'value': 1.1632178403532043}, 'sim_slope_sensitivity_start': {'value': 0.016675237018600405}, 'sim_slope_sensitivity_end': {'value': 0.0011613783245067624}, 'sim_slope_sensitivity_a': {'value': 1}, 'sim_slope_sensitivity_loc': {'value': 0}, 'sim_slope_sensitivity_beta': {'value': 82.51104301501427}}}\n",
      "Cost function value is 0.4581400086753307, and parameters are {'background': {'feature_schema': {'mag_1007': 'mag1_1007'}, 'sim_slope_background': {'value': 34375.54060607683}, 'sim_intercept_background_start': {'value': 0.5986780366819382}, 'sim_intercept_background_end': {'value': 0.0287613883662092}, 'sim_intercept_background_a': {'value': 1}, 'sim_intercept_background_loc': {'value': 0}, 'sim_intercept_background_beta': {'value': 99.15500137310596}}, 'sensitivity': {'feature_schema': {'mag_1007': 'mag1_1007'}, 'sim_intercept_sensitivity_start': {'value': 7.391998543322698e-08}, 'sim_intercept_sensitivity_end': {'value': 5.6966888883663344e-08}, 'sim_intercept_sensitivity_a': {'value': 1}, 'sim_intercept_sensitivity_loc': {'value': 0}, 'sim_intercept_sensitivity_beta': {'value': 1.1632178403532043}, 'sim_slope_sensitivity_start': {'value': 0.016675237018600405}, 'sim_slope_sensitivity_end': {'value': 0.0011613783245067624}, 'sim_slope_sensitivity_a': {'value': 1}, 'sim_slope_sensitivity_loc': {'value': 0}, 'sim_slope_sensitivity_beta': {'value': 82.51104301501427}}}\n",
      "Cost function value is 0.22055430545832155, and parameters are {'background': {'feature_schema': {'mag_1007': 'mag1_1007'}, 'sim_slope_background': {'value': 34375.54059853113}, 'sim_intercept_background_start': {'value': 0.5986642451148119}, 'sim_intercept_background_end': {'value': 1e-06}, 'sim_intercept_background_a': {'value': 1}, 'sim_intercept_background_loc': {'value': 0}, 'sim_intercept_background_beta': {'value': 99.15500137310596}}, 'sensitivity': {'feature_schema': {'mag_1007': 'mag1_1007'}, 'sim_intercept_sensitivity_start': {'value': 7.391998603368369e-08}, 'sim_intercept_sensitivity_end': {'value': 5.69668899502699e-08}, 'sim_intercept_sensitivity_a': {'value': 1}, 'sim_intercept_sensitivity_loc': {'value': 0}, 'sim_intercept_sensitivity_beta': {'value': 1.1632178403532043}, 'sim_slope_sensitivity_start': {'value': 0.0166752389394232}, 'sim_slope_sensitivity_end': {'value': 0.0014869076467497362}, 'sim_slope_sensitivity_a': {'value': 1}, 'sim_slope_sensitivity_loc': {'value': 0}, 'sim_slope_sensitivity_beta': {'value': 82.51104301501427}}}\n",
      "Cost function value is 0.1779335001632671, and parameters are {'background': {'feature_schema': {'mag_1007': 'mag1_1007'}, 'sim_slope_background': {'value': 5353.5270091332495}, 'sim_intercept_background_start': {'value': 0.96181300137241}, 'sim_intercept_background_end': {'value': 1e-06}, 'sim_intercept_background_a': {'value': 1}, 'sim_intercept_background_loc': {'value': 0}, 'sim_intercept_background_beta': {'value': 99.15500137310596}}, 'sensitivity': {'feature_schema': {'mag_1007': 'mag1_1007'}, 'sim_intercept_sensitivity_start': {'value': 7.829240185106974e-08}, 'sim_intercept_sensitivity_end': {'value': 4.422742506312206e-08}, 'sim_intercept_sensitivity_a': {'value': 1}, 'sim_intercept_sensitivity_loc': {'value': 0}, 'sim_intercept_sensitivity_beta': {'value': 1.1632178403532043}, 'sim_slope_sensitivity_start': {'value': 0.06498192108334755}, 'sim_slope_sensitivity_end': {'value': 0.0010419076928950095}, 'sim_slope_sensitivity_a': {'value': 1}, 'sim_slope_sensitivity_loc': {'value': 0}, 'sim_slope_sensitivity_beta': {'value': 82.51104301501427}}}\n",
      "Cost function value is 0.16409219068265335, and parameters are {'background': {'feature_schema': {'mag_1007': 'mag1_1007'}, 'sim_slope_background': {'value': 5353.527007780364}, 'sim_intercept_background_start': {'value': 0.9618154304290314}, 'sim_intercept_background_end': {'value': 0.001714778777448815}, 'sim_intercept_background_a': {'value': 1}, 'sim_intercept_background_loc': {'value': 0}, 'sim_intercept_background_beta': {'value': 99.15500137310596}}, 'sensitivity': {'feature_schema': {'mag_1007': 'mag1_1007'}, 'sim_intercept_sensitivity_start': {'value': 7.829240213471105e-08}, 'sim_intercept_sensitivity_end': {'value': 4.422742525095924e-08}, 'sim_intercept_sensitivity_a': {'value': 1}, 'sim_intercept_sensitivity_loc': {'value': 0}, 'sim_intercept_sensitivity_beta': {'value': 1.1632178403532043}, 'sim_slope_sensitivity_start': {'value': 0.06498192012283904}, 'sim_slope_sensitivity_end': {'value': 0.0011521636954267267}, 'sim_slope_sensitivity_a': {'value': 1}, 'sim_slope_sensitivity_loc': {'value': 0}, 'sim_slope_sensitivity_beta': {'value': 82.51104301501427}}}\n",
      "Cost function value is 0.16396018339374438, and parameters are {'background': {'feature_schema': {'mag_1007': 'mag1_1007'}, 'sim_slope_background': {'value': 4482.147030805165}, 'sim_intercept_background_start': {'value': 0.24035485340499382}, 'sim_intercept_background_end': {'value': 0.0039980032987656225}, 'sim_intercept_background_a': {'value': 1}, 'sim_intercept_background_loc': {'value': 0}, 'sim_intercept_background_beta': {'value': 99.15500137310596}}, 'sensitivity': {'feature_schema': {'mag_1007': 'mag1_1007'}, 'sim_intercept_sensitivity_start': {'value': 9.848220615235891e-08}, 'sim_intercept_sensitivity_end': {'value': 4.0011795771730294e-08}, 'sim_intercept_sensitivity_a': {'value': 1}, 'sim_intercept_sensitivity_loc': {'value': 0}, 'sim_intercept_sensitivity_beta': {'value': 1.1632178403532043}, 'sim_slope_sensitivity_start': {'value': 0.032277440841049616}, 'sim_slope_sensitivity_end': {'value': 0.0011839448150522559}, 'sim_slope_sensitivity_a': {'value': 1}, 'sim_slope_sensitivity_loc': {'value': 0}, 'sim_slope_sensitivity_beta': {'value': 82.51104301501427}}}\n",
      "Cost function value is 0.16265213553371585, and parameters are {'background': {'feature_schema': {'mag_1007': 'mag1_1007'}, 'sim_slope_background': {'value': 4482.147030519024}, 'sim_intercept_background_start': {'value': 0.2403604753542201}, 'sim_intercept_background_end': {'value': 0.0026365177265009906}, 'sim_intercept_background_a': {'value': 1}, 'sim_intercept_background_loc': {'value': 0}, 'sim_intercept_background_beta': {'value': 99.15500137310596}}, 'sensitivity': {'feature_schema': {'mag_1007': 'mag1_1007'}, 'sim_intercept_sensitivity_start': {'value': 9.848220623992305e-08}, 'sim_intercept_sensitivity_end': {'value': 4.001179521369255e-08}, 'sim_intercept_sensitivity_a': {'value': 1}, 'sim_intercept_sensitivity_loc': {'value': 0}, 'sim_intercept_sensitivity_beta': {'value': 1.1632178403532043}, 'sim_slope_sensitivity_start': {'value': 0.03227743867657917}, 'sim_slope_sensitivity_end': {'value': 0.0011464587042321855}, 'sim_slope_sensitivity_a': {'value': 1}, 'sim_slope_sensitivity_loc': {'value': 0}, 'sim_slope_sensitivity_beta': {'value': 82.51104301501427}}}\n",
      "Cost function value is 0.16265069883709496, and parameters are {'background': {'feature_schema': {'mag_1007': 'mag1_1007'}, 'sim_slope_background': {'value': 4480.428311847878}, 'sim_intercept_background_start': {'value': 0.2403604753542201}, 'sim_intercept_background_end': {'value': 0.0026365177265009906}, 'sim_intercept_background_a': {'value': 1}, 'sim_intercept_background_loc': {'value': 0}, 'sim_intercept_background_beta': {'value': 99.15500137310596}}, 'sensitivity': {'feature_schema': {'mag_1007': 'mag1_1007'}, 'sim_intercept_sensitivity_start': {'value': 9.848220623992305e-08}, 'sim_intercept_sensitivity_end': {'value': 4.001179521369255e-08}, 'sim_intercept_sensitivity_a': {'value': 1}, 'sim_intercept_sensitivity_loc': {'value': 0}, 'sim_intercept_sensitivity_beta': {'value': 1.1632178403532043}, 'sim_slope_sensitivity_start': {'value': 0.03227743867657917}, 'sim_slope_sensitivity_end': {'value': 0.0011464587042321855}, 'sim_slope_sensitivity_a': {'value': 1}, 'sim_slope_sensitivity_loc': {'value': 0}, 'sim_slope_sensitivity_beta': {'value': 82.51104301501427}}}\n",
      "Cost function value is 0.16264563471545393, and parameters are {'background': {'feature_schema': {'mag_1007': 'mag1_1007'}, 'sim_slope_background': {'value': 4480.428311847878}, 'sim_intercept_background_start': {'value': 0.901773481234775}, 'sim_intercept_background_end': {'value': 0.0026365177265009906}, 'sim_intercept_background_a': {'value': 1}, 'sim_intercept_background_loc': {'value': 0}, 'sim_intercept_background_beta': {'value': 99.15500137310596}}, 'sensitivity': {'feature_schema': {'mag_1007': 'mag1_1007'}, 'sim_intercept_sensitivity_start': {'value': 9.848220623992305e-08}, 'sim_intercept_sensitivity_end': {'value': 4.001179521369255e-08}, 'sim_intercept_sensitivity_a': {'value': 1}, 'sim_intercept_sensitivity_loc': {'value': 0}, 'sim_intercept_sensitivity_beta': {'value': 1.1632178403532043}, 'sim_slope_sensitivity_start': {'value': 0.03227743867657917}, 'sim_slope_sensitivity_end': {'value': 0.0011464587042321855}, 'sim_slope_sensitivity_a': {'value': 1}, 'sim_slope_sensitivity_loc': {'value': 0}, 'sim_slope_sensitivity_beta': {'value': 82.51104301501427}}}\n",
      "Cost function value is 0.16264563452313868, and parameters are {'background': {'feature_schema': {'mag_1007': 'mag1_1007'}, 'sim_slope_background': {'value': 4480.428311847589}, 'sim_intercept_background_start': {'value': 0.9017734838967386}, 'sim_intercept_background_end': {'value': 0.0026367752056307156}, 'sim_intercept_background_a': {'value': 1}, 'sim_intercept_background_loc': {'value': 0}, 'sim_intercept_background_beta': {'value': 99.15500137310596}}, 'sensitivity': {'feature_schema': {'mag_1007': 'mag1_1007'}, 'sim_intercept_sensitivity_start': {'value': 9.848220623997023e-08}, 'sim_intercept_sensitivity_end': {'value': 4.001179521346938e-08}, 'sim_intercept_sensitivity_a': {'value': 1}, 'sim_intercept_sensitivity_loc': {'value': 0}, 'sim_intercept_sensitivity_beta': {'value': 1.1632178403532043}, 'sim_slope_sensitivity_start': {'value': 0.03227743867552269}, 'sim_slope_sensitivity_end': {'value': 0.0011464586809277022}, 'sim_slope_sensitivity_a': {'value': 1}, 'sim_slope_sensitivity_loc': {'value': 0}, 'sim_slope_sensitivity_beta': {'value': 82.51104301501427}}}\n",
      "Cost function value is 0.16257766142338378, and parameters are {'background': {'feature_schema': {'mag_1007': 'mag1_1007'}, 'sim_slope_background': {'value': 4480.428311847589}, 'sim_intercept_background_start': {'value': 0.4354949505353624}, 'sim_intercept_background_end': {'value': 0.0026367752056307156}, 'sim_intercept_background_a': {'value': 1}, 'sim_intercept_background_loc': {'value': 0}, 'sim_intercept_background_beta': {'value': 99.15500137310596}}, 'sensitivity': {'feature_schema': {'mag_1007': 'mag1_1007'}, 'sim_intercept_sensitivity_start': {'value': 9.848220623997023e-08}, 'sim_intercept_sensitivity_end': {'value': 4.001179521346938e-08}, 'sim_intercept_sensitivity_a': {'value': 1}, 'sim_intercept_sensitivity_loc': {'value': 0}, 'sim_intercept_sensitivity_beta': {'value': 1.1632178403532043}, 'sim_slope_sensitivity_start': {'value': 0.008745153678391324}, 'sim_slope_sensitivity_end': {'value': 0.0011464586809277022}, 'sim_slope_sensitivity_a': {'value': 1}, 'sim_slope_sensitivity_loc': {'value': 0}, 'sim_slope_sensitivity_beta': {'value': 82.51104301501427}}}\n",
      "Cost function value is 0.162577659415296, and parameters are {'background': {'feature_schema': {'mag_1007': 'mag1_1007'}, 'sim_slope_background': {'value': 4480.428311847018}, 'sim_intercept_background_start': {'value': 0.4354949556661512}, 'sim_intercept_background_end': {'value': 0.0026350506602013904}, 'sim_intercept_background_a': {'value': 1}, 'sim_intercept_background_loc': {'value': 0}, 'sim_intercept_background_beta': {'value': 99.15500137310596}}, 'sensitivity': {'feature_schema': {'mag_1007': 'mag1_1007'}, 'sim_intercept_sensitivity_start': {'value': 9.848220624006399e-08}, 'sim_intercept_sensitivity_end': {'value': 4.0011795213031306e-08}, 'sim_intercept_sensitivity_a': {'value': 1}, 'sim_intercept_sensitivity_loc': {'value': 0}, 'sim_intercept_sensitivity_beta': {'value': 1.1632178403532043}, 'sim_slope_sensitivity_start': {'value': 0.008745153676321206}, 'sim_slope_sensitivity_end': {'value': 0.001146458670796809}, 'sim_slope_sensitivity_a': {'value': 1}, 'sim_slope_sensitivity_loc': {'value': 0}, 'sim_slope_sensitivity_beta': {'value': 82.51104301501427}}}\n",
      "Cost function value is 0.16257408279926458, and parameters are {'background': {'feature_schema': {'mag_1007': 'mag1_1007'}, 'sim_slope_background': {'value': 4476.149024328217}, 'sim_intercept_background_start': {'value': 0.4354949556661512}, 'sim_intercept_background_end': {'value': 0.0026350506602013904}, 'sim_intercept_background_a': {'value': 1}, 'sim_intercept_background_loc': {'value': 0}, 'sim_intercept_background_beta': {'value': 99.15500137310596}}, 'sensitivity': {'feature_schema': {'mag_1007': 'mag1_1007'}, 'sim_intercept_sensitivity_start': {'value': 9.848220624006399e-08}, 'sim_intercept_sensitivity_end': {'value': 4.0011795213031306e-08}, 'sim_intercept_sensitivity_a': {'value': 1}, 'sim_intercept_sensitivity_loc': {'value': 0}, 'sim_intercept_sensitivity_beta': {'value': 1.1632178403532043}, 'sim_slope_sensitivity_start': {'value': 0.008745153676321206}, 'sim_slope_sensitivity_end': {'value': 0.001146458670796809}, 'sim_slope_sensitivity_a': {'value': 1}, 'sim_slope_sensitivity_loc': {'value': 0}, 'sim_slope_sensitivity_beta': {'value': 82.51104301501427}}}\n",
      "Cost function value is 0.16203940680386691, and parameters are {'background': {'feature_schema': {'mag_1007': 'mag1_1007'}, 'sim_slope_background': {'value': 4476.149024328217}, 'sim_intercept_background_start': {'value': 0.07615444488912579}, 'sim_intercept_background_end': {'value': 0.0026350506602013904}, 'sim_intercept_background_a': {'value': 1}, 'sim_intercept_background_loc': {'value': 0}, 'sim_intercept_background_beta': {'value': 99.15500137310596}}, 'sensitivity': {'feature_schema': {'mag_1007': 'mag1_1007'}, 'sim_intercept_sensitivity_start': {'value': 9.848220624006399e-08}, 'sim_intercept_sensitivity_end': {'value': 3.0077882855223155e-08}, 'sim_intercept_sensitivity_a': {'value': 1}, 'sim_intercept_sensitivity_loc': {'value': 0}, 'sim_intercept_sensitivity_beta': {'value': 1.1632178403532043}, 'sim_slope_sensitivity_start': {'value': 0.008745153676321206}, 'sim_slope_sensitivity_end': {'value': 0.001146458670796809}, 'sim_slope_sensitivity_a': {'value': 1}, 'sim_slope_sensitivity_loc': {'value': 0}, 'sim_slope_sensitivity_beta': {'value': 82.51104301501427}}}\n",
      "Cost function value is 0.1620144103121006, and parameters are {'background': {'feature_schema': {'mag_1007': 'mag1_1007'}, 'sim_slope_background': {'value': 4476.149024328217}, 'sim_intercept_background_start': {'value': 0.07615444488912579}, 'sim_intercept_background_end': {'value': 0.0026350506602013904}, 'sim_intercept_background_a': {'value': 1}, 'sim_intercept_background_loc': {'value': 0}, 'sim_intercept_background_beta': {'value': 99.15500137310596}}, 'sensitivity': {'feature_schema': {'mag_1007': 'mag1_1007'}, 'sim_intercept_sensitivity_start': {'value': 9.848220624006399e-08}, 'sim_intercept_sensitivity_end': {'value': 3.0077882855223155e-08}, 'sim_intercept_sensitivity_a': {'value': 1}, 'sim_intercept_sensitivity_loc': {'value': 0}, 'sim_intercept_sensitivity_beta': {'value': 1.1632178403532043}, 'sim_slope_sensitivity_start': {'value': 0.0005063198703708224}, 'sim_slope_sensitivity_end': {'value': 0.001146458670796809}, 'sim_slope_sensitivity_a': {'value': 1}, 'sim_slope_sensitivity_loc': {'value': 0}, 'sim_slope_sensitivity_beta': {'value': 82.51104301501427}}}\n",
      "Cost function value is 0.16193407518261166, and parameters are {'background': {'feature_schema': {'mag_1007': 'mag1_1007'}, 'sim_slope_background': {'value': 4476.149024091296}, 'sim_intercept_background_start': {'value': 0.07615626312370803}, 'sim_intercept_background_end': {'value': 0.0022689196951476386}, 'sim_intercept_background_a': {'value': 1}, 'sim_intercept_background_loc': {'value': 0}, 'sim_intercept_background_beta': {'value': 99.15500137310596}}, 'sensitivity': {'feature_schema': {'mag_1007': 'mag1_1007'}, 'sim_intercept_sensitivity_start': {'value': 9.848220628867031e-08}, 'sim_intercept_sensitivity_end': {'value': 3.007788273645828e-08}, 'sim_intercept_sensitivity_a': {'value': 1}, 'sim_intercept_sensitivity_loc': {'value': 0}, 'sim_intercept_sensitivity_beta': {'value': 1.1632178403532043}, 'sim_slope_sensitivity_start': {'value': 0.0005063191324968554}, 'sim_slope_sensitivity_end': {'value': 0.0011497188643485878}, 'sim_slope_sensitivity_a': {'value': 1}, 'sim_slope_sensitivity_loc': {'value': 0}, 'sim_slope_sensitivity_beta': {'value': 82.51104301501427}}}\n",
      "Cost function value is 0.16134109939847058, and parameters are {'background': {'feature_schema': {'mag_1007': 'mag1_1007'}, 'sim_slope_background': {'value': 3601.959445240078}, 'sim_intercept_background_start': {'value': 0.07615626312370803}, 'sim_intercept_background_end': {'value': 0.0022689196951476386}, 'sim_intercept_background_a': {'value': 1}, 'sim_intercept_background_loc': {'value': 0}, 'sim_intercept_background_beta': {'value': 99.15500137310596}}, 'sensitivity': {'feature_schema': {'mag_1007': 'mag1_1007'}, 'sim_intercept_sensitivity_start': {'value': 9.848220628867031e-08}, 'sim_intercept_sensitivity_end': {'value': 3.007788273645828e-08}, 'sim_intercept_sensitivity_a': {'value': 1}, 'sim_intercept_sensitivity_loc': {'value': 0}, 'sim_intercept_sensitivity_beta': {'value': 1.1632178403532043}, 'sim_slope_sensitivity_start': {'value': 0.0005063191324968554}, 'sim_slope_sensitivity_end': {'value': 0.0011497188643485878}, 'sim_slope_sensitivity_a': {'value': 1}, 'sim_slope_sensitivity_loc': {'value': 0}, 'sim_slope_sensitivity_beta': {'value': 82.51104301501427}}}\n",
      "Cost function value is 0.1613366142663397, and parameters are {'background': {'feature_schema': {'mag_1007': 'mag1_1007'}, 'sim_slope_background': {'value': 3601.959445240078}, 'sim_intercept_background_start': {'value': 0.6315202236041688}, 'sim_intercept_background_end': {'value': 0.0022689196951476386}, 'sim_intercept_background_a': {'value': 1}, 'sim_intercept_background_loc': {'value': 0}, 'sim_intercept_background_beta': {'value': 99.15500137310596}}, 'sensitivity': {'feature_schema': {'mag_1007': 'mag1_1007'}, 'sim_intercept_sensitivity_start': {'value': 9.848220628867031e-08}, 'sim_intercept_sensitivity_end': {'value': 3.007788273645828e-08}, 'sim_intercept_sensitivity_a': {'value': 1}, 'sim_intercept_sensitivity_loc': {'value': 0}, 'sim_intercept_sensitivity_beta': {'value': 1.1632178403532043}, 'sim_slope_sensitivity_start': {'value': 0.0005063191324968554}, 'sim_slope_sensitivity_end': {'value': 0.0011497188643485878}, 'sim_slope_sensitivity_a': {'value': 1}, 'sim_slope_sensitivity_loc': {'value': 0}, 'sim_slope_sensitivity_beta': {'value': 82.51104301501427}}}\n",
      "Cost function value is 0.16122758068684767, and parameters are {'background': {'feature_schema': {'mag_1007': 'mag1_1007'}, 'sim_slope_background': {'value': 3601.9594444944446}, 'sim_intercept_background_start': {'value': 0.6315279477219846}, 'sim_intercept_background_end': {'value': 0.002483128914392493}, 'sim_intercept_background_a': {'value': 1}, 'sim_intercept_background_loc': {'value': 0}, 'sim_intercept_background_beta': {'value': 99.15500137310596}}, 'sensitivity': {'feature_schema': {'mag_1007': 'mag1_1007'}, 'sim_intercept_sensitivity_start': {'value': 9.848220642258032e-08}, 'sim_intercept_sensitivity_end': {'value': 3.0077882118701704e-08}, 'sim_intercept_sensitivity_a': {'value': 1}, 'sim_intercept_sensitivity_loc': {'value': 0}, 'sim_intercept_sensitivity_beta': {'value': 1.1632178403532043}, 'sim_slope_sensitivity_start': {'value': 0.0005063159740938562}, 'sim_slope_sensitivity_end': {'value': 0.0011430256163493893}, 'sim_slope_sensitivity_a': {'value': 1}, 'sim_slope_sensitivity_loc': {'value': 0}, 'sim_slope_sensitivity_beta': {'value': 82.51104301501427}}}\n",
      "Cost function value is 0.160767269690706, and parameters are {'background': {'feature_schema': {'mag_1007': 'mag1_1007'}, 'sim_slope_background': {'value': 3834.936515881738}, 'sim_intercept_background_start': {'value': 0.1946606865402258}, 'sim_intercept_background_end': {'value': 0.002483128914392493}, 'sim_intercept_background_a': {'value': 1}, 'sim_intercept_background_loc': {'value': 0}, 'sim_intercept_background_beta': {'value': 99.15500137310596}}, 'sensitivity': {'feature_schema': {'mag_1007': 'mag1_1007'}, 'sim_intercept_sensitivity_start': {'value': 9.848220642258032e-08}, 'sim_intercept_sensitivity_end': {'value': 1.2845997625110067e-08}, 'sim_intercept_sensitivity_a': {'value': 1}, 'sim_intercept_sensitivity_loc': {'value': 0}, 'sim_intercept_sensitivity_beta': {'value': 1.1632178403532043}, 'sim_slope_sensitivity_start': {'value': 0.0005063159740938562}, 'sim_slope_sensitivity_end': {'value': 0.0011430256163493893}, 'sim_slope_sensitivity_a': {'value': 1}, 'sim_slope_sensitivity_loc': {'value': 0}, 'sim_slope_sensitivity_beta': {'value': 82.51104301501427}}}\n",
      "Cost function value is 0.16045036794772805, and parameters are {'background': {'feature_schema': {'mag_1007': 'mag1_1007'}, 'sim_slope_background': {'value': 3834.9365156653134}, 'sim_intercept_background_start': {'value': 0.1946621326946882}, 'sim_intercept_background_end': {'value': 0.0016910880885374813}, 'sim_intercept_background_a': {'value': 1}, 'sim_intercept_background_loc': {'value': 0}, 'sim_intercept_background_beta': {'value': 99.15500137310596}}, 'sensitivity': {'feature_schema': {'mag_1007': 'mag1_1007'}, 'sim_intercept_sensitivity_start': {'value': 9.84822064758293e-08}, 'sim_intercept_sensitivity_end': {'value': 1.2845997579402257e-08}, 'sim_intercept_sensitivity_a': {'value': 1}, 'sim_intercept_sensitivity_loc': {'value': 0}, 'sim_intercept_sensitivity_beta': {'value': 1.1632178403532043}, 'sim_slope_sensitivity_start': {'value': 0.0005063153857258222}, 'sim_slope_sensitivity_end': {'value': 0.0011495350362387604}, 'sim_slope_sensitivity_a': {'value': 1}, 'sim_slope_sensitivity_loc': {'value': 0}, 'sim_slope_sensitivity_beta': {'value': 82.51104301501427}}}\n",
      "Cost function value is 0.15970315607206018, and parameters are {'background': {'feature_schema': {'mag_1007': 'mag1_1007'}, 'sim_slope_background': {'value': 265.7492472807644}, 'sim_intercept_background_start': {'value': 0.5877346788214293}, 'sim_intercept_background_end': {'value': 0.0016910880885374813}, 'sim_intercept_background_a': {'value': 1}, 'sim_intercept_background_loc': {'value': 0}, 'sim_intercept_background_beta': {'value': 99.15500137310596}}, 'sensitivity': {'feature_schema': {'mag_1007': 'mag1_1007'}, 'sim_intercept_sensitivity_start': {'value': 7.829677255804521e-08}, 'sim_intercept_sensitivity_end': {'value': 1.0583530967545084e-08}, 'sim_intercept_sensitivity_a': {'value': 1}, 'sim_intercept_sensitivity_loc': {'value': 0}, 'sim_intercept_sensitivity_beta': {'value': 1.1632178403532043}, 'sim_slope_sensitivity_start': {'value': 0.06857035120144124}, 'sim_slope_sensitivity_end': {'value': 0.0011495350362387604}, 'sim_slope_sensitivity_a': {'value': 1}, 'sim_slope_sensitivity_loc': {'value': 0}, 'sim_slope_sensitivity_beta': {'value': 82.51104301501427}}}\n",
      "Cost function value is 0.15848330074488165, and parameters are {'background': {'feature_schema': {'mag_1007': 'mag1_1007'}, 'sim_slope_background': {'value': 265.7492470065566}, 'sim_intercept_background_start': {'value': 0.5877418313510363}, 'sim_intercept_background_end': {'value': 0.0015941639308193509}, 'sim_intercept_background_a': {'value': 1}, 'sim_intercept_background_loc': {'value': 0}, 'sim_intercept_background_beta': {'value': 99.15500137310596}}, 'sensitivity': {'feature_schema': {'mag_1007': 'mag1_1007'}, 'sim_intercept_sensitivity_start': {'value': 7.829677271966723e-08}, 'sim_intercept_sensitivity_end': {'value': 1.0583530483022086e-08}, 'sim_intercept_sensitivity_a': {'value': 1}, 'sim_intercept_sensitivity_loc': {'value': 0}, 'sim_intercept_sensitivity_beta': {'value': 1.1632178403532043}, 'sim_slope_sensitivity_start': {'value': 0.06857034828770296}, 'sim_slope_sensitivity_end': {'value': 0.0011216306675628984}, 'sim_slope_sensitivity_a': {'value': 1}, 'sim_slope_sensitivity_loc': {'value': 0}, 'sim_slope_sensitivity_beta': {'value': 82.51104301501427}}}\n",
      "Cost function value is 0.15848098589837073, and parameters are {'background': {'feature_schema': {'mag_1007': 'mag1_1007'}, 'sim_slope_background': {'value': 265.7492470065566}, 'sim_intercept_background_start': {'value': 0.8707421610489819}, 'sim_intercept_background_end': {'value': 0.0015941639308193509}, 'sim_intercept_background_a': {'value': 1}, 'sim_intercept_background_loc': {'value': 0}, 'sim_intercept_background_beta': {'value': 99.15500137310596}}, 'sensitivity': {'feature_schema': {'mag_1007': 'mag1_1007'}, 'sim_intercept_sensitivity_start': {'value': 7.829677271966723e-08}, 'sim_intercept_sensitivity_end': {'value': 1.0583530483022086e-08}, 'sim_intercept_sensitivity_a': {'value': 1}, 'sim_intercept_sensitivity_loc': {'value': 0}, 'sim_intercept_sensitivity_beta': {'value': 1.1632178403532043}, 'sim_slope_sensitivity_start': {'value': 0.06857034828770296}, 'sim_slope_sensitivity_end': {'value': 0.0011216306675628984}, 'sim_slope_sensitivity_a': {'value': 1}, 'sim_slope_sensitivity_loc': {'value': 0}, 'sim_slope_sensitivity_beta': {'value': 82.51104301501427}}}\n",
      "Cost function value is 0.15846069375441882, and parameters are {'background': {'feature_schema': {'mag_1007': 'mag1_1007'}, 'sim_slope_background': {'value': 265.7492470065566}, 'sim_intercept_background_start': {'value': 0.8707421610489819}, 'sim_intercept_background_end': {'value': 0.0015941639308193509}, 'sim_intercept_background_a': {'value': 1}, 'sim_intercept_background_loc': {'value': 0}, 'sim_intercept_background_beta': {'value': 99.15500137310596}}, 'sensitivity': {'feature_schema': {'mag_1007': 'mag1_1007'}, 'sim_intercept_sensitivity_start': {'value': 7.940034944460154e-08}, 'sim_intercept_sensitivity_end': {'value': 1.0583530483022086e-08}, 'sim_intercept_sensitivity_a': {'value': 1}, 'sim_intercept_sensitivity_loc': {'value': 0}, 'sim_intercept_sensitivity_beta': {'value': 1.1632178403532043}, 'sim_slope_sensitivity_start': {'value': 0.06857034828770296}, 'sim_slope_sensitivity_end': {'value': 0.0011216306675628984}, 'sim_slope_sensitivity_a': {'value': 1}, 'sim_slope_sensitivity_loc': {'value': 0}, 'sim_slope_sensitivity_beta': {'value': 82.51104301501427}}}\n",
      "Cost function value is 0.15816937872097214, and parameters are {'background': {'feature_schema': {'mag_1007': 'mag1_1007'}, 'sim_slope_background': {'value': 265.7492470065566}, 'sim_intercept_background_start': {'value': 0.8707421610489819}, 'sim_intercept_background_end': {'value': 0.0015941639308193509}, 'sim_intercept_background_a': {'value': 1}, 'sim_intercept_background_loc': {'value': 0}, 'sim_intercept_background_beta': {'value': 99.15500137310596}}, 'sensitivity': {'feature_schema': {'mag_1007': 'mag1_1007'}, 'sim_intercept_sensitivity_start': {'value': 7.940034944460154e-08}, 'sim_intercept_sensitivity_end': {'value': 3.3526949237666032e-09}, 'sim_intercept_sensitivity_a': {'value': 1}, 'sim_intercept_sensitivity_loc': {'value': 0}, 'sim_intercept_sensitivity_beta': {'value': 1.1632178403532043}, 'sim_slope_sensitivity_start': {'value': 0.06857034828770296}, 'sim_slope_sensitivity_end': {'value': 0.0011216306675628984}, 'sim_slope_sensitivity_a': {'value': 1}, 'sim_slope_sensitivity_loc': {'value': 0}, 'sim_slope_sensitivity_beta': {'value': 82.51104301501427}}}\n",
      "Cost function value is 0.15794964220592778, and parameters are {'background': {'feature_schema': {'mag_1007': 'mag1_1007'}, 'sim_slope_background': {'value': 265.7492470065566}, 'sim_intercept_background_start': {'value': 0.8707421610489819}, 'sim_intercept_background_end': {'value': 0.0015941639308193509}, 'sim_intercept_background_a': {'value': 1}, 'sim_intercept_background_loc': {'value': 0}, 'sim_intercept_background_beta': {'value': 99.15500137310596}}, 'sensitivity': {'feature_schema': {'mag_1007': 'mag1_1007'}, 'sim_intercept_sensitivity_start': {'value': 7.940034944460154e-08}, 'sim_intercept_sensitivity_end': {'value': 3.3526949237666032e-09}, 'sim_intercept_sensitivity_a': {'value': 1}, 'sim_intercept_sensitivity_loc': {'value': 0}, 'sim_intercept_sensitivity_beta': {'value': 1.1632178403532043}, 'sim_slope_sensitivity_start': {'value': 0.0032374138867172406}, 'sim_slope_sensitivity_end': {'value': 0.0011216306675628984}, 'sim_slope_sensitivity_a': {'value': 1}, 'sim_slope_sensitivity_loc': {'value': 0}, 'sim_slope_sensitivity_beta': {'value': 82.51104301501427}}}\n",
      "Cost function value is 0.15791589786099547, and parameters are {'background': {'feature_schema': {'mag_1007': 'mag1_1007'}, 'sim_slope_background': {'value': 265.7492468908419}, 'sim_intercept_background_start': {'value': 0.8707435223062159}, 'sim_intercept_background_end': {'value': 0.0013082820510398802}, 'sim_intercept_background_a': {'value': 1}, 'sim_intercept_background_loc': {'value': 0}, 'sim_intercept_background_beta': {'value': 99.15500137310596}}, 'sensitivity': {'feature_schema': {'mag_1007': 'mag1_1007'}, 'sim_intercept_sensitivity_start': {'value': 7.940034948273114e-08}, 'sim_intercept_sensitivity_end': {'value': 3.352694862385932e-09}, 'sim_intercept_sensitivity_a': {'value': 1}, 'sim_intercept_sensitivity_loc': {'value': 0}, 'sim_intercept_sensitivity_beta': {'value': 1.1632178403532043}, 'sim_slope_sensitivity_start': {'value': 0.003237413303094389}, 'sim_slope_sensitivity_end': {'value': 0.0011233674341690285}, 'sim_slope_sensitivity_a': {'value': 1}, 'sim_slope_sensitivity_loc': {'value': 0}, 'sim_slope_sensitivity_beta': {'value': 82.51104301501427}}}\n",
      "Cost function value is 0.15784952277076783, and parameters are {'background': {'feature_schema': {'mag_1007': 'mag1_1007'}, 'sim_slope_background': {'value': 236.43710198928602}, 'sim_intercept_background_start': {'value': 0.5880331379551145}, 'sim_intercept_background_end': {'value': 0.0013088329684986788}, 'sim_intercept_background_a': {'value': 1}, 'sim_intercept_background_loc': {'value': 0}, 'sim_intercept_background_beta': {'value': 99.15500137310596}}, 'sensitivity': {'feature_schema': {'mag_1007': 'mag1_1007'}, 'sim_intercept_sensitivity_start': {'value': 8.222570332976618e-08}, 'sim_intercept_sensitivity_end': {'value': 2.8654669581978853e-10}, 'sim_intercept_sensitivity_a': {'value': 1}, 'sim_intercept_sensitivity_loc': {'value': 0}, 'sim_intercept_sensitivity_beta': {'value': 1.1632178403532043}, 'sim_slope_sensitivity_start': {'value': 0.03776220885320447}, 'sim_slope_sensitivity_end': {'value': 0.0011259621750252617}, 'sim_slope_sensitivity_a': {'value': 1}, 'sim_slope_sensitivity_loc': {'value': 0}, 'sim_slope_sensitivity_beta': {'value': 82.51104301501427}}}\n",
      "Cost function value is 0.1578436122360603, and parameters are {'background': {'feature_schema': {'mag_1007': 'mag1_1007'}, 'sim_slope_background': {'value': 236.4371014127409}, 'sim_intercept_background_start': {'value': 0.5880418399369844}, 'sim_intercept_background_end': {'value': 0.0013258737419008508}, 'sim_intercept_background_a': {'value': 1}, 'sim_intercept_background_loc': {'value': 0}, 'sim_intercept_background_beta': {'value': 99.15500137310596}}, 'sensitivity': {'feature_schema': {'mag_1007': 'mag1_1007'}, 'sim_intercept_sensitivity_start': {'value': 8.222570349548003e-08}, 'sim_intercept_sensitivity_end': {'value': 2.865462559695871e-10}, 'sim_intercept_sensitivity_a': {'value': 1}, 'sim_intercept_sensitivity_loc': {'value': 0}, 'sim_intercept_sensitivity_beta': {'value': 1.1632178403532043}, 'sim_slope_sensitivity_start': {'value': 0.0377622052153959}, 'sim_slope_sensitivity_end': {'value': 0.0011240971806409997}, 'sim_slope_sensitivity_a': {'value': 1}, 'sim_slope_sensitivity_loc': {'value': 0}, 'sim_slope_sensitivity_beta': {'value': 82.51104301501427}}}\n",
      "Cost function value is 0.15780501584238935, and parameters are {'background': {'feature_schema': {'mag_1007': 'mag1_1007'}, 'sim_slope_background': {'value': 449.3220295601204}, 'sim_intercept_background_start': {'value': 0.09450625236207186}, 'sim_intercept_background_end': {'value': 0.0017907836143814238}, 'sim_intercept_background_a': {'value': 1}, 'sim_intercept_background_loc': {'value': 0}, 'sim_intercept_background_beta': {'value': 99.15500137310596}}, 'sensitivity': {'feature_schema': {'mag_1007': 'mag1_1007'}, 'sim_intercept_sensitivity_start': {'value': 9.630877847723153e-08}, 'sim_intercept_sensitivity_end': {'value': 1.0492062921027923e-09}, 'sim_intercept_sensitivity_a': {'value': 1}, 'sim_intercept_sensitivity_loc': {'value': 0}, 'sim_intercept_sensitivity_beta': {'value': 1.1632178403532043}, 'sim_slope_sensitivity_start': {'value': 0.013891819736473769}, 'sim_slope_sensitivity_end': {'value': 0.0011322332540926934}, 'sim_slope_sensitivity_a': {'value': 1}, 'sim_slope_sensitivity_loc': {'value': 0}, 'sim_slope_sensitivity_beta': {'value': 82.51104301501427}}}\n",
      "Cost function value is 0.157725846245558, and parameters are {'background': {'feature_schema': {'mag_1007': 'mag1_1007'}, 'sim_slope_background': {'value': 449.32202916694683}, 'sim_intercept_background_start': {'value': 0.09451269804584789}, 'sim_intercept_background_end': {'value': 0.0018958600769063837}, 'sim_intercept_background_a': {'value': 1}, 'sim_intercept_background_loc': {'value': 0}, 'sim_intercept_background_beta': {'value': 99.15500137310596}}, 'sensitivity': {'feature_schema': {'mag_1007': 'mag1_1007'}, 'sim_intercept_sensitivity_start': {'value': 9.630877857201913e-08}, 'sim_intercept_sensitivity_end': {'value': 1.0492059721057293e-09}, 'sim_intercept_sensitivity_a': {'value': 1}, 'sim_intercept_sensitivity_loc': {'value': 0}, 'sim_intercept_sensitivity_beta': {'value': 1.1632178403532043}, 'sim_slope_sensitivity_start': {'value': 0.013891817061541033}, 'sim_slope_sensitivity_end': {'value': 0.0011259475826079425}, 'sim_slope_sensitivity_a': {'value': 1}, 'sim_slope_sensitivity_loc': {'value': 0}, 'sim_slope_sensitivity_beta': {'value': 82.51104301501427}}}\n",
      "Cost function value is 0.15772583778264856, and parameters are {'background': {'feature_schema': {'mag_1007': 'mag1_1007'}, 'sim_slope_background': {'value': 449.30731074236974}, 'sim_intercept_background_start': {'value': 0.09451269804584789}, 'sim_intercept_background_end': {'value': 0.0018958600769063837}, 'sim_intercept_background_a': {'value': 1}, 'sim_intercept_background_loc': {'value': 0}, 'sim_intercept_background_beta': {'value': 99.15500137310596}}, 'sensitivity': {'feature_schema': {'mag_1007': 'mag1_1007'}, 'sim_intercept_sensitivity_start': {'value': 9.630877857201913e-08}, 'sim_intercept_sensitivity_end': {'value': 1.0492059721057293e-09}, 'sim_intercept_sensitivity_a': {'value': 1}, 'sim_intercept_sensitivity_loc': {'value': 0}, 'sim_intercept_sensitivity_beta': {'value': 1.1632178403532043}, 'sim_slope_sensitivity_start': {'value': 0.013891817061541033}, 'sim_slope_sensitivity_end': {'value': 0.0011259475826079425}, 'sim_slope_sensitivity_a': {'value': 1}, 'sim_slope_sensitivity_loc': {'value': 0}, 'sim_slope_sensitivity_beta': {'value': 82.51104301501427}}}\n",
      "Cost function value is 0.15772583770311666, and parameters are {'background': {'feature_schema': {'mag_1007': 'mag1_1007'}, 'sim_slope_background': {'value': 449.30731074111634}, 'sim_intercept_background_start': {'value': 0.09451271615639531}, 'sim_intercept_background_end': {'value': 0.0018949425606075542}, 'sim_intercept_background_a': {'value': 1}, 'sim_intercept_background_loc': {'value': 0}, 'sim_intercept_background_beta': {'value': 99.15500137310596}}, 'sensitivity': {'feature_schema': {'mag_1007': 'mag1_1007'}, 'sim_intercept_sensitivity_start': {'value': 9.630877857228314e-08}, 'sim_intercept_sensitivity_end': {'value': 1.0492059712422842e-09}, 'sim_intercept_sensitivity_a': {'value': 1}, 'sim_intercept_sensitivity_loc': {'value': 0}, 'sim_intercept_sensitivity_beta': {'value': 1.1632178403532043}, 'sim_slope_sensitivity_start': {'value': 0.013891817053972267}, 'sim_slope_sensitivity_end': {'value': 0.0011259476540692204}, 'sim_slope_sensitivity_a': {'value': 1}, 'sim_slope_sensitivity_loc': {'value': 0}, 'sim_slope_sensitivity_beta': {'value': 82.51104301501427}}}\n",
      "Cost function value is 0.1577231354495119, and parameters are {'background': {'feature_schema': {'mag_1007': 'mag1_1007'}, 'sim_slope_background': {'value': 451.3876459667663}, 'sim_intercept_background_start': {'value': 0.5642857483298385}, 'sim_intercept_background_end': {'value': 0.0018949425606075542}, 'sim_intercept_background_a': {'value': 1}, 'sim_intercept_background_loc': {'value': 0}, 'sim_intercept_background_beta': {'value': 99.15500137310596}}, 'sensitivity': {'feature_schema': {'mag_1007': 'mag1_1007'}, 'sim_intercept_sensitivity_start': {'value': 9.630877857228314e-08}, 'sim_intercept_sensitivity_end': {'value': 1.0492059712422842e-09}, 'sim_intercept_sensitivity_a': {'value': 1}, 'sim_intercept_sensitivity_loc': {'value': 0}, 'sim_intercept_sensitivity_beta': {'value': 1.1632178403532043}, 'sim_slope_sensitivity_start': {'value': 0.013891817053972267}, 'sim_slope_sensitivity_end': {'value': 0.0011259476540692204}, 'sim_slope_sensitivity_a': {'value': 1}, 'sim_slope_sensitivity_loc': {'value': 0}, 'sim_slope_sensitivity_beta': {'value': 82.51104301501427}}}\n",
      "Cost function value is 0.15772220970991135, and parameters are {'background': {'feature_schema': {'mag_1007': 'mag1_1007'}, 'sim_slope_background': {'value': 451.3876459667663}, 'sim_intercept_background_start': {'value': 0.5642857483298385}, 'sim_intercept_background_end': {'value': 0.0018949425606075542}, 'sim_intercept_background_a': {'value': 1}, 'sim_intercept_background_loc': {'value': 0}, 'sim_intercept_background_beta': {'value': 99.15500137310596}}, 'sensitivity': {'feature_schema': {'mag_1007': 'mag1_1007'}, 'sim_intercept_sensitivity_start': {'value': 9.638571674698217e-08}, 'sim_intercept_sensitivity_end': {'value': 1.0492059712422842e-09}, 'sim_intercept_sensitivity_a': {'value': 1}, 'sim_intercept_sensitivity_loc': {'value': 0}, 'sim_intercept_sensitivity_beta': {'value': 1.1632178403532043}, 'sim_slope_sensitivity_start': {'value': 0.013891817053972267}, 'sim_slope_sensitivity_end': {'value': 0.0011259476540692204}, 'sim_slope_sensitivity_a': {'value': 1}, 'sim_slope_sensitivity_loc': {'value': 0}, 'sim_slope_sensitivity_beta': {'value': 82.51104301501427}}}\n",
      "Cost function value is 0.15772149110935746, and parameters are {'background': {'feature_schema': {'mag_1007': 'mag1_1007'}, 'sim_slope_background': {'value': 451.3876459667663}, 'sim_intercept_background_start': {'value': 0.5642857483298385}, 'sim_intercept_background_end': {'value': 0.0018949425606075542}, 'sim_intercept_background_a': {'value': 1}, 'sim_intercept_background_loc': {'value': 0}, 'sim_intercept_background_beta': {'value': 99.15500137310596}}, 'sensitivity': {'feature_schema': {'mag_1007': 'mag1_1007'}, 'sim_intercept_sensitivity_start': {'value': 9.638571674698217e-08}, 'sim_intercept_sensitivity_end': {'value': 1.0311194038697522e-09}, 'sim_intercept_sensitivity_a': {'value': 1}, 'sim_intercept_sensitivity_loc': {'value': 0}, 'sim_intercept_sensitivity_beta': {'value': 1.1632178403532043}, 'sim_slope_sensitivity_start': {'value': 0.013891817053972267}, 'sim_slope_sensitivity_end': {'value': 0.0011259476540692204}, 'sim_slope_sensitivity_a': {'value': 1}, 'sim_slope_sensitivity_loc': {'value': 0}, 'sim_slope_sensitivity_beta': {'value': 82.51104301501427}}}\n",
      "Cost function value is 0.15772148978280165, and parameters are {'background': {'feature_schema': {'mag_1007': 'mag1_1007'}, 'sim_slope_background': {'value': 451.38764596646934}, 'sim_intercept_background_start': {'value': 0.5642857526205346}, 'sim_intercept_background_end': {'value': 0.0018965001177349914}, 'sim_intercept_background_a': {'value': 1}, 'sim_intercept_background_loc': {'value': 0}, 'sim_intercept_background_beta': {'value': 99.15500137310596}}, 'sensitivity': {'feature_schema': {'mag_1007': 'mag1_1007'}, 'sim_intercept_sensitivity_start': {'value': 9.638571674704386e-08}, 'sim_intercept_sensitivity_end': {'value': 1.0311194036643266e-09}, 'sim_intercept_sensitivity_a': {'value': 1}, 'sim_intercept_sensitivity_loc': {'value': 0}, 'sim_intercept_sensitivity_beta': {'value': 1.1632178403532043}, 'sim_slope_sensitivity_start': {'value': 0.013891817052179097}, 'sim_slope_sensitivity_end': {'value': 0.0011259476438739756}, 'sim_slope_sensitivity_a': {'value': 1}, 'sim_slope_sensitivity_loc': {'value': 0}, 'sim_slope_sensitivity_beta': {'value': 82.51104301501427}}}\n",
      "Cost function value is 0.15771710315777737, and parameters are {'background': {'feature_schema': {'mag_1007': 'mag1_1007'}, 'sim_slope_background': {'value': 443.71828719547193}, 'sim_intercept_background_start': {'value': 0.5642857526205346}, 'sim_intercept_background_end': {'value': 0.0018965001177349914}, 'sim_intercept_background_a': {'value': 1}, 'sim_intercept_background_loc': {'value': 0}, 'sim_intercept_background_beta': {'value': 99.15500137310596}}, 'sensitivity': {'feature_schema': {'mag_1007': 'mag1_1007'}, 'sim_intercept_sensitivity_start': {'value': 9.638571674704386e-08}, 'sim_intercept_sensitivity_end': {'value': 1.0311194036643266e-09}, 'sim_intercept_sensitivity_a': {'value': 1}, 'sim_intercept_sensitivity_loc': {'value': 0}, 'sim_intercept_sensitivity_beta': {'value': 1.1632178403532043}, 'sim_slope_sensitivity_start': {'value': 0.013891817052179097}, 'sim_slope_sensitivity_end': {'value': 0.0011259476438739756}, 'sim_slope_sensitivity_a': {'value': 1}, 'sim_slope_sensitivity_loc': {'value': 0}, 'sim_slope_sensitivity_beta': {'value': 82.51104301501427}}}\n",
      "Cost function value is 0.15771610760852536, and parameters are {'background': {'feature_schema': {'mag_1007': 'mag1_1007'}, 'sim_slope_background': {'value': 443.71828719547193}, 'sim_intercept_background_start': {'value': 0.6841999329988029}, 'sim_intercept_background_end': {'value': 0.0018965001177349914}, 'sim_intercept_background_a': {'value': 1}, 'sim_intercept_background_loc': {'value': 0}, 'sim_intercept_background_beta': {'value': 99.15500137310596}}, 'sensitivity': {'feature_schema': {'mag_1007': 'mag1_1007'}, 'sim_intercept_sensitivity_start': {'value': 9.638571674704386e-08}, 'sim_intercept_sensitivity_end': {'value': 1.0311194036643266e-09}, 'sim_intercept_sensitivity_a': {'value': 1}, 'sim_intercept_sensitivity_loc': {'value': 0}, 'sim_intercept_sensitivity_beta': {'value': 1.1632178403532043}, 'sim_slope_sensitivity_start': {'value': 0.013891817052179097}, 'sim_slope_sensitivity_end': {'value': 0.0011259476438739756}, 'sim_slope_sensitivity_a': {'value': 1}, 'sim_slope_sensitivity_loc': {'value': 0}, 'sim_slope_sensitivity_beta': {'value': 82.51104301501427}}}\n",
      "Cost function value is 0.15768634044535154, and parameters are {'background': {'feature_schema': {'mag_1007': 'mag1_1007'}, 'sim_slope_background': {'value': 443.71828719547193}, 'sim_intercept_background_start': {'value': 0.6841999329988029}, 'sim_intercept_background_end': {'value': 0.0018965001177349914}, 'sim_intercept_background_a': {'value': 1}, 'sim_intercept_background_loc': {'value': 0}, 'sim_intercept_background_beta': {'value': 99.15500137310596}}, 'sensitivity': {'feature_schema': {'mag_1007': 'mag1_1007'}, 'sim_intercept_sensitivity_start': {'value': 9.620676832614395e-08}, 'sim_intercept_sensitivity_end': {'value': 1.0311194036643266e-09}, 'sim_intercept_sensitivity_a': {'value': 1}, 'sim_intercept_sensitivity_loc': {'value': 0}, 'sim_intercept_sensitivity_beta': {'value': 1.1632178403532043}, 'sim_slope_sensitivity_start': {'value': 0.0046485133240518105}, 'sim_slope_sensitivity_end': {'value': 0.0011259476438739756}, 'sim_slope_sensitivity_a': {'value': 1}, 'sim_slope_sensitivity_loc': {'value': 0}, 'sim_slope_sensitivity_beta': {'value': 82.51104301501427}}}\n",
      "Cost function value is 0.15768633908398977, and parameters are {'background': {'feature_schema': {'mag_1007': 'mag1_1007'}, 'sim_slope_background': {'value': 443.7182871923979}, 'sim_intercept_background_start': {'value': 0.6841999768039007}, 'sim_intercept_background_end': {'value': 0.0018864071232834263}, 'sim_intercept_background_a': {'value': 1}, 'sim_intercept_background_loc': {'value': 0}, 'sim_intercept_background_beta': {'value': 99.15500137310596}}, 'sensitivity': {'feature_schema': {'mag_1007': 'mag1_1007'}, 'sim_intercept_sensitivity_start': {'value': 9.62067683268031e-08}, 'sim_intercept_sensitivity_end': {'value': 1.0311194015583124e-09}, 'sim_intercept_sensitivity_a': {'value': 1}, 'sim_intercept_sensitivity_loc': {'value': 0}, 'sim_intercept_sensitivity_beta': {'value': 1.1632178403532043}, 'sim_slope_sensitivity_start': {'value': 0.004648513305725791}, 'sim_slope_sensitivity_end': {'value': 0.0011259484525243664}, 'sim_slope_sensitivity_a': {'value': 1}, 'sim_slope_sensitivity_loc': {'value': 0}, 'sim_slope_sensitivity_beta': {'value': 82.51104301501427}}}\n",
      "Cost function value is 0.15768047818137107, and parameters are {'background': {'feature_schema': {'mag_1007': 'mag1_1007'}, 'sim_slope_background': {'value': 443.7182871923979}, 'sim_intercept_background_start': {'value': 0.6527569557231458}, 'sim_intercept_background_end': {'value': 0.0018864071232834263}, 'sim_intercept_background_a': {'value': 1}, 'sim_intercept_background_loc': {'value': 0}, 'sim_intercept_background_beta': {'value': 99.15500137310596}}, 'sensitivity': {'feature_schema': {'mag_1007': 'mag1_1007'}, 'sim_intercept_sensitivity_start': {'value': 9.673553303109953e-08}, 'sim_intercept_sensitivity_end': {'value': 1.0311194015583124e-09}, 'sim_intercept_sensitivity_a': {'value': 1}, 'sim_intercept_sensitivity_loc': {'value': 0}, 'sim_intercept_sensitivity_beta': {'value': 1.1632178403532043}, 'sim_slope_sensitivity_start': {'value': 0.004648513305725791}, 'sim_slope_sensitivity_end': {'value': 0.0011259484525243664}, 'sim_slope_sensitivity_a': {'value': 1}, 'sim_slope_sensitivity_loc': {'value': 0}, 'sim_slope_sensitivity_beta': {'value': 82.51104301501427}}}\n",
      "Cost function value is 0.1576802026437867, and parameters are {'background': {'feature_schema': {'mag_1007': 'mag1_1007'}, 'sim_slope_background': {'value': 443.71828718979884}, 'sim_intercept_background_start': {'value': 0.652756993163744}, 'sim_intercept_background_end': {'value': 0.0019121293845326094}, 'sim_intercept_background_a': {'value': 1}, 'sim_intercept_background_loc': {'value': 0}, 'sim_intercept_background_beta': {'value': 99.15500137310596}}, 'sensitivity': {'feature_schema': {'mag_1007': 'mag1_1007'}, 'sim_intercept_sensitivity_start': {'value': 9.673553303163276e-08}, 'sim_intercept_sensitivity_end': {'value': 1.0311193997458325e-09}, 'sim_intercept_sensitivity_a': {'value': 1}, 'sim_intercept_sensitivity_loc': {'value': 0}, 'sim_intercept_sensitivity_beta': {'value': 1.1632178403532043}, 'sim_slope_sensitivity_start': {'value': 0.004648513290072418}, 'sim_slope_sensitivity_end': {'value': 0.0011259468009385592}, 'sim_slope_sensitivity_a': {'value': 1}, 'sim_slope_sensitivity_loc': {'value': 0}, 'sim_slope_sensitivity_beta': {'value': 82.51104301501427}}}\n",
      "Cost function value is 0.15767582132829586, and parameters are {'background': {'feature_schema': {'mag_1007': 'mag1_1007'}, 'sim_slope_background': {'value': 230.19710800726898}, 'sim_intercept_background_start': {'value': 0.17092278342577824}, 'sim_intercept_background_end': {'value': 0.0019121293845326094}, 'sim_intercept_background_a': {'value': 1}, 'sim_intercept_background_loc': {'value': 0}, 'sim_intercept_background_beta': {'value': 99.15500137310596}}, 'sensitivity': {'feature_schema': {'mag_1007': 'mag1_1007'}, 'sim_intercept_sensitivity_start': {'value': 9.526183252564597e-08}, 'sim_intercept_sensitivity_end': {'value': 1.9944811037897125e-09}, 'sim_intercept_sensitivity_a': {'value': 1}, 'sim_intercept_sensitivity_loc': {'value': 0}, 'sim_intercept_sensitivity_beta': {'value': 1.1632178403532043}, 'sim_slope_sensitivity_start': {'value': 0.007912134096977275}, 'sim_slope_sensitivity_end': {'value': 0.0011293394140177112}, 'sim_slope_sensitivity_a': {'value': 1}, 'sim_slope_sensitivity_loc': {'value': 0}, 'sim_slope_sensitivity_beta': {'value': 82.51104301501427}}}\n",
      "Cost function value is 0.15767437496528952, and parameters are {'background': {'feature_schema': {'mag_1007': 'mag1_1007'}, 'sim_slope_background': {'value': 230.19710800726898}, 'sim_intercept_background_start': {'value': 0.34027685822745773}, 'sim_intercept_background_end': {'value': 0.0019121293845326094}, 'sim_intercept_background_a': {'value': 1}, 'sim_intercept_background_loc': {'value': 0}, 'sim_intercept_background_beta': {'value': 99.15500137310596}}, 'sensitivity': {'feature_schema': {'mag_1007': 'mag1_1007'}, 'sim_intercept_sensitivity_start': {'value': 9.526183252564597e-08}, 'sim_intercept_sensitivity_end': {'value': 1.9944811037897125e-09}, 'sim_intercept_sensitivity_a': {'value': 1}, 'sim_intercept_sensitivity_loc': {'value': 0}, 'sim_intercept_sensitivity_beta': {'value': 1.1632178403532043}, 'sim_slope_sensitivity_start': {'value': 0.007912134096977275}, 'sim_slope_sensitivity_end': {'value': 0.0011293394140177112}, 'sim_slope_sensitivity_a': {'value': 1}, 'sim_slope_sensitivity_loc': {'value': 0}, 'sim_slope_sensitivity_beta': {'value': 82.51104301501427}}}\n",
      "Cost function value is 0.15762813367086115, and parameters are {'background': {'feature_schema': {'mag_1007': 'mag1_1007'}, 'sim_slope_background': {'value': 230.19710752927853}, 'sim_intercept_background_start': {'value': 0.34028442070811116}, 'sim_intercept_background_end': {'value': 0.0019260889514173482}, 'sim_intercept_background_a': {'value': 1}, 'sim_intercept_background_loc': {'value': 0}, 'sim_intercept_background_beta': {'value': 99.15500137310596}}, 'sensitivity': {'feature_schema': {'mag_1007': 'mag1_1007'}, 'sim_intercept_sensitivity_start': {'value': 9.526183264261895e-08}, 'sim_intercept_sensitivity_end': {'value': 1.9944807254004e-09}, 'sim_intercept_sensitivity_a': {'value': 1}, 'sim_intercept_sensitivity_loc': {'value': 0}, 'sim_intercept_sensitivity_beta': {'value': 1.1632178403532043}, 'sim_slope_sensitivity_start': {'value': 0.007912130933188702}, 'sim_slope_sensitivity_end': {'value': 0.0011239242762621272}, 'sim_slope_sensitivity_a': {'value': 1}, 'sim_slope_sensitivity_loc': {'value': 0}, 'sim_slope_sensitivity_beta': {'value': 82.51104301501427}}}\n",
      "Cost function value is 0.15762074310821125, and parameters are {'background': {'feature_schema': {'mag_1007': 'mag1_1007'}, 'sim_slope_background': {'value': 83.76779296170571}, 'sim_intercept_background_start': {'value': 0.9671922875522567}, 'sim_intercept_background_end': {'value': 0.0019260889514173482}, 'sim_intercept_background_a': {'value': 1}, 'sim_intercept_background_loc': {'value': 0}, 'sim_intercept_background_beta': {'value': 99.15500137310596}}, 'sensitivity': {'feature_schema': {'mag_1007': 'mag1_1007'}, 'sim_intercept_sensitivity_start': {'value': 9.203889391848825e-08}, 'sim_intercept_sensitivity_end': {'value': 9.332536588189555e-10}, 'sim_intercept_sensitivity_a': {'value': 1}, 'sim_intercept_sensitivity_loc': {'value': 0}, 'sim_intercept_sensitivity_beta': {'value': 1.1632178403532043}, 'sim_slope_sensitivity_start': {'value': 0.029787937132265917}, 'sim_slope_sensitivity_end': {'value': 0.0011226886898556363}, 'sim_slope_sensitivity_a': {'value': 1}, 'sim_slope_sensitivity_loc': {'value': 0}, 'sim_slope_sensitivity_beta': {'value': 82.51104301501427}}}\n",
      "Cost function value is 0.15762006605023568, and parameters are {'background': {'feature_schema': {'mag_1007': 'mag1_1007'}, 'sim_slope_background': {'value': 83.76779296170571}, 'sim_intercept_background_start': {'value': 0.9671922875522567}, 'sim_intercept_background_end': {'value': 0.0019260889514173482}, 'sim_intercept_background_a': {'value': 1}, 'sim_intercept_background_loc': {'value': 0}, 'sim_intercept_background_beta': {'value': 99.15500137310596}}, 'sensitivity': {'feature_schema': {'mag_1007': 'mag1_1007'}, 'sim_intercept_sensitivity_start': {'value': 9.203889391848825e-08}, 'sim_intercept_sensitivity_end': {'value': 9.145747475473968e-10}, 'sim_intercept_sensitivity_a': {'value': 1}, 'sim_intercept_sensitivity_loc': {'value': 0}, 'sim_intercept_sensitivity_beta': {'value': 1.1632178403532043}, 'sim_slope_sensitivity_start': {'value': 0.029787937132265917}, 'sim_slope_sensitivity_end': {'value': 0.0011226886898556363}, 'sim_slope_sensitivity_a': {'value': 1}, 'sim_slope_sensitivity_loc': {'value': 0}, 'sim_slope_sensitivity_beta': {'value': 82.51104301501427}}}\n",
      "Cost function value is 0.15761989969101547, and parameters are {'background': {'feature_schema': {'mag_1007': 'mag1_1007'}, 'sim_slope_background': {'value': 83.76779296170571}, 'sim_intercept_background_start': {'value': 0.9671922875522567}, 'sim_intercept_background_end': {'value': 0.0019260889514173482}, 'sim_intercept_background_a': {'value': 1}, 'sim_intercept_background_loc': {'value': 0}, 'sim_intercept_background_beta': {'value': 99.15500137310596}}, 'sensitivity': {'feature_schema': {'mag_1007': 'mag1_1007'}, 'sim_intercept_sensitivity_start': {'value': 9.203889391848825e-08}, 'sim_intercept_sensitivity_end': {'value': 9.145747475473968e-10}, 'sim_intercept_sensitivity_a': {'value': 1}, 'sim_intercept_sensitivity_loc': {'value': 0}, 'sim_intercept_sensitivity_beta': {'value': 1.1632178403532043}, 'sim_slope_sensitivity_start': {'value': 0.02973982710090406}, 'sim_slope_sensitivity_end': {'value': 0.0011226886898556363}, 'sim_slope_sensitivity_a': {'value': 1}, 'sim_slope_sensitivity_loc': {'value': 0}, 'sim_slope_sensitivity_beta': {'value': 82.51104301501427}}}\n",
      "Cost function value is 0.15761403183679534, and parameters are {'background': {'feature_schema': {'mag_1007': 'mag1_1007'}, 'sim_slope_background': {'value': 83.76779283090472}, 'sim_intercept_background_start': {'value': 0.9671941356577617}, 'sim_intercept_background_end': {'value': 0.0017811178811573617}, 'sim_intercept_background_a': {'value': 1}, 'sim_intercept_background_loc': {'value': 0}, 'sim_intercept_background_beta': {'value': 99.15500137310596}}, 'sensitivity': {'feature_schema': {'mag_1007': 'mag1_1007'}, 'sim_intercept_sensitivity_start': {'value': 9.203889395010386e-08}, 'sim_intercept_sensitivity_end': {'value': 9.145746629937225e-10}, 'sim_intercept_sensitivity_a': {'value': 1}, 'sim_intercept_sensitivity_loc': {'value': 0}, 'sim_intercept_sensitivity_beta': {'value': 1.1632178403532043}, 'sim_slope_sensitivity_start': {'value': 0.029739826327279357}, 'sim_slope_sensitivity_end': {'value': 0.0011231500149486272}, 'sim_slope_sensitivity_a': {'value': 1}, 'sim_slope_sensitivity_loc': {'value': 0}, 'sim_slope_sensitivity_beta': {'value': 82.51104301501427}}}\n",
      "Cost function value is 0.15755267833917216, and parameters are {'background': {'feature_schema': {'mag_1007': 'mag1_1007'}, 'sim_slope_background': {'value': 89.59410590672633}, 'sim_intercept_background_start': {'value': 0.5162014722273914}, 'sim_intercept_background_end': {'value': 0.0017811178811573617}, 'sim_intercept_background_a': {'value': 1}, 'sim_intercept_background_loc': {'value': 0}, 'sim_intercept_background_beta': {'value': 99.15500137310596}}, 'sensitivity': {'feature_schema': {'mag_1007': 'mag1_1007'}, 'sim_intercept_sensitivity_start': {'value': 9.19024541573672e-08}, 'sim_intercept_sensitivity_end': {'value': 9.221197446236375e-10}, 'sim_intercept_sensitivity_a': {'value': 1}, 'sim_intercept_sensitivity_loc': {'value': 0}, 'sim_intercept_sensitivity_beta': {'value': 1.1632178403532043}, 'sim_slope_sensitivity_start': {'value': 0.009376045759349898}, 'sim_slope_sensitivity_end': {'value': 0.0011231500149486272}, 'sim_slope_sensitivity_a': {'value': 1}, 'sim_slope_sensitivity_loc': {'value': 0}, 'sim_slope_sensitivity_beta': {'value': 82.51104301501427}}}\n",
      "Cost function value is 0.15755264208731054, and parameters are {'background': {'feature_schema': {'mag_1007': 'mag1_1007'}, 'sim_slope_background': {'value': 89.594105739302}, 'sim_intercept_background_start': {'value': 0.5162039075199134}, 'sim_intercept_background_end': {'value': 0.0017744370376118134}, 'sim_intercept_background_a': {'value': 1}, 'sim_intercept_background_loc': {'value': 0}, 'sim_intercept_background_beta': {'value': 99.15500137310596}}, 'sensitivity': {'feature_schema': {'mag_1007': 'mag1_1007'}, 'sim_intercept_sensitivity_start': {'value': 9.19024541975238e-08}, 'sim_intercept_sensitivity_end': {'value': 9.221196268642972e-10}, 'sim_intercept_sensitivity_a': {'value': 1}, 'sim_intercept_sensitivity_loc': {'value': 0}, 'sim_intercept_sensitivity_beta': {'value': 1.1632178403532043}, 'sim_slope_sensitivity_start': {'value': 0.00937604473077924}, 'sim_slope_sensitivity_end': {'value': 0.001123220284462465}, 'sim_slope_sensitivity_a': {'value': 1}, 'sim_slope_sensitivity_loc': {'value': 0}, 'sim_slope_sensitivity_beta': {'value': 82.51104301501427}}}\n",
      "Cost function value is 0.15755212826064002, and parameters are {'background': {'feature_schema': {'mag_1007': 'mag1_1007'}, 'sim_slope_background': {'value': 88.67774253526295}, 'sim_intercept_background_start': {'value': 0.5162039075199134}, 'sim_intercept_background_end': {'value': 0.0017744370376118134}, 'sim_intercept_background_a': {'value': 1}, 'sim_intercept_background_loc': {'value': 0}, 'sim_intercept_background_beta': {'value': 99.15500137310596}}, 'sensitivity': {'feature_schema': {'mag_1007': 'mag1_1007'}, 'sim_intercept_sensitivity_start': {'value': 9.19024541975238e-08}, 'sim_intercept_sensitivity_end': {'value': 9.221196268642972e-10}, 'sim_intercept_sensitivity_a': {'value': 1}, 'sim_intercept_sensitivity_loc': {'value': 0}, 'sim_intercept_sensitivity_beta': {'value': 1.1632178403532043}, 'sim_slope_sensitivity_start': {'value': 0.00937604473077924}, 'sim_slope_sensitivity_end': {'value': 0.001123220284462465}, 'sim_slope_sensitivity_a': {'value': 1}, 'sim_slope_sensitivity_loc': {'value': 0}, 'sim_slope_sensitivity_beta': {'value': 82.51104301501427}}}\n",
      "Cost function value is 0.15754113859318805, and parameters are {'background': {'feature_schema': {'mag_1007': 'mag1_1007'}, 'sim_slope_background': {'value': 88.67774253526295}, 'sim_intercept_background_start': {'value': 0.46574884509031794}, 'sim_intercept_background_end': {'value': 0.0017744370376118134}, 'sim_intercept_background_a': {'value': 1}, 'sim_intercept_background_loc': {'value': 0}, 'sim_intercept_background_beta': {'value': 99.15500137310596}}, 'sensitivity': {'feature_schema': {'mag_1007': 'mag1_1007'}, 'sim_intercept_sensitivity_start': {'value': 9.279461680552563e-08}, 'sim_intercept_sensitivity_end': {'value': 9.221196268642972e-10}, 'sim_intercept_sensitivity_a': {'value': 1}, 'sim_intercept_sensitivity_loc': {'value': 0}, 'sim_intercept_sensitivity_beta': {'value': 1.1632178403532043}, 'sim_slope_sensitivity_start': {'value': 0.00937604473077924}, 'sim_slope_sensitivity_end': {'value': 0.001123220284462465}, 'sim_slope_sensitivity_a': {'value': 1}, 'sim_slope_sensitivity_loc': {'value': 0}, 'sim_slope_sensitivity_beta': {'value': 82.51104301501427}}}\n",
      "Cost function value is 0.1575406534650075, and parameters are {'background': {'feature_schema': {'mag_1007': 'mag1_1007'}, 'sim_slope_background': {'value': 88.67774251224577}, 'sim_intercept_background_start': {'value': 0.465749179087068}, 'sim_intercept_background_end': {'value': 0.0018206818152003493}, 'sim_intercept_background_a': {'value': 1}, 'sim_intercept_background_loc': {'value': 0}, 'sim_intercept_background_beta': {'value': 99.15500137310596}}, 'sensitivity': {'feature_schema': {'mag_1007': 'mag1_1007'}, 'sim_intercept_sensitivity_start': {'value': 9.279461681086357e-08}, 'sim_intercept_sensitivity_end': {'value': 9.221196107131508e-10}, 'sim_intercept_sensitivity_a': {'value': 1}, 'sim_intercept_sensitivity_loc': {'value': 0}, 'sim_intercept_sensitivity_beta': {'value': 1.1632178403532043}, 'sim_slope_sensitivity_start': {'value': 0.00937604458974654}, 'sim_slope_sensitivity_end': {'value': 0.001123208743538074}, 'sim_slope_sensitivity_a': {'value': 1}, 'sim_slope_sensitivity_loc': {'value': 0}, 'sim_slope_sensitivity_beta': {'value': 82.51104301501427}}}\n",
      "Cost function value is 0.1575381917082163, and parameters are {'background': {'feature_schema': {'mag_1007': 'mag1_1007'}, 'sim_slope_background': {'value': 88.67893791857932}, 'sim_intercept_background_start': {'value': 0.7661783599616199}, 'sim_intercept_background_end': {'value': 0.0018206818152003493}, 'sim_intercept_background_a': {'value': 1}, 'sim_intercept_background_loc': {'value': 0}, 'sim_intercept_background_beta': {'value': 99.15500137310596}}, 'sensitivity': {'feature_schema': {'mag_1007': 'mag1_1007'}, 'sim_intercept_sensitivity_start': {'value': 9.279461681086357e-08}, 'sim_intercept_sensitivity_end': {'value': 9.221196107131508e-10}, 'sim_intercept_sensitivity_a': {'value': 1}, 'sim_intercept_sensitivity_loc': {'value': 0}, 'sim_intercept_sensitivity_beta': {'value': 1.1632178403532043}, 'sim_slope_sensitivity_start': {'value': 0.00937604458974654}, 'sim_slope_sensitivity_end': {'value': 0.001123208743538074}, 'sim_slope_sensitivity_a': {'value': 1}, 'sim_slope_sensitivity_loc': {'value': 0}, 'sim_slope_sensitivity_beta': {'value': 82.51104301501427}}}\n",
      "Cost function value is 0.15753818522465005, and parameters are {'background': {'feature_schema': {'mag_1007': 'mag1_1007'}, 'sim_slope_background': {'value': 88.67893775043788}, 'sim_intercept_background_start': {'value': 0.7661808180780885}, 'sim_intercept_background_end': {'value': 0.0018120504321970663}, 'sim_intercept_background_a': {'value': 1}, 'sim_intercept_background_loc': {'value': 0}, 'sim_intercept_background_beta': {'value': 99.15500137310596}}, 'sensitivity': {'feature_schema': {'mag_1007': 'mag1_1007'}, 'sim_intercept_sensitivity_start': {'value': 9.27946168504858e-08}, 'sim_intercept_sensitivity_end': {'value': 9.221194921738068e-10}, 'sim_intercept_sensitivity_a': {'value': 1}, 'sim_intercept_sensitivity_loc': {'value': 0}, 'sim_intercept_sensitivity_beta': {'value': 1.1632178403532043}, 'sim_slope_sensitivity_start': {'value': 0.0093760435533859}, 'sim_slope_sensitivity_end': {'value': 0.0011231625045943028}, 'sim_slope_sensitivity_a': {'value': 1}, 'sim_slope_sensitivity_loc': {'value': 0}, 'sim_slope_sensitivity_beta': {'value': 82.51104301501427}}}\n",
      "Cost function value is 0.15753803501878508, and parameters are {'background': {'feature_schema': {'mag_1007': 'mag1_1007'}, 'sim_slope_background': {'value': 88.41239682900778}, 'sim_intercept_background_start': {'value': 0.7661808180780885}, 'sim_intercept_background_end': {'value': 0.0018120504321970663}, 'sim_intercept_background_a': {'value': 1}, 'sim_intercept_background_loc': {'value': 0}, 'sim_intercept_background_beta': {'value': 99.15500137310596}}, 'sensitivity': {'feature_schema': {'mag_1007': 'mag1_1007'}, 'sim_intercept_sensitivity_start': {'value': 9.27946168504858e-08}, 'sim_intercept_sensitivity_end': {'value': 9.221194921738068e-10}, 'sim_intercept_sensitivity_a': {'value': 1}, 'sim_intercept_sensitivity_loc': {'value': 0}, 'sim_intercept_sensitivity_beta': {'value': 1.1632178403532043}, 'sim_slope_sensitivity_start': {'value': 0.0093760435533859}, 'sim_slope_sensitivity_end': {'value': 0.0011231625045943028}, 'sim_slope_sensitivity_a': {'value': 1}, 'sim_slope_sensitivity_loc': {'value': 0}, 'sim_slope_sensitivity_beta': {'value': 82.51104301501427}}}\n",
      "Cost function value is 0.15753800525727568, and parameters are {'background': {'feature_schema': {'mag_1007': 'mag1_1007'}, 'sim_slope_background': {'value': 88.41239682900778}, 'sim_intercept_background_start': {'value': 0.7520436147154175}, 'sim_intercept_background_end': {'value': 0.0018120504321970663}, 'sim_intercept_background_a': {'value': 1}, 'sim_intercept_background_loc': {'value': 0}, 'sim_intercept_background_beta': {'value': 99.15500137310596}}, 'sensitivity': {'feature_schema': {'mag_1007': 'mag1_1007'}, 'sim_intercept_sensitivity_start': {'value': 9.279818928088603e-08}, 'sim_intercept_sensitivity_end': {'value': 9.221194921738068e-10}, 'sim_intercept_sensitivity_a': {'value': 1}, 'sim_intercept_sensitivity_loc': {'value': 0}, 'sim_intercept_sensitivity_beta': {'value': 1.1632178403532043}, 'sim_slope_sensitivity_start': {'value': 0.009347541953338796}, 'sim_slope_sensitivity_end': {'value': 0.0011231625045943028}, 'sim_slope_sensitivity_a': {'value': 1}, 'sim_slope_sensitivity_loc': {'value': 0}, 'sim_slope_sensitivity_beta': {'value': 82.51104301501427}}}\n",
      "Cost function value is 0.1575380052313798, and parameters are {'background': {'feature_schema': {'mag_1007': 'mag1_1007'}, 'sim_slope_background': {'value': 88.41239682877554}, 'sim_intercept_background_start': {'value': 0.7520436180936599}, 'sim_intercept_background_end': {'value': 0.0018119500458867429}, 'sim_intercept_background_a': {'value': 1}, 'sim_intercept_background_loc': {'value': 0}, 'sim_intercept_background_beta': {'value': 99.15500137310596}}, 'sensitivity': {'feature_schema': {'mag_1007': 'mag1_1007'}, 'sim_intercept_sensitivity_start': {'value': 9.279818928094025e-08}, 'sim_intercept_sensitivity_end': {'value': 9.221194920109007e-10}, 'sim_intercept_sensitivity_a': {'value': 1}, 'sim_intercept_sensitivity_loc': {'value': 0}, 'sim_intercept_sensitivity_beta': {'value': 1.1632178403532043}, 'sim_slope_sensitivity_start': {'value': 0.009347541951914512}, 'sim_slope_sensitivity_end': {'value': 0.0011231625346827402}, 'sim_slope_sensitivity_a': {'value': 1}, 'sim_slope_sensitivity_loc': {'value': 0}, 'sim_slope_sensitivity_beta': {'value': 82.51104301501427}}}\n",
      "Cost function value is 0.15753294342052718, and parameters are {'background': {'feature_schema': {'mag_1007': 'mag1_1007'}, 'sim_slope_background': {'value': 88.33813777052274}, 'sim_intercept_background_start': {'value': 0.227532040032371}, 'sim_intercept_background_end': {'value': 0.0018119500458867429}, 'sim_intercept_background_a': {'value': 1}, 'sim_intercept_background_loc': {'value': 0}, 'sim_intercept_background_beta': {'value': 99.15500137310596}}, 'sensitivity': {'feature_schema': {'mag_1007': 'mag1_1007'}, 'sim_intercept_sensitivity_start': {'value': 9.371079279899387e-08}, 'sim_intercept_sensitivity_end': {'value': 9.720671674746428e-10}, 'sim_intercept_sensitivity_a': {'value': 1}, 'sim_intercept_sensitivity_loc': {'value': 0}, 'sim_intercept_sensitivity_beta': {'value': 1.1632178403532043}, 'sim_slope_sensitivity_start': {'value': 0.009347541951914512}, 'sim_slope_sensitivity_end': {'value': 0.0011231625346827402}, 'sim_slope_sensitivity_a': {'value': 1}, 'sim_slope_sensitivity_loc': {'value': 0}, 'sim_slope_sensitivity_beta': {'value': 82.51104301501427}}}\n",
      "Cost function value is 0.15753253385983507, and parameters are {'background': {'feature_schema': {'mag_1007': 'mag1_1007'}, 'sim_slope_background': {'value': 88.33813776315567}, 'sim_intercept_background_start': {'value': 0.22753214833201846}, 'sim_intercept_background_end': {'value': 0.001856825534786533}, 'sim_intercept_background_a': {'value': 1}, 'sim_intercept_background_loc': {'value': 0}, 'sim_intercept_background_beta': {'value': 99.15500137310596}}, 'sensitivity': {'feature_schema': {'mag_1007': 'mag1_1007'}, 'sim_intercept_sensitivity_start': {'value': 9.37107928006365e-08}, 'sim_intercept_sensitivity_end': {'value': 9.720671622756153e-10}, 'sim_intercept_sensitivity_a': {'value': 1}, 'sim_intercept_sensitivity_loc': {'value': 0}, 'sim_intercept_sensitivity_beta': {'value': 1.1632178403532043}, 'sim_slope_sensitivity_start': {'value': 0.009347541906170214}, 'sim_slope_sensitivity_end': {'value': 0.001123160260316698}, 'sim_slope_sensitivity_a': {'value': 1}, 'sim_slope_sensitivity_loc': {'value': 0}, 'sim_slope_sensitivity_beta': {'value': 82.51104301501427}}}\n",
      "Cost function value is 0.15753245026001902, and parameters are {'background': {'feature_schema': {'mag_1007': 'mag1_1007'}, 'sim_slope_background': {'value': 88.33813776315567}, 'sim_intercept_background_start': {'value': 0.23770026105326078}, 'sim_intercept_background_end': {'value': 0.001856825534786533}, 'sim_intercept_background_a': {'value': 1}, 'sim_intercept_background_loc': {'value': 0}, 'sim_intercept_background_beta': {'value': 99.15500137310596}}, 'sensitivity': {'feature_schema': {'mag_1007': 'mag1_1007'}, 'sim_intercept_sensitivity_start': {'value': 9.37107928006365e-08}, 'sim_intercept_sensitivity_end': {'value': 9.720671622756153e-10}, 'sim_intercept_sensitivity_a': {'value': 1}, 'sim_intercept_sensitivity_loc': {'value': 0}, 'sim_intercept_sensitivity_beta': {'value': 1.1632178403532043}, 'sim_slope_sensitivity_start': {'value': 0.009347541906170214}, 'sim_slope_sensitivity_end': {'value': 0.001123160260316698}, 'sim_slope_sensitivity_a': {'value': 1}, 'sim_slope_sensitivity_loc': {'value': 0}, 'sim_slope_sensitivity_beta': {'value': 82.51104301501427}}}\n",
      "Cost function value is 0.15753245025138116, and parameters are {'background': {'feature_schema': {'mag_1007': 'mag1_1007'}, 'sim_slope_background': {'value': 88.33813776289472}, 'sim_intercept_background_start': {'value': 0.2377002648422343}, 'sim_intercept_background_end': {'value': 0.001856877173302292}, 'sim_intercept_background_a': {'value': 1}, 'sim_intercept_background_loc': {'value': 0}, 'sim_intercept_background_beta': {'value': 99.15500137310596}}, 'sensitivity': {'feature_schema': {'mag_1007': 'mag1_1007'}, 'sim_intercept_sensitivity_start': {'value': 9.371079280069445e-08}, 'sim_intercept_sensitivity_end': {'value': 9.720671620948652e-10}, 'sim_intercept_sensitivity_a': {'value': 1}, 'sim_intercept_sensitivity_loc': {'value': 0}, 'sim_intercept_sensitivity_beta': {'value': 1.1632178403532043}, 'sim_slope_sensitivity_start': {'value': 0.009347541904569942}, 'sim_slope_sensitivity_end': {'value': 0.0011231602962876424}, 'sim_slope_sensitivity_a': {'value': 1}, 'sim_slope_sensitivity_loc': {'value': 0}, 'sim_slope_sensitivity_beta': {'value': 82.51104301501427}}}\n",
      "Cost function value is 0.15753243013771653, and parameters are {'background': {'feature_schema': {'mag_1007': 'mag1_1007'}, 'sim_slope_background': {'value': 88.3025093999604}, 'sim_intercept_background_start': {'value': 0.2377002648422343}, 'sim_intercept_background_end': {'value': 0.001856877173302292}, 'sim_intercept_background_a': {'value': 1}, 'sim_intercept_background_loc': {'value': 0}, 'sim_intercept_background_beta': {'value': 99.15500137310596}}, 'sensitivity': {'feature_schema': {'mag_1007': 'mag1_1007'}, 'sim_intercept_sensitivity_start': {'value': 9.371079280069445e-08}, 'sim_intercept_sensitivity_end': {'value': 9.720671620948652e-10}, 'sim_intercept_sensitivity_a': {'value': 1}, 'sim_intercept_sensitivity_loc': {'value': 0}, 'sim_intercept_sensitivity_beta': {'value': 1.1632178403532043}, 'sim_slope_sensitivity_start': {'value': 0.009347541904569942}, 'sim_slope_sensitivity_end': {'value': 0.0011231602962876424}, 'sim_slope_sensitivity_a': {'value': 1}, 'sim_slope_sensitivity_loc': {'value': 0}, 'sim_slope_sensitivity_beta': {'value': 82.51104301501427}}}\n",
      "Cost function value is 0.15753243013572976, and parameters are {'background': {'feature_schema': {'mag_1007': 'mag1_1007'}, 'sim_slope_background': {'value': 88.30250939990069}, 'sim_intercept_background_start': {'value': 0.23770026571417108}, 'sim_intercept_background_end': {'value': 0.001856889048587072}, 'sim_intercept_background_a': {'value': 1}, 'sim_intercept_background_loc': {'value': 0}, 'sim_intercept_background_beta': {'value': 99.15500137310596}}, 'sensitivity': {'feature_schema': {'mag_1007': 'mag1_1007'}, 'sim_intercept_sensitivity_start': {'value': 9.371079280070775e-08}, 'sim_intercept_sensitivity_end': {'value': 9.720671620532688e-10}, 'sim_intercept_sensitivity_a': {'value': 1}, 'sim_intercept_sensitivity_loc': {'value': 0}, 'sim_intercept_sensitivity_beta': {'value': 1.1632178403532043}, 'sim_slope_sensitivity_start': {'value': 0.009347541904202223}, 'sim_slope_sensitivity_end': {'value': 0.0011231603045619226}, 'sim_slope_sensitivity_a': {'value': 1}, 'sim_slope_sensitivity_loc': {'value': 0}, 'sim_slope_sensitivity_beta': {'value': 82.51104301501427}}}\n",
      "Cost function value is 0.15751868039265882, and parameters are {'background': {'feature_schema': {'mag_1007': 'mag1_1007'}, 'sim_slope_background': {'value': 63.7553060681239}, 'sim_intercept_background_start': {'value': 0.23770026571417108}, 'sim_intercept_background_end': {'value': 0.001856889048587072}, 'sim_intercept_background_a': {'value': 1}, 'sim_intercept_background_loc': {'value': 0}, 'sim_intercept_background_beta': {'value': 99.15500137310596}}, 'sensitivity': {'feature_schema': {'mag_1007': 'mag1_1007'}, 'sim_intercept_sensitivity_start': {'value': 9.371079280070775e-08}, 'sim_intercept_sensitivity_end': {'value': 9.720671620532688e-10}, 'sim_intercept_sensitivity_a': {'value': 1}, 'sim_intercept_sensitivity_loc': {'value': 0}, 'sim_intercept_sensitivity_beta': {'value': 1.1632178403532043}, 'sim_slope_sensitivity_start': {'value': 0.009347541904202223}, 'sim_slope_sensitivity_end': {'value': 0.0011231603045619226}, 'sim_slope_sensitivity_a': {'value': 1}, 'sim_slope_sensitivity_loc': {'value': 0}, 'sim_slope_sensitivity_beta': {'value': 82.51104301501427}}}\n",
      "Cost function value is 0.15748922764362688, and parameters are {'background': {'feature_schema': {'mag_1007': 'mag1_1007'}, 'sim_slope_background': {'value': 63.7553060681239}, 'sim_intercept_background_start': {'value': 0.20647607929118114}, 'sim_intercept_background_end': {'value': 0.001856889048587072}, 'sim_intercept_background_a': {'value': 1}, 'sim_intercept_background_loc': {'value': 0}, 'sim_intercept_background_beta': {'value': 99.15500137310596}}, 'sensitivity': {'feature_schema': {'mag_1007': 'mag1_1007'}, 'sim_intercept_sensitivity_start': {'value': 9.371079280070775e-08}, 'sim_intercept_sensitivity_end': {'value': 9.71384357246359e-10}, 'sim_intercept_sensitivity_a': {'value': 1}, 'sim_intercept_sensitivity_loc': {'value': 0}, 'sim_intercept_sensitivity_beta': {'value': 1.1632178403532043}, 'sim_slope_sensitivity_start': {'value': 0.0007855151684078749}, 'sim_slope_sensitivity_end': {'value': 0.0011231603045619226}, 'sim_slope_sensitivity_a': {'value': 1}, 'sim_slope_sensitivity_loc': {'value': 0}, 'sim_slope_sensitivity_beta': {'value': 82.51104301501427}}}\n",
      "Cost function value is 0.15748918277090265, and parameters are {'background': {'feature_schema': {'mag_1007': 'mag1_1007'}, 'sim_slope_background': {'value': 63.75530606249017}, 'sim_intercept_background_start': {'value': 0.20647616155675733}, 'sim_intercept_background_end': {'value': 0.0018647355092614442}, 'sim_intercept_background_a': {'value': 1}, 'sim_intercept_background_loc': {'value': 0}, 'sim_intercept_background_beta': {'value': 99.15500137310596}}, 'sensitivity': {'feature_schema': {'mag_1007': 'mag1_1007'}, 'sim_intercept_sensitivity_start': {'value': 9.371079280198086e-08}, 'sim_intercept_sensitivity_end': {'value': 9.713843532665167e-10}, 'sim_intercept_sensitivity_a': {'value': 1}, 'sim_intercept_sensitivity_loc': {'value': 0}, 'sim_intercept_sensitivity_beta': {'value': 1.1632178403532043}, 'sim_slope_sensitivity_start': {'value': 0.0007855151335139219}, 'sim_slope_sensitivity_end': {'value': 0.0011231535674701676}, 'sim_slope_sensitivity_a': {'value': 1}, 'sim_slope_sensitivity_loc': {'value': 0}, 'sim_slope_sensitivity_beta': {'value': 82.51104301501427}}}\n",
      "Cost function value is 0.15748912185605438, and parameters are {'background': {'feature_schema': {'mag_1007': 'mag1_1007'}, 'sim_slope_background': {'value': 63.645968452474335}, 'sim_intercept_background_start': {'value': 0.20647616155675733}, 'sim_intercept_background_end': {'value': 0.0018647355092614442}, 'sim_intercept_background_a': {'value': 1}, 'sim_intercept_background_loc': {'value': 0}, 'sim_intercept_background_beta': {'value': 99.15500137310596}}, 'sensitivity': {'feature_schema': {'mag_1007': 'mag1_1007'}, 'sim_intercept_sensitivity_start': {'value': 9.371079280198086e-08}, 'sim_intercept_sensitivity_end': {'value': 9.713843532665167e-10}, 'sim_intercept_sensitivity_a': {'value': 1}, 'sim_intercept_sensitivity_loc': {'value': 0}, 'sim_intercept_sensitivity_beta': {'value': 1.1632178403532043}, 'sim_slope_sensitivity_start': {'value': 0.0007855151335139219}, 'sim_slope_sensitivity_end': {'value': 0.0011231535674701676}, 'sim_slope_sensitivity_a': {'value': 1}, 'sim_slope_sensitivity_loc': {'value': 0}, 'sim_slope_sensitivity_beta': {'value': 82.51104301501427}}}\n",
      "Cost function value is 0.15748838612255378, and parameters are {'background': {'feature_schema': {'mag_1007': 'mag1_1007'}, 'sim_slope_background': {'value': 63.645968452474335}, 'sim_intercept_background_start': {'value': 0.29656152556663756}, 'sim_intercept_background_end': {'value': 0.0018647355092614442}, 'sim_intercept_background_a': {'value': 1}, 'sim_intercept_background_loc': {'value': 0}, 'sim_intercept_background_beta': {'value': 99.15500137310596}}, 'sensitivity': {'feature_schema': {'mag_1007': 'mag1_1007'}, 'sim_intercept_sensitivity_start': {'value': 9.371079280198086e-08}, 'sim_intercept_sensitivity_end': {'value': 9.713843532665167e-10}, 'sim_intercept_sensitivity_a': {'value': 1}, 'sim_intercept_sensitivity_loc': {'value': 0}, 'sim_intercept_sensitivity_beta': {'value': 1.1632178403532043}, 'sim_slope_sensitivity_start': {'value': 0.0007855151335139219}, 'sim_slope_sensitivity_end': {'value': 0.0011231535674701676}, 'sim_slope_sensitivity_a': {'value': 1}, 'sim_slope_sensitivity_loc': {'value': 0}, 'sim_slope_sensitivity_beta': {'value': 82.51104301501427}}}\n",
      "Cost function value is 0.15748838607337004, and parameters are {'background': {'feature_schema': {'mag_1007': 'mag1_1007'}, 'sim_slope_background': {'value': 63.64596845233743}, 'sim_intercept_background_start': {'value': 0.29656152757115806}, 'sim_intercept_background_end': {'value': 0.0018654458880211862}, 'sim_intercept_background_a': {'value': 1}, 'sim_intercept_background_loc': {'value': 0}, 'sim_intercept_background_beta': {'value': 99.15500137310596}}, 'sensitivity': {'feature_schema': {'mag_1007': 'mag1_1007'}, 'sim_intercept_sensitivity_start': {'value': 9.371079280201165e-08}, 'sim_intercept_sensitivity_end': {'value': 9.713843531694579e-10}, 'sim_intercept_sensitivity_a': {'value': 1}, 'sim_intercept_sensitivity_loc': {'value': 0}, 'sim_intercept_sensitivity_beta': {'value': 1.1632178403532043}, 'sim_slope_sensitivity_start': {'value': 0.0007855151326638907}, 'sim_slope_sensitivity_end': {'value': 0.0011231533957788678}, 'sim_slope_sensitivity_a': {'value': 1}, 'sim_slope_sensitivity_loc': {'value': 0}, 'sim_slope_sensitivity_beta': {'value': 82.51104301501427}}}\n",
      "Cost function value is 0.15748451841441208, and parameters are {'background': {'feature_schema': {'mag_1007': 'mag1_1007'}, 'sim_slope_background': {'value': 56.70762646578078}, 'sim_intercept_background_start': {'value': 0.29656152757115806}, 'sim_intercept_background_end': {'value': 0.0018654458880211862}, 'sim_intercept_background_a': {'value': 1}, 'sim_intercept_background_loc': {'value': 0}, 'sim_intercept_background_beta': {'value': 99.15500137310596}}, 'sensitivity': {'feature_schema': {'mag_1007': 'mag1_1007'}, 'sim_intercept_sensitivity_start': {'value': 9.371079280201165e-08}, 'sim_intercept_sensitivity_end': {'value': 9.713843531694579e-10}, 'sim_intercept_sensitivity_a': {'value': 1}, 'sim_intercept_sensitivity_loc': {'value': 0}, 'sim_intercept_sensitivity_beta': {'value': 1.1632178403532043}, 'sim_slope_sensitivity_start': {'value': 0.0007855151326638907}, 'sim_slope_sensitivity_end': {'value': 0.0011231533957788678}, 'sim_slope_sensitivity_a': {'value': 1}, 'sim_slope_sensitivity_loc': {'value': 0}, 'sim_slope_sensitivity_beta': {'value': 82.51104301501427}}}\n",
      "Cost function value is 0.15747907707154482, and parameters are {'background': {'feature_schema': {'mag_1007': 'mag1_1007'}, 'sim_slope_background': {'value': 56.70762646578078}, 'sim_intercept_background_start': {'value': 0.9628155820842382}, 'sim_intercept_background_end': {'value': 0.0018654458880211862}, 'sim_intercept_background_a': {'value': 1}, 'sim_intercept_background_loc': {'value': 0}, 'sim_intercept_background_beta': {'value': 99.15500137310596}}, 'sensitivity': {'feature_schema': {'mag_1007': 'mag1_1007'}, 'sim_intercept_sensitivity_start': {'value': 9.371079280201165e-08}, 'sim_intercept_sensitivity_end': {'value': 9.713843531694579e-10}, 'sim_intercept_sensitivity_a': {'value': 1}, 'sim_intercept_sensitivity_loc': {'value': 0}, 'sim_intercept_sensitivity_beta': {'value': 1.1632178403532043}, 'sim_slope_sensitivity_start': {'value': 0.0007855151326638907}, 'sim_slope_sensitivity_end': {'value': 0.0011231533957788678}, 'sim_slope_sensitivity_a': {'value': 1}, 'sim_slope_sensitivity_loc': {'value': 0}, 'sim_slope_sensitivity_beta': {'value': 82.51104301501427}}}\n",
      "Cost function value is 0.15745606192184555, and parameters are {'background': {'feature_schema': {'mag_1007': 'mag1_1007'}, 'sim_slope_background': {'value': 56.70762646578078}, 'sim_intercept_background_start': {'value': 0.9628155820842382}, 'sim_intercept_background_end': {'value': 0.0018654458880211862}, 'sim_intercept_background_a': {'value': 1}, 'sim_intercept_background_loc': {'value': 0}, 'sim_intercept_background_beta': {'value': 99.15500137310596}}, 'sensitivity': {'feature_schema': {'mag_1007': 'mag1_1007'}, 'sim_intercept_sensitivity_start': {'value': 9.568324630625312e-08}, 'sim_intercept_sensitivity_end': {'value': 9.713843531694579e-10}, 'sim_intercept_sensitivity_a': {'value': 1}, 'sim_intercept_sensitivity_loc': {'value': 0}, 'sim_intercept_sensitivity_beta': {'value': 1.1632178403532043}, 'sim_slope_sensitivity_start': {'value': 0.0007855151326638907}, 'sim_slope_sensitivity_end': {'value': 0.0011231533957788678}, 'sim_slope_sensitivity_a': {'value': 1}, 'sim_slope_sensitivity_loc': {'value': 0}, 'sim_slope_sensitivity_beta': {'value': 82.51104301501427}}}\n",
      "Cost function value is 0.15744696264703048, and parameters are {'background': {'feature_schema': {'mag_1007': 'mag1_1007'}, 'sim_slope_background': {'value': 56.70762646578078}, 'sim_intercept_background_start': {'value': 0.9628155820842382}, 'sim_intercept_background_end': {'value': 0.0018654458880211862}, 'sim_intercept_background_a': {'value': 1}, 'sim_intercept_background_loc': {'value': 0}, 'sim_intercept_background_beta': {'value': 99.15500137310596}}, 'sensitivity': {'feature_schema': {'mag_1007': 'mag1_1007'}, 'sim_intercept_sensitivity_start': {'value': 9.568324630625312e-08}, 'sim_intercept_sensitivity_end': {'value': 7.486744394332846e-10}, 'sim_intercept_sensitivity_a': {'value': 1}, 'sim_intercept_sensitivity_loc': {'value': 0}, 'sim_intercept_sensitivity_beta': {'value': 1.1632178403532043}, 'sim_slope_sensitivity_start': {'value': 0.0007855151326638907}, 'sim_slope_sensitivity_end': {'value': 0.0011231533957788678}, 'sim_slope_sensitivity_a': {'value': 1}, 'sim_slope_sensitivity_loc': {'value': 0}, 'sim_slope_sensitivity_beta': {'value': 82.51104301501427}}}\n",
      "Cost function value is 0.15744569122583868, and parameters are {'background': {'feature_schema': {'mag_1007': 'mag1_1007'}, 'sim_slope_background': {'value': 56.70762646345525}, 'sim_intercept_background_start': {'value': 0.9628156171694379}, 'sim_intercept_background_end': {'value': 0.0019327564847803956}, 'sim_intercept_background_a': {'value': 1}, 'sim_intercept_background_loc': {'value': 0}, 'sim_intercept_background_beta': {'value': 99.15500137310596}}, 'sensitivity': {'feature_schema': {'mag_1007': 'mag1_1007'}, 'sim_intercept_sensitivity_start': {'value': 9.5683246306739e-08}, 'sim_intercept_sensitivity_end': {'value': 7.486744377517153e-10}, 'sim_intercept_sensitivity_a': {'value': 1}, 'sim_intercept_sensitivity_loc': {'value': 0}, 'sim_intercept_sensitivity_beta': {'value': 1.1632178403532043}, 'sim_slope_sensitivity_start': {'value': 0.0007855151178863091}, 'sim_slope_sensitivity_end': {'value': 0.0011231484822697988}, 'sim_slope_sensitivity_a': {'value': 1}, 'sim_slope_sensitivity_loc': {'value': 0}, 'sim_slope_sensitivity_beta': {'value': 82.51104301501427}}}\n",
      "Cost function value is 0.15744381234381938, and parameters are {'background': {'feature_schema': {'mag_1007': 'mag1_1007'}, 'sim_slope_background': {'value': 18.757343256889726}, 'sim_intercept_background_start': {'value': 0.9768384222682134}, 'sim_intercept_background_end': {'value': 0.001394804575568036}, 'sim_intercept_background_a': {'value': 1}, 'sim_intercept_background_loc': {'value': 0}, 'sim_intercept_background_beta': {'value': 99.15500137310596}}, 'sensitivity': {'feature_schema': {'mag_1007': 'mag1_1007'}, 'sim_intercept_sensitivity_start': {'value': 9.908453950164455e-08}, 'sim_intercept_sensitivity_end': {'value': 2.7925110588512327e-10}, 'sim_intercept_sensitivity_a': {'value': 1}, 'sim_intercept_sensitivity_loc': {'value': 0}, 'sim_intercept_sensitivity_beta': {'value': 1.1632178403532043}, 'sim_slope_sensitivity_start': {'value': 0.002861369563344971}, 'sim_slope_sensitivity_end': {'value': 0.0011147801313807625}, 'sim_slope_sensitivity_a': {'value': 1}, 'sim_slope_sensitivity_loc': {'value': 0}, 'sim_slope_sensitivity_beta': {'value': 82.51104301501427}}}\n",
      "Cost function value is 0.1573749506871448, and parameters are {'background': {'feature_schema': {'mag_1007': 'mag1_1007'}, 'sim_slope_background': {'value': 18.757342837626382}, 'sim_intercept_background_start': {'value': 0.9768438229207428}, 'sim_intercept_background_end': {'value': 0.002064822793480901}, 'sim_intercept_background_a': {'value': 1}, 'sim_intercept_background_loc': {'value': 0}, 'sim_intercept_background_beta': {'value': 99.15500137310596}}, 'sensitivity': {'feature_schema': {'mag_1007': 'mag1_1007'}, 'sim_intercept_sensitivity_start': {'value': 9.90845395689914e-08}, 'sim_intercept_sensitivity_end': {'value': 2.792508900499859e-10}, 'sim_intercept_sensitivity_a': {'value': 1}, 'sim_intercept_sensitivity_loc': {'value': 0}, 'sim_intercept_sensitivity_beta': {'value': 1.1632178403532043}, 'sim_slope_sensitivity_start': {'value': 0.002861367305638684}, 'sim_slope_sensitivity_end': {'value': 0.0011228466835296923}, 'sim_slope_sensitivity_a': {'value': 1}, 'sim_slope_sensitivity_loc': {'value': 0}, 'sim_slope_sensitivity_beta': {'value': 82.51104301501427}}}\n"
     ]
    }
   ],
   "source": [
    "df = df_orig[col_for_optim].copy()\n",
    "df.rename(columns={\n",
    "                'time_from_start_featureGeneration': 'time_from_start',\n",
    "                'mag1_1007_featureGeneration': 'mag1_1007',\n",
    "                'mag3_1007_featureGeneration': 'mag3_1007',\n",
    "                'mag4_1007_featureGeneration': 'mag4_1007',\n",
    "                'retro_model_output_s1_calculateGlucose': 'retro_model_output_s1',\n",
    "                'retro_model_output_s3_calculateGlucose': 'retro_model_output_s3',\n",
    "                'retro_model_output_s4_calculateGlucose': 'retro_model_output_s4',\n",
    "                }, inplace=True)\n",
    "all_results= {}\n",
    "all_optim_params = {}\n",
    "hypo_idx = df[ref_for_optim].le(100)\n",
    "for ch_str in all_training_channel:\n",
    "    print(f'Optmizing channel {ch_str}')\n",
    "    this_result = []\n",
    "    df[f'ad_s{ch_str}'] = df[f'retro_model_output_s{ch_str}'].sub(df[ref_for_optim]).abs()\n",
    "    df[f'ard_s{ch_str}'] = df[f'ad_s{ch_str}'].div(df[ref_for_optim]).mul(100)\n",
    "    df[f'iso_s{ch_str}'] = df[f'ard_s{ch_str}']\n",
    "    df.loc[hypo_idx,f'iso_s{ch_str}'] = df.loc[hypo_idx,f'ad_s{ch_str}']\n",
    "    col_for_optim_no_ysi_acck = list(df.columns)\n",
    "    training_index = df['Study'].isin(training_group) & df['time_from_start'].between(training_time_window[0],training_time_window[1]) & \\\n",
    "                            df['Chemistry'].eq(training_chemistry) & df['Sorting Tier'].isin(training_tier)\n",
    "    df_training = df.loc[training_index,col_for_optim_no_ysi_acck].dropna().reset_index(drop=True)\n",
    "    valid_training_index = df['Study'].isin(training_group) & df['time_from_start'].between(training_time_window[0],training_time_window[1]) & \\\n",
    "                            df[f'iso_s{ch_str}'].le(iso_thresh) & df['Chemistry'].eq(training_chemistry) &  df['Sorting Tier'].isin(training_tier)\n",
    "    df_training_valid = df.loc[valid_training_index,col_for_optim_no_ysi_acck].dropna().reset_index(drop=True)\n",
    "    print(f'Training data has shape {df_training.shape}')\n",
    "    print(f'Training data has shape {df_training_valid.shape}')\n",
    "    good_data_ratio = len(df_training_valid)/len(df_training)\n",
    "    print(f'Ratio of good data is {good_data_ratio}')\n",
    "    valid_test_index = df['Study'].isin(test_group) & df['time_from_start'].between(training_time_window[0],training_time_window[1]) & \\\n",
    "                            df[f'iso_s{ch_str}'].le(iso_thresh) & df['Chemistry'].eq(training_chemistry)  & df['Sorting Tier'].isin(test_tier)\n",
    "    df_test_valid = df.loc[valid_test_index,col_for_optim_no_ysi_acck].dropna().reset_index(drop=True)\n",
    "    print(f'Test data has shape {df_test_valid.shape}')\n",
    "    g_train = df_training_valid[ref_for_optim]\n",
    "    features_train = df_training_valid[['time_from_start',f'mag{ch_str}_1007']]\n",
    "    cur_train = df_training_valid[f'cur{ch_str}']\n",
    "\n",
    "    g_test = df_test_valid[ref_for_optim]\n",
    "    features_test = df_test_valid[['time_from_start',f'mag{ch_str}_1007']]\n",
    "    cur_test = df_test_valid[f'cur{ch_str}']\n",
    "\n",
    "    result = scipy.optimize.dual_annealing(mard,params_bound,callback=callback_da,args=(g_train,cur_train,features_train,ch_str),maxiter=int(1e3))\n",
    "\n",
    "    this_result.append(mard(result.x,g_train,cur_train,features_train,ch_str))\n",
    "    this_result.append(mard(result.x,g_test,cur_test,features_test,ch_str))\n",
    "\n",
    "    params_dict = params_list_to_dict(result.x,ch_str)\n",
    "    g_hat_train, _ = glucose_model(cur_train,features_train,params_dict) \n",
    "    g_hat_test, _ = glucose_model(cur_test,features_test,params_dict) \n",
    "\n",
    "    reg_train = LinearRegression().fit(g_train.values.reshape(-1,1), g_hat_train.values)\n",
    "    this_result.append(reg_train.score(g_train.values.reshape(-1,1), g_hat_train.values))\n",
    "    this_result.append(reg_train.coef_)\n",
    "    this_result.append(reg_train.intercept_)           \n",
    "\n",
    "    reg_test = LinearRegression().fit(g_test.values.reshape(-1,1), g_hat_test.values)\n",
    "    this_result.append(reg_test.score(g_test.values.reshape(-1,1), g_hat_test.values))\n",
    "    this_result.append(reg_test.coef_)\n",
    "    this_result.append(reg_test.intercept_)\n",
    "\n",
    "    all_optim_params[f'channel_{ch_str}'] = params_dict\n",
    "    all_results[f'channel_{ch_str}'] = this_result\n",
    "    \n",
    "results_df = pd.DataFrame.from_dict(all_results)\n",
    "results_df.to_csv(fr'C:\\Users\\lwang\\OneDrive - Biolinq Inc\\Gen 1\\Algorithm Development\\Gen 1 Model Optimization\\20240521\\optimize_time_varying_model_{ref_for_optim}_exp_indexFixed_MayTune_ch1.csv',header=True)\n",
    "with open (fr'C:\\Users\\lwang\\OneDrive - Biolinq Inc\\Gen 1\\Algorithm Development\\Gen 1 Model Optimization\\20240521\\all_optim_params_{ref_for_optim}_exp_indexFixed_MayTune_ch1.p','wb') as fp:\n",
    "    pickle.dump(all_optim_params,fp)    "
   ]
  },
  {
   "cell_type": "code",
   "execution_count": 43,
   "metadata": {},
   "outputs": [
    {
     "data": {
      "text/plain": [
       "{'channel_1': {'background': {'feature_schema': {'mag_1007': 'mag1_1007'},\n",
       "   'sim_slope_background': {'value': 18.757342837626382},\n",
       "   'sim_intercept_background_start': {'value': 0.9768438229207428},\n",
       "   'sim_intercept_background_end': {'value': 0.002064822793480901},\n",
       "   'sim_intercept_background_a': {'value': 1},\n",
       "   'sim_intercept_background_loc': {'value': 0},\n",
       "   'sim_intercept_background_beta': {'value': 99.15500137310596}},\n",
       "  'sensitivity': {'feature_schema': {'mag_1007': 'mag1_1007'},\n",
       "   'sim_intercept_sensitivity_start': {'value': 9.90845395689914e-08},\n",
       "   'sim_intercept_sensitivity_end': {'value': 2.792508900499859e-10},\n",
       "   'sim_intercept_sensitivity_a': {'value': 1},\n",
       "   'sim_intercept_sensitivity_loc': {'value': 0},\n",
       "   'sim_intercept_sensitivity_beta': {'value': 1.1632178403532043},\n",
       "   'sim_slope_sensitivity_start': {'value': 0.002861367305638684},\n",
       "   'sim_slope_sensitivity_end': {'value': 0.0011228466835296923},\n",
       "   'sim_slope_sensitivity_a': {'value': 1},\n",
       "   'sim_slope_sensitivity_loc': {'value': 0},\n",
       "   'sim_slope_sensitivity_beta': {'value': 82.51104301501427}}}}"
      ]
     },
     "execution_count": 43,
     "metadata": {},
     "output_type": "execute_result"
    }
   ],
   "source": [
    "all_optim_params"
   ]
  },
  {
   "cell_type": "code",
   "execution_count": null,
   "metadata": {},
   "outputs": [],
   "source": [
    "df_training_valid.to_csv(r'C:\\Users\\lwang\\OneDrive - Biolinq Inc\\Gen 1\\Algorithm Development\\Gen 1 Model Optimization\\Final round\\df_training_valid.csv',header=True)"
   ]
  },
  {
   "cell_type": "code",
   "execution_count": null,
   "metadata": {},
   "outputs": [],
   "source": [
    "with open (r'C:\\Users\\lwang\\OneDrive - Biolinq Inc\\Gen 1\\Algorithm Development\\Gen 1 Model Optimization\\20240521\\all_optim_params.p','wb') as fp:\n",
    "    pickle.dump(all_optim_params,fp)"
   ]
  },
  {
   "cell_type": "code",
   "execution_count": null,
   "metadata": {},
   "outputs": [],
   "source": [
    "with open (fr'C:\\Users\\lwang\\OneDrive - Biolinq Inc\\Gen 1\\Algorithm Development\\Gen 1 Model Optimization\\20240521\\all_optim_params_{ref_for_optim}_exp_indexFixed_All.p','rb') as fp:\n",
    "    all_optim_params2 = pickle.load(fp)"
   ]
  },
  {
   "cell_type": "code",
   "execution_count": null,
   "metadata": {},
   "outputs": [],
   "source": [
    "all_optim_params2"
   ]
  },
  {
   "cell_type": "code",
   "execution_count": null,
   "metadata": {},
   "outputs": [],
   "source": [
    "df_training_valid['cgm_adj'].le(60).mean()"
   ]
  },
  {
   "cell_type": "code",
   "execution_count": null,
   "metadata": {},
   "outputs": [],
   "source": [
    "df_training_valid['cgm_adj'].between(300,350,inclusive='right').mean()"
   ]
  },
  {
   "cell_type": "code",
   "execution_count": null,
   "metadata": {},
   "outputs": [],
   "source": [
    "df_training_valid['cgm_adj'].gt(350).mean()"
   ]
  }
 ],
 "metadata": {
  "kernelspec": {
   "display_name": ".datarunner",
   "language": "python",
   "name": "python3"
  },
  "language_info": {
   "codemirror_mode": {
    "name": "ipython",
    "version": 3
   },
   "file_extension": ".py",
   "mimetype": "text/x-python",
   "name": "python",
   "nbconvert_exporter": "python",
   "pygments_lexer": "ipython3",
   "version": "3.9.2"
  }
 },
 "nbformat": 4,
 "nbformat_minor": 2
}
