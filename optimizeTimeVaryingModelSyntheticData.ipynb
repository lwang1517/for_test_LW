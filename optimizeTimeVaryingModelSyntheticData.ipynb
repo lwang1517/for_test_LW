{
 "cells": [
  {
   "cell_type": "code",
   "execution_count": null,
   "metadata": {},
   "outputs": [],
   "source": [
    "import sys\n",
    "sys.path.append(r'C:\\Users\\lwang\\Documents\\GitHub\\DataAnalysis')"
   ]
  },
  {
   "cell_type": "code",
   "execution_count": null,
   "metadata": {},
   "outputs": [],
   "source": [
    "import numpy as np\n",
    "import sys, os\n",
    "from pathlib import Path\n",
    "import pandas as pd\n",
    "import copy\n",
    "import plotly.express as px\n",
    "import pandas as pd\n",
    "import plotly.graph_objects as go\n",
    "from plotly.colors import n_colors\n",
    "import math\n",
    "import datetime as dt\n",
    "from sklearn.metrics import r2_score\n",
    "import plotly.colors\n",
    "from plotly.subplots import make_subplots\n",
    "import plotly.graph_objects as go\n",
    "import pandas as pd\n",
    "import numpy as np\n",
    "from scipy.stats import mannwhitneyu\n",
    "from scipy.interpolate import griddata\n",
    "from sklearn.linear_model import LinearRegression\n",
    "import scipy\n",
    "import importlib\n",
    "import pickle\n",
    "\n",
    "# ----- Internal Dependencies -------#\n",
    "nb_dir = os.path.split(os.getcwd())[0]\n",
    "sys.path.append(\"../..\")\n",
    "if nb_dir not in sys.path:\n",
    "    sys.path.append(nb_dir)\n",
    "from General import FileRead\n",
    "from General import AccuracyMetrics\n",
    "from General.GeneralFunctions import get_add_to_dict\n",
    "from General import TableManipulations\n",
    "from FeatureGeneration import GeneralFeatures\n",
    "from General import FileWrite\n",
    "\n",
    "from Plot.PdfHelper import PdfHelper\n",
    "from Plot.PlotMaker import PlotMaker\n",
    "# from Plot import Voltage_Plots\n",
    "from Plot import PlotFunctions\n",
    "# from Plot import AdHocPlots\n",
    "# from Plot import Sim_Plots\n",
    "\n",
    "# widget and notebook stuff\n",
    "from ipywidgets import interact, fixed\n",
    "import plotly.io as pio\n",
    "pio.renderers.default = \"plotly_mimetype+notebook\""
   ]
  },
  {
   "cell_type": "code",
   "execution_count": null,
   "metadata": {},
   "outputs": [],
   "source": [
    "import importlib.util\n",
    "\n",
    "# Set up environment (e.g. sys.path)\n",
    "assembler_folder = r'C:\\Users\\lwang\\Documents\\GitHub\\DataAnalysis\\AlgorithmAssembler'\n",
    "top_folder = r'C:\\Users\\lwang\\Documents\\GitHub\\DataAnalysis'\n",
    "\n",
    "# Set up the module function to be tested. This is equivalent to from X.Y.Z import module_func, but avoid potential ImportError\n",
    "background_func_file_path = os.path.join(assembler_folder,'Modules','glucoseModel','channel_gluc_current','time_varying_background.py')\n",
    "background_func_name = os.path.relpath(background_func_file_path,top_folder).replace('.py','').replace(os.sep,'.')\n",
    "background_func_spec = importlib.util.spec_from_file_location(background_func_name,background_func_file_path)\n",
    "background_func_info = importlib.util.module_from_spec(background_func_spec)\n",
    "background_func_spec.loader.exec_module(background_func_info)\n",
    "background_func = getattr(background_func_info,'background_gamma_cdf_based')\n",
    "\n",
    "sensitivity_func_file_path = os.path.join(assembler_folder,'Modules','glucoseModel','channel_dermis_gluc','time_varying_sensitivity.py')\n",
    "sensitivity_func_name = os.path.relpath(sensitivity_func_file_path,top_folder).replace('.py','').replace(os.sep,'.')\n",
    "sensitivity_func_spec = importlib.util.spec_from_file_location(sensitivity_func_name,sensitivity_func_file_path)\n",
    "sensitivity_func_info = importlib.util.module_from_spec(sensitivity_func_spec)\n",
    "sensitivity_func_spec.loader.exec_module(sensitivity_func_info)\n",
    "sensitivity_func = getattr(sensitivity_func_info,'sensitivity_gamma_cdf_based')"
   ]
  },
  {
   "cell_type": "markdown",
   "metadata": {},
   "source": [
    "load data"
   ]
  },
  {
   "cell_type": "code",
   "execution_count": null,
   "metadata": {},
   "outputs": [],
   "source": [
    "df=pd.read_csv(r'C:\\Users\\lwang\\OneDrive - Biolinq Inc\\Gen 1\\Algorithm Development\\Gen 1 Model Optimization\\20240521\\agg_mfg_ref_sample_df_from17.csv')\n",
    "df_orig=df.copy()"
   ]
  },
  {
   "cell_type": "markdown",
   "metadata": {},
   "source": [
    "Setting"
   ]
  },
  {
   "cell_type": "code",
   "execution_count": null,
   "metadata": {},
   "outputs": [],
   "source": [
    "import scipy.stats as dist\n",
    "dist_info_background = dist.gamma(a=1,loc=0,scale=1/20)\n",
    "synthetic_background = 0.05 - 0.04*dist_info_background.cdf(df_orig['time_from_start_featureGeneration'])\n",
    "dist_info_slope = dist.gamma(a=1,loc=0,scale=1/5)\n",
    "synthetic_slope = 0.1 + 0.9*dist_info_slope.cdf(df_orig['time_from_start_featureGeneration'])\n",
    "df_orig['cur1'] = df_orig['cur1'].mul(synthetic_slope).add(synthetic_background)"
   ]
  },
  {
   "cell_type": "code",
   "execution_count": null,
   "metadata": {},
   "outputs": [],
   "source": [
    "training_group = ['Pre-Piv-2-training'] # ['eBlinq19c','eBlinq20','eBlinq22','eBlinq23','eBlinq25','eBlinqRingOverlay&NiMNA','iBlinqAcet','iBlinqFW231','iBlinqOverlay']\n",
    "test_group = ['Pre-Piv-2-training']\n",
    "all_training_channel = ['1']\n",
    "training_time_window = [0.083,5]\n",
    "training_chemistry = '2.6.11'\n",
    "test_chemistry = '2.6.11'\n",
    "iso_thresh = 25\n",
    "params_bound = [\n",
    "    [0,1e5],\n",
    "    [1e-6,0.1],[1e-6,0.1],[1e-2,1e2],\n",
    "    [0,1e3],[0,1e3],[1e-2,1e2],\n",
    "    [1e-1,1e2],[1e-1,10],[1e-2,1e2],\n",
    "]\n",
    "col_for_optim = [\n",
    "    'cur1','cur3','cur4','Chemistry',\n",
    "    'time_from_start_featureGeneration','mag1_1007_featureGeneration','mag3_1007_featureGeneration','mag4_1007_featureGeneration',\n",
    "    'Study','retro_model_output_s1_calculateGlucose','retro_model_output_s3_calculateGlucose','retro_model_output_s4_calculateGlucose','cgm_adj','ysi','acck'\n",
    "]"
   ]
  },
  {
   "cell_type": "code",
   "execution_count": null,
   "metadata": {},
   "outputs": [],
   "source": [
    "def glucose_model(cur,features,params):\n",
    "    background_params = params['background']\n",
    "    sensitivity_params = params['sensitivity']\n",
    "    glucose_current,_ = background_func(cur,features,background_params)\n",
    "    dermis_gluc,sensitivity_info = sensitivity_func(glucose_current,features,sensitivity_params)\n",
    "    sensitivity = sensitivity_info['sensitivity']\n",
    "    return dermis_gluc, sensitivity\n",
    "\n",
    "def params_list_to_dict(params_list,channel_str):\n",
    "    params = {}\n",
    "    background_params = {\n",
    "        'feature_schema': {'mag_1007':f'mag{channel_str}_1007'},\n",
    "        'sim_slope_background': {'value': params_list[0]},\n",
    "        'sim_intercept_background_start': {'value': params_list[1]},\n",
    "        'sim_intercept_background_end': {'value': params_list[2]},\n",
    "        'sim_intercept_background_a': {'value': 1},\n",
    "        'sim_intercept_background_loc': {'value': 0},\n",
    "        'sim_intercept_background_beta': {'value': params_list[3]},\n",
    "    }\n",
    "    params['background'] = background_params\n",
    "    sensitivity_params = {\n",
    "        'feature_schema': {'mag_1007':f'mag{channel_str}_1007'},\n",
    "        'sim_intercept_sensitivity_start': {'value': params_list[4]*1e-10},\n",
    "        'sim_intercept_sensitivity_end': {'value': params_list[5]*1e-10},\n",
    "        'sim_intercept_sensitivity_a': {'value': 1},\n",
    "        'sim_intercept_sensitivity_loc': {'value': 0},\n",
    "        'sim_intercept_sensitivity_beta': {'value': params_list[6]},\n",
    "        'sim_slope_sensitivity_start': {'value': params_list[7]*1e-3},\n",
    "        'sim_slope_sensitivity_end': {'value': params_list[8]*1e-3},\n",
    "        'sim_slope_sensitivity_a': {'value': 1},\n",
    "        'sim_slope_sensitivity_loc': {'value': 0},\n",
    "        'sim_slope_sensitivity_beta': {'value': params_list[9]},\n",
    "    }\n",
    "    params['sensitivity'] = sensitivity_params\n",
    "    return params\n",
    "\n",
    "def mard(params_list,g,cur,features,channel_str):\n",
    "    params = params_list_to_dict(params_list,channel_str)\n",
    "    g_hat, _ = glucose_model(cur,features,params)    \n",
    "    mard = g_hat.sub(g).abs().div(g).mean()\n",
    "    return mard\n",
    "\n",
    "def costFunc(params_list,g,cur,features,channel_str):\n",
    "    params = params_list_to_dict(params_list,channel_str)\n",
    "    g_hat, sensitivity = glucose_model(cur,features,params)\n",
    "    error = g_hat.sub(g).div(g).mul(sensitivity).mul(1e3).abs().mean()\n",
    "    return error\n",
    "\n",
    "def callback_da(x,f,context=0):\n",
    "    params_dict = params_list_to_dict(x,1)\n",
    "    print(f'Cost function value is {f}, and parameters are {params_dict}')"
   ]
  },
  {
   "cell_type": "code",
   "execution_count": null,
   "metadata": {},
   "outputs": [],
   "source": [
    "df = df_orig[col_for_optim].copy()\n",
    "df.rename(columns={\n",
    "                'time_from_start_featureGeneration': 'time_from_start',\n",
    "                'mag1_1007_featureGeneration': 'mag1_1007',\n",
    "                'mag3_1007_featureGeneration': 'mag3_1007',\n",
    "                'mag4_1007_featureGeneration': 'mag4_1007',\n",
    "                'retro_model_output_s1_calculateGlucose': 'retro_model_output_s1',\n",
    "                'retro_model_output_s3_calculateGlucose': 'retro_model_output_s3',\n",
    "                'retro_model_output_s4_calculateGlucose': 'retro_model_output_s4',\n",
    "                }, inplace=True)\n",
    "all_results= {}\n",
    "all_optim_params = {}\n",
    "hypo_idx = df['cgm_adj'].le(100)\n",
    "for ch_str in all_training_channel:\n",
    "    print(f'Optmizing channel {ch_str}')\n",
    "    this_result = []\n",
    "    df[f'ad_s{ch_str}'] = df[f'retro_model_output_s{ch_str}'].sub(df['cgm_adj']).abs()\n",
    "    df[f'ard_s{ch_str}'] = df[f'ad_s{ch_str}'].div(df['cgm_adj']).mul(100)\n",
    "    df[f'iso_s{ch_str}'] = df[f'ard_s{ch_str}']\n",
    "    df.loc[hypo_idx,f'iso_s{ch_str}'] = df.loc[hypo_idx,f'ad_s{ch_str}']\n",
    "    col_for_optim_no_ysi_acck = list(df.columns)\n",
    "    col_for_optim_no_ysi_acck.remove('ysi')\n",
    "    col_for_optim_no_ysi_acck.remove('acck')\n",
    "    training_index = df[df['Study'].isin(training_group) & df['time_from_start'].between(training_time_window[0],training_time_window[1]) & \n",
    "                            df['Chemistry'].eq(training_chemistry)].index\n",
    "    df_training = df.loc[training_index,col_for_optim_no_ysi_acck].dropna().reset_index(drop=True)\n",
    "    valid_training_index = df[df['Study'].isin(training_group) & df['time_from_start'].between(training_time_window[0],training_time_window[1]) & \n",
    "                            df[f'iso_s{ch_str}'].le(iso_thresh) & df['Chemistry'].eq(training_chemistry)].index\n",
    "    df_training_valid = df.loc[valid_training_index,col_for_optim_no_ysi_acck].dropna().reset_index(drop=True)\n",
    "    print(f'Training data has shape {df_training.shape}')\n",
    "    print(f'Training data has shape {df_training_valid.shape}')\n",
    "    good_data_ratio = len(df_training_valid)/len(df_training)\n",
    "    print(f'Ratio of good data is {good_data_ratio}')\n",
    "    valid_test_index = df[df['Study'].isin(test_group) & df['time_from_start'].between(training_time_window[0],training_time_window[1]) & \n",
    "                            df[f'iso_s{ch_str}'].le(iso_thresh) & df['Chemistry'].eq(training_chemistry)].index\n",
    "    df_test_valid = df.loc[valid_test_index,col_for_optim_no_ysi_acck].dropna().reset_index(drop=True)\n",
    "    print(f'Test data has shape {df_test_valid.shape}')\n",
    "    g_train = df_training_valid['cgm_adj']\n",
    "    features_train = df_training_valid[['time_from_start',f'mag{ch_str}_1007']]\n",
    "    cur_train = df_training_valid[f'cur{ch_str}']\n",
    "\n",
    "    g_test = df_test_valid['cgm_adj']\n",
    "    features_test = df_test_valid[['time_from_start',f'mag{ch_str}_1007']]\n",
    "    cur_test = df_test_valid[f'cur{ch_str}']\n",
    "\n",
    "    result = scipy.optimize.dual_annealing(mard,params_bound,callback=callback_da,args=(g_train,cur_train,features_train,ch_str),maxiter=int(1e3))\n",
    "\n",
    "    this_result.append(mard(result.x,g_train,cur_train,features_train,ch_str))\n",
    "    this_result.append(mard(result.x,g_test,cur_test,features_test,ch_str))\n",
    "\n",
    "    params_dict = params_list_to_dict(result.x,ch_str)\n",
    "    g_hat_train, _ = glucose_model(cur_train,features_train,params_dict) \n",
    "    g_hat_test, _ = glucose_model(cur_test,features_test,params_dict) \n",
    "\n",
    "    reg_train = LinearRegression().fit(g_train.values.reshape(-1,1), g_hat_train.values)\n",
    "    this_result.append(reg_train.score(g_train.values.reshape(-1,1), g_hat_train.values))\n",
    "    this_result.append(reg_train.coef_)\n",
    "    this_result.append(reg_train.intercept_)           \n",
    "\n",
    "    reg_test = LinearRegression().fit(g_test.values.reshape(-1,1), g_hat_test.values)\n",
    "    this_result.append(reg_test.score(g_test.values.reshape(-1,1), g_hat_test.values))\n",
    "    this_result.append(reg_test.coef_)\n",
    "    this_result.append(reg_test.intercept_)\n",
    "\n",
    "    all_optim_params[f'channel_{ch_str}'] = params_dict\n",
    "    all_results[f'channel_{ch_str}'] = this_result\n",
    "    \n",
    "results_df = pd.DataFrame.from_dict(all_results)\n",
    "results_df.to_csv(r'C:\\Users\\lwang\\OneDrive - Biolinq Inc\\Gen 1\\Algorithm Development\\Gen 1 Model Optimization\\20240521\\optimize_time_varying_model_exp_synthetic.csv',header=True)\n",
    "with open (r'C:\\Users\\lwang\\OneDrive - Biolinq Inc\\Gen 1\\Algorithm Development\\Gen 1 Model Optimization\\20240521\\all_optim_params_exp_synthetic.p','wb') as fp:\n",
    "    pickle.dump(all_optim_params,fp)    "
   ]
  },
  {
   "cell_type": "code",
   "execution_count": null,
   "metadata": {},
   "outputs": [],
   "source": [
    "with open (r'C:\\Users\\lwang\\OneDrive - Biolinq Inc\\Gen 1\\Algorithm Development\\Gen 1 Model Optimization\\20240521\\all_optim_params.p','wb') as fp:\n",
    "    pickle.dump(all_optim_params,fp)"
   ]
  },
  {
   "cell_type": "code",
   "execution_count": null,
   "metadata": {},
   "outputs": [],
   "source": [
    "# with open (r'C:\\Users\\lwang\\OneDrive - Biolinq Inc\\Gen 1\\Algorithm Development\\Gen 1 Model Optimization\\20240521\\all_optim_params.p','rb') as fp:\n",
    "#     all_optim_params2 = pickle.load(fp)"
   ]
  },
  {
   "cell_type": "code",
   "execution_count": null,
   "metadata": {},
   "outputs": [],
   "source": [
    "params_bound"
   ]
  },
  {
   "cell_type": "code",
   "execution_count": null,
   "metadata": {},
   "outputs": [],
   "source": [
    "all_optim_params"
   ]
  },
  {
   "cell_type": "code",
   "execution_count": null,
   "metadata": {},
   "outputs": [],
   "source": [
    "import scipy.stats as dist\n",
    "dist_info_sim_slope = dist.gamma(a=16,loc=0,scale=1/7061)\n",
    "time_from_start = [0,0.08,0.25,0.5,1,2,5]\n",
    "sim_slope_sensitivity = 0 + 1*dist_info_sim_slope.cdf(time_from_start)\n",
    "print(sim_slope_sensitivity) "
   ]
  },
  {
   "cell_type": "code",
   "execution_count": null,
   "metadata": {},
   "outputs": [],
   "source": [
    "result"
   ]
  },
  {
   "cell_type": "code",
   "execution_count": null,
   "metadata": {},
   "outputs": [],
   "source": [
    "import pprint\n",
    "pp = pprint.PrettyPrinter(depth=4)\n",
    "params_dict = params_list_to_dict(result.x,1)\n",
    "pp.pprint(params_dict)"
   ]
  },
  {
   "cell_type": "code",
   "execution_count": null,
   "metadata": {},
   "outputs": [],
   "source": [
    "params = params_list_to_dict(result.x,ch_str)\n",
    "g_train_hat, sensitivity = glucose_model(cur_train,features_train,params)    \n",
    "mard = g_train_hat.sub(g_train).abs().div(g_train).mean()\n",
    "error = g_train_hat.sub(g_train).mul(sensitivity).abs().div(g_train).mean()"
   ]
  },
  {
   "cell_type": "code",
   "execution_count": null,
   "metadata": {},
   "outputs": [],
   "source": [
    "mard"
   ]
  },
  {
   "cell_type": "code",
   "execution_count": null,
   "metadata": {},
   "outputs": [],
   "source": [
    "error"
   ]
  },
  {
   "cell_type": "code",
   "execution_count": null,
   "metadata": {},
   "outputs": [],
   "source": [
    "sim_slope = g_train.div(cur_train).div(features_train['mag1_1007']).mean()\n",
    "sim_slope"
   ]
  },
  {
   "cell_type": "code",
   "execution_count": null,
   "metadata": {},
   "outputs": [],
   "source": [
    "g_simple = cur_train.mul(features_train['mag1_1007']).mul(sim_slope)\n",
    "g_simple.sub(g_train).abs().div(g_train).mean()"
   ]
  },
  {
   "cell_type": "code",
   "execution_count": null,
   "metadata": {},
   "outputs": [],
   "source": [
    "reg_simple = LinearRegression().fit(g_train.values.reshape(-1,1), g_simple.values)\n",
    "print(reg_simple.score(g_train.values.reshape(-1,1), g_simple.values))\n",
    "print(reg_simple.coef_)\n",
    "print(reg_simple.intercept_)"
   ]
  },
  {
   "cell_type": "code",
   "execution_count": null,
   "metadata": {},
   "outputs": [],
   "source": [
    "params = params_list_to_dict(result.x,ch_str)\n",
    "g_hat_train, _ = glucose_model(cur_train,features_train,params) \n",
    "g_hat_test, _ = glucose_model(cur_test,features_test,params) \n",
    "reg_train = LinearRegression().fit(g_train.values.reshape(-1,1), g_hat_train.values)\n",
    "print(reg_train.score(g_train.values.reshape(-1,1), g_hat_train.values))\n",
    "print(reg_train.coef_)\n",
    "print(reg_train.intercept_)"
   ]
  }
 ],
 "metadata": {
  "kernelspec": {
   "display_name": ".datarunner",
   "language": "python",
   "name": "python3"
  },
  "language_info": {
   "codemirror_mode": {
    "name": "ipython",
    "version": 3
   },
   "file_extension": ".py",
   "mimetype": "text/x-python",
   "name": "python",
   "nbconvert_exporter": "python",
   "pygments_lexer": "ipython3",
   "version": "3.9.2"
  }
 },
 "nbformat": 4,
 "nbformat_minor": 2
}
