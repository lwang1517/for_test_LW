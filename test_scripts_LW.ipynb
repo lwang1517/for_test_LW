{
 "cells": [
  {
   "cell_type": "code",
   "execution_count": 5,
   "metadata": {},
   "outputs": [],
   "source": [
    "import numpy as np\n",
    "import math\n",
    "import sys, os\n",
    "from pathlib import Path\n",
    "import pandas as pd\n",
    "pd.set_option('display.max_columns', 500)\n",
    "from scipy.special import softmax\n",
    "from itertools import combinations\n",
    "import re\n",
    "\n",
    "import copy\n",
    "import plotly.express as px\n",
    "import pandas as pd\n",
    "from datetime import timedelta"
   ]
  },
  {
   "cell_type": "code",
   "execution_count": null,
   "metadata": {},
   "outputs": [],
   "source": [
    "\n",
    "# ----- Internal Dependencies -------#\n",
    "nb_dir = os.path.split(os.getcwd())[0]\n",
    "sys.path.append(\"../..\")\n",
    "if nb_dir not in sys.path:\n",
    "    sys.path.append(nb_dir)\n",
    "from General import FileRead\n",
    "from General import AccuracyMetrics\n",
    "from General.GeneralFunctions import get_add_to_dict\n",
    "from General import TableManipulations\n",
    "from FeatureGeneration import GeneralFeatures\n",
    "from General import FileWrite\n",
    "\n",
    "from Plot.PdfHelper import PdfHelper\n",
    "from Plot.PlotMaker import PlotMaker\n",
    "from Plot import VoltagePlots\n",
    "from Plot import PlotFunctions\n",
    "from Plot import AdHocPlots\n",
    "from Plot import SimPlots\n",
    "\n",
    "# widget and notebook stuff\n",
    "from ipywidgets import interact, fixed\n",
    "import plotly.io as pio\n",
    "pio.renderers.default = \"plotly_mimetype+notebook\""
   ]
  },
  {
   "cell_type": "code",
   "execution_count": null,
   "metadata": {},
   "outputs": [],
   "source": [
    "full_folder = Path(r'/Users/liangwang/Library/CloudStorage/OneDrive-Biolinq/Documents - Clinical Data Analysis/Data/CP-008 Session 17 - eBlinq17/rocky_17b/prospective_8S17_v14d_2022_5day/subset_background_exclusions')\n",
    "save_folder = full_folder.joinpath('iCGM by JMP')\n",
    "os.makedirs(save_folder, exist_ok=True)"
   ]
  },
  {
   "cell_type": "code",
   "execution_count": null,
   "metadata": {},
   "outputs": [],
   "source": [
    "full_folder = Path(r'/Users/liangwang/Library/CloudStorage/OneDrive-Biolinq/Documents - Clinical Data Analysis/Data/Aggregate/eblinq19c_20_22/Experiment/prospective_AggData_CalFree_v14p_5day_neg3_pos3')\n",
    "loaded_data = FileRead.load_pickle('alg_out.zip', full_folder, as_dict=True)"
   ]
  },
  {
   "cell_type": "code",
   "execution_count": null,
   "metadata": {},
   "outputs": [],
   "source": [
    "loaded_data.keys()"
   ]
  },
  {
   "cell_type": "code",
   "execution_count": null,
   "metadata": {},
   "outputs": [],
   "source": [
    "data_dictionary = loaded_data['data_dictionary']\n",
    "sensorId = 'br232570070099'\n",
    "sensor_data = data_dictionary[sensorId]\n",
    "sensor_data"
   ]
  },
  {
   "cell_type": "code",
   "execution_count": null,
   "metadata": {},
   "outputs": [],
   "source": [
    "sensor_data.shape[0]"
   ]
  },
  {
   "cell_type": "code",
   "execution_count": null,
   "metadata": {},
   "outputs": [],
   "source": [
    "all_sensor_data = loaded_data['all_sensor_data']\n",
    "sensorId = 'br232570070099'\n",
    "sensor_data = all_sensor_data[sensorId]\n",
    "sensor_data['biolinq'].head()"
   ]
  },
  {
   "cell_type": "code",
   "execution_count": null,
   "metadata": {},
   "outputs": [],
   "source": [
    "loaded_data['aggregated_data']['biolinq'].to_csv('/Users/liangwang/Library/CloudStorage/OneDrive-Biolinq/Documents - Clinical Data Analysis/Data/Aggregate/eblinq19c_20_22/Experiment/prospective_AggData_CalFree_v14p_5day_neg3_pos3/Analysis/agg_biolinq.csv', header=True)"
   ]
  },
  {
   "cell_type": "code",
   "execution_count": null,
   "metadata": {},
   "outputs": [],
   "source": [
    "all_sensor_data = loaded_data['all_sensor_data']\n",
    "sensorId = 'br232570070099'\n",
    "sensor_data = all_sensor_data[sensorId]\n",
    "ysi_data = sensor_data['ysi'].copy()\n",
    "ysi_data.insert(len(ysi_data.columns),'delta_time',np.nan)\n",
    "ysi_data.insert(len(ysi_data.columns),'roc',np.nan)\n",
    "ysi_data.head()"
   ]
  },
  {
   "cell_type": "code",
   "execution_count": null,
   "metadata": {},
   "outputs": [],
   "source": [
    "ysi_data.loc[:,'delta_time'] = ysi_data['Time'].diff().dt.total_seconds()/60\n",
    "ysi_data.loc[:,'roc'] = ysi_data['ysi'].diff().divide(ysi_data.loc[:,'delta_time'])\n",
    "ysi_data.head()"
   ]
  },
  {
   "cell_type": "code",
   "execution_count": null,
   "metadata": {},
   "outputs": [],
   "source": [
    "sampleData = sensor_data['acck'].copy()\n",
    "sampleData.head()"
   ]
  },
  {
   "cell_type": "code",
   "execution_count": null,
   "metadata": {},
   "outputs": [],
   "source": [
    "sampleAggData = loaded_data['aggregated_data']['Libre'].copy()\n",
    "sampleAggData.head(3)"
   ]
  },
  {
   "cell_type": "code",
   "execution_count": null,
   "metadata": {},
   "outputs": [],
   "source": [
    "sampleAggData.insert(len(sampleAggData.columns),'Time_biolinq',sampleAggData['Time'])\n",
    "           "
   ]
  },
  {
   "cell_type": "code",
   "execution_count": null,
   "metadata": {},
   "outputs": [],
   "source": [
    "sampleAggData.head(3)"
   ]
  },
  {
   "cell_type": "code",
   "execution_count": null,
   "metadata": {},
   "outputs": [],
   "source": [
    "error_check = pd.DataFrame(data={'glucose':np.arange(0,600,.1), 'n_instances':0})\n",
    "print(error_check)"
   ]
  },
  {
   "cell_type": "code",
   "execution_count": null,
   "metadata": {},
   "outputs": [],
   "source": [
    "import re\n",
    "\n",
    "email = 'no-reply@pythontutorial.net'\n",
    "pattern = r'[A-Za-z0-9._%+-]+@[A-Za-z0-9.-]+\\.[A-Z|a-z]{2,}'\n",
    "match = re.fullmatch(pattern, email)"
   ]
  },
  {
   "cell_type": "code",
   "execution_count": null,
   "metadata": {},
   "outputs": [],
   "source": [
    "print(match.group())"
   ]
  },
  {
   "cell_type": "code",
   "execution_count": null,
   "metadata": {},
   "outputs": [],
   "source": [
    "full_folder = Path(r'/Users/liangwang/Library/CloudStorage/OneDrive-Biolinq/Documents - Clinical Data Analysis/Data/CP-008 Session 17 - eBlinq17/rocky_17b/prospective_8S17_v14d_2022_5day_40_400/subset_background_exclusions/iCGM by LW')\n",
    "save_folder = full_folder.joinpath('icgm_performance')\n",
    "loaded_data = FileRead.load_pickle('alg_out.zip', save_folder, as_dict=True)\n",
    "ysiAggData = loaded_data['aggregated_data']['ysi']\n",
    "ysiAggData.head()"
   ]
  },
  {
   "cell_type": "code",
   "execution_count": null,
   "metadata": {},
   "outputs": [],
   "source": [
    "FileWrite.write_append_df_to_csv(full_folder, 'ysiAggData.csv', ysiAggData, append_if_exists=False)    "
   ]
  },
  {
   "cell_type": "code",
   "execution_count": null,
   "metadata": {},
   "outputs": [],
   "source": [
    "from pathlib import Path\n",
    "from copy import deepcopy\n",
    "\n",
    "# need these lines to import if running a notebook:\n",
    "nb_dir = os.path.split(os.getcwd())[0]\n",
    "sys.path.append(\"../..\") # get the main directory in the path\n",
    "if nb_dir not in sys.path:\n",
    "    sys.path.append(nb_dir)\t\n",
    "from General import AccuracyMetrics\n",
    "from General import FileRead\n",
    "\n",
    " \n",
    "\n",
    "# load data\n",
    "full_folder = Path(r'C:\\DataProcessing\\CP-008 Session 15 - eBlinq15\\wherever file is\\')\n",
    "loaded_data = FileRead.load_pickle('alg_out.zip', full_folder, as_dict=True)\n",
    "\n",
    " \n",
    "\n",
    "alg_outputs = deepcopy(loaded_data['alg_outputs']) # deep copy of the dataframes inside the dictionary so we can don't change the data (can rerun this without reloading)\n",
    "data_dictionary = deepcopy(loaded_data['data_dictionary'])\n",
    "sensor_map_df = loaded_data['sensor_map_df'].copy()\n",
    "if 'sensor_id' not in sensor_map_df.columns:\n",
    "    sensor_map_df['sensor_id'] = sensor_map_df['Sensor_Id'].astype(str)\n",
    "    sensor_map_df.set_index('sensor_id', inplace=True)\n",
    "\t\n",
    "# if you need to re run the data aggregation step:\n",
    "from PerformanceEvaluation import PerformanceEvaluation\n",
    "minimum_setting= dict(main={'output_path':full_folder.joinpath('test')})\n",
    "pe = PerformanceEvaluation(minimum_setting)\n",
    "aggregated_data = self.evaluator.create_aggregated_data(alg_outputs, sensor_map_df, data_dictionary)\n",
    "\n",
    " \n",
    "\n",
    "# running the concurrence table, i presume yours is similar\n",
    "\n",
    "paired_pts_dataframe = aggregated_data['ysi']\n",
    "df_list = AccuracyMetrics.calculate_concurrence_table(paired_pts_df, test_col='biolinq', ref_col='ysi')"
   ]
  },
  {
   "cell_type": "code",
   "execution_count": null,
   "metadata": {},
   "outputs": [],
   "source": [
    "import statsmodels.api as sm\n",
    "import statsmodels.formula.api as smf\n"
   ]
  },
  {
   "cell_type": "code",
   "execution_count": null,
   "metadata": {},
   "outputs": [],
   "source": [
    "ysiAggData.head()\n"
   ]
  },
  {
   "cell_type": "code",
   "execution_count": null,
   "metadata": {},
   "outputs": [],
   "source": [
    "print(ysiAggData.columns)"
   ]
  },
  {
   "cell_type": "code",
   "execution_count": null,
   "metadata": {},
   "outputs": [],
   "source": [
    "ysiAggDataCopy = ysiAggData.copy()\n",
    "ysiAggDataCopy.rename(columns={\"biolinq bin agreement_15pct\": \"p15_biolinq\", \"Subject ID\": \"subject_id\"}, inplace=True)\n",
    "ysiAggDataCopy[\"p15_biolinq\"] = ysiAggDataCopy[\"p15_biolinq\"]*1\n",
    "ysiAggDataCopy.insert(0,'dummy',0)\n",
    "ysiAggDataCopy.head(3)\n"
   ]
  },
  {
   "cell_type": "code",
   "execution_count": null,
   "metadata": {},
   "outputs": [],
   "source": [
    "fam = sm.families.Binomial()\n",
    "ind = sm.cov_struct.Exchangeable()\n",
    "mod = smf.gee(\"p15_biolinq ~ dummy\", groups=\"sensor_id\", data=ysiAggDataCopy, cov_struct=ind, family=fam)\n",
    "fitResult = mod.fit()\n",
    "print(fitResult.summary())"
   ]
  },
  {
   "cell_type": "code",
   "execution_count": null,
   "metadata": {},
   "outputs": [],
   "source": [
    "fam = sm.families.Binomial()\n",
    "ind = sm.cov_struct.Exchangeable()\n",
    "mod = sm.GEE.from_formula(\"p15_biolinq ~ dummy\", groups=\"sensor_id\", data=ysiAggDataCopy, cov_struct=ind, family=fam)\n",
    "fitResult = mod.fit()\n",
    "print(fitResult.summary())"
   ]
  },
  {
   "cell_type": "code",
   "execution_count": null,
   "metadata": {},
   "outputs": [],
   "source": [
    "pp = 0.8119\n",
    "lb = pp - 1.96 * np.sqrt(pp*(1-pp)/516)\n",
    "print(lb)"
   ]
  },
  {
   "cell_type": "code",
   "execution_count": null,
   "metadata": {},
   "outputs": [],
   "source": [
    "ci_matrix = fitResult.conf_int(alpha = 0.1, cov_type = 'robust')"
   ]
  },
  {
   "cell_type": "code",
   "execution_count": null,
   "metadata": {},
   "outputs": [],
   "source": [
    "ysiAggDataCopy[\"combined\"] = ysiAggDataCopy.loc[:,[\"p15_biolinq\",\"Sensor_Id\"]].values.tolist()\n",
    "ysiAggDataCopy.head()"
   ]
  },
  {
   "cell_type": "code",
   "execution_count": null,
   "metadata": {},
   "outputs": [],
   "source": [
    "df = pd.DataFrame(ysiAggDataCopy[\"combined\"])\n",
    "df[['p15','sensorId']] = pd.DataFrame(df.combined.tolist(),index = df.index)\n",
    "df.head()"
   ]
  },
  {
   "cell_type": "code",
   "execution_count": null,
   "metadata": {},
   "outputs": [],
   "source": [
    "df = pd.DataFrame({\"rate\": np.linspace(0,1,11), \"Sensor_Id\": ['a']*3+['b']*4+['c']*4})\n",
    "df.head()"
   ]
  },
  {
   "cell_type": "code",
   "execution_count": null,
   "metadata": {},
   "outputs": [],
   "source": [
    "sid_df = pd.DataFrame({'Sensor_Id': pd.unique(df['Sensor_Id'])})\n",
    "sid_df.head()"
   ]
  },
  {
   "cell_type": "code",
   "execution_count": null,
   "metadata": {},
   "outputs": [],
   "source": [
    "bootstrap_df = sid_df.sample(frac=1, replace=True, random_state=4)\n",
    "bootstrap_df = bootstrap_df.merge(df,how='left')\n",
    "print(df)\n",
    "print(bootstrap_df)"
   ]
  },
  {
   "cell_type": "code",
   "execution_count": null,
   "metadata": {},
   "outputs": [],
   "source": [
    "print(df)\n",
    "print(df['rate'].mean())"
   ]
  },
  {
   "cell_type": "code",
   "execution_count": null,
   "metadata": {},
   "outputs": [],
   "source": [
    "np.full(10, np.nan)"
   ]
  },
  {
   "cell_type": "code",
   "execution_count": null,
   "metadata": {},
   "outputs": [],
   "source": [
    "num_list = np.linspace(1,10,10)\n",
    "print(num_list)\n",
    "print(num_list[0:10])\n",
    "print([0:10])"
   ]
  },
  {
   "cell_type": "code",
   "execution_count": null,
   "metadata": {},
   "outputs": [],
   "source": [
    "import random as rd"
   ]
  },
  {
   "cell_type": "code",
   "execution_count": null,
   "metadata": {},
   "outputs": [],
   "source": [
    "x = list(range(1,10000))\n",
    "print(x)\n",
    "rd.seed(11)\n",
    "rd.shuffle(x)\n",
    "print(x)"
   ]
  },
  {
   "cell_type": "code",
   "execution_count": null,
   "metadata": {},
   "outputs": [],
   "source": [
    "df.sample(frac=1, replace=True, random_state=1)"
   ]
  },
  {
   "cell_type": "code",
   "execution_count": null,
   "metadata": {},
   "outputs": [],
   "source": [
    "df.groupby('Sensor_Id').sample(frac=1, replace=True, random_state=2)"
   ]
  },
  {
   "cell_type": "code",
   "execution_count": null,
   "metadata": {},
   "outputs": [],
   "source": [
    "np.mean([True,False])"
   ]
  },
  {
   "cell_type": "code",
   "execution_count": null,
   "metadata": {},
   "outputs": [],
   "source": [
    "import re\n",
    "print(re.fullmatch(r'mag\\d_1007', 'mag1_1007'))"
   ]
  },
  {
   "cell_type": "code",
   "execution_count": null,
   "metadata": {},
   "outputs": [],
   "source": [
    "r'mag\\d_1007'"
   ]
  },
  {
   "cell_type": "code",
   "execution_count": null,
   "metadata": {},
   "outputs": [],
   "source": [
    "df = pd.DataFrame({'angles': [0, 2, 5],\n",
    "                   'degrees': [360, 180, 360]},\n",
    "                  index=['circle', 'triangle', 'rectangle'])\n",
    "df"
   ]
  },
  {
   "cell_type": "code",
   "execution_count": null,
   "metadata": {},
   "outputs": [],
   "source": [
    "df.loc[:,'angles'].rdiv(1)"
   ]
  },
  {
   "cell_type": "code",
   "execution_count": null,
   "metadata": {},
   "outputs": [],
   "source": [
    "df.insert(0,'dummy',1)\n",
    "df"
   ]
  },
  {
   "cell_type": "code",
   "execution_count": null,
   "metadata": {},
   "outputs": [],
   "source": [
    "'dummy1' in df.columns"
   ]
  },
  {
   "cell_type": "code",
   "execution_count": null,
   "metadata": {},
   "outputs": [],
   "source": [
    "a = pd.Series([1, 1, 0.0, np.nan])\n",
    "print(a.rdiv(1))\n",
    "print(1/a)"
   ]
  },
  {
   "cell_type": "code",
   "execution_count": null,
   "metadata": {},
   "outputs": [],
   "source": [
    "v1 = [np.nan, 1, 3, 4, 8, 10, 12]\n",
    "v2 = [np.nan, 0, 4, 7, 8, 11, 13.5]\n",
    "s1 = pd.Series(v1)\n",
    "s2 = pd.Series(v2)\n",
    "s1.rolling(4,min_periods=3).corr(s2)"
   ]
  },
  {
   "cell_type": "code",
   "execution_count": null,
   "metadata": {},
   "outputs": [],
   "source": [
    "df = pd.DataFrame({'col1':v1,'col2':v2})\n",
    "print(df)\n",
    "df.apply(softmax,axis=1)"
   ]
  },
  {
   "cell_type": "code",
   "execution_count": null,
   "metadata": {},
   "outputs": [],
   "source": [
    "softmax(np.array([-0.1,0.1,-0.2])*5)"
   ]
  },
  {
   "cell_type": "code",
   "execution_count": null,
   "metadata": {},
   "outputs": [],
   "source": [
    "softmax(np.array([0.95,0.50,-1e4])*5)"
   ]
  },
  {
   "cell_type": "code",
   "execution_count": null,
   "metadata": {},
   "outputs": [],
   "source": [
    "tmp_str=['a','b','c']\n",
    "tt = tmp_str.copy()\n",
    "tt.remove('b')\n",
    "print(tmp_str)\n",
    "print(tt)"
   ]
  },
  {
   "cell_type": "code",
   "execution_count": null,
   "metadata": {},
   "outputs": [],
   "source": [
    "for i, j, k in zip([0, 1, 2], ['a', 'b', 'c'],['aa','bb','cc']):\n",
    "    print('i:', i, 'j:', j,'k:', k)"
   ]
  },
  {
   "cell_type": "code",
   "execution_count": null,
   "metadata": {},
   "outputs": [],
   "source": [
    "for i, j in enumerate(['a', 'b', 'c']):\n",
    "    print('i:', i, 'j:', j)"
   ]
  },
  {
   "cell_type": "code",
   "execution_count": null,
   "metadata": {},
   "outputs": [],
   "source": [
    "test = [0,1,2]\n",
    "print(test)\n",
    "test = [2,3,4]\n",
    "print(test)\n",
    "test[1]=100\n",
    "print(test)"
   ]
  },
  {
   "cell_type": "code",
   "execution_count": null,
   "metadata": {},
   "outputs": [],
   "source": [
    "s = pd.Series(range(10))\n",
    "print(s)\n",
    "s.rolling(window=5,center=True).sum()\n"
   ]
  },
  {
   "cell_type": "code",
   "execution_count": null,
   "metadata": {},
   "outputs": [],
   "source": [
    "a = pd.Series([1, 2, 3, np.nan])\n",
    "print(a.pow(2))\n",
    "print(a.pow(2).rolling(3,min_periods=2).sum())\n",
    "print(a.pow(2).rolling(3,min_periods=2).mean())\n",
    "a.pow(2).rolling(3,min_periods=2).sum().divide(a.pow(2).rolling(3,min_periods=2).mean())"
   ]
  },
  {
   "cell_type": "code",
   "execution_count": null,
   "metadata": {},
   "outputs": [],
   "source": [
    "pd.Timedelta('7.5min')"
   ]
  },
  {
   "cell_type": "code",
   "execution_count": null,
   "metadata": {},
   "outputs": [],
   "source": [
    "combination_paired_ch = list(combinations(['1','3','4'],2))\n",
    "print(combination_paired_ch)"
   ]
  },
  {
   "cell_type": "code",
   "execution_count": null,
   "metadata": {},
   "outputs": [],
   "source": [
    "df_time = pd.DataFrame({'B': [0, 1, 2, np.nan, 4, 5],\n",
    "                        'A':[pd.Timestamp('20130101 09:00:00'),\n",
    "                              pd.Timestamp('20130101 09:00:02'),\n",
    "                              pd.Timestamp('20130101 09:00:03'),\n",
    "                              pd.Timestamp('20130101 09:00:05'),\n",
    "                              pd.Timestamp('20130101 09:00:06'),\n",
    "                              pd.Timestamp('20130101 09:00:07')]})\n",
    "print(df_time)"
   ]
  },
  {
   "cell_type": "code",
   "execution_count": null,
   "metadata": {},
   "outputs": [],
   "source": [
    "print(df_time['B'].rolling(2,min_periods=1).mean())\n",
    "print(df_time.rolling('3S',on='A',min_periods=1).sum())"
   ]
  },
  {
   "cell_type": "code",
   "execution_count": null,
   "metadata": {},
   "outputs": [],
   "source": [
    "df_time['B'].rolling(2,min_periods=1).mean().divide(df_time['B'])"
   ]
  },
  {
   "cell_type": "code",
   "execution_count": null,
   "metadata": {},
   "outputs": [],
   "source": [
    "print([0.036/18,0.27/18])\n",
    "print(0.02/18)\n",
    "print(1/0.002-1/(0.002-0.02/18))"
   ]
  },
  {
   "cell_type": "code",
   "execution_count": 85,
   "metadata": {},
   "outputs": [
    {
     "data": {
      "text/html": [
       "<div>\n",
       "<style scoped>\n",
       "    .dataframe tbody tr th:only-of-type {\n",
       "        vertical-align: middle;\n",
       "    }\n",
       "\n",
       "    .dataframe tbody tr th {\n",
       "        vertical-align: top;\n",
       "    }\n",
       "\n",
       "    .dataframe thead th {\n",
       "        text-align: right;\n",
       "    }\n",
       "</style>\n",
       "<table border=\"1\" class=\"dataframe\">\n",
       "  <thead>\n",
       "    <tr style=\"text-align: right;\">\n",
       "      <th></th>\n",
       "      <th>Year of Launch</th>\n",
       "      <th>Engine Number</th>\n",
       "      <th>Chasis Unique Id</th>\n",
       "    </tr>\n",
       "  </thead>\n",
       "  <tbody>\n",
       "    <tr>\n",
       "      <th>0</th>\n",
       "      <td>1999.0</td>\n",
       "      <td>NaN</td>\n",
       "      <td>4023.0</td>\n",
       "    </tr>\n",
       "    <tr>\n",
       "      <th>1</th>\n",
       "      <td>NaN</td>\n",
       "      <td>15.0</td>\n",
       "      <td>NaN</td>\n",
       "    </tr>\n",
       "    <tr>\n",
       "      <th>2</th>\n",
       "      <td>1986.0</td>\n",
       "      <td>22.0</td>\n",
       "      <td>3115.0</td>\n",
       "    </tr>\n",
       "    <tr>\n",
       "      <th>3</th>\n",
       "      <td>2020.0</td>\n",
       "      <td>43.0</td>\n",
       "      <td>4522.0</td>\n",
       "    </tr>\n",
       "    <tr>\n",
       "      <th>4</th>\n",
       "      <td>NaN</td>\n",
       "      <td>44.0</td>\n",
       "      <td>3643.0</td>\n",
       "    </tr>\n",
       "    <tr>\n",
       "      <th>5</th>\n",
       "      <td>1991.0</td>\n",
       "      <td>NaN</td>\n",
       "      <td>3774.0</td>\n",
       "    </tr>\n",
       "    <tr>\n",
       "      <th>6</th>\n",
       "      <td>2007.0</td>\n",
       "      <td>55.0</td>\n",
       "      <td>2955.0</td>\n",
       "    </tr>\n",
       "    <tr>\n",
       "      <th>7</th>\n",
       "      <td>2011.0</td>\n",
       "      <td>NaN</td>\n",
       "      <td>NaN</td>\n",
       "    </tr>\n",
       "    <tr>\n",
       "      <th>8</th>\n",
       "      <td>2001.0</td>\n",
       "      <td>57.0</td>\n",
       "      <td>3587.0</td>\n",
       "    </tr>\n",
       "    <tr>\n",
       "      <th>9</th>\n",
       "      <td>2017.0</td>\n",
       "      <td>NaN</td>\n",
       "      <td>NaN</td>\n",
       "    </tr>\n",
       "  </tbody>\n",
       "</table>\n",
       "</div>"
      ],
      "text/plain": [
       "   Year of Launch  Engine Number  Chasis Unique Id\n",
       "0          1999.0            NaN            4023.0\n",
       "1             NaN           15.0               NaN\n",
       "2          1986.0           22.0            3115.0\n",
       "3          2020.0           43.0            4522.0\n",
       "4             NaN           44.0            3643.0\n",
       "5          1991.0            NaN            3774.0\n",
       "6          2007.0           55.0            2955.0\n",
       "7          2011.0            NaN               NaN\n",
       "8          2001.0           57.0            3587.0\n",
       "9          2017.0            NaN               NaN"
      ]
     },
     "execution_count": 85,
     "metadata": {},
     "output_type": "execute_result"
    }
   ],
   "source": [
    "car = {'Year of Launch': [1999, np.nan, 1986, 2020, np.nan,\n",
    "                          1991, 2007, 2011, 2001, 2017],\n",
    "       'Engine Number': [np.nan, 15, 22, 43, 44, np.nan,\n",
    "                         55, np.nan, 57, np.nan],\n",
    "       'Chasis Unique Id': [4023, np.nan, 3115, 4522, 3643,\n",
    "                            3774, 2955, np.nan, 3587, np.nan]}\n",
    "# Create the dataframe\n",
    "df = pd.DataFrame(car, columns=['Year of Launch', 'Engine Number',\n",
    "                                'Chasis Unique Id'])\n",
    "df"
   ]
  },
  {
   "cell_type": "code",
   "execution_count": null,
   "metadata": {},
   "outputs": [],
   "source": [
    "def add_row(df_test,new_row):\n",
    "    df.loc[len(df_test)] = new_row\n",
    "\n",
    "print(df)\n",
    "add_row(df,df.iloc[0])\n",
    "print(df)"
   ]
  },
  {
   "cell_type": "code",
   "execution_count": null,
   "metadata": {},
   "outputs": [],
   "source": [
    "df[len(df)] = df.iloc[0]"
   ]
  },
  {
   "cell_type": "code",
   "execution_count": null,
   "metadata": {},
   "outputs": [],
   "source": [
    "df.loc[len(df)+1] = [1,2,3]\n",
    "print(df.loc[-1])"
   ]
  },
  {
   "cell_type": "code",
   "execution_count": null,
   "metadata": {},
   "outputs": [],
   "source": [
    "df2 = df.loc[np.isnan(df['Engine Number'])].copy()\n",
    "print(df2)\n",
    "print(df2.index)\n",
    "df2.reset_index(inplace=True,drop=True)\n",
    "print(df2)\n",
    "print(df2.index)"
   ]
  },
  {
   "cell_type": "code",
   "execution_count": null,
   "metadata": {},
   "outputs": [],
   "source": [
    "df2.rename(columns={'aa': 'aa'},inplace=True)"
   ]
  },
  {
   "cell_type": "code",
   "execution_count": null,
   "metadata": {},
   "outputs": [],
   "source": [
    "drop_index = df[df['Year of Launch']<2000].index\n",
    "print(df.drop(drop_index,inplace=True))\n",
    "print(df)"
   ]
  },
  {
   "cell_type": "code",
   "execution_count": null,
   "metadata": {},
   "outputs": [],
   "source": [
    "np.int64(3) != 2"
   ]
  },
  {
   "cell_type": "code",
   "execution_count": null,
   "metadata": {},
   "outputs": [],
   "source": [
    "df.loc[np.isnan(df['Engine Number'])].index"
   ]
  },
  {
   "cell_type": "code",
   "execution_count": null,
   "metadata": {},
   "outputs": [],
   "source": [
    "type(df.loc[0,'Engine Number'])"
   ]
  },
  {
   "cell_type": "code",
   "execution_count": 74,
   "metadata": {},
   "outputs": [
    {
     "name": "stdout",
     "output_type": "stream",
     "text": [
      "1\n",
      "2\n",
      "3\n",
      "4\n"
     ]
    }
   ],
   "source": [
    "for i in range(1, 5):\n",
    "    print(i)"
   ]
  },
  {
   "cell_type": "code",
   "execution_count": null,
   "metadata": {},
   "outputs": [],
   "source": [
    "data_carrier = df.loc[0]"
   ]
  },
  {
   "cell_type": "code",
   "execution_count": null,
   "metadata": {},
   "outputs": [],
   "source": [
    "for ind in df.index:\n",
    "    print(df.loc[ind])"
   ]
  },
  {
   "cell_type": "code",
   "execution_count": null,
   "metadata": {},
   "outputs": [],
   "source": [
    "data_carrier['Year of Launch']"
   ]
  },
  {
   "cell_type": "code",
   "execution_count": null,
   "metadata": {},
   "outputs": [],
   "source": [
    "df.fillna(1,inplace=True)"
   ]
  },
  {
   "cell_type": "code",
   "execution_count": null,
   "metadata": {},
   "outputs": [],
   "source": [
    "# dropping the rows having NaN values\n",
    "df = df.dropna()\n",
    " \n",
    "# # To reset the indices\n",
    "df = df.reset_index(drop=True)\n",
    " \n",
    "# Print the dataframe\n",
    "df"
   ]
  },
  {
   "cell_type": "code",
   "execution_count": null,
   "metadata": {},
   "outputs": [],
   "source": [
    "np.nan in [-np.inf, np.inf]"
   ]
  },
  {
   "cell_type": "code",
   "execution_count": null,
   "metadata": {},
   "outputs": [],
   "source": [
    "nn_low_hidden = pd.read_csv('/Users/liangwang/GitHub/DataAnalysis/Calibration/Fault before Fusion/model_low_hidden_ch3.csv')\n",
    "nn_low_output = pd.read_csv('/Users/liangwang/GitHub/DataAnalysis/Calibration/Fault before Fusion/model_low_output_ch3.csv')\n",
    "nn_min_max_scaler = pd.read_csv('/Users/liangwang/GitHub/DataAnalysis/Calibration/Fault before Fusion/model_nn_min_max_scaler_ch3.csv')\n",
    "\n"
   ]
  },
  {
   "cell_type": "code",
   "execution_count": null,
   "metadata": {},
   "outputs": [],
   "source": [
    "nn_low_hidden.set_index('Unnamed: 0',inplace=True)\n",
    "nn_low_hidden"
   ]
  },
  {
   "cell_type": "code",
   "execution_count": null,
   "metadata": {},
   "outputs": [],
   "source": [
    "feature_col = list(nn_low_hidden.index[1:])\n",
    "feature_col"
   ]
  },
  {
   "cell_type": "code",
   "execution_count": null,
   "metadata": {},
   "outputs": [],
   "source": [
    "nn_min_max_scaler.set_index('Unnamed: 0',inplace=True)\n",
    "nn_min_max_scaler"
   ]
  },
  {
   "cell_type": "code",
   "execution_count": null,
   "metadata": {},
   "outputs": [],
   "source": [
    "nn_min_max_scaler.loc[feature_col,'Min']"
   ]
  },
  {
   "cell_type": "code",
   "execution_count": null,
   "metadata": {},
   "outputs": [],
   "source": [
    "nn_low_output.set_index('Unnamed: 0',inplace=True)"
   ]
  },
  {
   "cell_type": "code",
   "execution_count": null,
   "metadata": {},
   "outputs": [],
   "source": [
    "nn_low_output.loc[1:10,:].min()"
   ]
  },
  {
   "cell_type": "code",
   "execution_count": null,
   "metadata": {},
   "outputs": [],
   "source": [
    "x_test_norm_2 = biolinq[feature_col].subtract(nn_min_max_scaler.loc[feature_col,'Min']).divide(nn_min_max_scaler.loc[feature_col,'Max']-nn_min_max_scaler.loc[feature_col,'Min'])\n",
    "y_test_low_proba_2 = x_test_norm_2.dot(nn_low_hidden.loc[feature_col,:]).add(nn_low_hidden.loc['hidden_intercept']).applymap(relu_0).dot(nn_low_output.loc[1:10,:].reset_index(drop=True)).add(nn_low_output.loc[0,:]).applymap(sigmoid)"
   ]
  },
  {
   "cell_type": "code",
   "execution_count": null,
   "metadata": {},
   "outputs": [],
   "source": [
    "isinstance('aaa',str)"
   ]
  },
  {
   "cell_type": "code",
   "execution_count": null,
   "metadata": {},
   "outputs": [],
   "source": [
    "type('aaa')"
   ]
  },
  {
   "cell_type": "code",
   "execution_count": null,
   "metadata": {},
   "outputs": [],
   "source": [
    "1066*6"
   ]
  },
  {
   "cell_type": "code",
   "execution_count": null,
   "metadata": {},
   "outputs": [],
   "source": [
    "test = ['a','b']\n",
    "'a' + test[1]"
   ]
  },
  {
   "cell_type": "code",
   "execution_count": null,
   "metadata": {},
   "outputs": [],
   "source": [
    "test = []\n",
    "test.append('a')"
   ]
  },
  {
   "cell_type": "code",
   "execution_count": null,
   "metadata": {},
   "outputs": [],
   "source": [
    "test.append('b')\n",
    "test"
   ]
  },
  {
   "cell_type": "code",
   "execution_count": null,
   "metadata": {},
   "outputs": [],
   "source": [
    "import importlib.util\n",
    "import sys\n",
    "\n",
    "# For illustrative purposes.\n",
    "file_path = '/Users/liangwang/GitHub/Hello World/test_module_plugin.py'\n",
    "module_name = 'aaa'\n",
    "\n",
    "spec = importlib.util.spec_from_file_location(module_name,file_path)\n",
    "module = importlib.util.module_from_spec(spec)\n",
    "spec.loader.exec_module(module)\n",
    "print(dir(module))\n"
   ]
  },
  {
   "cell_type": "code",
   "execution_count": null,
   "metadata": {},
   "outputs": [],
   "source": [
    "add_or_subtract = module.add_or_subtract"
   ]
  },
  {
   "cell_type": "code",
   "execution_count": null,
   "metadata": {},
   "outputs": [],
   "source": [
    "add_or_subtract(5,17,True)"
   ]
  },
  {
   "cell_type": "code",
   "execution_count": null,
   "metadata": {},
   "outputs": [],
   "source": [
    "module.np.pi"
   ]
  },
  {
   "cell_type": "code",
   "execution_count": null,
   "metadata": {},
   "outputs": [],
   "source": [
    "module.add_or_subtract(2,3,True)"
   ]
  },
  {
   "cell_type": "code",
   "execution_count": null,
   "metadata": {},
   "outputs": [],
   "source": [
    "from pathlib import Path\n",
    "Path('/Users/liangwang/GitHub/Algorithm/Modules/process_module.py')"
   ]
  },
  {
   "cell_type": "code",
   "execution_count": 45,
   "metadata": {},
   "outputs": [],
   "source": [
    "from ruamel.yaml import YAML\n",
    "yaml = YAML(typ='rt')\n",
    "yaml.explicit_start = False\n",
    "test = yaml.load(Path('/Users/liangwang/GitHub/Algorithm/Blue Prints/sample_blue_prints.yaml'))\n",
    "test2 = yaml.load(Path('/Users/liangwang/GitHub/Algorithm/Modules/anomalyDetection/parameters.yaml'))\n",
    "test3 = yaml.load(Path('/Users/liangwang/GitHub/Algorithm/Modules/alignment/output_info.yaml'))"
   ]
  },
  {
   "cell_type": "code",
   "execution_count": 46,
   "metadata": {},
   "outputs": [
    {
     "data": {
      "text/plain": [
       "True"
      ]
     },
     "execution_count": 46,
     "metadata": {},
     "output_type": "execute_result"
    }
   ],
   "source": [
    "test2.get('save_intermediate_states').get('value')"
   ]
  },
  {
   "cell_type": "code",
   "execution_count": 76,
   "metadata": {},
   "outputs": [
    {
     "name": "stdout",
     "output_type": "stream",
     "text": [
      "{'a': 1, 'b': 2}\n",
      "2\n"
     ]
    }
   ],
   "source": [
    "test2 = {}\n",
    "test2['a'] = 1\n",
    "test2['b'] = 2\n",
    "print(test2)\n",
    "print(test2.get('b'))"
   ]
  },
  {
   "cell_type": "code",
   "execution_count": 39,
   "metadata": {},
   "outputs": [
    {
     "data": {
      "text/plain": [
       "bool"
      ]
     },
     "execution_count": 39,
     "metadata": {},
     "output_type": "execute_result"
    }
   ],
   "source": [
    "type(True)"
   ]
  },
  {
   "cell_type": "code",
   "execution_count": null,
   "metadata": {},
   "outputs": [],
   "source": [
    "type(np.nan)"
   ]
  },
  {
   "cell_type": "code",
   "execution_count": null,
   "metadata": {},
   "outputs": [],
   "source": [
    "type(test)"
   ]
  },
  {
   "cell_type": "code",
   "execution_count": null,
   "metadata": {},
   "outputs": [],
   "source": [
    "test"
   ]
  },
  {
   "cell_type": "code",
   "execution_count": null,
   "metadata": {},
   "outputs": [],
   "source": [
    "test2['modules']['non_glucose_signal_model']['module_class']='a'"
   ]
  },
  {
   "cell_type": "code",
   "execution_count": null,
   "metadata": {},
   "outputs": [],
   "source": [
    "test == test2"
   ]
  },
  {
   "cell_type": "code",
   "execution_count": null,
   "metadata": {},
   "outputs": [],
   "source": [
    "test.get('modules').get('non_glucose_signal_model').get('params_yaml_path')"
   ]
  },
  {
   "cell_type": "code",
   "execution_count": null,
   "metadata": {},
   "outputs": [],
   "source": [
    "test.get('modules').get('non_glucose_signal_model').get('params_yaml_path') is None"
   ]
  },
  {
   "cell_type": "code",
   "execution_count": null,
   "metadata": {},
   "outputs": [],
   "source": [
    "test.get('a') is None"
   ]
  },
  {
   "cell_type": "code",
   "execution_count": null,
   "metadata": {},
   "outputs": [],
   "source": [
    "test_dict = dict(test['modules'])"
   ]
  },
  {
   "cell_type": "code",
   "execution_count": null,
   "metadata": {},
   "outputs": [],
   "source": [
    "test_dict = yaml.load(test)"
   ]
  },
  {
   "cell_type": "code",
   "execution_count": null,
   "metadata": {},
   "outputs": [],
   "source": [
    "type(test_dict)"
   ]
  },
  {
   "cell_type": "code",
   "execution_count": null,
   "metadata": {},
   "outputs": [],
   "source": [
    "type(test_dict['non_glucose_signal_model'])"
   ]
  },
  {
   "cell_type": "code",
   "execution_count": null,
   "metadata": {},
   "outputs": [],
   "source": [
    "test['modules']['non_glucose_signal_model'].update(test2['architecture_blocks'])"
   ]
  },
  {
   "cell_type": "code",
   "execution_count": null,
   "metadata": {},
   "outputs": [],
   "source": [
    "test"
   ]
  },
  {
   "cell_type": "code",
   "execution_count": null,
   "metadata": {},
   "outputs": [],
   "source": [
    "list(test)"
   ]
  },
  {
   "cell_type": "code",
   "execution_count": null,
   "metadata": {},
   "outputs": [],
   "source": [
    "yaml.default_flow_style= False\n",
    "filename = '/Users/liangwang/GitHub/Algorithm/Blue Prints/test.yaml'\n",
    "with open(filename, 'w') as f:\n",
    "    yaml.dump(test, f)    "
   ]
  },
  {
   "cell_type": "code",
   "execution_count": 118,
   "metadata": {},
   "outputs": [
    {
     "name": "stdout",
     "output_type": "stream",
     "text": [
      "a: 1\n",
      "b: 2\n"
     ]
    }
   ],
   "source": [
    "yaml = YAML(typ='rt')\n",
    "test2 = yaml.dump((dict(a=1, b=2)), sys.stdout)\n",
    "test2\n"
   ]
  },
  {
   "cell_type": "code",
   "execution_count": null,
   "metadata": {},
   "outputs": [],
   "source": [
    "for step in test['architecture_blocks']:\n",
    "    print(step)\n",
    "    print(test['architecture_blocks'][step])"
   ]
  },
  {
   "cell_type": "code",
   "execution_count": null,
   "metadata": {},
   "outputs": [],
   "source": [
    "type(test['architecture_blocks'])"
   ]
  },
  {
   "cell_type": "code",
   "execution_count": null,
   "metadata": {},
   "outputs": [],
   "source": [
    "test"
   ]
  },
  {
   "cell_type": "code",
   "execution_count": null,
   "metadata": {},
   "outputs": [],
   "source": [
    "def test_fun(yaml_data,yaml_data2):\n",
    "    yaml_data['architecture_blocks']['new_block'] = yaml_data2['modules']\n",
    "    del yaml_data['modules']\n",
    "\n",
    "print(test)\n",
    "print(test_fun(test,test2))\n",
    "print(test)"
   ]
  },
  {
   "cell_type": "code",
   "execution_count": null,
   "metadata": {},
   "outputs": [],
   "source": [
    "class test_class:\n",
    "    def __init__(self):\n",
    "        self.a = {'aa':1,'aa2':2}\n",
    "        self.b = {'bb':3,'bb2':4}\n",
    "\n",
    "test_obj = test_class()"
   ]
  },
  {
   "cell_type": "code",
   "execution_count": null,
   "metadata": {},
   "outputs": [],
   "source": [
    "def update_test_obj(a,c):\n",
    "    a['aa']=c"
   ]
  },
  {
   "cell_type": "code",
   "execution_count": null,
   "metadata": {},
   "outputs": [],
   "source": [
    "print(test_obj.a)\n",
    "print(test_obj.b)\n",
    "update_test_obj(test_obj.a,5)\n",
    "print(test_obj.a)\n",
    "print(test_obj.b)"
   ]
  },
  {
   "cell_type": "code",
   "execution_count": null,
   "metadata": {},
   "outputs": [],
   "source": [
    "'c' in ['a','b']"
   ]
  },
  {
   "cell_type": "code",
   "execution_count": null,
   "metadata": {},
   "outputs": [],
   "source": [
    "test"
   ]
  },
  {
   "cell_type": "code",
   "execution_count": null,
   "metadata": {},
   "outputs": [],
   "source": [
    "test_list = []\n",
    "print(test_list)\n",
    "test_list.extend('a')\n",
    "print(test_list)\n",
    "test_list.extend(['c','d'])\n",
    "print(test_list)\n",
    "test_list.extend(test.get('architecture_blocks'))\n",
    "print(test_list)"
   ]
  },
  {
   "cell_type": "code",
   "execution_count": null,
   "metadata": {},
   "outputs": [],
   "source": [
    "str_list = list(test.get('architecture_blocks'))\n",
    "test_list.extend([each_str + 'aaa' for each_str in test.get('architecture_blocks')])\n",
    "print(test_list)"
   ]
  },
  {
   "cell_type": "code",
   "execution_count": null,
   "metadata": {},
   "outputs": [],
   "source": [
    "str_list = list(test.get('architecture_blocks'))\n",
    "test_list.extend([list(test.get('architecture_blocks').get(each_str)) for each_str in test.get('architecture_blocks')])\n",
    "print(test_list)"
   ]
  },
  {
   "cell_type": "code",
   "execution_count": null,
   "metadata": {},
   "outputs": [],
   "source": [
    " + ['aaa']"
   ]
  },
  {
   "cell_type": "code",
   "execution_count": null,
   "metadata": {},
   "outputs": [],
   "source": [
    "test_dict = {}\n",
    "test_dict['a'] = 5\n",
    "test_dict['b'] = 6"
   ]
  },
  {
   "cell_type": "code",
   "execution_count": null,
   "metadata": {},
   "outputs": [],
   "source": [
    "test_dict.items()"
   ]
  },
  {
   "cell_type": "code",
   "execution_count": 82,
   "metadata": {},
   "outputs": [],
   "source": [
    "test_dict = {}\n",
    "test_dict['a'] = [5,4]\n",
    "test_dict['b'] = [6,7]"
   ]
  },
  {
   "cell_type": "code",
   "execution_count": 115,
   "metadata": {},
   "outputs": [
    {
     "data": {
      "text/plain": [
       "15"
      ]
     },
     "execution_count": 115,
     "metadata": {},
     "output_type": "execute_result"
    }
   ],
   "source": [
    "test_dict.get('c',15)"
   ]
  },
  {
   "cell_type": "code",
   "execution_count": null,
   "metadata": {},
   "outputs": [],
   "source": [
    "pd.DataFrame.from_dict(test_dict,orient='index').T"
   ]
  },
  {
   "cell_type": "code",
   "execution_count": null,
   "metadata": {},
   "outputs": [],
   "source": [
    "for _,value in test_dict.items():\n",
    "    print(value)"
   ]
  },
  {
   "cell_type": "code",
   "execution_count": null,
   "metadata": {},
   "outputs": [],
   "source": [
    "test_list = [np.nan, 0, None, 'Unknown']"
   ]
  },
  {
   "cell_type": "code",
   "execution_count": null,
   "metadata": {},
   "outputs": [],
   "source": [
    "test_list_long = test_list * 3\n",
    "test_matrix = np.reshape(test_list_long,[3,4])\n",
    "print(test_matrix)\n",
    "print(type(test_matrix))\n",
    "test_df = pd.DataFrame(test_matrix, columns = ['a','b','c','d'])\n",
    "print(test_df)"
   ]
  },
  {
   "cell_type": "code",
   "execution_count": null,
   "metadata": {},
   "outputs": [],
   "source": [
    "test_dict = {}\n",
    "test_dict['a'] = test_df\n",
    "test_dict['b'] = test_df"
   ]
  },
  {
   "cell_type": "code",
   "execution_count": null,
   "metadata": {},
   "outputs": [],
   "source": [
    "type(test_dict['b'])"
   ]
  },
  {
   "cell_type": "code",
   "execution_count": null,
   "metadata": {},
   "outputs": [],
   "source": [
    "type(test_df.loc[0,'a'])"
   ]
  },
  {
   "cell_type": "code",
   "execution_count": null,
   "metadata": {},
   "outputs": [],
   "source": [
    "test_none = None"
   ]
  },
  {
   "cell_type": "code",
   "execution_count": null,
   "metadata": {},
   "outputs": [],
   "source": [
    "test_none == None"
   ]
  },
  {
   "cell_type": "code",
   "execution_count": null,
   "metadata": {},
   "outputs": [],
   "source": [
    "test"
   ]
  },
  {
   "cell_type": "code",
   "execution_count": null,
   "metadata": {},
   "outputs": [],
   "source": [
    "for i in test.get('architecture_blocks'):\n",
    "    print(i)"
   ]
  },
  {
   "cell_type": "code",
   "execution_count": null,
   "metadata": {},
   "outputs": [],
   "source": [
    "x = \"hello\"\n",
    "\n",
    "#if condition returns False, AssertionError is raised:\n",
    "assert x == \"goodbye\", f\"x is {x}, but x should be 'hello'\""
   ]
  },
  {
   "cell_type": "code",
   "execution_count": null,
   "metadata": {},
   "outputs": [],
   "source": [
    "module_name = 'feature_gen'\n",
    "each_static_table = 'kalman'\n",
    "assert each_static_table == module_name, f\"{module_name} should only store static output under its own name\""
   ]
  },
  {
   "cell_type": "code",
   "execution_count": null,
   "metadata": {},
   "outputs": [],
   "source": [
    "module_list = ['a','b','c']\n",
    "dup = {x for x in module_list if module_list.count(x) > 1}\n",
    "assert len(dup) == 0, f\"{dup} are duplicated, module_name needs to be unique!\""
   ]
  },
  {
   "cell_type": "code",
   "execution_count": null,
   "metadata": {},
   "outputs": [],
   "source": [
    "isinstance(dup,set)"
   ]
  },
  {
   "cell_type": "code",
   "execution_count": null,
   "metadata": {},
   "outputs": [],
   "source": [
    "isinstance(test_dict,dict)"
   ]
  },
  {
   "cell_type": "code",
   "execution_count": null,
   "metadata": {},
   "outputs": [],
   "source": [
    "import warnings\n",
    "each_key = \"a\"\n",
    "value_type = type(dup)\n",
    "warnings.warn(f\"{each_key} is {value_type}! By default all the modules assume the static_output data is pandas dataframe\") "
   ]
  },
  {
   "cell_type": "code",
   "execution_count": null,
   "metadata": {},
   "outputs": [],
   "source": [
    "df['Year of Launch']"
   ]
  },
  {
   "cell_type": "code",
   "execution_count": null,
   "metadata": {},
   "outputs": [],
   "source": [
    "df.drop(df[df.index>=10].index,inplace=True)"
   ]
  },
  {
   "cell_type": "code",
   "execution_count": null,
   "metadata": {},
   "outputs": [],
   "source": [
    "def test_return(x,y):\n",
    "    if y: \n",
    "        return\n",
    "    print(x)"
   ]
  },
  {
   "cell_type": "code",
   "execution_count": null,
   "metadata": {},
   "outputs": [],
   "source": [
    "test_return('a',1)"
   ]
  },
  {
   "cell_type": "code",
   "execution_count": null,
   "metadata": {},
   "outputs": [],
   "source": [
    "'c' in []"
   ]
  },
  {
   "cell_type": "code",
   "execution_count": null,
   "metadata": {},
   "outputs": [],
   "source": [
    "for k, v in test.items():\n",
    "    print(k)\n",
    "    print(v)"
   ]
  },
  {
   "cell_type": "code",
   "execution_count": null,
   "metadata": {},
   "outputs": [],
   "source": [
    "type(test)"
   ]
  },
  {
   "cell_type": "code",
   "execution_count": 7,
   "metadata": {},
   "outputs": [
    {
     "data": {
      "text/plain": [
       "'xx'"
      ]
     },
     "execution_count": 7,
     "metadata": {},
     "output_type": "execute_result"
    }
   ],
   "source": [
    "import copy\n",
    "copy.copy(aaa)"
   ]
  },
  {
   "cell_type": "code",
   "execution_count": null,
   "metadata": {},
   "outputs": [],
   "source": [
    "quotes = pd.DataFrame(\n",
    "    {\n",
    "        \"time\": [\n",
    "            pd.Timestamp(\"2016-05-25 13:30:00.023\"),\n",
    "            pd.Timestamp(\"2016-05-25 13:30:00.023\"),\n",
    "            pd.Timestamp(\"2016-05-25 13:30:00.030\"),\n",
    "            pd.Timestamp(\"2016-05-25 13:30:00.041\"),\n",
    "            pd.Timestamp(\"2016-05-25 13:30:00.048\"),\n",
    "            pd.Timestamp(\"2016-05-25 13:30:00.049\"),\n",
    "            pd.Timestamp(\"2016-05-25 13:30:00.072\"),\n",
    "            pd.Timestamp(\"2016-05-25 13:30:00.075\")\n",
    "        ],\n",
    "        \"ticker\": [\n",
    "               \"GOOG\",\n",
    "               \"MSFT\",\n",
    "               \"MSFT\",\n",
    "               \"MSFT\",\n",
    "               \"GOOG\",\n",
    "               \"AAPL\",\n",
    "               \"GOOG\",\n",
    "               \"MSFT\"\n",
    "           ],\n",
    "           \"bid\": [720.50, 51.95, 51.97, 51.99, 720.50, 97.99, 720.50, 52.01],\n",
    "           \"ask\": [720.93, 51.96, 51.98, 52.00, 720.93, 98.01, 720.88, 52.03]\n",
    "    }\n",
    ")\n",
    "\n",
    "trades = pd.DataFrame(\n",
    "       {\n",
    "           \"time2\": [\n",
    "               pd.Timestamp(\"2016-05-25 13:30:00.023\"),\n",
    "               pd.Timestamp(\"2016-05-25 13:30:00.038\"),\n",
    "               pd.Timestamp(\"2016-05-25 13:30:00.048\"),\n",
    "               pd.Timestamp(\"2016-05-25 13:30:00.048\"),\n",
    "               pd.Timestamp(\"2016-05-25 13:30:00.048\")\n",
    "           ],\n",
    "           \"ticker\": [\"MSFT\", \"MSFT\", \"GOOG\", \"GOOG\", \"AAPL\"],\n",
    "           \"price\": [51.95, 51.95, 720.77, 720.92, 98.0],\n",
    "           \"quantity\": [75, 155, 100, 100, 100]\n",
    "       }\n",
    "   )"
   ]
  },
  {
   "cell_type": "code",
   "execution_count": null,
   "metadata": {},
   "outputs": [],
   "source": [
    "test_counter = 0\n",
    "for ind,row in quotes.iterrows():\n",
    "    # print(ind)\n",
    "    # print(row)\n",
    "    # print(test_counter)\n",
    "    test_counter += 2\n",
    "    row['ask'] = test_counter\n",
    "    quotes.loc[ind,'new_col'] = test_counter\n",
    "print(quotes)"
   ]
  },
  {
   "cell_type": "code",
   "execution_count": 14,
   "metadata": {},
   "outputs": [],
   "source": [
    "pyfile_path = None"
   ]
  },
  {
   "cell_type": "code",
   "execution_count": null,
   "metadata": {},
   "outputs": [],
   "source": [
    "assert pyfile_path is not None, \"Module function is not provided!\""
   ]
  },
  {
   "cell_type": "code",
   "execution_count": null,
   "metadata": {},
   "outputs": [],
   "source": [
    "pd.merge_asof(trades, quotes, left_on=\"time2\",right_on='time',by=\"ticker\")"
   ]
  },
  {
   "cell_type": "code",
   "execution_count": null,
   "metadata": {},
   "outputs": [],
   "source": [
    "quotes['bid'].sub(quotes['ask'])"
   ]
  },
  {
   "cell_type": "code",
   "execution_count": 16,
   "metadata": {},
   "outputs": [],
   "source": [
    "test_str = 'abc_def'"
   ]
  },
  {
   "cell_type": "code",
   "execution_count": 21,
   "metadata": {},
   "outputs": [
    {
     "data": {
      "text/plain": [
       "True"
      ]
     },
     "execution_count": 21,
     "metadata": {},
     "output_type": "execute_result"
    }
   ],
   "source": [
    "not test_str.endswith('abc')"
   ]
  },
  {
   "cell_type": "code",
   "execution_count": 25,
   "metadata": {},
   "outputs": [
    {
     "data": {
      "text/plain": [
       "{'a': [5, 4], 'b': [6, 7]}"
      ]
     },
     "execution_count": 25,
     "metadata": {},
     "output_type": "execute_result"
    }
   ],
   "source": [
    "test_dict.copy()"
   ]
  },
  {
   "cell_type": "code",
   "execution_count": 32,
   "metadata": {},
   "outputs": [
    {
     "data": {
      "text/html": [
       "<div>\n",
       "<style scoped>\n",
       "    .dataframe tbody tr th:only-of-type {\n",
       "        vertical-align: middle;\n",
       "    }\n",
       "\n",
       "    .dataframe tbody tr th {\n",
       "        vertical-align: top;\n",
       "    }\n",
       "\n",
       "    .dataframe thead th {\n",
       "        text-align: right;\n",
       "    }\n",
       "</style>\n",
       "<table border=\"1\" class=\"dataframe\">\n",
       "  <thead>\n",
       "    <tr style=\"text-align: right;\">\n",
       "      <th></th>\n",
       "      <th>test_var2</th>\n",
       "    </tr>\n",
       "  </thead>\n",
       "  <tbody>\n",
       "    <tr>\n",
       "      <th>0</th>\n",
       "      <td>104</td>\n",
       "    </tr>\n",
       "  </tbody>\n",
       "</table>\n",
       "</div>"
      ],
      "text/plain": [
       "   test_var2\n",
       "0        104"
      ]
     },
     "execution_count": 32,
     "metadata": {},
     "output_type": "execute_result"
    }
   ],
   "source": [
    "pd.DataFrame({'test_var2':[104]})"
   ]
  },
  {
   "cell_type": "code",
   "execution_count": 36,
   "metadata": {},
   "outputs": [
    {
     "data": {
      "text/plain": [
       "960"
      ]
     },
     "execution_count": 36,
     "metadata": {},
     "output_type": "execute_result"
    }
   ],
   "source": [
    "8*120"
   ]
  },
  {
   "cell_type": "code",
   "execution_count": 47,
   "metadata": {},
   "outputs": [
    {
     "data": {
      "text/html": [
       "<div>\n",
       "<style scoped>\n",
       "    .dataframe tbody tr th:only-of-type {\n",
       "        vertical-align: middle;\n",
       "    }\n",
       "\n",
       "    .dataframe tbody tr th {\n",
       "        vertical-align: top;\n",
       "    }\n",
       "\n",
       "    .dataframe thead th {\n",
       "        text-align: right;\n",
       "    }\n",
       "</style>\n",
       "<table border=\"1\" class=\"dataframe\">\n",
       "  <thead>\n",
       "    <tr style=\"text-align: right;\">\n",
       "      <th></th>\n",
       "      <th>Safe1</th>\n",
       "      <th>Safe2</th>\n",
       "      <th>Safe3</th>\n",
       "      <th>Measurement</th>\n",
       "    </tr>\n",
       "  </thead>\n",
       "  <tbody>\n",
       "    <tr>\n",
       "      <th>2013-01-08 06:06:00</th>\n",
       "      <td>N</td>\n",
       "      <td>Y</td>\n",
       "      <td>N</td>\n",
       "      <td>0</td>\n",
       "    </tr>\n",
       "    <tr>\n",
       "      <th>2013-01-08 06:23:00</th>\n",
       "      <td>N</td>\n",
       "      <td>Y</td>\n",
       "      <td>N</td>\n",
       "      <td>0</td>\n",
       "    </tr>\n",
       "    <tr>\n",
       "      <th>2013-01-08 06:40:00</th>\n",
       "      <td>N</td>\n",
       "      <td>N</td>\n",
       "      <td>N</td>\n",
       "      <td>28</td>\n",
       "    </tr>\n",
       "    <tr>\n",
       "      <th>2013-01-08 06:57:00</th>\n",
       "      <td>N</td>\n",
       "      <td>N</td>\n",
       "      <td>N</td>\n",
       "      <td>31</td>\n",
       "    </tr>\n",
       "  </tbody>\n",
       "</table>\n",
       "</div>"
      ],
      "text/plain": [
       "                    Safe1 Safe2 Safe3  Measurement\n",
       "2013-01-08 06:06:00     N     Y     N            0\n",
       "2013-01-08 06:23:00     N     Y     N            0\n",
       "2013-01-08 06:40:00     N     N     N           28\n",
       "2013-01-08 06:57:00     N     N     N           31"
      ]
     },
     "execution_count": 47,
     "metadata": {},
     "output_type": "execute_result"
    }
   ],
   "source": [
    "index = ['1/8/2013 6:06', '1/8/2013 6:23', '1/8/2013 6:40', '1/8/2013 6:57']\n",
    "\n",
    "data = {'Safe1' : ['N', 'N', 'N', 'N'], \n",
    "        'Safe2': ['Y', 'Y', 'N', 'N'], \n",
    "        'Safe3': ['N', 'N', 'N', 'N'], \n",
    "        'Measurement': [0,0,28,31]}\n",
    "\n",
    "df = pd.DataFrame(index=index, data=data)\n",
    "df.index = pd.to_datetime(df.index)\n",
    "df"
   ]
  },
  {
   "cell_type": "code",
   "execution_count": 57,
   "metadata": {},
   "outputs": [
    {
     "data": {
      "text/plain": [
       "pandas._libs.tslibs.timestamps.Timestamp"
      ]
     },
     "execution_count": 57,
     "metadata": {},
     "output_type": "execute_result"
    }
   ],
   "source": [
    "type(df.index[2])"
   ]
  },
  {
   "cell_type": "code",
   "execution_count": 60,
   "metadata": {},
   "outputs": [
    {
     "data": {
      "text/plain": [
       "numpy.int64"
      ]
     },
     "execution_count": 60,
     "metadata": {},
     "output_type": "execute_result"
    }
   ],
   "source": [
    "type(df.loc[df.index[2],'Measurement'])"
   ]
  },
  {
   "cell_type": "code",
   "execution_count": 68,
   "metadata": {},
   "outputs": [],
   "source": [
    "df['test']= pd.to_datetime(df['Measurement'],unit='h')"
   ]
  },
  {
   "cell_type": "code",
   "execution_count": 69,
   "metadata": {},
   "outputs": [
    {
     "data": {
      "text/html": [
       "<div>\n",
       "<style scoped>\n",
       "    .dataframe tbody tr th:only-of-type {\n",
       "        vertical-align: middle;\n",
       "    }\n",
       "\n",
       "    .dataframe tbody tr th {\n",
       "        vertical-align: top;\n",
       "    }\n",
       "\n",
       "    .dataframe thead th {\n",
       "        text-align: right;\n",
       "    }\n",
       "</style>\n",
       "<table border=\"1\" class=\"dataframe\">\n",
       "  <thead>\n",
       "    <tr style=\"text-align: right;\">\n",
       "      <th></th>\n",
       "      <th>Safe1</th>\n",
       "      <th>Safe2</th>\n",
       "      <th>Safe3</th>\n",
       "      <th>Measurement</th>\n",
       "      <th>test</th>\n",
       "    </tr>\n",
       "  </thead>\n",
       "  <tbody>\n",
       "    <tr>\n",
       "      <th>2013-01-08 06:06:00</th>\n",
       "      <td>N</td>\n",
       "      <td>Y</td>\n",
       "      <td>N</td>\n",
       "      <td>0</td>\n",
       "      <td>1970-01-01 00:00:00</td>\n",
       "    </tr>\n",
       "    <tr>\n",
       "      <th>2013-01-08 06:23:00</th>\n",
       "      <td>N</td>\n",
       "      <td>Y</td>\n",
       "      <td>N</td>\n",
       "      <td>0</td>\n",
       "      <td>1970-01-01 00:00:00</td>\n",
       "    </tr>\n",
       "    <tr>\n",
       "      <th>2013-01-08 06:40:00</th>\n",
       "      <td>N</td>\n",
       "      <td>N</td>\n",
       "      <td>N</td>\n",
       "      <td>28</td>\n",
       "      <td>1970-01-02 04:00:00</td>\n",
       "    </tr>\n",
       "    <tr>\n",
       "      <th>2013-01-08 06:57:00</th>\n",
       "      <td>N</td>\n",
       "      <td>N</td>\n",
       "      <td>N</td>\n",
       "      <td>31</td>\n",
       "      <td>1970-01-02 07:00:00</td>\n",
       "    </tr>\n",
       "  </tbody>\n",
       "</table>\n",
       "</div>"
      ],
      "text/plain": [
       "                    Safe1 Safe2 Safe3  Measurement                test\n",
       "2013-01-08 06:06:00     N     Y     N            0 1970-01-01 00:00:00\n",
       "2013-01-08 06:23:00     N     Y     N            0 1970-01-01 00:00:00\n",
       "2013-01-08 06:40:00     N     N     N           28 1970-01-02 04:00:00\n",
       "2013-01-08 06:57:00     N     N     N           31 1970-01-02 07:00:00"
      ]
     },
     "execution_count": 69,
     "metadata": {},
     "output_type": "execute_result"
    }
   ],
   "source": [
    "df"
   ]
  },
  {
   "cell_type": "code",
   "execution_count": 75,
   "metadata": {},
   "outputs": [
    {
     "name": "stdout",
     "output_type": "stream",
     "text": [
      "['a', 'b', 'c']\n",
      "a_b\n"
     ]
    }
   ],
   "source": [
    "test_str = 'a_b_c'\n",
    "str_split = test_str.split('_')\n",
    "print(str_split)\n",
    "print('_'.join(str_split[:-1]))"
   ]
  },
  {
   "cell_type": "code",
   "execution_count": 79,
   "metadata": {},
   "outputs": [
    {
     "data": {
      "text/plain": [
       "'b_c'"
      ]
     },
     "execution_count": 79,
     "metadata": {},
     "output_type": "execute_result"
    }
   ],
   "source": [
    "test_str[-3:]"
   ]
  },
  {
   "cell_type": "code",
   "execution_count": 81,
   "metadata": {},
   "outputs": [
    {
     "data": {
      "text/plain": [
       "'a_b_c'"
      ]
     },
     "execution_count": 81,
     "metadata": {},
     "output_type": "execute_result"
    }
   ],
   "source": [
    "f'a_{test_str[-3:]}'"
   ]
  },
  {
   "cell_type": "code",
   "execution_count": 78,
   "metadata": {},
   "outputs": [
    {
     "data": {
      "text/html": [
       "<div>\n",
       "<style scoped>\n",
       "    .dataframe tbody tr th:only-of-type {\n",
       "        vertical-align: middle;\n",
       "    }\n",
       "\n",
       "    .dataframe tbody tr th {\n",
       "        vertical-align: top;\n",
       "    }\n",
       "\n",
       "    .dataframe thead th {\n",
       "        text-align: right;\n",
       "    }\n",
       "</style>\n",
       "<table border=\"1\" class=\"dataframe\">\n",
       "  <thead>\n",
       "    <tr style=\"text-align: right;\">\n",
       "      <th></th>\n",
       "      <th>sim_slope</th>\n",
       "      <th>post_cal_intercept</th>\n",
       "    </tr>\n",
       "  </thead>\n",
       "  <tbody>\n",
       "    <tr>\n",
       "      <th>0</th>\n",
       "      <td>0.0001</td>\n",
       "      <td>0.02</td>\n",
       "    </tr>\n",
       "  </tbody>\n",
       "</table>\n",
       "</div>"
      ],
      "text/plain": [
       "   sim_slope  post_cal_intercept\n",
       "0     0.0001                0.02"
      ]
     },
     "execution_count": 78,
     "metadata": {},
     "output_type": "execute_result"
    }
   ],
   "source": [
    "pd.DataFrame({'sim_slope': [0.0001], 'post_cal_intercept': [0.02]})"
   ]
  },
  {
   "cell_type": "code",
   "execution_count": null,
   "metadata": {},
   "outputs": [],
   "source": [
    "output_col_name_list = list(output_col_name)\n",
    "for i in output_col_name_list:\n",
    "    if output_col_name_list.count(i) > 1:\n",
    "        print(i)"
   ]
  },
  {
   "cell_type": "code",
   "execution_count": 91,
   "metadata": {},
   "outputs": [
    {
     "data": {
      "text/html": [
       "<div>\n",
       "<style scoped>\n",
       "    .dataframe tbody tr th:only-of-type {\n",
       "        vertical-align: middle;\n",
       "    }\n",
       "\n",
       "    .dataframe tbody tr th {\n",
       "        vertical-align: top;\n",
       "    }\n",
       "\n",
       "    .dataframe thead th {\n",
       "        text-align: right;\n",
       "    }\n",
       "</style>\n",
       "<table border=\"1\" class=\"dataframe\">\n",
       "  <thead>\n",
       "    <tr style=\"text-align: right;\">\n",
       "      <th></th>\n",
       "      <th>Year of Launch</th>\n",
       "      <th>Engine Number</th>\n",
       "      <th>Chasis Unique Id</th>\n",
       "    </tr>\n",
       "  </thead>\n",
       "  <tbody>\n",
       "    <tr>\n",
       "      <th>0</th>\n",
       "      <td>1999.0</td>\n",
       "      <td>NaN</td>\n",
       "      <td>4023.0</td>\n",
       "    </tr>\n",
       "    <tr>\n",
       "      <th>1</th>\n",
       "      <td>NaN</td>\n",
       "      <td>15.0</td>\n",
       "      <td>NaN</td>\n",
       "    </tr>\n",
       "    <tr>\n",
       "      <th>2</th>\n",
       "      <td>1986.0</td>\n",
       "      <td>22.0</td>\n",
       "      <td>3115.0</td>\n",
       "    </tr>\n",
       "    <tr>\n",
       "      <th>3</th>\n",
       "      <td>2020.0</td>\n",
       "      <td>43.0</td>\n",
       "      <td>4522.0</td>\n",
       "    </tr>\n",
       "    <tr>\n",
       "      <th>4</th>\n",
       "      <td>NaN</td>\n",
       "      <td>44.0</td>\n",
       "      <td>3643.0</td>\n",
       "    </tr>\n",
       "    <tr>\n",
       "      <th>5</th>\n",
       "      <td>1991.0</td>\n",
       "      <td>NaN</td>\n",
       "      <td>3774.0</td>\n",
       "    </tr>\n",
       "    <tr>\n",
       "      <th>6</th>\n",
       "      <td>2007.0</td>\n",
       "      <td>55.0</td>\n",
       "      <td>2955.0</td>\n",
       "    </tr>\n",
       "    <tr>\n",
       "      <th>7</th>\n",
       "      <td>2011.0</td>\n",
       "      <td>NaN</td>\n",
       "      <td>NaN</td>\n",
       "    </tr>\n",
       "    <tr>\n",
       "      <th>8</th>\n",
       "      <td>2001.0</td>\n",
       "      <td>57.0</td>\n",
       "      <td>3587.0</td>\n",
       "    </tr>\n",
       "    <tr>\n",
       "      <th>9</th>\n",
       "      <td>2017.0</td>\n",
       "      <td>NaN</td>\n",
       "      <td>NaN</td>\n",
       "    </tr>\n",
       "  </tbody>\n",
       "</table>\n",
       "</div>"
      ],
      "text/plain": [
       "   Year of Launch  Engine Number  Chasis Unique Id\n",
       "0          1999.0            NaN            4023.0\n",
       "1             NaN           15.0               NaN\n",
       "2          1986.0           22.0            3115.0\n",
       "3          2020.0           43.0            4522.0\n",
       "4             NaN           44.0            3643.0\n",
       "5          1991.0            NaN            3774.0\n",
       "6          2007.0           55.0            2955.0\n",
       "7          2011.0            NaN               NaN\n",
       "8          2001.0           57.0            3587.0\n",
       "9          2017.0            NaN               NaN"
      ]
     },
     "execution_count": 91,
     "metadata": {},
     "output_type": "execute_result"
    }
   ],
   "source": [
    "df"
   ]
  },
  {
   "cell_type": "code",
   "execution_count": 100,
   "metadata": {},
   "outputs": [],
   "source": [
    "test_index = df[df['Year of Launch']==1999].index"
   ]
  },
  {
   "cell_type": "code",
   "execution_count": 107,
   "metadata": {},
   "outputs": [
    {
     "name": "stdout",
     "output_type": "stream",
     "text": [
      "   Year of Launch  Engine Number  Chasis Unique Id\n",
      "8          2001.0           57.0            3587.0\n",
      "9          2017.0            NaN               NaN\n",
      "<class 'pandas.core.frame.DataFrame'>\n"
     ]
    }
   ],
   "source": [
    "print(df.loc[df.index[-2:]])\n",
    "print(type(df.loc[df.index[-2:]]))"
   ]
  },
  {
   "cell_type": "code",
   "execution_count": 104,
   "metadata": {},
   "outputs": [
    {
     "name": "stdout",
     "output_type": "stream",
     "text": [
      "   Year of Launch  Engine Number  Chasis Unique Id\n",
      "0          1999.0            NaN            4023.0\n",
      "<class 'pandas.core.frame.DataFrame'>\n",
      "Year of Launch      1999.0\n",
      "Engine Number          NaN\n",
      "Chasis Unique Id    4023.0\n",
      "Name: 0, dtype: float64\n",
      "<class 'pandas.core.series.Series'>\n"
     ]
    }
   ],
   "source": [
    "print(df.loc[test_index])\n",
    "print(type(df.loc[test_index]))\n",
    "print(df.loc[0])\n",
    "print(type(df.loc[0]))"
   ]
  },
  {
   "cell_type": "code",
   "execution_count": 90,
   "metadata": {},
   "outputs": [
    {
     "data": {
      "text/plain": [
       "[[0, 1]]"
      ]
     },
     "execution_count": 90,
     "metadata": {},
     "output_type": "execute_result"
    }
   ],
   "source": [
    "list([[0,1]])"
   ]
  },
  {
   "cell_type": "code",
   "execution_count": 109,
   "metadata": {},
   "outputs": [
    {
     "data": {
      "text/plain": [
       "array([[1, 1],\n",
       "       [0, 1]])"
      ]
     },
     "execution_count": 109,
     "metadata": {},
     "output_type": "execute_result"
    }
   ],
   "source": [
    "np.asarray([[1, 1], [0, 1]])"
   ]
  },
  {
   "cell_type": "code",
   "execution_count": 112,
   "metadata": {},
   "outputs": [
    {
     "data": {
      "text/plain": [
       "array([[1, 1],\n",
       "       [0, 1]])"
      ]
     },
     "execution_count": 112,
     "metadata": {},
     "output_type": "execute_result"
    }
   ],
   "source": [
    "f_values = [1, 1, 0, 1]\n",
    "np.array([\n",
    "            np.asarray(f_values[:2]),\n",
    "            np.asarray(f_values[2:])\n",
    "        ])"
   ]
  },
  {
   "cell_type": "code",
   "execution_count": 111,
   "metadata": {},
   "outputs": [
    {
     "data": {
      "text/plain": [
       "array([[0.25, 0.5 ],\n",
       "       [0.6 , 1.  ]])"
      ]
     },
     "execution_count": 111,
     "metadata": {},
     "output_type": "execute_result"
    }
   ],
   "source": [
    "q_values = [.25, .5, .6, 1]\n",
    "np.array([\n",
    "            np.asarray(q_values[:2]),\n",
    "            np.asarray(q_values[2:])\n",
    "        ])"
   ]
  },
  {
   "cell_type": "code",
   "execution_count": 117,
   "metadata": {},
   "outputs": [
    {
     "data": {
      "text/plain": [
       "array([[1, 0]])"
      ]
     },
     "execution_count": 117,
     "metadata": {},
     "output_type": "execute_result"
    }
   ],
   "source": [
    "np.array([[1, 0]] * 1)"
   ]
  },
  {
   "cell_type": "code",
   "execution_count": 4,
   "metadata": {},
   "outputs": [
    {
     "ename": "AssertionError",
     "evalue": "this is a test",
     "output_type": "error",
     "traceback": [
      "\u001b[0;31m---------------------------------------------------------------------------\u001b[0m",
      "\u001b[0;31mAssertionError\u001b[0m                            Traceback (most recent call last)",
      "Cell \u001b[0;32mIn[4], line 1\u001b[0m\n\u001b[0;32m----> 1\u001b[0m \u001b[38;5;28;01mraise\u001b[39;00m \u001b[38;5;167;01mAssertionError\u001b[39;00m(\u001b[38;5;124m'\u001b[39m\u001b[38;5;124mthis is a test\u001b[39m\u001b[38;5;124m'\u001b[39m)\n",
      "\u001b[0;31mAssertionError\u001b[0m: this is a test"
     ]
    }
   ],
   "source": [
    "raise AssertionError('this is a test')"
   ]
  },
  {
   "cell_type": "code",
   "execution_count": 2,
   "metadata": {},
   "outputs": [],
   "source": [
    "import logging\n",
    "logger = logging.getLogger()\n",
    "logger.debug('test')"
   ]
  },
  {
   "cell_type": "code",
   "execution_count": 2,
   "metadata": {},
   "outputs": [],
   "source": [
    "import pandas as pd"
   ]
  },
  {
   "cell_type": "code",
   "execution_count": 3,
   "metadata": {},
   "outputs": [],
   "source": [
    "df1 = pd.DataFrame({'a': ['foo', 'bar'], 'b': [1, 2]})\n",
    "df2 = pd.DataFrame({'a': ['foo', 'baz', 'foo'], 'c': [3, 4, 5]})"
   ]
  },
  {
   "cell_type": "code",
   "execution_count": 4,
   "metadata": {},
   "outputs": [
    {
     "data": {
      "text/html": [
       "<div>\n",
       "<style scoped>\n",
       "    .dataframe tbody tr th:only-of-type {\n",
       "        vertical-align: middle;\n",
       "    }\n",
       "\n",
       "    .dataframe tbody tr th {\n",
       "        vertical-align: top;\n",
       "    }\n",
       "\n",
       "    .dataframe thead th {\n",
       "        text-align: right;\n",
       "    }\n",
       "</style>\n",
       "<table border=\"1\" class=\"dataframe\">\n",
       "  <thead>\n",
       "    <tr style=\"text-align: right;\">\n",
       "      <th></th>\n",
       "      <th>a</th>\n",
       "      <th>b</th>\n",
       "      <th>c</th>\n",
       "    </tr>\n",
       "  </thead>\n",
       "  <tbody>\n",
       "    <tr>\n",
       "      <th>0</th>\n",
       "      <td>foo</td>\n",
       "      <td>1</td>\n",
       "      <td>3.0</td>\n",
       "    </tr>\n",
       "    <tr>\n",
       "      <th>1</th>\n",
       "      <td>foo</td>\n",
       "      <td>1</td>\n",
       "      <td>5.0</td>\n",
       "    </tr>\n",
       "    <tr>\n",
       "      <th>2</th>\n",
       "      <td>bar</td>\n",
       "      <td>2</td>\n",
       "      <td>NaN</td>\n",
       "    </tr>\n",
       "  </tbody>\n",
       "</table>\n",
       "</div>"
      ],
      "text/plain": [
       "     a  b    c\n",
       "0  foo  1  3.0\n",
       "1  foo  1  5.0\n",
       "2  bar  2  NaN"
      ]
     },
     "execution_count": 4,
     "metadata": {},
     "output_type": "execute_result"
    }
   ],
   "source": [
    "df1.merge(df2, how='left', on='a')"
   ]
  }
 ],
 "metadata": {
  "kernelspec": {
   "display_name": "AlgoVenv1",
   "language": "python",
   "name": "python3"
  },
  "language_info": {
   "codemirror_mode": {
    "name": "ipython",
    "version": 3
   },
   "file_extension": ".py",
   "mimetype": "text/x-python",
   "name": "python",
   "nbconvert_exporter": "python",
   "pygments_lexer": "ipython3",
   "version": "3.9.2"
  },
  "orig_nbformat": 4
 },
 "nbformat": 4,
 "nbformat_minor": 2
}
