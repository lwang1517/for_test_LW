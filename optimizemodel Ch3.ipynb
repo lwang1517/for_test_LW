{
 "cells": [
  {
   "cell_type": "code",
   "execution_count": 1,
   "metadata": {},
   "outputs": [],
   "source": [
    "import sys\n",
    "# sys.path.append('/Users/liangwang/GitHub/DataAnalysis')\n",
    "sys.path.append(r'C:\\Users\\lwang\\Documents\\GitHub\\DataAnalysis2023')"
   ]
  },
  {
   "cell_type": "code",
   "execution_count": 2,
   "metadata": {},
   "outputs": [],
   "source": [
    "import numpy as np\n",
    "import sys, os\n",
    "from pathlib import Path\n",
    "import pandas as pd\n",
    "import copy\n",
    "import plotly.express as px\n",
    "import pandas as pd\n",
    "import plotly.graph_objects as go\n",
    "from plotly.colors import n_colors\n",
    "import math\n",
    "import datetime as dt\n",
    "from sklearn.metrics import r2_score\n",
    "import plotly.colors\n",
    "from plotly.subplots import make_subplots\n",
    "import plotly.graph_objects as go\n",
    "import pandas as pd\n",
    "import numpy as np\n",
    "from scipy.stats import mannwhitneyu\n",
    "from scipy.interpolate import griddata\n",
    "from sklearn.linear_model import LinearRegression\n",
    "import scipy\n",
    "import importlib\n",
    "\n",
    "# ----- Internal Dependencies -------#\n",
    "nb_dir = os.path.split(os.getcwd())[0]\n",
    "sys.path.append(\"../..\")\n",
    "if nb_dir not in sys.path:\n",
    "    sys.path.append(nb_dir)\n",
    "from General import FileRead\n",
    "from General import AccuracyMetrics\n",
    "from General.GeneralFunctions import get_add_to_dict\n",
    "from General import TableManipulations\n",
    "from FeatureGeneration import GeneralFeatures\n",
    "from General import FileWrite\n",
    "\n",
    "from Plot.PdfHelper import PdfHelper\n",
    "from Plot.PlotMaker import PlotMaker\n",
    "# from Plot import Voltage_Plots\n",
    "from Plot import PlotFunctions\n",
    "# from Plot import AdHocPlots\n",
    "# from Plot import Sim_Plots\n",
    "\n",
    "# widget and notebook stuff\n",
    "from ipywidgets import interact, fixed\n",
    "import plotly.io as pio\n",
    "pio.renderers.default = \"plotly_mimetype+notebook\"\n",
    "\n",
    "import GlucoseModelsGen1\n",
    "import ErrorAndCostFunc"
   ]
  },
  {
   "cell_type": "markdown",
   "metadata": {},
   "source": [
    "load data"
   ]
  },
  {
   "cell_type": "code",
   "execution_count": 3,
   "metadata": {},
   "outputs": [],
   "source": [
    "df=pd.read_csv(r'C:\\Users\\lwang\\OneDrive - Biolinq Inc\\Gen 1\\Algorithm Development\\Gen1 Modeling\\biolinq vs adj ref training updated.csv', engine='python')\n",
    "df_orig=df.copy()"
   ]
  },
  {
   "cell_type": "markdown",
   "metadata": {},
   "source": [
    "Setting"
   ]
  },
  {
   "cell_type": "code",
   "execution_count": 27,
   "metadata": {},
   "outputs": [
    {
     "data": {
      "text/plain": [
       "<module 'ErrorAndCostFunc' from 'c:\\\\Users\\\\lwang\\\\Documents\\\\GitHub\\\\for_test_LW\\\\ErrorAndCostFunc.py'>"
      ]
     },
     "execution_count": 27,
     "metadata": {},
     "output_type": "execute_result"
    }
   ],
   "source": [
    "importlib.reload(GlucoseModelsGen1)\n",
    "importlib.reload(ErrorAndCostFunc)"
   ]
  },
  {
   "cell_type": "code",
   "execution_count": 28,
   "metadata": {},
   "outputs": [],
   "source": [
    "gluc_model_optim = GlucoseModelsGen1.GlucoseModel()"
   ]
  },
  {
   "cell_type": "code",
   "execution_count": 29,
   "metadata": {},
   "outputs": [],
   "source": [
    "training_group = ['eBlinq19c', 'eBlinq20', 'eBlinq22 - Pre-Piv 1']\n",
    "test_group = ['eBlinq Pre-Piv 2']\n",
    "all_training_channel = ['Ch3']\n",
    "training_time_window = [0.083,5]\n",
    "training_chemistry = '2.6.11'\n",
    "model_output_valid_thresh = 0.5\n",
    "all_model_name = [\n",
    "    # 'sim_slope',\n",
    "    'sim_slope_constant_background',\n",
    "    # 'sim_slope_constant_compartment',\n",
    "    # 'sim_slope_linear_background',\n",
    "    # 'sim_slope_nonlinear_background',\n",
    "    # 'sim_slope_intercept_constant_background',\n",
    "    # 'sim_slope_intercept_constant_compartment',\n",
    "    # 'sim_slope_intercept_linear_background',\n",
    "    # 'sim_slope_intercept_nonlinear_background',\n",
    "    # 'fmm_constant_background',\n",
    "    # 'fmm_constant_compartment',\n",
    "    # 'fmm_linear_background',\n",
    "    # 'fmm_nonlinear_background'\n",
    "    ]\n",
    "all_err_func_name = [\n",
    "    # 'g_error_mse',\n",
    "    # 'g_error_mard',\n",
    "    # 'g_error_mard_weighted',\n",
    "    # 'g_error_median_ard',\n",
    "    # 'cur_error_mse',\n",
    "    # 'cur_error_mard',\n",
    "    # 'cur_error_mard_weighted',\n",
    "    'cur_error_median_ard'\n",
    "]\n",
    "all_results = {}\n",
    "all_results['metric'] = [\n",
    "    'mard_training',\n",
    "    'mard_weighted_training',\n",
    "    'mard_test',\n",
    "    'mard_weighted_test',\n",
    "    'ls_score_training',\n",
    "    'ls_slope_training',\n",
    "    'ls_intercept_training',\n",
    "    'ls_score_test',\n",
    "    'ls_slope_test',\n",
    "    'ls_intercept_test'\n",
    "]\n",
    "all_optim_params = {}"
   ]
  },
  {
   "cell_type": "code",
   "execution_count": 30,
   "metadata": {},
   "outputs": [],
   "source": [
    "for training_channel in all_training_channel:\n",
    "    for model_name in all_model_name:\n",
    "        for err_func_name in all_err_func_name:\n",
    "            # training_channel = 'Ch1'\n",
    "            # model_name = 'sim_slope_linear_background'\n",
    "            model_gluc = f'{model_name}_gluc'\n",
    "            model_cur = f'{model_name}_cur'\n",
    "            bounds = f'{model_name}_bounds'\n",
    "            err_func = getattr(ErrorAndCostFunc,err_func_name)\n",
    "            this_result = []\n",
    "            df = df_orig.copy()\n",
    "            valid_training_index = df[df['Grouping'].isin(training_group) & df['time_from_start'].between(training_time_window[0],training_time_window[1]) & \n",
    "                                    df['Channel'].eq(training_channel) & df['is_model_output_valid'].ge(model_output_valid_thresh) &\n",
    "                                    df['Chemistry'].eq(training_chemistry)].index\n",
    "            # df_training_valid = df.loc[valid_training_index].reset_index(drop=True).replace([np.inf, -np.inf], np.nan).dropna()\n",
    "            df_training_valid = df.loc[valid_training_index].reset_index(drop=True)\n",
    "            valid_test_index = df[df['Grouping'].isin(test_group) & df['time_from_start'].between(training_time_window[0],training_time_window[1]) & \n",
    "                                    df['Channel'].eq(training_channel) & df['is_model_output_valid'].ge(model_output_valid_thresh) &\n",
    "                                    df['Chemistry'].eq(training_chemistry)].index\n",
    "            # df_test_valid = df.loc[valid_test_index].reset_index(drop=True).replace([np.inf, -np.inf], np.nan).dropna()\n",
    "            df_test_valid = df.loc[valid_test_index].reset_index(drop=True)\n",
    "\n",
    "            g_train = df_training_valid['Ref_value']\n",
    "            sim_train = df_training_valid['mag_1007']\n",
    "            i_train = df_training_valid['current']\n",
    "\n",
    "            g_test = df_test_valid['Ref_value']\n",
    "            sim_test = df_test_valid['mag_1007']\n",
    "            i_test = df_test_valid['current']\n",
    "\n",
    "            glucose_model = getattr(gluc_model_optim,model_gluc)\n",
    "            current_model = getattr(gluc_model_optim,model_cur)\n",
    "            bounds = getattr(gluc_model_optim,bounds)\n",
    "\n",
    "            if err_func_name.startswith('g'):\n",
    "                result= scipy.optimize.dual_annealing(err_func,bounds,args=(sim_train,i_train,g_train,glucose_model),maxiter=int(1e4))\n",
    "            elif err_func_name.startswith('cur'):\n",
    "                result= scipy.optimize.dual_annealing(err_func,bounds,args=(sim_train,i_train,g_train,current_model),maxiter=int(1e4))\n",
    "\n",
    "            # result_g_error_mse = scipy.optimize.dual_annealing(ErrorAndCostFunc.g_error_mse,bounds,args=(sim_train,i_train,g_train,glucose_model),maxiter=int(1e4))\n",
    "            # result_g_error_mard = scipy.optimize.dual_annealing(ErrorAndCostFunc.g_error_mard,bounds,args=(sim_train,i_train,g_train,glucose_model),maxiter=int(1e4))\n",
    "            # result_g_error_mard_weighted = scipy.optimize.dual_annealing(ErrorAndCostFunc.g_error_mard_weighted,bounds,args=(sim_train,i_train,g_train,glucose_model),maxiter=int(1e4))\n",
    "            # result_g_error_median_ard = scipy.optimize.dual_annealing(ErrorAndCostFunc.g_error_median_ard,bounds,args=(sim_train,i_train,g_train,glucose_model),maxiter=int(1e4))\n",
    "            # result_cur_error_mse = scipy.optimize.dual_annealing(ErrorAndCostFunc.cur_error_mse,bounds,args=(sim_train,i_train,g_train,current_model),maxiter=int(1e4))\n",
    "            # result_cur_error_mard = scipy.optimize.dual_annealing(ErrorAndCostFunc.cur_error_mard,bounds,args=(sim_train,i_train,g_train,current_model),maxiter=int(1e4))\n",
    "            # result_cur_error_mard_weighted = scipy.optimize.dual_annealing(ErrorAndCostFunc.cur_error_mard_weighted,bounds,args=(sim_train,i_train,g_train,current_model),maxiter=int(1e4))\n",
    "            # result_cur_error_median_ard = scipy.optimize.dual_annealing(ErrorAndCostFunc.cur_error_median_ard,bounds,args=(sim_train,i_train,g_train,current_model),maxiter=int(1e4))\n",
    "\n",
    "            # ErrorAndCostFunc.g_error_mse(result.x,sim_train,i_train,g_train,glucose_model)\n",
    "            # ErrorAndCostFunc.g_error_mse(result.x,sim_test,i_test,g_test,glucose_model)\n",
    "            this_result.append(ErrorAndCostFunc.g_error_mard(result.x,sim_train,i_train,g_train,glucose_model))\n",
    "            this_result.append(ErrorAndCostFunc.g_error_mard_weighted(result.x,sim_train,i_train,g_train,glucose_model))\n",
    "            this_result.append(ErrorAndCostFunc.g_error_mard(result.x,sim_test,i_test,g_test,glucose_model))\n",
    "            this_result.append(ErrorAndCostFunc.g_error_mard_weighted(result.x,sim_test,i_test,g_test,glucose_model))\n",
    "\n",
    "            reg_train = LinearRegression().fit(g_train.values.reshape(-1,1), glucose_model(sim_train,i_train,result.x).values)\n",
    "            this_result.append(reg_train.score(g_train.values.reshape(-1,1), glucose_model(sim_train,i_train,result.x).values))\n",
    "            this_result.append(reg_train.coef_)\n",
    "            this_result.append(reg_train.intercept_)           \n",
    "            # print(reg_train.score(g_train.values.reshape(-1,1), glucose_model(sim_train,i_train,result.x).values))\n",
    "            # print(reg_train.coef_)\n",
    "            # print(reg_train.intercept_)\n",
    "\n",
    "            reg_test = LinearRegression().fit(g_test.values.reshape(-1,1), glucose_model(sim_test,i_test,result.x).values)\n",
    "            this_result.append(reg_test.score(g_test.values.reshape(-1,1), glucose_model(sim_test,i_test,result.x).values))\n",
    "            this_result.append(reg_test.coef_)\n",
    "            this_result.append(reg_test.intercept_)\n",
    "            # print(reg_test.score(g_test.values.reshape(-1,1), glucose_model(sim_test,i_test,result.x).values))\n",
    "            # print(reg_test.coef_)\n",
    "            # print(reg_test.intercept_)\n",
    "\n",
    "            all_optim_params[f'{model_name}_{err_func_name}_{training_channel}'] = result.x\n",
    "            all_results[f'{model_name}_{err_func_name}_{training_channel}'] = this_result\n",
    "            results_df = pd.DataFrame.from_dict(all_results)\n",
    "            results_df.to_csv(r'C:\\Users\\lwang\\OneDrive - Biolinq Inc\\Gen 1\\Algorithm Development\\Gen1 Modeling\\results_13_models_ch3_candidate3.csv',header=True)"
   ]
  },
  {
   "cell_type": "code",
   "execution_count": 31,
   "metadata": {},
   "outputs": [
    {
     "data": {
      "text/plain": [
       "{'sim_slope_constant_background_cur_error_median_ard_Ch3': array([1.02252081e+03, 4.65239674e-03])}"
      ]
     },
     "execution_count": 31,
     "metadata": {},
     "output_type": "execute_result"
    }
   ],
   "source": [
    "all_optim_params"
   ]
  },
  {
   "cell_type": "code",
   "execution_count": 32,
   "metadata": {},
   "outputs": [],
   "source": [
    "# #quadruple low glucose\n",
    "# df_training_valid=df_training_valid.append(df_training_valid[df_training_valid['Ref']<80]).reset_index(drop=True)\n",
    "# df_training_valid=df_training_valid.append(df_training_valid[df_training_valid['Ref']<80]).reset_index(drop=True)"
   ]
  },
  {
   "cell_type": "code",
   "execution_count": 33,
   "metadata": {},
   "outputs": [
    {
     "data": {
      "text/plain": [
       "[[0.001, 2000.0], [-1, 1]]"
      ]
     },
     "execution_count": 33,
     "metadata": {},
     "output_type": "execute_result"
    }
   ],
   "source": [
    "bounds"
   ]
  },
  {
   "cell_type": "code",
   "execution_count": 34,
   "metadata": {},
   "outputs": [
    {
     "data": {
      "text/plain": [
       " message: ['Maximum number of iteration reached']\n",
       " success: True\n",
       "  status: 0\n",
       "     fun: 0.02034804907202345\n",
       "       x: [ 1.023e+03  4.652e-03]\n",
       "     nit: 10000\n",
       "    nfev: 707440\n",
       "    njev: 222477\n",
       "    nhev: 0"
      ]
     },
     "execution_count": 34,
     "metadata": {},
     "output_type": "execute_result"
    }
   ],
   "source": [
    "result"
   ]
  },
  {
   "cell_type": "code",
   "execution_count": 35,
   "metadata": {},
   "outputs": [
    {
     "data": {
      "text/plain": [
       "(76778,)"
      ]
     },
     "execution_count": 35,
     "metadata": {},
     "output_type": "execute_result"
    }
   ],
   "source": [
    "sim_train.shape"
   ]
  },
  {
   "cell_type": "code",
   "execution_count": 36,
   "metadata": {},
   "outputs": [
    {
     "data": {
      "text/plain": [
       "(70224,)"
      ]
     },
     "execution_count": 36,
     "metadata": {},
     "output_type": "execute_result"
    }
   ],
   "source": [
    "sim_test.shape"
   ]
  }
 ],
 "metadata": {
  "kernelspec": {
   "display_name": ".datarunner",
   "language": "python",
   "name": "python3"
  },
  "language_info": {
   "codemirror_mode": {
    "name": "ipython",
    "version": 3
   },
   "file_extension": ".py",
   "mimetype": "text/x-python",
   "name": "python",
   "nbconvert_exporter": "python",
   "pygments_lexer": "ipython3",
   "version": "3.9.2"
  }
 },
 "nbformat": 4,
 "nbformat_minor": 2
}
